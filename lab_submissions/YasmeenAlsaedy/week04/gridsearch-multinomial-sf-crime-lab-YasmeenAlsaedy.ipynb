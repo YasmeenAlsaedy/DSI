{
 "cells": [
  {
   "cell_type": "markdown",
   "metadata": {},
   "source": [
    "<img src=\"http://imgur.com/1ZcRyrc.png\" style=\"float: left; margin: 20px; height: 55px\">\n",
    "\n",
    "# Practice Gridsearch and Multinomial Models with SF Crime Data\n",
    "\n",
    "\n",
    "---\n",
    "\n",
    "### Multinomial logistic regression models\n",
    "\n",
    "So far, we have been using logistic regression for binary problems where there are only two class labels. Logistic regression can be extended to dependent variables with multiple classes.\n",
    "\n",
    "There are two ways sklearn solves multiple-class problems with logistic regression: a multinomial loss or a \"one vs. rest\" (OvR) process where a model is fit for each target class vs. all the other classes. \n",
    "\n",
    "**Multinomial vs. OvR**\n",
    "- (M) 'k-1' models with 1 reference category\n",
    "- (OvR) 'k*(k-1)/2' models\n",
    "\n",
    "You will use the gridsearch in conjunction with multinomial logistic to optimize a model that predicts the category (type) of crime based on various features captured by San Francisco police departments."
   ]
  },
  {
   "cell_type": "markdown",
   "metadata": {},
   "source": [
    "**Necessary lab imports**"
   ]
  },
  {
   "cell_type": "code",
   "execution_count": 1,
   "metadata": {},
   "outputs": [],
   "source": [
    "import numpy as np\n",
    "import pandas as pd\n",
    "import patsy\n",
    "\n",
    "from sklearn.metrics import classification_report, confusion_matrix, accuracy_score\n",
    "from sklearn.model_selection import train_test_split, GridSearchCV, cross_val_score, cross_val_predict\n",
    "from sklearn.linear_model import LogisticRegression, LogisticRegressionCV\n",
    "\n",
    "\n",
    "import seaborn as sns\n",
    "\n",
    "import matplotlib.pyplot as plt\n",
    "plt.style.use('fivethirtyeight')\n",
    "\n",
    "%matplotlib inline\n",
    "%config InlineBackend.figure_format = 'retina'"
   ]
  },
  {
   "cell_type": "markdown",
   "metadata": {},
   "source": [
    "### 1. Read in the data"
   ]
  },
  {
   "cell_type": "code",
   "execution_count": 2,
   "metadata": {},
   "outputs": [],
   "source": [
    "crime_csv = '/Users/jasmine/Desktop/GA-DSI/Week-1/DSI/week04/day3_gridsearching_objectorientedprogramming/gridsearching_lab/datasets/sf_crime_train.csv'\n"
   ]
  },
  {
   "cell_type": "code",
   "execution_count": 3,
   "metadata": {},
   "outputs": [
    {
     "data": {
      "text/html": [
       "<div>\n",
       "<style scoped>\n",
       "    .dataframe tbody tr th:only-of-type {\n",
       "        vertical-align: middle;\n",
       "    }\n",
       "\n",
       "    .dataframe tbody tr th {\n",
       "        vertical-align: top;\n",
       "    }\n",
       "\n",
       "    .dataframe thead th {\n",
       "        text-align: right;\n",
       "    }\n",
       "</style>\n",
       "<table border=\"1\" class=\"dataframe\">\n",
       "  <thead>\n",
       "    <tr style=\"text-align: right;\">\n",
       "      <th></th>\n",
       "      <th>Dates</th>\n",
       "      <th>Category</th>\n",
       "      <th>Descript</th>\n",
       "      <th>PdDistrict</th>\n",
       "      <th>Resolution</th>\n",
       "      <th>Address</th>\n",
       "      <th>X</th>\n",
       "      <th>Y</th>\n",
       "    </tr>\n",
       "  </thead>\n",
       "  <tbody>\n",
       "    <tr>\n",
       "      <th>0</th>\n",
       "      <td>5/13/15 23:53</td>\n",
       "      <td>WARRANTS</td>\n",
       "      <td>WARRANT ARREST</td>\n",
       "      <td>NORTHERN</td>\n",
       "      <td>ARREST, BOOKED</td>\n",
       "      <td>OAK ST / LAGUNA ST</td>\n",
       "      <td>-122.425892</td>\n",
       "      <td>37.774599</td>\n",
       "    </tr>\n",
       "    <tr>\n",
       "      <th>1</th>\n",
       "      <td>5/13/15 23:53</td>\n",
       "      <td>OTHER OFFENSES</td>\n",
       "      <td>TRAFFIC VIOLATION ARREST</td>\n",
       "      <td>NORTHERN</td>\n",
       "      <td>ARREST, BOOKED</td>\n",
       "      <td>OAK ST / LAGUNA ST</td>\n",
       "      <td>-122.425892</td>\n",
       "      <td>37.774599</td>\n",
       "    </tr>\n",
       "    <tr>\n",
       "      <th>2</th>\n",
       "      <td>5/13/15 23:33</td>\n",
       "      <td>OTHER OFFENSES</td>\n",
       "      <td>TRAFFIC VIOLATION ARREST</td>\n",
       "      <td>NORTHERN</td>\n",
       "      <td>ARREST, BOOKED</td>\n",
       "      <td>VANNESS AV / GREENWICH ST</td>\n",
       "      <td>-122.424363</td>\n",
       "      <td>37.800414</td>\n",
       "    </tr>\n",
       "    <tr>\n",
       "      <th>3</th>\n",
       "      <td>5/13/15 23:30</td>\n",
       "      <td>LARCENY/THEFT</td>\n",
       "      <td>GRAND THEFT FROM LOCKED AUTO</td>\n",
       "      <td>NORTHERN</td>\n",
       "      <td>NONE</td>\n",
       "      <td>1500 Block of LOMBARD ST</td>\n",
       "      <td>-122.426995</td>\n",
       "      <td>37.800873</td>\n",
       "    </tr>\n",
       "    <tr>\n",
       "      <th>4</th>\n",
       "      <td>5/13/15 23:30</td>\n",
       "      <td>LARCENY/THEFT</td>\n",
       "      <td>GRAND THEFT FROM LOCKED AUTO</td>\n",
       "      <td>PARK</td>\n",
       "      <td>NONE</td>\n",
       "      <td>100 Block of BRODERICK ST</td>\n",
       "      <td>-122.438738</td>\n",
       "      <td>37.771541</td>\n",
       "    </tr>\n",
       "  </tbody>\n",
       "</table>\n",
       "</div>"
      ],
      "text/plain": [
       "           Dates        Category                      Descript PdDistrict  \\\n",
       "0  5/13/15 23:53        WARRANTS                WARRANT ARREST   NORTHERN   \n",
       "1  5/13/15 23:53  OTHER OFFENSES      TRAFFIC VIOLATION ARREST   NORTHERN   \n",
       "2  5/13/15 23:33  OTHER OFFENSES      TRAFFIC VIOLATION ARREST   NORTHERN   \n",
       "3  5/13/15 23:30   LARCENY/THEFT  GRAND THEFT FROM LOCKED AUTO   NORTHERN   \n",
       "4  5/13/15 23:30   LARCENY/THEFT  GRAND THEFT FROM LOCKED AUTO       PARK   \n",
       "\n",
       "       Resolution                    Address           X          Y  \n",
       "0  ARREST, BOOKED         OAK ST / LAGUNA ST -122.425892  37.774599  \n",
       "1  ARREST, BOOKED         OAK ST / LAGUNA ST -122.425892  37.774599  \n",
       "2  ARREST, BOOKED  VANNESS AV / GREENWICH ST -122.424363  37.800414  \n",
       "3            NONE   1500 Block of LOMBARD ST -122.426995  37.800873  \n",
       "4            NONE  100 Block of BRODERICK ST -122.438738  37.771541  "
      ]
     },
     "execution_count": 3,
     "metadata": {},
     "output_type": "execute_result"
    }
   ],
   "source": [
    "#read in the data using pandas\n",
    "sf_crime = pd.read_csv(crime_csv)\n",
    "sf_crime.drop('DayOfWeek',axis=1,inplace=True)\n",
    "sf_crime.head()"
   ]
  },
  {
   "cell_type": "code",
   "execution_count": 4,
   "metadata": {},
   "outputs": [
    {
     "data": {
      "text/plain": [
       "(18000, 8)"
      ]
     },
     "execution_count": 4,
     "metadata": {},
     "output_type": "execute_result"
    }
   ],
   "source": [
    "# check the shape of your dataframe\n",
    "sf_crime.shape"
   ]
  },
  {
   "cell_type": "code",
   "execution_count": 5,
   "metadata": {},
   "outputs": [
    {
     "name": "stdout",
     "output_type": "stream",
     "text": [
      "<class 'pandas.core.frame.DataFrame'>\n",
      "RangeIndex: 18000 entries, 0 to 17999\n",
      "Data columns (total 8 columns):\n",
      "Dates         18000 non-null object\n",
      "Category      18000 non-null object\n",
      "Descript      18000 non-null object\n",
      "PdDistrict    18000 non-null object\n",
      "Resolution    18000 non-null object\n",
      "Address       18000 non-null object\n",
      "X             18000 non-null float64\n",
      "Y             18000 non-null float64\n",
      "dtypes: float64(2), object(6)\n",
      "memory usage: 1.1+ MB\n"
     ]
    }
   ],
   "source": [
    "#check whether there are any missing values\n",
    "#do we need to fix anything here? NO\n",
    "sf_crime.info()"
   ]
  },
  {
   "cell_type": "code",
   "execution_count": 6,
   "metadata": {},
   "outputs": [
    {
     "data": {
      "text/plain": [
       "Dates          object\n",
       "Category       object\n",
       "Descript       object\n",
       "PdDistrict     object\n",
       "Resolution     object\n",
       "Address        object\n",
       "X             float64\n",
       "Y             float64\n",
       "dtype: object"
      ]
     },
     "execution_count": 6,
     "metadata": {},
     "output_type": "execute_result"
    }
   ],
   "source": [
    "#check what your datatypes are\n",
    "#do we need to fix anything here?\n",
    "sf_crime.dtypes"
   ]
  },
  {
   "cell_type": "markdown",
   "metadata": {},
   "source": [
    "### 2. Create column for year, month, day, hour, time, and date from 'Dates' column.\n",
    "\n",
    "> *`pd.to_datetime` and `Series.dt` may be helpful here!*\n"
   ]
  },
  {
   "cell_type": "code",
   "execution_count": 7,
   "metadata": {},
   "outputs": [],
   "source": [
    "# convert the 'Dates' column to a datetime object\n",
    "sf_crime['Dates'] = pd.to_datetime(sf_crime.Dates)"
   ]
  },
  {
   "cell_type": "code",
   "execution_count": 8,
   "metadata": {},
   "outputs": [
    {
     "data": {
      "text/plain": [
       "dtype('<M8[ns]')"
      ]
     },
     "execution_count": 8,
     "metadata": {},
     "output_type": "execute_result"
    }
   ],
   "source": [
    "sf_crime['Dates'].dtype #<M8[ns] means datetime"
   ]
  },
  {
   "cell_type": "code",
   "execution_count": 9,
   "metadata": {},
   "outputs": [
    {
     "data": {
      "text/html": [
       "<div>\n",
       "<style scoped>\n",
       "    .dataframe tbody tr th:only-of-type {\n",
       "        vertical-align: middle;\n",
       "    }\n",
       "\n",
       "    .dataframe tbody tr th {\n",
       "        vertical-align: top;\n",
       "    }\n",
       "\n",
       "    .dataframe thead th {\n",
       "        text-align: right;\n",
       "    }\n",
       "</style>\n",
       "<table border=\"1\" class=\"dataframe\">\n",
       "  <thead>\n",
       "    <tr style=\"text-align: right;\">\n",
       "      <th></th>\n",
       "      <th>Dates</th>\n",
       "      <th>Category</th>\n",
       "      <th>Descript</th>\n",
       "      <th>PdDistrict</th>\n",
       "      <th>Resolution</th>\n",
       "      <th>Address</th>\n",
       "      <th>X</th>\n",
       "      <th>Y</th>\n",
       "      <th>Year</th>\n",
       "      <th>Month</th>\n",
       "      <th>Day_of_Week</th>\n",
       "    </tr>\n",
       "  </thead>\n",
       "  <tbody>\n",
       "    <tr>\n",
       "      <th>0</th>\n",
       "      <td>2015-05-13 23:53:00</td>\n",
       "      <td>WARRANTS</td>\n",
       "      <td>WARRANT ARREST</td>\n",
       "      <td>NORTHERN</td>\n",
       "      <td>ARREST, BOOKED</td>\n",
       "      <td>OAK ST / LAGUNA ST</td>\n",
       "      <td>-122.425892</td>\n",
       "      <td>37.774599</td>\n",
       "      <td>2015</td>\n",
       "      <td>5</td>\n",
       "      <td>13</td>\n",
       "    </tr>\n",
       "    <tr>\n",
       "      <th>1</th>\n",
       "      <td>2015-05-13 23:53:00</td>\n",
       "      <td>OTHER OFFENSES</td>\n",
       "      <td>TRAFFIC VIOLATION ARREST</td>\n",
       "      <td>NORTHERN</td>\n",
       "      <td>ARREST, BOOKED</td>\n",
       "      <td>OAK ST / LAGUNA ST</td>\n",
       "      <td>-122.425892</td>\n",
       "      <td>37.774599</td>\n",
       "      <td>2015</td>\n",
       "      <td>5</td>\n",
       "      <td>13</td>\n",
       "    </tr>\n",
       "  </tbody>\n",
       "</table>\n",
       "</div>"
      ],
      "text/plain": [
       "                Dates        Category                  Descript PdDistrict  \\\n",
       "0 2015-05-13 23:53:00        WARRANTS            WARRANT ARREST   NORTHERN   \n",
       "1 2015-05-13 23:53:00  OTHER OFFENSES  TRAFFIC VIOLATION ARREST   NORTHERN   \n",
       "\n",
       "       Resolution             Address           X          Y  Year  Month  \\\n",
       "0  ARREST, BOOKED  OAK ST / LAGUNA ST -122.425892  37.774599  2015      5   \n",
       "1  ARREST, BOOKED  OAK ST / LAGUNA ST -122.425892  37.774599  2015      5   \n",
       "\n",
       "   Day_of_Week  \n",
       "0           13  \n",
       "1           13  "
      ]
     },
     "execution_count": 9,
     "metadata": {},
     "output_type": "execute_result"
    }
   ],
   "source": [
    "# create a new column for 'Year','Month',and 'Day_of_Week'\n",
    "sf_crime['Year'] = sf_crime['Dates'].dt.year\n",
    "sf_crime['Month'] = sf_crime['Dates'].dt.month\n",
    "sf_crime['Day_of_Week'] = sf_crime['Dates'].dt.day\n",
    "#check the first couple rows to make sure it's what you want\n",
    "sf_crime.head(2)"
   ]
  },
  {
   "cell_type": "code",
   "execution_count": 10,
   "metadata": {},
   "outputs": [],
   "source": [
    "# create a column for the 'Hour','Time', and 'Date'\n",
    "sf_crime['Hour'] = sf_crime['Dates'].dt.hour\n",
    "sf_crime['Time'] = sf_crime['Dates'].dt.time\n",
    "sf_crime['Date'] = sf_crime['Dates'].dt.date"
   ]
  },
  {
   "cell_type": "code",
   "execution_count": 11,
   "metadata": {},
   "outputs": [],
   "source": [
    "# Drop the 'Dates' column\n",
    "sf_crime.drop(columns='Dates', axis=1);"
   ]
  },
  {
   "cell_type": "markdown",
   "metadata": {},
   "source": [
    "## 3. Validate and clean the data."
   ]
  },
  {
   "cell_type": "code",
   "execution_count": 12,
   "metadata": {
    "scrolled": false
   },
   "outputs": [
    {
     "data": {
      "text/plain": [
       "LARCENY/THEFT                  4885\n",
       "OTHER OFFENSES                 2291\n",
       "NON-CRIMINAL                   2255\n",
       "ASSAULT                        1536\n",
       "VEHICLE THEFT                   967\n",
       "VANDALISM                       877\n",
       "BURGLARY                        732\n",
       "WARRANTS                        728\n",
       "SUSPICIOUS OCC                  592\n",
       "MISSING PERSON                  535\n",
       "DRUG/NARCOTIC                   496\n",
       "ROBBERY                         465\n",
       "FRAUD                           363\n",
       "SECONDARY CODES                 261\n",
       "WEAPON LAWS                     212\n",
       "TRESPASS                        130\n",
       "STOLEN PROPERTY                 111\n",
       "SEX OFFENSES FORCIBLE           103\n",
       "FORGERY/COUNTERFEITING           85\n",
       "DRUNKENNESS                      74\n",
       "KIDNAPPING                       50\n",
       "PROSTITUTION                     44\n",
       "DRIVING UNDER THE INFLUENCE      42\n",
       "DISORDERLY CONDUCT               37\n",
       "ARSON                            35\n",
       "LIQUOR LAWS                      25\n",
       "RUNAWAY                          16\n",
       "EMBEZZLEMENT                     11\n",
       "BRIBERY                          11\n",
       "SUICIDE                           5\n",
       "FAMILY OFFENSES                   5\n",
       "LOITERING                         4\n",
       "EXTORTION                         4\n",
       "SEX OFFENSES NON FORCIBLE         4\n",
       "GAMBLING                          4\n",
       "BAD CHECKS                        2\n",
       "ASSUALT                           2\n",
       "TRESPASSING                       1\n",
       "Name: Category, dtype: int64"
      ]
     },
     "execution_count": 12,
     "metadata": {},
     "output_type": "execute_result"
    }
   ],
   "source": [
    "# check the 'Category' value counts to see what sort of categories there are\n",
    "# and to see if anything might require cleaning (particularly the ones with fewer values)\n",
    "sf_crime['Category'].value_counts()"
   ]
  },
  {
   "cell_type": "code",
   "execution_count": 13,
   "metadata": {},
   "outputs": [],
   "source": [
    "# What's going on with 'TRESPASS' and 'TRESPASSING'?\n",
    "# What's going on with 'ASSAULT' and 'ASSUALT'?\n",
    "# fix these with .loc\n",
    "TRESPASSING_mask = (sf_crime.Category == 'TRESPASS')\n",
    "sf_crime.loc[TRESPASSING_mask, 'Category'] = 'TRESPASSING'\n",
    "\n",
    "ASSAULT_mask = (sf_crime.Category == 'ASSUALT')\n",
    "sf_crime.loc[ASSAULT_mask, 'Category'] = 'ASSAULT'\n"
   ]
  },
  {
   "cell_type": "code",
   "execution_count": 23,
   "metadata": {
    "scrolled": true
   },
   "outputs": [
    {
     "data": {
      "text/plain": [
       "LARCENY/THEFT                  4885\n",
       "OTHER OFFENSES                 2291\n",
       "NON-CRIMINAL                   2255\n",
       "ASSAULT                        1538\n",
       "VEHICLE THEFT                   967\n",
       "VANDALISM                       877\n",
       "BURGLARY                        732\n",
       "WARRANTS                        728\n",
       "SUSPICIOUS OCC                  592\n",
       "MISSING PERSON                  535\n",
       "DRUG/NARCOTIC                   496\n",
       "ROBBERY                         465\n",
       "FRAUD                           363\n",
       "SECONDARY CODES                 261\n",
       "WEAPON LAWS                     212\n",
       "TRESPASSING                     131\n",
       "STOLEN PROPERTY                 111\n",
       "SEX OFFENSES FORCIBLE           103\n",
       "FORGERY/COUNTERFEITING           85\n",
       "DRUNKENNESS                      74\n",
       "KIDNAPPING                       50\n",
       "PROSTITUTION                     44\n",
       "DRIVING UNDER THE INFLUENCE      42\n",
       "DISORDERLY CONDUCT               37\n",
       "ARSON                            35\n",
       "LIQUOR LAWS                      25\n",
       "RUNAWAY                          16\n",
       "BRIBERY                          11\n",
       "EMBEZZLEMENT                     11\n",
       "SUICIDE                           5\n",
       "FAMILY OFFENSES                   5\n",
       "GAMBLING                          4\n",
       "SEX OFFENSES NON FORCIBLE         4\n",
       "EXTORTION                         4\n",
       "LOITERING                         4\n",
       "BAD CHECKS                        2\n",
       "Name: Category, dtype: int64"
      ]
     },
     "execution_count": 23,
     "metadata": {},
     "output_type": "execute_result"
    }
   ],
   "source": [
    "sf_crime['Category'].value_counts()"
   ]
  },
  {
   "cell_type": "code",
   "execution_count": 29,
   "metadata": {},
   "outputs": [],
   "source": [
    "import calendar"
   ]
  },
  {
   "cell_type": "code",
   "execution_count": 32,
   "metadata": {},
   "outputs": [],
   "source": [
    "# have a look to see whether you have all the days of the week in your data\n",
    "Days = []\n",
    "for i in range(len(sf_crime['Date'])):\n",
    "    Days.append(calendar.day_name[sf_crime['Date'][i].weekday()])\n"
   ]
  },
  {
   "cell_type": "code",
   "execution_count": 39,
   "metadata": {},
   "outputs": [
    {
     "data": {
      "text/plain": [
       "Wednesday    2930\n",
       "Friday       2733\n",
       "Saturday     2556\n",
       "Thursday     2479\n",
       "Sunday       2456\n",
       "Monday       2447\n",
       "Tuesday      2399\n",
       "dtype: int64"
      ]
     },
     "execution_count": 39,
     "metadata": {},
     "output_type": "execute_result"
    }
   ],
   "source": [
    "pd.Series(Days).value_counts()"
   ]
  },
  {
   "cell_type": "code",
   "execution_count": 40,
   "metadata": {},
   "outputs": [
    {
     "data": {
      "text/plain": [
       "GRAND THEFT FROM LOCKED AUTO                              2127\n",
       "STOLEN AUTOMOBILE                                          625\n",
       "AIDED CASE, MENTAL DISTURBED                               591\n",
       "DRIVERS LICENSE, SUSPENDED OR REVOKED                      589\n",
       "BATTERY                                                    520\n",
       "PETTY THEFT FROM LOCKED AUTO                               498\n",
       "PETTY THEFT OF PROPERTY                                    484\n",
       "LOST PROPERTY                                              468\n",
       "WARRANT ARREST                                             429\n",
       "MALICIOUS MISCHIEF, VANDALISM                              361\n",
       "FOUND PROPERTY                                             353\n",
       "MALICIOUS MISCHIEF, VANDALISM OF VEHICLES                  340\n",
       "GRAND THEFT FROM UNLOCKED AUTO                             321\n",
       "SUSPICIOUS OCCURRENCE                                      305\n",
       "INVESTIGATIVE DETENTION                                    246\n",
       "FOUND PERSON                                               233\n",
       "PETTY THEFT FROM A BUILDING                                223\n",
       "PETTY THEFT SHOPLIFTING                                    216\n",
       "THREATS AGAINST LIFE                                       209\n",
       "GRAND THEFT OF PROPERTY                                    202\n",
       "ENROUTE TO OUTSIDE JURISDICTION                            201\n",
       "CREDIT CARD, THEFT BY USE OF                               200\n",
       "GRAND THEFT FROM PERSON                                    192\n",
       "STOLEN TRUCK                                               192\n",
       "TRAFFIC VIOLATION                                          180\n",
       "MISSING ADULT                                              178\n",
       "RESISTING ARREST                                           174\n",
       "TRAFFIC VIOLATION ARREST                                   172\n",
       "DOMESTIC VIOLENCE                                          156\n",
       "LOST/STOLEN LICENSE PLATE                                  154\n",
       "                                                          ... \n",
       "SALE OF HALLUCINOGENIC                                       1\n",
       "BURGLARY OF FLAT, ATTEMPTED FORCIBLE ENTRY                   1\n",
       "TRESPASS WITHIN 30 DAYS OF CREDIBLE THREAT                   1\n",
       "TRUANT, HABITUAL                                             1\n",
       "TRANSPORTATION OF OPIATES                                    1\n",
       "FALSE FIRE ALARM                                             1\n",
       "ROBBERY OF A COMMERCIAL ESTABLISHMENT WITH A GUN             1\n",
       "MALICIOUS MISCHIEF, BREAKING WINDOWS WITH BB GUN             1\n",
       "VIOLATION OF FEDERAL STATUTE                                 1\n",
       "POSSESSION OF AMPHETAMINE FOR SALES                          1\n",
       "THEFT, DRUNK ROLL, <$50                                      1\n",
       "POSSESSION OF CAUSTIC CHEMICAL                               1\n",
       "PHONE CALLS, OBSCENE                                         1\n",
       "PERMIT VIOLATION, ENTERTAINMENT                              1\n",
       "OTHER OFFENSES AGAINST PUBLIC JUSTICE                        1\n",
       "ELECTRICAL  OR GAS LINES, INTERFERING WITH                   1\n",
       "DISTURBING THE PEACE, SWEARING                               1\n",
       "POSSESSION OF HALLUCINOGENIC                                 1\n",
       "INTERFERRING WITH A FIREMAN                                  1\n",
       "ARMOR PENETRATING AMMUNITION, POSSESSION                     1\n",
       "EMBEZZLED VEHICLE                                            1\n",
       "MINOR PURCHASING OR RECEIVING TOBACCO PRODUCT                1\n",
       "INTOXICATED JUVENILE                                         1\n",
       "DRIVING WHILE UNDER THE INFLUENCE OF ALCOHOL, W/INJURY       1\n",
       "PHONE CALLS IN VIOLATION OF DV COURT ORDER                   1\n",
       "POSSESSION OF METHADONE                                      1\n",
       "POSSESSION OF OPIATES                                        1\n",
       "GRAND THEFT BY PROSTITUTE                                    1\n",
       "ANNOY OR MOLEST CHILDREN                                     1\n",
       "EMBEZZLEMENT, GRAND THEFT LEASED PROPERTY                    1\n",
       "Name: Descript, Length: 510, dtype: int64"
      ]
     },
     "execution_count": 40,
     "metadata": {},
     "output_type": "execute_result"
    }
   ],
   "source": [
    "# have a look at the value counts for 'Descript', 'PdDistrict', and 'Resolution' to make sure it all checks out\n",
    "sf_crime['Descript'].value_counts()\n"
   ]
  },
  {
   "cell_type": "code",
   "execution_count": 41,
   "metadata": {},
   "outputs": [
    {
     "data": {
      "text/plain": [
       "SOUTHERN      3287\n",
       "NORTHERN      2250\n",
       "CENTRAL       2206\n",
       "MISSION       2118\n",
       "BAYVIEW       1678\n",
       "INGLESIDE     1628\n",
       "TARAVAL       1426\n",
       "TENDERLOIN    1327\n",
       "RICHMOND      1101\n",
       "PARK           979\n",
       "Name: PdDistrict, dtype: int64"
      ]
     },
     "execution_count": 41,
     "metadata": {},
     "output_type": "execute_result"
    }
   ],
   "source": [
    "sf_crime['PdDistrict'].value_counts()"
   ]
  },
  {
   "cell_type": "code",
   "execution_count": 42,
   "metadata": {},
   "outputs": [
    {
     "data": {
      "text/plain": [
       "NONE                                      12862\n",
       "ARREST, BOOKED                             4455\n",
       "UNFOUNDED                                   367\n",
       "ARREST, CITED                               100\n",
       "JUVENILE BOOKED                              94\n",
       "EXCEPTIONAL CLEARANCE                        58\n",
       "PSYCHOPATHIC CASE                            28\n",
       "LOCATED                                      25\n",
       "CLEARED-CONTACT JUVENILE FOR MORE INFO       10\n",
       "NOT PROSECUTED                                1\n",
       "Name: Resolution, dtype: int64"
      ]
     },
     "execution_count": 42,
     "metadata": {},
     "output_type": "execute_result"
    }
   ],
   "source": [
    "sf_crime['Resolution'].value_counts()"
   ]
  },
  {
   "cell_type": "code",
   "execution_count": 43,
   "metadata": {},
   "outputs": [
    {
     "data": {
      "text/html": [
       "<div>\n",
       "<style scoped>\n",
       "    .dataframe tbody tr th:only-of-type {\n",
       "        vertical-align: middle;\n",
       "    }\n",
       "\n",
       "    .dataframe tbody tr th {\n",
       "        vertical-align: top;\n",
       "    }\n",
       "\n",
       "    .dataframe thead th {\n",
       "        text-align: right;\n",
       "    }\n",
       "</style>\n",
       "<table border=\"1\" class=\"dataframe\">\n",
       "  <thead>\n",
       "    <tr style=\"text-align: right;\">\n",
       "      <th></th>\n",
       "      <th>X</th>\n",
       "      <th>Y</th>\n",
       "      <th>Year</th>\n",
       "      <th>Month</th>\n",
       "      <th>Day_of_Week</th>\n",
       "      <th>Hour</th>\n",
       "    </tr>\n",
       "  </thead>\n",
       "  <tbody>\n",
       "    <tr>\n",
       "      <th>count</th>\n",
       "      <td>18000.000000</td>\n",
       "      <td>18000.000000</td>\n",
       "      <td>18000.0</td>\n",
       "      <td>18000.000000</td>\n",
       "      <td>18000.000000</td>\n",
       "      <td>18000.000000</td>\n",
       "    </tr>\n",
       "    <tr>\n",
       "      <th>mean</th>\n",
       "      <td>-122.423639</td>\n",
       "      <td>37.768466</td>\n",
       "      <td>2015.0</td>\n",
       "      <td>3.489944</td>\n",
       "      <td>14.290167</td>\n",
       "      <td>13.646833</td>\n",
       "    </tr>\n",
       "    <tr>\n",
       "      <th>std</th>\n",
       "      <td>0.026532</td>\n",
       "      <td>0.024391</td>\n",
       "      <td>0.0</td>\n",
       "      <td>0.868554</td>\n",
       "      <td>8.955835</td>\n",
       "      <td>6.539040</td>\n",
       "    </tr>\n",
       "    <tr>\n",
       "      <th>min</th>\n",
       "      <td>-122.513642</td>\n",
       "      <td>37.708154</td>\n",
       "      <td>2015.0</td>\n",
       "      <td>2.000000</td>\n",
       "      <td>1.000000</td>\n",
       "      <td>0.000000</td>\n",
       "    </tr>\n",
       "    <tr>\n",
       "      <th>25%</th>\n",
       "      <td>-122.434199</td>\n",
       "      <td>37.753838</td>\n",
       "      <td>2015.0</td>\n",
       "      <td>3.000000</td>\n",
       "      <td>5.000000</td>\n",
       "      <td>10.000000</td>\n",
       "    </tr>\n",
       "    <tr>\n",
       "      <th>50%</th>\n",
       "      <td>-122.416949</td>\n",
       "      <td>37.775608</td>\n",
       "      <td>2015.0</td>\n",
       "      <td>3.000000</td>\n",
       "      <td>16.000000</td>\n",
       "      <td>15.000000</td>\n",
       "    </tr>\n",
       "    <tr>\n",
       "      <th>75%</th>\n",
       "      <td>-122.406539</td>\n",
       "      <td>37.785390</td>\n",
       "      <td>2015.0</td>\n",
       "      <td>4.000000</td>\n",
       "      <td>20.000000</td>\n",
       "      <td>19.000000</td>\n",
       "    </tr>\n",
       "    <tr>\n",
       "      <th>max</th>\n",
       "      <td>-122.365565</td>\n",
       "      <td>37.819923</td>\n",
       "      <td>2015.0</td>\n",
       "      <td>5.000000</td>\n",
       "      <td>31.000000</td>\n",
       "      <td>23.000000</td>\n",
       "    </tr>\n",
       "  </tbody>\n",
       "</table>\n",
       "</div>"
      ],
      "text/plain": [
       "                  X             Y     Year         Month   Day_of_Week  \\\n",
       "count  18000.000000  18000.000000  18000.0  18000.000000  18000.000000   \n",
       "mean    -122.423639     37.768466   2015.0      3.489944     14.290167   \n",
       "std        0.026532      0.024391      0.0      0.868554      8.955835   \n",
       "min     -122.513642     37.708154   2015.0      2.000000      1.000000   \n",
       "25%     -122.434199     37.753838   2015.0      3.000000      5.000000   \n",
       "50%     -122.416949     37.775608   2015.0      3.000000     16.000000   \n",
       "75%     -122.406539     37.785390   2015.0      4.000000     20.000000   \n",
       "max     -122.365565     37.819923   2015.0      5.000000     31.000000   \n",
       "\n",
       "               Hour  \n",
       "count  18000.000000  \n",
       "mean      13.646833  \n",
       "std        6.539040  \n",
       "min        0.000000  \n",
       "25%       10.000000  \n",
       "50%       15.000000  \n",
       "75%       19.000000  \n",
       "max       23.000000  "
      ]
     },
     "execution_count": 43,
     "metadata": {},
     "output_type": "execute_result"
    }
   ],
   "source": [
    "# use .describe() to see whether the location coordinates seem appropriate\n",
    "sf_crime.describe()"
   ]
  },
  {
   "cell_type": "markdown",
   "metadata": {
    "collapsed": true
   },
   "source": [
    "### 4. Set up a target and predictor matrix for predicting violent crime vs. non-violent crime vs. non-crimes.\n",
    "\n",
    "**Non-Violent Crimes:**\n",
    "- bad checks\n",
    "- bribery\n",
    "- drug/narcotic\n",
    "- drunkenness\n",
    "- embezzlement\n",
    "- forgery/counterfeiting\n",
    "- fraud\n",
    "- gambling\n",
    "- liquor\n",
    "- loitering \n",
    "- trespass\n",
    "\n",
    "**Non-Crimes:**\n",
    "- non-criminal\n",
    "- runaway\n",
    "- secondary codes\n",
    "- suspicious occ\n",
    "- warrants\n",
    "\n",
    "**Violent Crimes:**\n",
    "- everything else\n",
    "\n",
    "\n",
    "\n",
    "**What type of model do you need here? What is your baseline accuracy?**"
   ]
  },
  {
   "cell_type": "code",
   "execution_count": 49,
   "metadata": {},
   "outputs": [],
   "source": [
    "NVC = ['BAD CHECKS','BRIBERY','DRUG/NARCOTIC','DRUNKENNESS',\n",
    "     'EMBEZZLEMENT','FORGERY/COUNTERFEITING','FRAUD',\n",
    "     'GAMBLING','LIQUOR','LOITERING','TRESPASS','OTHER OFFENSES']\n",
    "\n",
    "NOT_C = ['NON-CRIMINAL','RUNAWAY','SECONDARY CODES','SUSPICIOUS OCC','WARRANTS']\n",
    "\n",
    "#use a list comprehension to get all the categories in sf_crime['Category'].unique() that are NOT in the lists above\n",
    "unique_cat = sf_crime['Category'].unique()\n",
    "VC = [ cat_name for cat_name in unique_cat if (cat_name not in NVC) and (cat_name not in NOT_C)]\n",
    "  "
   ]
  },
  {
   "cell_type": "code",
   "execution_count": 62,
   "metadata": {},
   "outputs": [],
   "source": [
    "#add a column called 'Type' into your dataframe that stores whether the observation was:\n",
    "#Non-Violent, Violent, or Non-Crime\n",
    "#use .map()!\n",
    "def typecrime(x):\n",
    "    if x in NOT_C: return 'NOT_CRIMINAL'\n",
    "    if x in NVC: return 'NON-VIOLENT'\n",
    "    if x in VC: return 'VIOLENT_CRIME'\n",
    "\n",
    "sf_crime['Type']= list(map(lambda x: typecrime(x), sf_crime['Category']))"
   ]
  },
  {
   "cell_type": "code",
   "execution_count": 64,
   "metadata": {},
   "outputs": [],
   "source": [
    "#find the baseline accuracy:\n",
    "baseline = sf_crime['Type'].value_counts(normalize=True)"
   ]
  },
  {
   "cell_type": "code",
   "execution_count": 65,
   "metadata": {},
   "outputs": [
    {
     "data": {
      "text/plain": [
       "VIOLENT_CRIME    0.600389\n",
       "NOT_CRIMINAL     0.214000\n",
       "NON-VIOLENT      0.185611\n",
       "Name: Type, dtype: float64"
      ]
     },
     "execution_count": 65,
     "metadata": {},
     "output_type": "execute_result"
    }
   ],
   "source": [
    "baseline"
   ]
  },
  {
   "cell_type": "code",
   "execution_count": 69,
   "metadata": {},
   "outputs": [],
   "source": [
    "#create a target array with 'Type'\n",
    "#create a predictor matrix with 'Day_of_Week','Month','Year','PdDistrict','Hour', and 'Resolution'\n",
    "y = sf_crime.Type\n",
    "X = sf_crime[['Day_of_Week', 'Month', 'Year', 'PdDistrict', 'Hour', 'Resolution']]"
   ]
  },
  {
   "cell_type": "code",
   "execution_count": 73,
   "metadata": {},
   "outputs": [],
   "source": [
    "#use pd.get_dummies() to dummify your categorical variables\n",
    "#remember to drop a column!\n",
    "X = pd.get_dummies(X, drop_first=True)"
   ]
  },
  {
   "cell_type": "code",
   "execution_count": 74,
   "metadata": {},
   "outputs": [
    {
     "data": {
      "text/html": [
       "<div>\n",
       "<style scoped>\n",
       "    .dataframe tbody tr th:only-of-type {\n",
       "        vertical-align: middle;\n",
       "    }\n",
       "\n",
       "    .dataframe tbody tr th {\n",
       "        vertical-align: top;\n",
       "    }\n",
       "\n",
       "    .dataframe thead th {\n",
       "        text-align: right;\n",
       "    }\n",
       "</style>\n",
       "<table border=\"1\" class=\"dataframe\">\n",
       "  <thead>\n",
       "    <tr style=\"text-align: right;\">\n",
       "      <th></th>\n",
       "      <th>Day_of_Week</th>\n",
       "      <th>Month</th>\n",
       "      <th>Year</th>\n",
       "      <th>Hour</th>\n",
       "      <th>PdDistrict_BAYVIEW</th>\n",
       "      <th>PdDistrict_CENTRAL</th>\n",
       "      <th>PdDistrict_INGLESIDE</th>\n",
       "      <th>PdDistrict_MISSION</th>\n",
       "      <th>PdDistrict_NORTHERN</th>\n",
       "      <th>PdDistrict_PARK</th>\n",
       "      <th>...</th>\n",
       "      <th>Resolution_ARREST, BOOKED</th>\n",
       "      <th>Resolution_ARREST, CITED</th>\n",
       "      <th>Resolution_CLEARED-CONTACT JUVENILE FOR MORE INFO</th>\n",
       "      <th>Resolution_EXCEPTIONAL CLEARANCE</th>\n",
       "      <th>Resolution_JUVENILE BOOKED</th>\n",
       "      <th>Resolution_LOCATED</th>\n",
       "      <th>Resolution_NONE</th>\n",
       "      <th>Resolution_NOT PROSECUTED</th>\n",
       "      <th>Resolution_PSYCHOPATHIC CASE</th>\n",
       "      <th>Resolution_UNFOUNDED</th>\n",
       "    </tr>\n",
       "  </thead>\n",
       "  <tbody>\n",
       "    <tr>\n",
       "      <th>0</th>\n",
       "      <td>13</td>\n",
       "      <td>5</td>\n",
       "      <td>2015</td>\n",
       "      <td>23</td>\n",
       "      <td>0</td>\n",
       "      <td>0</td>\n",
       "      <td>0</td>\n",
       "      <td>0</td>\n",
       "      <td>1</td>\n",
       "      <td>0</td>\n",
       "      <td>...</td>\n",
       "      <td>1</td>\n",
       "      <td>0</td>\n",
       "      <td>0</td>\n",
       "      <td>0</td>\n",
       "      <td>0</td>\n",
       "      <td>0</td>\n",
       "      <td>0</td>\n",
       "      <td>0</td>\n",
       "      <td>0</td>\n",
       "      <td>0</td>\n",
       "    </tr>\n",
       "    <tr>\n",
       "      <th>1</th>\n",
       "      <td>13</td>\n",
       "      <td>5</td>\n",
       "      <td>2015</td>\n",
       "      <td>23</td>\n",
       "      <td>0</td>\n",
       "      <td>0</td>\n",
       "      <td>0</td>\n",
       "      <td>0</td>\n",
       "      <td>1</td>\n",
       "      <td>0</td>\n",
       "      <td>...</td>\n",
       "      <td>1</td>\n",
       "      <td>0</td>\n",
       "      <td>0</td>\n",
       "      <td>0</td>\n",
       "      <td>0</td>\n",
       "      <td>0</td>\n",
       "      <td>0</td>\n",
       "      <td>0</td>\n",
       "      <td>0</td>\n",
       "      <td>0</td>\n",
       "    </tr>\n",
       "    <tr>\n",
       "      <th>2</th>\n",
       "      <td>13</td>\n",
       "      <td>5</td>\n",
       "      <td>2015</td>\n",
       "      <td>23</td>\n",
       "      <td>0</td>\n",
       "      <td>0</td>\n",
       "      <td>0</td>\n",
       "      <td>0</td>\n",
       "      <td>1</td>\n",
       "      <td>0</td>\n",
       "      <td>...</td>\n",
       "      <td>1</td>\n",
       "      <td>0</td>\n",
       "      <td>0</td>\n",
       "      <td>0</td>\n",
       "      <td>0</td>\n",
       "      <td>0</td>\n",
       "      <td>0</td>\n",
       "      <td>0</td>\n",
       "      <td>0</td>\n",
       "      <td>0</td>\n",
       "    </tr>\n",
       "    <tr>\n",
       "      <th>3</th>\n",
       "      <td>13</td>\n",
       "      <td>5</td>\n",
       "      <td>2015</td>\n",
       "      <td>23</td>\n",
       "      <td>0</td>\n",
       "      <td>0</td>\n",
       "      <td>0</td>\n",
       "      <td>0</td>\n",
       "      <td>1</td>\n",
       "      <td>0</td>\n",
       "      <td>...</td>\n",
       "      <td>0</td>\n",
       "      <td>0</td>\n",
       "      <td>0</td>\n",
       "      <td>0</td>\n",
       "      <td>0</td>\n",
       "      <td>0</td>\n",
       "      <td>1</td>\n",
       "      <td>0</td>\n",
       "      <td>0</td>\n",
       "      <td>0</td>\n",
       "    </tr>\n",
       "    <tr>\n",
       "      <th>4</th>\n",
       "      <td>13</td>\n",
       "      <td>5</td>\n",
       "      <td>2015</td>\n",
       "      <td>23</td>\n",
       "      <td>0</td>\n",
       "      <td>0</td>\n",
       "      <td>0</td>\n",
       "      <td>0</td>\n",
       "      <td>0</td>\n",
       "      <td>1</td>\n",
       "      <td>...</td>\n",
       "      <td>0</td>\n",
       "      <td>0</td>\n",
       "      <td>0</td>\n",
       "      <td>0</td>\n",
       "      <td>0</td>\n",
       "      <td>0</td>\n",
       "      <td>1</td>\n",
       "      <td>0</td>\n",
       "      <td>0</td>\n",
       "      <td>0</td>\n",
       "    </tr>\n",
       "  </tbody>\n",
       "</table>\n",
       "<p>5 rows × 24 columns</p>\n",
       "</div>"
      ],
      "text/plain": [
       "   Day_of_Week  Month  Year  Hour  PdDistrict_BAYVIEW  PdDistrict_CENTRAL  \\\n",
       "0           13      5  2015    23                   0                   0   \n",
       "1           13      5  2015    23                   0                   0   \n",
       "2           13      5  2015    23                   0                   0   \n",
       "3           13      5  2015    23                   0                   0   \n",
       "4           13      5  2015    23                   0                   0   \n",
       "\n",
       "   PdDistrict_INGLESIDE  PdDistrict_MISSION  PdDistrict_NORTHERN  \\\n",
       "0                     0                   0                    1   \n",
       "1                     0                   0                    1   \n",
       "2                     0                   0                    1   \n",
       "3                     0                   0                    1   \n",
       "4                     0                   0                    0   \n",
       "\n",
       "   PdDistrict_PARK          ...           Resolution_ARREST, BOOKED  \\\n",
       "0                0          ...                                   1   \n",
       "1                0          ...                                   1   \n",
       "2                0          ...                                   1   \n",
       "3                0          ...                                   0   \n",
       "4                1          ...                                   0   \n",
       "\n",
       "   Resolution_ARREST, CITED  \\\n",
       "0                         0   \n",
       "1                         0   \n",
       "2                         0   \n",
       "3                         0   \n",
       "4                         0   \n",
       "\n",
       "   Resolution_CLEARED-CONTACT JUVENILE FOR MORE INFO  \\\n",
       "0                                                  0   \n",
       "1                                                  0   \n",
       "2                                                  0   \n",
       "3                                                  0   \n",
       "4                                                  0   \n",
       "\n",
       "   Resolution_EXCEPTIONAL CLEARANCE  Resolution_JUVENILE BOOKED  \\\n",
       "0                                 0                           0   \n",
       "1                                 0                           0   \n",
       "2                                 0                           0   \n",
       "3                                 0                           0   \n",
       "4                                 0                           0   \n",
       "\n",
       "   Resolution_LOCATED  Resolution_NONE  Resolution_NOT PROSECUTED  \\\n",
       "0                   0                0                          0   \n",
       "1                   0                0                          0   \n",
       "2                   0                0                          0   \n",
       "3                   0                1                          0   \n",
       "4                   0                1                          0   \n",
       "\n",
       "   Resolution_PSYCHOPATHIC CASE  Resolution_UNFOUNDED  \n",
       "0                             0                     0  \n",
       "1                             0                     0  \n",
       "2                             0                     0  \n",
       "3                             0                     0  \n",
       "4                             0                     0  \n",
       "\n",
       "[5 rows x 24 columns]"
      ]
     },
     "execution_count": 74,
     "metadata": {},
     "output_type": "execute_result"
    }
   ],
   "source": [
    "X.head()"
   ]
  },
  {
   "cell_type": "markdown",
   "metadata": {},
   "source": [
    "### 5. Create a train/test/split and standardize the predictor matrices"
   ]
  },
  {
   "cell_type": "code",
   "execution_count": 82,
   "metadata": {},
   "outputs": [],
   "source": [
    "from sklearn.model_selection import train_test_split"
   ]
  },
  {
   "cell_type": "code",
   "execution_count": 88,
   "metadata": {},
   "outputs": [],
   "source": [
    "#create a 50/50 train test split; \n",
    "#stratify based on your target variable\n",
    "#use a random state of 2018\n",
    "X_train, X_test, y_train, y_test = train_test_split(X, y, \n",
    "                                            test_size=0.5, random_state=2018)"
   ]
  },
  {
   "cell_type": "code",
   "execution_count": 89,
   "metadata": {},
   "outputs": [],
   "source": [
    "#standardise your predictor matrices\n",
    "from sklearn.preprocessing import StandardScaler\n",
    "ss=StandardScaler()\n",
    "X_train_ss = ss.fit_transform(X_train)\n",
    "X_test_ss = ss.transform(X_test)"
   ]
  },
  {
   "cell_type": "markdown",
   "metadata": {},
   "source": [
    "### 6. Create a basic Logistic Regression model and use cross_val_score to assess its performance on your training data"
   ]
  },
  {
   "cell_type": "code",
   "execution_count": 92,
   "metadata": {},
   "outputs": [
    {
     "name": "stdout",
     "output_type": "stream",
     "text": [
      "Cross-validated scores: [0.62965019 0.63093585 0.61794943 0.63545429 0.62656293]\n",
      "Mean CV R2: 0.6281105405787544\n",
      "Std CV R2: 0.005829697365548055\n"
     ]
    }
   ],
   "source": [
    "#create a default Logistic Regression model and find its mean cross-validated accuracy with your training data\n",
    "#use 5 cross-validation folds\n",
    "lr = LogisticRegression()\n",
    "scores = cross_val_score(lr, X, y, cv=5)\n",
    "print(\"Cross-validated scores:\", scores)\n",
    "print(\"Mean CV R2:\", np.mean(scores))\n",
    "print('Std CV R2:', np.std(scores))"
   ]
  },
  {
   "cell_type": "code",
   "execution_count": 96,
   "metadata": {},
   "outputs": [
    {
     "data": {
      "text/html": [
       "<div>\n",
       "<style scoped>\n",
       "    .dataframe tbody tr th:only-of-type {\n",
       "        vertical-align: middle;\n",
       "    }\n",
       "\n",
       "    .dataframe tbody tr th {\n",
       "        vertical-align: top;\n",
       "    }\n",
       "\n",
       "    .dataframe thead th {\n",
       "        text-align: right;\n",
       "    }\n",
       "</style>\n",
       "<table border=\"1\" class=\"dataframe\">\n",
       "  <thead>\n",
       "    <tr style=\"text-align: right;\">\n",
       "      <th></th>\n",
       "      <th>NON-VIOLENT</th>\n",
       "      <th>NOT_CRIMINAL</th>\n",
       "      <th>VIOLENT_CRIME</th>\n",
       "    </tr>\n",
       "  </thead>\n",
       "  <tbody>\n",
       "    <tr>\n",
       "      <th>NON-VIOLENT</th>\n",
       "      <td>1520</td>\n",
       "      <td>81</td>\n",
       "      <td>1740</td>\n",
       "    </tr>\n",
       "    <tr>\n",
       "      <th>NOT_CRIMINAL</th>\n",
       "      <td>736</td>\n",
       "      <td>254</td>\n",
       "      <td>2862</td>\n",
       "    </tr>\n",
       "    <tr>\n",
       "      <th>VIOLENT_CRIME</th>\n",
       "      <td>1193</td>\n",
       "      <td>82</td>\n",
       "      <td>9532</td>\n",
       "    </tr>\n",
       "  </tbody>\n",
       "</table>\n",
       "</div>"
      ],
      "text/plain": [
       "               NON-VIOLENT  NOT_CRIMINAL  VIOLENT_CRIME\n",
       "NON-VIOLENT           1520            81           1740\n",
       "NOT_CRIMINAL           736           254           2862\n",
       "VIOLENT_CRIME         1193            82           9532"
      ]
     },
     "execution_count": 96,
     "metadata": {},
     "output_type": "execute_result"
    }
   ],
   "source": [
    "#create a confusion matrix with cross_val_predict\n",
    "predictions = cross_val_predict(lr, X, y, cv=5)\n",
    "confusion = confusion_matrix(y, predictions)\n",
    "pd.DataFrame(confusion,\n",
    "             columns=sorted(y_train.unique()),\n",
    "             index=sorted(y_train.unique()))"
   ]
  },
  {
   "cell_type": "markdown",
   "metadata": {},
   "source": [
    "### 7. Find the optimal hyperparameters (optimal regularization) to predict your crime categories using GridSearchCV.\n",
    "\n",
    "> **Note:** Gridsearching can be done with `GridSearchCV` or `LogisticRegressionCV`. They operate differently - the gridsearch object is more general and can be applied to any model. The `LogisticRegressionCV` is specific to tuning the logistic regression hyperparameters. I recommend the logistic regression one, but the downside is that lasso and ridge must be searched separately. To start with, use `GridSearchCV`.\n",
    "\n",
    "**Reference for logistic regression regularization hyperparameters:**\n",
    "- `solver`: algorithm used for optimization (relevant for multiclass)\n",
    "    - Newton-cg - Handles Multinomial Loss, L2 only\n",
    "    - Sag - Handles Multinomial Loss, Large Datasets, L2 Only, Works best on scaled data\n",
    "    - lbfgs - Handles Multinomial Loss, L2 Only\n",
    "    - liblinear - Small Datasets, no Warm Starts\n",
    "- `C`: Regularization strengths (smaller values are stronger penalties)\n",
    "- `penalty`: `'l1'` - Lasso, `'l2'` - Ridge "
   ]
  },
  {
   "cell_type": "code",
   "execution_count": 97,
   "metadata": {},
   "outputs": [
    {
     "data": {
      "text/plain": [
       "{'C': 1.0,\n",
       " 'class_weight': None,\n",
       " 'dual': False,\n",
       " 'fit_intercept': True,\n",
       " 'intercept_scaling': 1,\n",
       " 'max_iter': 100,\n",
       " 'multi_class': 'ovr',\n",
       " 'n_jobs': 1,\n",
       " 'penalty': 'l2',\n",
       " 'random_state': None,\n",
       " 'solver': 'liblinear',\n",
       " 'tol': 0.0001,\n",
       " 'verbose': 0,\n",
       " 'warm_start': False}"
      ]
     },
     "execution_count": 97,
     "metadata": {},
     "output_type": "execute_result"
    }
   ],
   "source": [
    "lr.get_params()"
   ]
  },
  {
   "cell_type": "code",
   "execution_count": 101,
   "metadata": {},
   "outputs": [],
   "source": [
    "#create a hyperparameter dictionary for a logistic regression\n",
    "params = {\n",
    "    'C': np.logspace(-5, 5, 15),\n",
    "    'penalty': ['l1','l2'],\n",
    "    'fit_intercept':[True,False]\n",
    "}"
   ]
  },
  {
   "cell_type": "code",
   "execution_count": 103,
   "metadata": {},
   "outputs": [],
   "source": [
    "#create a gridsearch object using LogisticRegression() and the dictionary you created above\n",
    "from sklearn.model_selection import GridSearchCV\n",
    "\n",
    "gs = GridSearchCV(lr, \n",
    "                  param_grid=params,\n",
    "                 cv=5,\n",
    "                 scoring='accuracy',\n",
    "                 return_train_score= True,\n",
    "                 verbose=1)\n"
   ]
  },
  {
   "cell_type": "code",
   "execution_count": 104,
   "metadata": {},
   "outputs": [
    {
     "name": "stdout",
     "output_type": "stream",
     "text": [
      "Fitting 5 folds for each of 60 candidates, totalling 300 fits\n"
     ]
    },
    {
     "name": "stderr",
     "output_type": "stream",
     "text": [
      "[Parallel(n_jobs=1)]: Done 300 out of 300 | elapsed:   41.6s finished\n"
     ]
    },
    {
     "data": {
      "text/plain": [
       "GridSearchCV(cv=5, error_score='raise',\n",
       "       estimator=LogisticRegression(C=1.0, class_weight=None, dual=False, fit_intercept=True,\n",
       "          intercept_scaling=1, max_iter=100, multi_class='ovr', n_jobs=1,\n",
       "          penalty='l2', random_state=None, solver='liblinear', tol=0.0001,\n",
       "          verbose=0, warm_start=False),\n",
       "       fit_params=None, iid=True, n_jobs=1,\n",
       "       param_grid={'C': array([1.00000e-05, 5.17947e-05, 2.68270e-04, 1.38950e-03, 7.19686e-03,\n",
       "       3.72759e-02, 1.93070e-01, 1.00000e+00, 5.17947e+00, 2.68270e+01,\n",
       "       1.38950e+02, 7.19686e+02, 3.72759e+03, 1.93070e+04, 1.00000e+05]), 'penalty': ['l1', 'l2'], 'fit_intercept': [True, False]},\n",
       "       pre_dispatch='2*n_jobs', refit=True, return_train_score=True,\n",
       "       scoring='accuracy', verbose=1)"
      ]
     },
     "execution_count": 104,
     "metadata": {},
     "output_type": "execute_result"
    }
   ],
   "source": [
    "#fit the gridsearch object on your training data\n",
    "gs.fit(X_train, y_train)"
   ]
  },
  {
   "cell_type": "code",
   "execution_count": 105,
   "metadata": {},
   "outputs": [
    {
     "data": {
      "text/plain": [
       "{'C': 1.0, 'fit_intercept': False, 'penalty': 'l1'}"
      ]
     },
     "execution_count": 105,
     "metadata": {},
     "output_type": "execute_result"
    }
   ],
   "source": [
    "#print out the best parameters\n",
    "gs.best_params_"
   ]
  },
  {
   "cell_type": "code",
   "execution_count": 108,
   "metadata": {},
   "outputs": [
    {
     "data": {
      "text/plain": [
       "0.6311122106381156"
      ]
     },
     "execution_count": 108,
     "metadata": {},
     "output_type": "execute_result"
    }
   ],
   "source": [
    "#print out the best mean cross-validated score\n",
    "cross_val_score(gs.best_estimator_, X_train, y_train, cv=5).mean()"
   ]
  },
  {
   "cell_type": "code",
   "execution_count": 124,
   "metadata": {},
   "outputs": [],
   "source": [
    "#assign your best estimator to the variable 'best_logreg'\n",
    "best_logreg = gs.best_estimator_"
   ]
  },
  {
   "cell_type": "code",
   "execution_count": 114,
   "metadata": {},
   "outputs": [
    {
     "data": {
      "text/plain": [
       "0.6334444444444445"
      ]
     },
     "execution_count": 114,
     "metadata": {},
     "output_type": "execute_result"
    }
   ],
   "source": [
    "#score your model on your testing data\n",
    "gs.score(X_test, y_test)"
   ]
  },
  {
   "cell_type": "markdown",
   "metadata": {},
   "source": [
    "### 8. Print out a classification report for your best_logreg model"
   ]
  },
  {
   "cell_type": "code",
   "execution_count": 132,
   "metadata": {},
   "outputs": [
    {
     "name": "stdout",
     "output_type": "stream",
     "text": [
      "               precision    recall  f1-score   support\n",
      "\n",
      "  NON-VIOLENT       0.46      0.46      0.46      1680\n",
      " NOT_CRIMINAL       0.66      0.07      0.13      1926\n",
      "VIOLENT_CRIME       0.68      0.89      0.77      5394\n",
      "\n",
      "  avg / total       0.63      0.64      0.58      9000\n",
      "\n"
     ]
    }
   ],
   "source": [
    "#use your test data to create your classification report\n",
    "predictions = cross_val_predict(best_logreg, X_test, y_test)\n",
    "#cross_val_predict(gs.best_estimator_, X_test, y_test, cv=5)\n",
    "print(classification_report(y_test, predictions))"
   ]
  },
  {
   "cell_type": "markdown",
   "metadata": {},
   "source": [
    "### 9. Explore LogisticRegressionCV.  \n",
    "\n",
    "With LogisticRegressionCV, you can access the best regularization strength for predicting each class! Read the documentation and see if you can implement a model with LogisticRegressionCV."
   ]
  },
  {
   "cell_type": "code",
   "execution_count": 134,
   "metadata": {},
   "outputs": [],
   "source": [
    "# A:\n",
    "lrCv = LogisticRegression()"
   ]
  },
  {
   "cell_type": "code",
   "execution_count": 136,
   "metadata": {},
   "outputs": [
    {
     "data": {
      "text/plain": [
       "{'C': 1.0,\n",
       " 'class_weight': None,\n",
       " 'dual': False,\n",
       " 'fit_intercept': True,\n",
       " 'intercept_scaling': 1,\n",
       " 'max_iter': 100,\n",
       " 'multi_class': 'ovr',\n",
       " 'n_jobs': 1,\n",
       " 'penalty': 'l2',\n",
       " 'random_state': None,\n",
       " 'solver': 'liblinear',\n",
       " 'tol': 0.0001,\n",
       " 'verbose': 0,\n",
       " 'warm_start': False}"
      ]
     },
     "execution_count": 136,
     "metadata": {},
     "output_type": "execute_result"
    }
   ],
   "source": [
    "lrCv.get_params()"
   ]
  },
  {
   "cell_type": "code",
   "execution_count": 143,
   "metadata": {},
   "outputs": [],
   "source": [
    "gsCV = GridSearchCV(lrCv, \n",
    "                  param_grid=params,\n",
    "                 cv=5,\n",
    "                 scoring='accuracy',\n",
    "                 return_train_score= True,\n",
    "                 verbose=1)"
   ]
  },
  {
   "cell_type": "code",
   "execution_count": 144,
   "metadata": {},
   "outputs": [
    {
     "name": "stdout",
     "output_type": "stream",
     "text": [
      "Fitting 5 folds for each of 60 candidates, totalling 300 fits\n"
     ]
    },
    {
     "name": "stderr",
     "output_type": "stream",
     "text": [
      "[Parallel(n_jobs=1)]: Done 300 out of 300 | elapsed:   50.2s finished\n"
     ]
    },
    {
     "data": {
      "text/plain": [
       "GridSearchCV(cv=5, error_score='raise',\n",
       "       estimator=LogisticRegression(C=1.0, class_weight=None, dual=False, fit_intercept=True,\n",
       "          intercept_scaling=1, max_iter=100, multi_class='ovr', n_jobs=1,\n",
       "          penalty='l2', random_state=None, solver='liblinear', tol=0.0001,\n",
       "          verbose=0, warm_start=False),\n",
       "       fit_params=None, iid=True, n_jobs=1,\n",
       "       param_grid={'C': array([1.00000e-05, 5.17947e-05, 2.68270e-04, 1.38950e-03, 7.19686e-03,\n",
       "       3.72759e-02, 1.93070e-01, 1.00000e+00, 5.17947e+00, 2.68270e+01,\n",
       "       1.38950e+02, 7.19686e+02, 3.72759e+03, 1.93070e+04, 1.00000e+05]), 'penalty': ['l1', 'l2'], 'fit_intercept': [True, False]},\n",
       "       pre_dispatch='2*n_jobs', refit=True, return_train_score=True,\n",
       "       scoring='accuracy', verbose=1)"
      ]
     },
     "execution_count": 144,
     "metadata": {},
     "output_type": "execute_result"
    }
   ],
   "source": [
    "gsCV.fit(X_train, y_train)"
   ]
  },
  {
   "cell_type": "code",
   "execution_count": 139,
   "metadata": {},
   "outputs": [
    {
     "data": {
      "text/plain": [
       "0.6312232599865191"
      ]
     },
     "execution_count": 139,
     "metadata": {},
     "output_type": "execute_result"
    }
   ],
   "source": [
    "cross_val_score(gs.best_estimator_, X_train, y_train, cv=5).mean()"
   ]
  },
  {
   "cell_type": "code",
   "execution_count": 145,
   "metadata": {},
   "outputs": [
    {
     "name": "stdout",
     "output_type": "stream",
     "text": [
      "Best score:  0.6315555555555555\n"
     ]
    }
   ],
   "source": [
    "print(\"Best score: \", gsCV.best_score_)"
   ]
  },
  {
   "cell_type": "code",
   "execution_count": 146,
   "metadata": {},
   "outputs": [
    {
     "name": "stdout",
     "output_type": "stream",
     "text": [
      "Best prams:  {'C': 1.0, 'fit_intercept': True, 'penalty': 'l1'}\n"
     ]
    }
   ],
   "source": [
    "print(\"Best prams: \", gsCV.best_params_)"
   ]
  },
  {
   "cell_type": "code",
   "execution_count": 147,
   "metadata": {},
   "outputs": [
    {
     "data": {
      "text/plain": [
       "0.6332222222222222"
      ]
     },
     "execution_count": 147,
     "metadata": {},
     "output_type": "execute_result"
    }
   ],
   "source": [
    "gsCV.score(X_test, y_test)"
   ]
  },
  {
   "cell_type": "code",
   "execution_count": null,
   "metadata": {},
   "outputs": [],
   "source": []
  }
 ],
 "metadata": {
  "anaconda-cloud": {},
  "kernelspec": {
   "display_name": "Python 3",
   "language": "python",
   "name": "python3"
  },
  "language_info": {
   "codemirror_mode": {
    "name": "ipython",
    "version": 3
   },
   "file_extension": ".py",
   "mimetype": "text/x-python",
   "name": "python",
   "nbconvert_exporter": "python",
   "pygments_lexer": "ipython3",
   "version": "3.6.5"
  },
  "toc": {
   "nav_menu": {},
   "number_sections": false,
   "sideBar": true,
   "skip_h1_title": false,
   "title_cell": "Table of Contents",
   "title_sidebar": "Contents",
   "toc_cell": false,
   "toc_position": {},
   "toc_section_display": "block",
   "toc_window_display": false
  },
  "varInspector": {
   "cols": {
    "lenName": 16,
    "lenType": 16,
    "lenVar": 40
   },
   "kernels_config": {
    "python": {
     "delete_cmd_postfix": "",
     "delete_cmd_prefix": "del ",
     "library": "var_list.py",
     "varRefreshCmd": "print(var_dic_list())"
    },
    "r": {
     "delete_cmd_postfix": ") ",
     "delete_cmd_prefix": "rm(",
     "library": "var_list.r",
     "varRefreshCmd": "cat(var_dic_list()) "
    }
   },
   "types_to_exclude": [
    "module",
    "function",
    "builtin_function_or_method",
    "instance",
    "_Feature"
   ],
   "window_display": false
  }
 },
 "nbformat": 4,
 "nbformat_minor": 1
}
