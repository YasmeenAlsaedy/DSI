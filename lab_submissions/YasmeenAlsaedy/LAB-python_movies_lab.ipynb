{
 "cells": [
  {
   "cell_type": "markdown",
   "metadata": {},
   "source": [
    "<img src=\"http://imgur.com/1ZcRyrc.png\" style=\"float: left; margin: 20px; height: 55px\">\n",
    "\n",
    "# Iteration practice with movies\n",
    "\n",
    "---"
   ]
  },
  {
   "cell_type": "markdown",
   "metadata": {},
   "source": [
    "In this lab you'll be using the provided imdb `movies` list below as your dataset. \n",
    "\n",
    "This lab is designed to practice iteration. The normal questions are more gentle, and the challenge questions are suitable for advanced/expert python or programming-experienced students. \n",
    "\n",
    "All the questions require writing functions and also use iteration to solve. You should print out a test of each function you write.\n",
    "\n",
    "---"
   ]
  },
  {
   "cell_type": "markdown",
   "metadata": {},
   "source": [
    "### 1. Load the provided list of movies dictionaries."
   ]
  },
  {
   "cell_type": "code",
   "execution_count": 4,
   "metadata": {},
   "outputs": [],
   "source": [
    "# List of movies dictionaries:\n",
    "\n",
    "movies = [\n",
    "{\n",
    "\"name\": \"Usual Suspects\", \n",
    "\"imdb\": 7.0,\n",
    "\"category\": \"Thriller\"\n",
    "},\n",
    "{\n",
    "\"name\": \"Hitman\",\n",
    "\"imdb\": 6.3,\n",
    "\"category\": \"Action\"\n",
    "},\n",
    "{\n",
    "\"name\": \"Dark Knight\",\n",
    "\"imdb\": 9.0,\n",
    "\"category\": \"Adventure\"\n",
    "},\n",
    "{\n",
    "\"name\": \"The Help\",\n",
    "\"imdb\": 8.0,\n",
    "\"category\": \"Drama\"\n",
    "},\n",
    "{\n",
    "\"name\": \"The Choice\",\n",
    "\"imdb\": 6.2,\n",
    "\"category\": \"Romance\"\n",
    "},\n",
    "{\n",
    "\"name\": \"Colonia\",\n",
    "\"imdb\": 7.4,\n",
    "\"category\": \"Romance\"\n",
    "},\n",
    "{\n",
    "\"name\": \"Love\",\n",
    "\"imdb\": 6.0,\n",
    "\"category\": \"Romance\"\n",
    "},\n",
    "{\n",
    "\"name\": \"Bride Wars\",\n",
    "\"imdb\": 5.4,\n",
    "\"category\": \"Romance\"\n",
    "},\n",
    "{\n",
    "\"name\": \"AlphaJet\",\n",
    "\"imdb\": 3.2,\n",
    "\"category\": \"War\"\n",
    "},\n",
    "{\n",
    "\"name\": \"Ringing Crime\",\n",
    "\"imdb\": 4.0,\n",
    "\"category\": \"Crime\"\n",
    "},\n",
    "{\n",
    "\"name\": \"Joking muck\",\n",
    "\"imdb\": 7.2,\n",
    "\"category\": \"Comedy\"\n",
    "},\n",
    "{\n",
    "\"name\": \"What is the name\",\n",
    "\"imdb\": 9.2,\n",
    "\"category\": \"Suspense\"\n",
    "},\n",
    "{\n",
    "\"name\": \"Detective\",\n",
    "\"imdb\": 7.0,\n",
    "\"category\": \"Suspense\"\n",
    "},\n",
    "{\n",
    "\"name\": \"Exam\",\n",
    "\"imdb\": 4.2,\n",
    "\"category\": \"Thriller\"\n",
    "},\n",
    "{\n",
    "\"name\": \"We Two\",\n",
    "\"imdb\": 7.2,\n",
    "\"category\": \"Romance\"\n",
    "}\n",
    "]"
   ]
  },
  {
   "cell_type": "markdown",
   "metadata": {},
   "source": [
    "---"
   ]
  },
  {
   "cell_type": "markdown",
   "metadata": {},
   "source": [
    "### 2. Filtering data by IMDB score"
   ]
  },
  {
   "cell_type": "markdown",
   "metadata": {},
   "source": [
    "#### 2.1 \n",
    "\n",
    "Write a function that:\n",
    "\n",
    "1. Accepts a single movie dictionary from the `movies` list as an argument.\n",
    "2. Returns True if the IMDB score is above 5.5."
   ]
  },
  {
   "cell_type": "code",
   "execution_count": 5,
   "metadata": {},
   "outputs": [],
   "source": [
    "# Your code here:\n",
    "def goodmovie(movie):\n",
    "    if movie.get('imdb') > 5.5:\n",
    "        return True\n",
    "    else:\n",
    "        return False"
   ]
  },
  {
   "cell_type": "code",
   "execution_count": 6,
   "metadata": {
    "scrolled": true
   },
   "outputs": [
    {
     "data": {
      "text/plain": [
       "False"
      ]
     },
     "execution_count": 6,
     "metadata": {},
     "output_type": "execute_result"
    }
   ],
   "source": [
    "goodmovie(movies[7]) # False"
   ]
  },
  {
   "cell_type": "markdown",
   "metadata": {},
   "source": [
    "## 2.2 [Challenge] \n",
    "\n",
    "Write a function that:\n",
    "\n",
    "1. Accepts the movies list and a specified category.\n",
    "2. Returns True if the average score of the category is higher than the average score of all movies."
   ]
  },
  {
   "cell_type": "code",
   "execution_count": 7,
   "metadata": {},
   "outputs": [
    {
     "name": "stdout",
     "output_type": "stream",
     "text": [
      "False\n",
      "True\n"
     ]
    }
   ],
   "source": [
    "# Your code here.\n",
    "def goodmovie(movies, category):\n",
    "    avg_movies = []\n",
    "    cat_avg = []\n",
    "    \n",
    "    for movie in movies:\n",
    "        avg_movies.append(movie['imdb'])\n",
    "        if movie['category'] == category:\n",
    "            cat_avg.append(movie['imdb'])\n",
    "            \n",
    "    all_movies_avg = sum(avg_movies)/len(avg_movies)\n",
    "    \n",
    "    # To avoid dividing by zero\n",
    "    if len(cat_avg) == 0:\n",
    "        return False \n",
    "    \n",
    "    \n",
    "    all_cat_avg = sum(cat_avg)/len(cat_avg)\n",
    "    \n",
    "    if all_cat_avg > all_movies_avg:\n",
    "        return True\n",
    "    else:\n",
    "        return False\n",
    "\n",
    "print(goodmovie(movies, 'Romance'))\n",
    "print(goodmovie(movies, 'Comedy'))"
   ]
  },
  {
   "cell_type": "markdown",
   "metadata": {},
   "source": [
    "---"
   ]
  },
  {
   "cell_type": "markdown",
   "metadata": {},
   "source": [
    "### 3. Creating subsets by numeric condition"
   ]
  },
  {
   "cell_type": "markdown",
   "metadata": {},
   "source": [
    "#### 3.1\n",
    "\n",
    "Write a function that:\n",
    "\n",
    "1. Accepts the list of movies and a specified imdb score.\n",
    "2. Returns the sublist of movies that have a score greater than the specified score."
   ]
  },
  {
   "cell_type": "code",
   "execution_count": 8,
   "metadata": {},
   "outputs": [
    {
     "name": "stdout",
     "output_type": "stream",
     "text": [
      "[{'name': 'Usual Suspects', 'imdb': 7.0, 'category': 'Thriller'}, {'name': 'Hitman', 'imdb': 6.3, 'category': 'Action'}, {'name': 'Dark Knight', 'imdb': 9.0, 'category': 'Adventure'}, {'name': 'The Help', 'imdb': 8.0, 'category': 'Drama'}, {'name': 'The Choice', 'imdb': 6.2, 'category': 'Romance'}, {'name': 'Colonia', 'imdb': 7.4, 'category': 'Romance'}, {'name': 'Love', 'imdb': 6.0, 'category': 'Romance'}, {'name': 'Bride Wars', 'imdb': 5.4, 'category': 'Romance'}, {'name': 'Joking muck', 'imdb': 7.2, 'category': 'Comedy'}, {'name': 'What is the name', 'imdb': 9.2, 'category': 'Suspense'}, {'name': 'Detective', 'imdb': 7.0, 'category': 'Suspense'}, {'name': 'We Two', 'imdb': 7.2, 'category': 'Romance'}]\n"
     ]
    }
   ],
   "source": [
    "# Your code here.\n",
    "def GetHigherMovieScore(movies, score):\n",
    "    h_movie_score = []\n",
    "    for movie in movies:\n",
    "        if movie['imdb'] > score:\n",
    "            h_movie_score.append(movie)\n",
    "    return h_movie_score\n",
    "\n",
    "print(GetHigherMovieScore(movies, 4.5))\n",
    "    "
   ]
  },
  {
   "cell_type": "markdown",
   "metadata": {},
   "source": [
    "#### 3.2 [Expert] \n",
    "\n",
    "Write a function that:\n",
    "\n",
    "1. Accepts the movies list as an argument.\n",
    "2. Returns the movies list sorted first by category and then by movie according to average score and individual score, respectively."
   ]
  },
  {
   "cell_type": "code",
   "execution_count": 9,
   "metadata": {
    "scrolled": false
   },
   "outputs": [
    {
     "name": "stdout",
     "output_type": "stream",
     "text": [
      "[{'name': 'Hitman', 'imdb': 6.3, 'category': 'Action', 'cat_av': 6.3}, {'name': 'Dark Knight', 'imdb': 9.0, 'category': 'Adventure', 'cat_av': 9.0}, {'name': 'Joking muck', 'imdb': 7.2, 'category': 'Comedy', 'cat_av': 7.2}, {'name': 'Ringing Crime', 'imdb': 4.0, 'category': 'Crime', 'cat_av': 4.0}, {'name': 'The Help', 'imdb': 8.0, 'category': 'Drama', 'cat_av': 8.0}, {'name': 'Colonia', 'imdb': 7.4, 'category': 'Romance', 'cat_av': 6.44}, {'name': 'We Two', 'imdb': 7.2, 'category': 'Romance', 'cat_av': 6.44}, {'name': 'The Choice', 'imdb': 6.2, 'category': 'Romance', 'cat_av': 6.44}, {'name': 'Love', 'imdb': 6.0, 'category': 'Romance', 'cat_av': 6.44}, {'name': 'Bride Wars', 'imdb': 5.4, 'category': 'Romance', 'cat_av': 6.44}, {'name': 'What is the name', 'imdb': 9.2, 'category': 'Suspense', 'cat_av': 8.1}, {'name': 'Detective', 'imdb': 7.0, 'category': 'Suspense', 'cat_av': 8.1}, {'name': 'Usual Suspects', 'imdb': 7.0, 'category': 'Thriller', 'cat_av': 5.6}, {'name': 'Exam', 'imdb': 4.2, 'category': 'Thriller', 'cat_av': 5.6}, {'name': 'AlphaJet', 'imdb': 3.2, 'category': 'War', 'cat_av': 3.2}]\n"
     ]
    }
   ],
   "source": [
    "# Your code here.\n",
    "import copy\n",
    "def SortFun(movies):\n",
    "    avg_cat_dic = {}\n",
    "    number_of_movies_in_cat = 0\n",
    "    for movie in movies:\n",
    "        cat_name = movie['category']\n",
    "        avg_cat_dic[cat_name] = 0\n",
    "        number_of_movies_in_cat = 0\n",
    "        for indi_movie in movies:\n",
    "            if cat_name == indi_movie['category']:\n",
    "                avg_cat_dic[cat_name] += indi_movie['imdb']\n",
    "                number_of_movies_in_cat +=1\n",
    "        avg_cat_dic[cat_name] = avg_cat_dic[cat_name]/number_of_movies_in_cat\n",
    "        \n",
    "    movies_withAve = copy.deepcopy(movies)\n",
    "    for movie in movies_withAve:\n",
    "        movie['cat_av'] = avg_cat_dic[movie['category']]\n",
    "    return avg_cat_dic , movies_withAve\n",
    "    \n",
    "    \n",
    "    \n",
    "def SortMovies(movies,avg_cat_dic):\n",
    "    \n",
    "    SortByCat = sorted(movies, key = lambda i: (i['imdb'] ) , reverse = True)\n",
    "    SortByCat = sorted(SortByCat, key = lambda i: (i['cat_av']))\n",
    "    SortByCat = sorted(SortByCat, key = lambda i: (i['category']))\n",
    "    print(SortByCat)        \n",
    "    \n",
    "avg_cat_dic , movies_withAve = SortFun(movies)\n",
    "SortMovies(movies_withAve,avg_cat_dic)"
   ]
  },
  {
   "cell_type": "markdown",
   "metadata": {},
   "source": [
    "---"
   ]
  },
  {
   "cell_type": "markdown",
   "metadata": {},
   "source": [
    "### 4. Creating subsets by string condition"
   ]
  },
  {
   "cell_type": "markdown",
   "metadata": {},
   "source": [
    "#### 4.1\n",
    "\n",
    "Write a function that:\n",
    "\n",
    "1. Accepts the movies list and a category name.\n",
    "2. Returns the movie names within that category (case-insensitive!)\n",
    "3. If the category is not in the data, print a message that it does not exist and return None.\n",
    "\n",
    "Recall that to convert a string to lowercase, you can use:\n",
    "\n",
    "```python\n",
    "mystring = 'Dumb and Dumber'\n",
    "lowercase_mystring = mystring.lower()\n",
    "print lowercase_mystring\n",
    "'dumb and dumber'\n",
    "```"
   ]
  },
  {
   "cell_type": "code",
   "execution_count": 10,
   "metadata": {},
   "outputs": [
    {
     "name": "stdout",
     "output_type": "stream",
     "text": [
      "['The Choice', 'Colonia', 'Love', 'Bride Wars', 'We Two']\n"
     ]
    }
   ],
   "source": [
    "# Your code here.\n",
    "def PrintMovies(movies,category):\n",
    "    \n",
    "    Mov_cat = []\n",
    "    \n",
    "    for movie in movies:\n",
    "        if movie['category'].lower() == category.lower():\n",
    "            Mov_cat.append(movie['name'])\n",
    "    if len(Mov_cat) == 0:\n",
    "        print(\"not exist\")\n",
    "    else:\n",
    "        print(Mov_cat)\n",
    "        \n",
    "PrintMovies(movies,'Romance')"
   ]
  },
  {
   "cell_type": "markdown",
   "metadata": {},
   "source": [
    "#### 4.2 [Challenge]\n",
    "\n",
    "Write a function that:\n",
    "\n",
    "1. Accepts the movies list and a \"search string\".\n",
    "2. Returns a dictionary with keys `'category'` and `'title'` whose values are lists of categories that contain the search string and titles that contain the search string, respectively (case-insensitive!)"
   ]
  },
  {
   "cell_type": "code",
   "execution_count": 11,
   "metadata": {
    "scrolled": true
   },
   "outputs": [
    {
     "name": "stdout",
     "output_type": "stream",
     "text": [
      "{'category': ['Action', 'Adventure', 'Drama', 'Romance', 'Romance', 'Romance', 'Romance', 'War', 'Romance'], 'title': ['Usual Suspects', 'Hitman', 'Dark Knight', 'Colonia', 'Bride Wars', 'AlphaJet', 'What is the name', 'Exam']}\n"
     ]
    }
   ],
   "source": [
    "# Your code here.\n",
    "def SearchMovie(movies,searchStr):\n",
    "    \n",
    "    new_mov_dict = {'category': [] , 'title':[] }\n",
    "\n",
    "    for movie in movies:\n",
    "        findincat = movie['category'].lower().find(searchStr.lower())\n",
    "        findinName = movie['name'].lower().find(searchStr.lower())\n",
    "        if findincat != -1:\n",
    "                 new_mov_dict['category'].append(movie['category'])\n",
    "        if findinName != -1 :      \n",
    "                new_mov_dict['title'].append(movie['name'])\n",
    "                \n",
    "    return new_mov_dict\n",
    "\n",
    "\n",
    "\n",
    "print(SearchMovie(movies,'A'))"
   ]
  },
  {
   "cell_type": "markdown",
   "metadata": {},
   "source": [
    "---"
   ]
  },
  {
   "cell_type": "markdown",
   "metadata": {},
   "source": [
    "### Multiple conditions"
   ]
  },
  {
   "cell_type": "markdown",
   "metadata": {},
   "source": [
    "#### 5.1\n",
    "\n",
    "Write a function that:\n",
    "\n",
    "1. Accepts the movies list and a \"search criteria\" variable.\n",
    "2. If the criteria variable is numeric, return a list of movie titles with a score greater than or equal to the criteria.\n",
    "3. If the criteria variable is a string, return a list of movie titles that match that category (case-insensitive!). If there is no match, return an empty list and print an informative message."
   ]
  },
  {
   "cell_type": "code",
   "execution_count": 12,
   "metadata": {},
   "outputs": [
    {
     "name": "stdout",
     "output_type": "stream",
     "text": [
      "['What is the name', 'Detective']\n"
     ]
    }
   ],
   "source": [
    "# Your code here.\n",
    "def SearchCriteria(movies,Criteria):\n",
    "    movieslist = []\n",
    "    if type(Criteria) == int:\n",
    "        for movie in movies:\n",
    "            name, imdb, category = movie.items()\n",
    "            if imdb[1] >= Criteria:\n",
    "                movieslist.append(name[1])\n",
    "    else:\n",
    "        for movie in movies:\n",
    "            name, imdb, category = movie.items()\n",
    "            if category[1] == Criteria.capitalize():\n",
    "                movieslist.append(name[1])\n",
    "    return movieslist\n",
    "print(SearchCriteria(movies,'Suspense'))"
   ]
  },
  {
   "cell_type": "markdown",
   "metadata": {},
   "source": [
    "#### 5.2 [Expert]\n",
    "\n",
    "Write a function that:\n",
    "\n",
    "1. Accepts the movies list and a string search criteria variable.\n",
    "2. The search criteria variable must contain within it:\n",
    "  - ONE Boolean operation: `'AND'`, `'OR'`, and `'NOT'` (can have/be lowercase as well, I just capitalized for clarity).\n",
    "  - Search criteria specified with syntax `score=...`, `category=...`, and/or `name=...`, where the `...` indicates what to look for.\n",
    "    - If `score` is present, it means scores greater than or equal to the value.\n",
    "    - For `category` and `name`, the string indicates that the category or name must _contain_ the search string (case-insensitive).\n",
    "    - Example: \n",
    "        ```'imdb=7.0 NOT category=suspense'```\n",
    "3. Return the matches for the search criteria specified."
   ]
  },
  {
   "cell_type": "code",
   "execution_count": 26,
   "metadata": {
    "scrolled": true
   },
   "outputs": [
    {
     "name": "stdout",
     "output_type": "stream",
     "text": [
      "{'name': 'Usual Suspects', 'imdb': 7.0, 'category': 'Thriller'}\n",
      "{'name': 'Dark Knight', 'imdb': 9.0, 'category': 'Adventure'}\n",
      "{'name': 'The Help', 'imdb': 8.0, 'category': 'Drama'}\n",
      "{'name': 'Colonia', 'imdb': 7.4, 'category': 'Romance'}\n",
      "{'name': 'Joking muck', 'imdb': 7.2, 'category': 'Comedy'}\n",
      "{'name': 'We Two', 'imdb': 7.2, 'category': 'Romance'}\n"
     ]
    }
   ],
   "source": [
    "# Your code here.\n",
    "def GetReady(movies,criteria):\n",
    "    criteria_splited = criteria.split(' ')\n",
    "    score_index = criteria_splited[0].find('.')\n",
    "    score = float(criteria_splited[0][score_index-1:])\n",
    "    op = criteria_splited[0][score_index-2:score_index-1]\n",
    "    Lop = criteria_splited[1]\n",
    "    indexOf2eql = criteria.rfind('=')\n",
    "    indexofname = criteria.find('name') \n",
    "    category = criteria[indexOf2eql+1:]\n",
    "    SearchFun(movies,category,score,op,Lop)\n",
    "\n",
    "def SearchFun(movies,sercategory,score,op,Lop):\n",
    "    for movie in movies:\n",
    "        name, imdb, category = movie.items()\n",
    "        SearchWithoutname(imdb[1],category[1],sercategory,score,op,Lop,movie)\n",
    "\n",
    "\n",
    "            \n",
    "def SearchWithoutname(imdb,category,sercategory,score,op,Lop,movie):\n",
    "        if Lop.lower() == 'not':\n",
    "               if imdb >= score and not (sercategory.capitalize() == category):\n",
    "                    print(movie)              \n",
    "                        \n",
    "        if Lop.lower() == 'or':     \n",
    "                if imdb >= score or (sercategory.capitalize() == category):\n",
    "                    print(movie)\n",
    " \n",
    "        if Lop.lower() == 'and':\n",
    "                if imdb >= score and not (sercategory.capitalize() == category):\n",
    "                    print(movie)\n",
    "                    \n",
    "\n",
    "GetReady(movies,'imdb=7.0 NOT category=Suspense')"
   ]
  },
  {
   "cell_type": "markdown",
   "metadata": {},
   "source": [
    "#### 5.2 Continued:\n",
    "\n",
    "Once you're happy with your function for the boolean search, continue to develop it! Can you adapt it so that it takes three or more different conditions instead of just two? How about if someone doesn't want to use and/or/not, and just puts in a single condition?"
   ]
  },
  {
   "cell_type": "code",
   "execution_count": 67,
   "metadata": {},
   "outputs": [
    {
     "name": "stdout",
     "output_type": "stream",
     "text": [
      "{'name': 'Usual Suspects', 'imdb': 7.0, 'category': 'Thriller'}\n",
      "{'name': 'Dark Knight', 'imdb': 9.0, 'category': 'Adventure'}\n",
      "{'name': 'The Help', 'imdb': 8.0, 'category': 'Drama'}\n",
      "{'name': 'The Choice', 'imdb': 6.2, 'category': 'Romance'}\n",
      "{'name': 'Colonia', 'imdb': 7.4, 'category': 'Romance'}\n",
      "{'name': 'Love', 'imdb': 6.0, 'category': 'Romance'}\n",
      "{'name': 'Bride Wars', 'imdb': 5.4, 'category': 'Romance'}\n",
      "{'name': 'AlphaJet', 'imdb': 3.2, 'category': 'War'}\n",
      "{'name': 'Ringing Crime', 'imdb': 4.0, 'category': 'Crime'}\n",
      "{'name': 'Joking muck', 'imdb': 7.2, 'category': 'Comedy'}\n",
      "{'name': 'What is the name', 'imdb': 9.2, 'category': 'Suspense'}\n",
      "{'name': 'Detective', 'imdb': 7.0, 'category': 'Suspense'}\n",
      "{'name': 'Exam', 'imdb': 4.2, 'category': 'Thriller'}\n",
      "{'name': 'We Two', 'imdb': 7.2, 'category': 'Romance'}\n"
     ]
    }
   ],
   "source": [
    "def GetReadyDev(movies,criteria):\n",
    "    findname = 1 if criteria.find('name')  >= 1  else -1\n",
    "    findcat = 1 if criteria.find('category') >= 1  else -1       \n",
    "    findsoc = 1 if criteria.find('imdb')  >= 1  else -1\n",
    "    \n",
    "    if((findname+findcat+findsoc) > 1):\n",
    "        criteria_splited = criteria.split(' ')\n",
    "        score_index = criteria_splited[0].find('.')\n",
    "        score = float(criteria_splited[0][score_index-1:])\n",
    "        op = criteria_splited[0][score_index-2:score_index-1]\n",
    "        Lop = criteria_splited[1]\n",
    "        indexOf2eql = criteria.rfind('=')\n",
    "        indexofname = criteria.find('name') \n",
    "        category = criteria[indexOf2eql+1:]\n",
    "        SearchFun(movies,category,score,op,Lop)\n",
    "    else:\n",
    "        criteria_splited = criteria.split(' ')\n",
    "        Lop = criteria_splited[0]\n",
    "        indexOf2eql = criteria.rfind('=')\n",
    "        condition = criteria[indexOf2eql+1:]\n",
    "        conditionType = criteria[len(criteria_splited[0])+1:indexOf2eql]\n",
    "        SearchSingleCondition(movies,Lop,condition,conditionType)\n",
    "        \n",
    "def SearchSingleCondition(movies,Lop,condition,conditionType):\n",
    "    for movie in movies:\n",
    "        name, imdb, category = movie.items()\n",
    "        if conditionType == 'category' :\n",
    "            if condition.capitalize() != category[1]:\n",
    "                print(movie) \n",
    "        elif conditionType == 'name':\n",
    "            if condition.capitalize() != name[1]:\n",
    "                print(movie) \n",
    "        elif imdb[1] >= score:\n",
    "                print(movie)              \n",
    "                              \n",
    "    \n",
    "\n",
    "GetReadyDev(movies,'NOT name=Hitman')"
   ]
  },
  {
   "cell_type": "code",
   "execution_count": null,
   "metadata": {},
   "outputs": [],
   "source": []
  }
 ],
 "metadata": {
  "anaconda-cloud": {},
  "kernelspec": {
   "display_name": "Python 3",
   "language": "python",
   "name": "python3"
  },
  "language_info": {
   "codemirror_mode": {
    "name": "ipython",
    "version": 3
   },
   "file_extension": ".py",
   "mimetype": "text/x-python",
   "name": "python",
   "nbconvert_exporter": "python",
   "pygments_lexer": "ipython3",
   "version": "3.6.5"
  },
  "toc": {
   "nav_menu": {},
   "number_sections": false,
   "sideBar": true,
   "skip_h1_title": true,
   "title_cell": "Table of Contents",
   "title_sidebar": "Contents",
   "toc_cell": false,
   "toc_position": {},
   "toc_section_display": "block",
   "toc_window_display": false
  },
  "varInspector": {
   "cols": {
    "lenName": 16,
    "lenType": 16,
    "lenVar": 40
   },
   "kernels_config": {
    "python": {
     "delete_cmd_postfix": "",
     "delete_cmd_prefix": "del ",
     "library": "var_list.py",
     "varRefreshCmd": "print(var_dic_list())"
    },
    "r": {
     "delete_cmd_postfix": ") ",
     "delete_cmd_prefix": "rm(",
     "library": "var_list.r",
     "varRefreshCmd": "cat(var_dic_list()) "
    }
   },
   "types_to_exclude": [
    "module",
    "function",
    "builtin_function_or_method",
    "instance",
    "_Feature"
   ],
   "window_display": false
  }
 },
 "nbformat": 4,
 "nbformat_minor": 1
}
