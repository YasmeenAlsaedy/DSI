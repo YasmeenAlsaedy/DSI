{
 "cells": [
  {
   "cell_type": "code",
   "execution_count": 2,
   "metadata": {},
   "outputs": [],
   "source": [
    "import pandas as pd\n",
    "import numpy as np\n",
    "import matplotlib.pyplot as plt\n",
    "import seaborn as sns\n",
    " \n",
    "plt.style.use('fivethirtyeight')\n",
    "\n",
    "%config InlineBackend.figure_format = 'retina'\n",
    "%matplotlib inline"
   ]
  },
  {
   "cell_type": "code",
   "execution_count": 25,
   "metadata": {},
   "outputs": [],
   "source": [
    "makeup_df = pd.read_csv('products.csv')"
   ]
  },
  {
   "cell_type": "code",
   "execution_count": 30,
   "metadata": {
    "scrolled": true
   },
   "outputs": [
    {
     "data": {
      "text/html": [
       "<div>\n",
       "<style scoped>\n",
       "    .dataframe tbody tr th:only-of-type {\n",
       "        vertical-align: middle;\n",
       "    }\n",
       "\n",
       "    .dataframe tbody tr th {\n",
       "        vertical-align: top;\n",
       "    }\n",
       "\n",
       "    .dataframe thead th {\n",
       "        text-align: right;\n",
       "    }\n",
       "</style>\n",
       "<table border=\"1\" class=\"dataframe\">\n",
       "  <thead>\n",
       "    <tr style=\"text-align: right;\">\n",
       "      <th></th>\n",
       "      <th>ID</th>\n",
       "      <th>brand</th>\n",
       "      <th>name</th>\n",
       "      <th>product_type</th>\n",
       "      <th>img</th>\n",
       "      <th>rating</th>\n",
       "      <th>dupes</th>\n",
       "      <th>description</th>\n",
       "      <th>shade_img</th>\n",
       "      <th>price_site</th>\n",
       "      <th>view_count</th>\n",
       "    </tr>\n",
       "  </thead>\n",
       "  <tbody>\n",
       "    <tr>\n",
       "      <th>0</th>\n",
       "      <td>1</td>\n",
       "      <td>Butter London</td>\n",
       "      <td>Handbag Holiday Cutile Oil</td>\n",
       "      <td>\\nTreatment\\n</td>\n",
       "      <td>NaN</td>\n",
       "      <td>NaN</td>\n",
       "      <td>NaN</td>\n",
       "      <td>With added vitamins A and E, this heavenly-sme...</td>\n",
       "      <td>NaN</td>\n",
       "      <td>NaN</td>\n",
       "      <td>0</td>\n",
       "    </tr>\n",
       "    <tr>\n",
       "      <th>1</th>\n",
       "      <td>2</td>\n",
       "      <td>Butter London</td>\n",
       "      <td>LIPPY</td>\n",
       "      <td>\\nLipgloss\\n</td>\n",
       "      <td>NaN</td>\n",
       "      <td>NaN</td>\n",
       "      <td>NaN</td>\n",
       "      <td>Lippy: British slang for someone who makes imp...</td>\n",
       "      <td>[{\"shade\":\"Come to Bed Red\",\"img\":\"https://www...</td>\n",
       "      <td>NaN</td>\n",
       "      <td>0</td>\n",
       "    </tr>\n",
       "    <tr>\n",
       "      <th>2</th>\n",
       "      <td>3</td>\n",
       "      <td>Butter London</td>\n",
       "      <td>Hardwear P.D. Quick Top Coat</td>\n",
       "      <td>\\nTop Coat\\n</td>\n",
       "      <td>NaN</td>\n",
       "      <td>NaN</td>\n",
       "      <td>NaN</td>\n",
       "      <td>Lock your lacquer. butter LONDON's quick-dry, ...</td>\n",
       "      <td>NaN</td>\n",
       "      <td>NaN</td>\n",
       "      <td>0</td>\n",
       "    </tr>\n",
       "    <tr>\n",
       "      <th>3</th>\n",
       "      <td>4</td>\n",
       "      <td>Butter London</td>\n",
       "      <td>Horse Power Nail Fertilizer</td>\n",
       "      <td>\\nTreatment\\n</td>\n",
       "      <td>NaN</td>\n",
       "      <td>NaN</td>\n",
       "      <td>NaN</td>\n",
       "      <td>Reap what you sow. butter LONDON's Nail Fertil...</td>\n",
       "      <td>NaN</td>\n",
       "      <td>NaN</td>\n",
       "      <td>0</td>\n",
       "    </tr>\n",
       "    <tr>\n",
       "      <th>4</th>\n",
       "      <td>5</td>\n",
       "      <td>Butter London</td>\n",
       "      <td>Kitten Heels Powder Finish Foot Creme</td>\n",
       "      <td>\\nCream\\n</td>\n",
       "      <td>NaN</td>\n",
       "      <td>NaN</td>\n",
       "      <td>NaN</td>\n",
       "      <td>Kitten Heels, our miraculous Powder Finish Foo...</td>\n",
       "      <td>NaN</td>\n",
       "      <td>NaN</td>\n",
       "      <td>0</td>\n",
       "    </tr>\n",
       "  </tbody>\n",
       "</table>\n",
       "</div>"
      ],
      "text/plain": [
       "   ID          brand                                   name   product_type  \\\n",
       "0   1  Butter London             Handbag Holiday Cutile Oil  \\nTreatment\\n   \n",
       "1   2  Butter London                                  LIPPY   \\nLipgloss\\n   \n",
       "2   3  Butter London           Hardwear P.D. Quick Top Coat   \\nTop Coat\\n   \n",
       "3   4  Butter London            Horse Power Nail Fertilizer  \\nTreatment\\n   \n",
       "4   5  Butter London  Kitten Heels Powder Finish Foot Creme      \\nCream\\n   \n",
       "\n",
       "   img  rating  dupes                                        description  \\\n",
       "0  NaN     NaN    NaN  With added vitamins A and E, this heavenly-sme...   \n",
       "1  NaN     NaN    NaN  Lippy: British slang for someone who makes imp...   \n",
       "2  NaN     NaN    NaN  Lock your lacquer. butter LONDON's quick-dry, ...   \n",
       "3  NaN     NaN    NaN  Reap what you sow. butter LONDON's Nail Fertil...   \n",
       "4  NaN     NaN    NaN  Kitten Heels, our miraculous Powder Finish Foo...   \n",
       "\n",
       "                                           shade_img price_site  view_count  \n",
       "0                                                NaN        NaN           0  \n",
       "1  [{\"shade\":\"Come to Bed Red\",\"img\":\"https://www...        NaN           0  \n",
       "2                                                NaN        NaN           0  \n",
       "3                                                NaN        NaN           0  \n",
       "4                                                NaN        NaN           0  "
      ]
     },
     "execution_count": 30,
     "metadata": {},
     "output_type": "execute_result"
    }
   ],
   "source": [
    "makeup_df.head()"
   ]
  },
  {
   "cell_type": "code",
   "execution_count": 7,
   "metadata": {},
   "outputs": [],
   "source": [
    "import Algorithmia"
   ]
  },
  {
   "cell_type": "code",
   "execution_count": 12,
   "metadata": {},
   "outputs": [
    {
     "name": "stdout",
     "output_type": "stream",
     "text": [
      "[[210, 255, 171, 232, 149, 218]]\n"
     ]
    }
   ],
   "source": [
    "\n",
    "pic_url = \"http://images.wisegeek.com/triangular-face.jpg\"\n",
    "client = Algorithmia.client('sim0HqhUAlxoBtSrT/707vjPfHC1')\n",
    "algo = client.algo('opencv/SkinColorDetection/0.1.19')\n",
    "# red_min, red_max, green_min, green_max, blue_min, blue_max; \n",
    "skinColor = algo.pipe(pic_url).result\n",
    "print(algo.pipe(pic_url).result)"
   ]
  },
  {
   "cell_type": "code",
   "execution_count": 15,
   "metadata": {
    "scrolled": true
   },
   "outputs": [
    {
     "data": {
      "text/plain": [
       "[210, 255, 171, 232, 149, 218]"
      ]
     },
     "execution_count": 15,
     "metadata": {},
     "output_type": "execute_result"
    }
   ],
   "source": [
    "skinColor[0]"
   ]
  },
  {
   "cell_type": "code",
   "execution_count": null,
   "metadata": {},
   "outputs": [],
   "source": []
  }
 ],
 "metadata": {
  "kernelspec": {
   "display_name": "Python 3",
   "language": "python",
   "name": "python3"
  },
  "language_info": {
   "codemirror_mode": {
    "name": "ipython",
    "version": 3
   },
   "file_extension": ".py",
   "mimetype": "text/x-python",
   "name": "python",
   "nbconvert_exporter": "python",
   "pygments_lexer": "ipython3",
   "version": "3.7.1"
  }
 },
 "nbformat": 4,
 "nbformat_minor": 2
}
