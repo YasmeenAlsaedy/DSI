{
 "cells": [
  {
   "cell_type": "code",
   "execution_count": 1,
   "metadata": {},
   "outputs": [],
   "source": [
    "import requests\n",
    "import bs4\n",
    "from bs4 import BeautifulSoup\n",
    "import pandas as pd\n",
    "from time import sleep"
   ]
  },
  {
   "cell_type": "code",
   "execution_count": 2,
   "metadata": {},
   "outputs": [],
   "source": [
    "foundations_url = 'https://www.sephora.com/shop/foundation-makeup'"
   ]
  },
  {
   "cell_type": "code",
   "execution_count": 3,
   "metadata": {
    "scrolled": false
   },
   "outputs": [],
   "source": [
    "grids = []\n",
    "\n",
    "for pagenum in range(1,21):\n",
    "    page = BeautifulSoup(requests.get((foundations_url+'?currentPage={}&pageSize=12').format(pagenum)).content, 'html.parser')\n",
    "    grids.append(page.find('div', {'data-comp':'ProductGrid'}))\n",
    "    "
   ]
  },
  {
   "cell_type": "code",
   "execution_count": 20,
   "metadata": {},
   "outputs": [],
   "source": [
    "foundation_info = pd.DataFrame(columns=['foundation_name', 'link', 'Brand', 'price', 'colors', 'rank'])"
   ]
  },
  {
   "cell_type": "code",
   "execution_count": 21,
   "metadata": {
    "scrolled": true
   },
   "outputs": [],
   "source": [
    "#Get the\n",
    "for grid in grids:\n",
    "    for row in grid.find_all('div', {'class':\"css-dkxsdo\"}):\n",
    "        for product in row.find_all('a', {'class':\"css-ix8km1\"}):\n",
    "            if product:\n",
    "                foundation_name = product.find('span',{'data-at':'sku_item_name'}).text\n",
    "\n",
    "                rank = product.find('div', {'class':\"css-1pjru6n\"}).attrs['style']\n",
    "\n",
    "                try:\n",
    "                    colors = product.find('div', {'class':'css-rrjz1n'}).text\n",
    "                except:\n",
    "                     colors = None\n",
    "                space_index = product.attrs['href'].index(' ')\n",
    "\n",
    "                try:\n",
    "                    price = product.find('span', {'class':'css-0'}).text\n",
    "                except:\n",
    "                    price = product.find('span', {'class':'css-1qdampm'}).text\n",
    "\n",
    "                brand = product.find('span', {'class':'css-ktoumz OneLinkNoTx'}).text\n",
    "\n",
    "                link = ('https://www.sephora.com' + product.attrs['href'][:space_index])\n",
    "\n",
    "                foundation_info.loc[len(foundation_info)] = [foundation_name, link, brand, price, colors, rank]\n",
    "            "
   ]
  },
  {
   "cell_type": "code",
   "execution_count": 22,
   "metadata": {
    "scrolled": false
   },
   "outputs": [
    {
     "data": {
      "text/plain": [
       "230"
      ]
     },
     "execution_count": 22,
     "metadata": {},
     "output_type": "execute_result"
    }
   ],
   "source": [
    "len(foundation_info)\n"
   ]
  },
  {
   "cell_type": "code",
   "execution_count": 26,
   "metadata": {
    "scrolled": false
   },
   "outputs": [
    {
     "data": {
      "text/html": [
       "<div>\n",
       "<style scoped>\n",
       "    .dataframe tbody tr th:only-of-type {\n",
       "        vertical-align: middle;\n",
       "    }\n",
       "\n",
       "    .dataframe tbody tr th {\n",
       "        vertical-align: top;\n",
       "    }\n",
       "\n",
       "    .dataframe thead th {\n",
       "        text-align: right;\n",
       "    }\n",
       "</style>\n",
       "<table border=\"1\" class=\"dataframe\">\n",
       "  <thead>\n",
       "    <tr style=\"text-align: right;\">\n",
       "      <th></th>\n",
       "      <th>foundation_name</th>\n",
       "      <th>link</th>\n",
       "      <th>Brand</th>\n",
       "      <th>price</th>\n",
       "      <th>colors</th>\n",
       "      <th>rank</th>\n",
       "    </tr>\n",
       "  </thead>\n",
       "  <tbody>\n",
       "    <tr>\n",
       "      <th>0</th>\n",
       "      <td>Pro Filt'r Soft Matte Longwear Foundation</td>\n",
       "      <td>https://www.sephora.com/product/pro-filtr-soft...</td>\n",
       "      <td>FENTY BEAUTY by Rihanna</td>\n",
       "      <td>$34.00</td>\n",
       "      <td>49 more colors</td>\n",
       "      <td>width:81.986%</td>\n",
       "    </tr>\n",
       "    <tr>\n",
       "      <th>1</th>\n",
       "      <td>Double Wear Stay-in-Place Foundation</td>\n",
       "      <td>https://www.sephora.com/product/double-wear-st...</td>\n",
       "      <td>Estée Lauder</td>\n",
       "      <td>$42.00</td>\n",
       "      <td>55 more colors</td>\n",
       "      <td>width:88.848%</td>\n",
       "    </tr>\n",
       "    <tr>\n",
       "      <th>2</th>\n",
       "      <td>Ultra HD Invisible Cover Foundation</td>\n",
       "      <td>https://www.sephora.com/product/ultra-hd-invis...</td>\n",
       "      <td>MAKE UP FOR EVER</td>\n",
       "      <td>$19.00 - $43.00</td>\n",
       "      <td>40 more colors</td>\n",
       "      <td>width:78.78999999999999%</td>\n",
       "    </tr>\n",
       "    <tr>\n",
       "      <th>3</th>\n",
       "      <td>Luminous Silk Foundation</td>\n",
       "      <td>https://www.sephora.com/product/luminous-silk-...</td>\n",
       "      <td>Giorgio Armani Beauty</td>\n",
       "      <td>$42.00 - $64.00</td>\n",
       "      <td>43 more colors</td>\n",
       "      <td>width:85.74199999999999%</td>\n",
       "    </tr>\n",
       "    <tr>\n",
       "      <th>4</th>\n",
       "      <td>Your Skin But Better™ CC+™ Cream with SPF 50+</td>\n",
       "      <td>https://www.sephora.com/product/your-skin-but-...</td>\n",
       "      <td>IT Cosmetics</td>\n",
       "      <td>$15.00 - $38.00</td>\n",
       "      <td>13 more colors</td>\n",
       "      <td>width:81.32%</td>\n",
       "    </tr>\n",
       "  </tbody>\n",
       "</table>\n",
       "</div>"
      ],
      "text/plain": [
       "                                 foundation_name  \\\n",
       "0      Pro Filt'r Soft Matte Longwear Foundation   \n",
       "1           Double Wear Stay-in-Place Foundation   \n",
       "2            Ultra HD Invisible Cover Foundation   \n",
       "3                       Luminous Silk Foundation   \n",
       "4  Your Skin But Better™ CC+™ Cream with SPF 50+   \n",
       "\n",
       "                                                link                    Brand  \\\n",
       "0  https://www.sephora.com/product/pro-filtr-soft...  FENTY BEAUTY by Rihanna   \n",
       "1  https://www.sephora.com/product/double-wear-st...             Estée Lauder   \n",
       "2  https://www.sephora.com/product/ultra-hd-invis...         MAKE UP FOR EVER   \n",
       "3  https://www.sephora.com/product/luminous-silk-...    Giorgio Armani Beauty   \n",
       "4  https://www.sephora.com/product/your-skin-but-...             IT Cosmetics   \n",
       "\n",
       "             price          colors                      rank  \n",
       "0           $34.00  49 more colors             width:81.986%  \n",
       "1           $42.00  55 more colors             width:88.848%  \n",
       "2  $19.00 - $43.00  40 more colors  width:78.78999999999999%  \n",
       "3  $42.00 - $64.00  43 more colors  width:85.74199999999999%  \n",
       "4  $15.00 - $38.00  13 more colors              width:81.32%  "
      ]
     },
     "execution_count": 26,
     "metadata": {},
     "output_type": "execute_result"
    }
   ],
   "source": [
    "foundation_info.head()"
   ]
  },
  {
   "cell_type": "code",
   "execution_count": 27,
   "metadata": {},
   "outputs": [],
   "source": [
    "foundation_info.to_csv('Foundation_info.csv')"
   ]
  },
  {
   "cell_type": "code",
   "execution_count": 18,
   "metadata": {},
   "outputs": [],
   "source": [
    "fondation_info['rank'] = fondation_info['rank'].str.replace('width:', '')\n",
    "fondation_info['rank'] = fondation_info['rank'].str.replace('%', '')"
   ]
  },
  {
   "cell_type": "code",
   "execution_count": null,
   "metadata": {},
   "outputs": [],
   "source": []
  }
 ],
 "metadata": {
  "kernelspec": {
   "display_name": "Python 3",
   "language": "python",
   "name": "python3"
  },
  "language_info": {
   "codemirror_mode": {
    "name": "ipython",
    "version": 3
   },
   "file_extension": ".py",
   "mimetype": "text/x-python",
   "name": "python",
   "nbconvert_exporter": "python",
   "pygments_lexer": "ipython3",
   "version": "3.7.1"
  }
 },
 "nbformat": 4,
 "nbformat_minor": 2
}
