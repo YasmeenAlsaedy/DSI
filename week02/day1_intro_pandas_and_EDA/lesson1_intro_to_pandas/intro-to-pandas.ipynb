{
 "cells": [
  {
   "cell_type": "markdown",
   "metadata": {
    "nbpresent": {
     "id": "3433c1f4-195d-4a6b-8ad6-961d54c4c96d"
    },
    "slideshow": {
     "slide_type": "slide"
    }
   },
   "source": [
    "<img src=\"http://imgur.com/1ZcRyrc.png\" style=\"float: left; margin: 20px; height: 55px\">\n",
    "\n",
    "\n",
    "# Introduction to Pandas\n",
    "\n",
    "\n",
    "*Instructor: Aymeric Flaisler*\n",
    "___\n",
    "\n",
    "Pandas is the most popular Python package for managing data sets. It's used extensively by data scientists.\n",
    "\n",
    "### Learning Objectives\n",
    "\n",
    "- Define the anatomy of DataFrames.\n",
    "- Explore data with DataFrames.\n",
    "- Practice plotting with pandas."
   ]
  },
  {
   "cell_type": "markdown",
   "metadata": {
    "slideshow": {
     "slide_type": "slide"
    }
   },
   "source": [
    "### Lesson Guide\n",
    "\n",
    "- [Introduction to `pandas`](#introduction)\n",
    "- [Loading CSV Files](#loading_csvs)\n",
    "- [Exploring Your Data](#exploring_data)\n",
    "- [Data Dimensions](#data_dimensions)\n",
    "- [DataFrames vs. Series](#dataframe_series)\n",
    "- [Using the `.info()` Function](#info)\n",
    "- [Using the `.describe()` Function](#describe)\n",
    "- [Independent Practice](#independent_practice)\n",
    "- [Pandas Indexing](#indexing)\n",
    "- [Creating DataFrames](#creating_dataframes)\n",
    "- [Checking Data Types](#dtypes)\n",
    "- [Renaming and Assignment](#renaming_assignment)\n",
    "- [Basic `pandas` Plotting](#basic_plotting)\n",
    "- [Logical Filtering](#filtering)\n",
    "- [Review](#review)"
   ]
  },
  {
   "cell_type": "markdown",
   "metadata": {
    "slideshow": {
     "slide_type": "slide"
    }
   },
   "source": [
    "<a id='introduction'></a>\n",
    "\n",
    "### What is a dataframe?\n",
    "\n",
    "---\n",
    "The concept of a \"dataframe\" comes from the world of statistical software used in empirical research; \n",
    "- Generally refers to \"tabular\" data: a data structure representing cases (rows), each of which consists of a number of observations or measurements (columns)\n",
    "- **Each row** is treated as a **single observation** of **multiple \"variables\"** \n",
    "- The row (\"record\") datatype can be **heterogenous** (a tuple of different types) \n",
    "- The column datatype must be **homogenous**. \n",
    "- Data frames usually contain some **metadata** in addition to **data**; for example, column and row names (unlike Numpy by default)"
   ]
  },
  {
   "cell_type": "markdown",
   "metadata": {
    "slideshow": {
     "slide_type": "slide"
    }
   },
   "source": [
    "<a id='introduction'></a>\n",
    "\n",
    "### What is `pandas`?\n",
    "\n",
    "---\n",
    "\n",
    "- A data analysis library — **P**anel **D**ata **S**ystem.\n",
    "- It was created by Wes McKinney and open sourced by AQR Capital Management, LLC in 2009.\n",
    "- It's implemented in highly optimized Python/Cython.\n",
    "- It's the **most ubiquitous tool** used to start data analysis projects within the Python scientific ecosystem.\n"
   ]
  },
  {
   "cell_type": "markdown",
   "metadata": {
    "slideshow": {
     "slide_type": "slide"
    }
   },
   "source": [
    "### Pandas Use Cases\n",
    "\n",
    "---\n",
    "\n",
    "- Cleaning data/munging.\n",
    "- Exploratory analysis.\n",
    "- Structuring data for plots or tabular display.\n",
    "- Joining disparate sources.\n",
    "- Modeling.\n",
    "- Filtering, extracting, or transforming. \n"
   ]
  },
  {
   "cell_type": "markdown",
   "metadata": {
    "slideshow": {
     "slide_type": "slide"
    }
   },
   "source": [
    "![](https://snag.gy/tpiLCH.jpg)"
   ]
  },
  {
   "cell_type": "markdown",
   "metadata": {
    "slideshow": {
     "slide_type": "slide"
    }
   },
   "source": [
    "![](https://snag.gy/1V0Ol4.jpg)"
   ]
  },
  {
   "cell_type": "markdown",
   "metadata": {
    "slideshow": {
     "slide_type": "subslide"
    }
   },
   "source": [
    "### Common Outputs\n",
    "\n",
    "---\n",
    "\n",
    "With `pandas` you can:\n",
    "\n",
    "- Export to databases\n",
    "- Integrate with `matplotlib`\n",
    "- Collaborate in common formats (plus a variety of others)\n",
    "- Integrate with Python built-ins (**and `numpy`!**)\n"
   ]
  },
  {
   "cell_type": "markdown",
   "metadata": {
    "nbpresent": {
     "id": "2114073e-4f4f-48bf-9dc8-890433270e90"
    },
    "slideshow": {
     "slide_type": "slide"
    }
   },
   "source": [
    "### Importing `pandas`\n",
    "\n",
    "---\n",
    "\n",
    "Import `pandas` at the top of your notebook like so:"
   ]
  },
  {
   "cell_type": "code",
<<<<<<< HEAD
   "execution_count": 1,
=======
   "execution_count": 6,
>>>>>>> 0ef2d8a6ba02da0bd84c6ca245544a1501dfc451
   "metadata": {
    "nbpresent": {
     "id": "37d682c1-2ae6-4c1d-8d54-1e7272ccfcef"
    },
    "slideshow": {
     "slide_type": "-"
    }
   },
   "outputs": [],
   "source": [
    "import pandas as pd\n",
    "import numpy as np"
   ]
  },
  {
   "cell_type": "markdown",
   "metadata": {
    "nbpresent": {
     "id": "e9917673-4eb8-403d-95ba-3068360f3dcd"
    },
    "slideshow": {
     "slide_type": "fragment"
    }
   },
   "source": [
    "Recall that the **`import pandas as pd`** syntax nicknames the `pandas` module as **`pd`** for convenience."
   ]
  },
  {
   "cell_type": "markdown",
   "metadata": {
    "nbpresent": {
     "id": "b29851ac-daa2-46fb-90f0-125e0c4683e1"
    },
    "slideshow": {
     "slide_type": "slide"
    }
   },
   "source": [
    "<a id='loading_csvs'></a>\n",
    "\n",
    "### Loading a CSV into a DataFrame\n",
    "\n",
    "---\n",
    "\n",
    "`pandas` can load many types of files, but one of the most commonly used for storing data is a ```.csv```. As an example, let's load a data set on drug use by age from the ```./datasets``` directory:"
   ]
  },
  {
   "cell_type": "code",
<<<<<<< HEAD
   "execution_count": 2,
=======
   "execution_count": 7,
>>>>>>> 0ef2d8a6ba02da0bd84c6ca245544a1501dfc451
   "metadata": {
    "nbpresent": {
     "id": "7e4ab5c8-5104-4004-9cd3-e781101e8703"
    },
    "slideshow": {
     "slide_type": "-"
    }
   },
   "outputs": [],
   "source": [
    "drug = pd.read_csv('./datasets/drug-use-by-age.csv')"
   ]
  },
  {
   "cell_type": "markdown",
   "metadata": {
    "nbpresent": {
     "id": "7c254479-e114-4b53-bb64-d9d5783d69ab"
    },
    "slideshow": {
     "slide_type": "fragment"
    }
   },
   "source": [
    "This creates a `pandas` object called a **DataFrame**. DataFrames are powerful containers, featuring many built-in functions for exploring and manipulating data.\n",
    "\n",
    "We will barely scratch the surface of DataFrame functionality in this lesson, but, throughout this course, you will become an expert at using them.\n",
    "\n",
    "In short, a dataframe is a supercharged 2D array:\n",
    "    - it has the data\n",
    "    - it has information about it (meta-data - like columns names, etc...)"
   ]
  },
  {
   "cell_type": "markdown",
   "metadata": {
    "nbpresent": {
     "id": "b44c04a3-0bd8-4961-a930-092e872469d0"
    },
    "slideshow": {
     "slide_type": "slide"
    }
   },
   "source": [
    "<a id='exploring_data'></a>\n",
    "\n",
    "### Exploring Data using DataFrames\n",
    "\n",
    "---\n",
    "\n",
    "DataFrames come with built-in functionality that makes data exploration easy. \n",
    "\n",
    "To start, let's look at the **\"header\"** of your data using the ```.head()``` function. If run alone in a notebook cell, it will show you the first handful of columns in the data set, along with the first five rows."
   ]
  },
  {
   "cell_type": "code",
<<<<<<< HEAD
   "execution_count": 3,
=======
   "execution_count": 8,
>>>>>>> 0ef2d8a6ba02da0bd84c6ca245544a1501dfc451
   "metadata": {
    "nbpresent": {
     "id": "f332b800-d5b7-4ee9-8d36-77ecd7c4465c"
    },
    "slideshow": {
     "slide_type": "fragment"
    }
   },
   "outputs": [
    {
     "data": {
      "text/html": [
       "<div>\n",
       "<style scoped>\n",
       "    .dataframe tbody tr th:only-of-type {\n",
       "        vertical-align: middle;\n",
       "    }\n",
       "\n",
       "    .dataframe tbody tr th {\n",
       "        vertical-align: top;\n",
       "    }\n",
       "\n",
       "    .dataframe thead th {\n",
       "        text-align: right;\n",
       "    }\n",
       "</style>\n",
       "<table border=\"1\" class=\"dataframe\">\n",
       "  <thead>\n",
       "    <tr style=\"text-align: right;\">\n",
       "      <th></th>\n",
       "      <th>age</th>\n",
       "      <th>n</th>\n",
       "      <th>alcohol-use</th>\n",
       "      <th>alcohol-frequency</th>\n",
       "      <th>marijuana-use</th>\n",
       "      <th>marijuana-frequency</th>\n",
       "      <th>cocaine-use</th>\n",
       "      <th>cocaine-frequency</th>\n",
       "      <th>crack-use</th>\n",
       "      <th>crack-frequency</th>\n",
       "      <th>heroin-use</th>\n",
       "      <th>heroin-frequency</th>\n",
       "      <th>hallucinogen-use</th>\n",
       "      <th>hallucinogen-frequency</th>\n",
       "      <th>inhalant-use</th>\n",
       "      <th>inhalant-frequency</th>\n",
       "      <th>pain-releiver-use</th>\n",
       "      <th>pain-releiver-frequency</th>\n",
       "      <th>oxycontin-use</th>\n",
       "      <th>oxycontin-frequency</th>\n",
       "      <th>tranquilizer-use</th>\n",
       "      <th>tranquilizer-frequency</th>\n",
       "      <th>stimulant-use</th>\n",
       "      <th>stimulant-frequency</th>\n",
       "      <th>meth-use</th>\n",
       "      <th>meth-frequency</th>\n",
       "      <th>sedative-use</th>\n",
       "      <th>sedative-frequency</th>\n",
       "    </tr>\n",
       "  </thead>\n",
       "  <tbody>\n",
       "    <tr>\n",
       "      <th>0</th>\n",
       "      <td>12</td>\n",
       "      <td>2798</td>\n",
       "      <td>3.9</td>\n",
       "      <td>3.0</td>\n",
       "      <td>1.1</td>\n",
       "      <td>4.0</td>\n",
       "      <td>0.1</td>\n",
       "      <td>5.0</td>\n",
       "      <td>0.0</td>\n",
       "      <td>-</td>\n",
       "      <td>0.1</td>\n",
       "      <td>35.5</td>\n",
       "      <td>0.2</td>\n",
       "      <td>52.0</td>\n",
       "      <td>1.6</td>\n",
       "      <td>19.0</td>\n",
       "      <td>2.0</td>\n",
       "      <td>36.0</td>\n",
       "      <td>0.1</td>\n",
       "      <td>24.5</td>\n",
       "      <td>0.2</td>\n",
       "      <td>52.0</td>\n",
       "      <td>0.2</td>\n",
       "      <td>2.0</td>\n",
       "      <td>0.0</td>\n",
       "      <td>-</td>\n",
       "      <td>0.2</td>\n",
       "      <td>13.0</td>\n",
       "    </tr>\n",
       "    <tr>\n",
       "      <th>1</th>\n",
       "      <td>13</td>\n",
       "      <td>2757</td>\n",
       "      <td>8.5</td>\n",
       "      <td>6.0</td>\n",
       "      <td>3.4</td>\n",
       "      <td>15.0</td>\n",
       "      <td>0.1</td>\n",
       "      <td>1.0</td>\n",
       "      <td>0.0</td>\n",
       "      <td>3.0</td>\n",
       "      <td>0.0</td>\n",
       "      <td>-</td>\n",
       "      <td>0.6</td>\n",
       "      <td>6.0</td>\n",
       "      <td>2.5</td>\n",
       "      <td>12.0</td>\n",
       "      <td>2.4</td>\n",
       "      <td>14.0</td>\n",
       "      <td>0.1</td>\n",
       "      <td>41.0</td>\n",
       "      <td>0.3</td>\n",
       "      <td>25.5</td>\n",
       "      <td>0.3</td>\n",
       "      <td>4.0</td>\n",
       "      <td>0.1</td>\n",
       "      <td>5.0</td>\n",
       "      <td>0.1</td>\n",
       "      <td>19.0</td>\n",
       "    </tr>\n",
       "    <tr>\n",
       "      <th>2</th>\n",
       "      <td>14</td>\n",
       "      <td>2792</td>\n",
       "      <td>18.1</td>\n",
       "      <td>5.0</td>\n",
       "      <td>8.7</td>\n",
       "      <td>24.0</td>\n",
       "      <td>0.1</td>\n",
       "      <td>5.5</td>\n",
       "      <td>0.0</td>\n",
       "      <td>-</td>\n",
       "      <td>0.1</td>\n",
       "      <td>2.0</td>\n",
       "      <td>1.6</td>\n",
       "      <td>3.0</td>\n",
       "      <td>2.6</td>\n",
       "      <td>5.0</td>\n",
       "      <td>3.9</td>\n",
       "      <td>12.0</td>\n",
       "      <td>0.4</td>\n",
       "      <td>4.5</td>\n",
       "      <td>0.9</td>\n",
       "      <td>5.0</td>\n",
       "      <td>0.8</td>\n",
       "      <td>12.0</td>\n",
       "      <td>0.1</td>\n",
       "      <td>24.0</td>\n",
       "      <td>0.2</td>\n",
       "      <td>16.5</td>\n",
       "    </tr>\n",
       "    <tr>\n",
       "      <th>3</th>\n",
       "      <td>15</td>\n",
       "      <td>2956</td>\n",
       "      <td>29.2</td>\n",
       "      <td>6.0</td>\n",
       "      <td>14.5</td>\n",
       "      <td>25.0</td>\n",
       "      <td>0.5</td>\n",
       "      <td>4.0</td>\n",
       "      <td>0.1</td>\n",
       "      <td>9.5</td>\n",
       "      <td>0.2</td>\n",
       "      <td>1.0</td>\n",
       "      <td>2.1</td>\n",
       "      <td>4.0</td>\n",
       "      <td>2.5</td>\n",
       "      <td>5.5</td>\n",
       "      <td>5.5</td>\n",
       "      <td>10.0</td>\n",
       "      <td>0.8</td>\n",
       "      <td>3.0</td>\n",
       "      <td>2.0</td>\n",
       "      <td>4.5</td>\n",
       "      <td>1.5</td>\n",
       "      <td>6.0</td>\n",
       "      <td>0.3</td>\n",
       "      <td>10.5</td>\n",
       "      <td>0.4</td>\n",
       "      <td>30.0</td>\n",
       "    </tr>\n",
       "    <tr>\n",
       "      <th>4</th>\n",
       "      <td>16</td>\n",
       "      <td>3058</td>\n",
       "      <td>40.1</td>\n",
       "      <td>10.0</td>\n",
       "      <td>22.5</td>\n",
       "      <td>30.0</td>\n",
       "      <td>1.0</td>\n",
       "      <td>7.0</td>\n",
       "      <td>0.0</td>\n",
       "      <td>1.0</td>\n",
       "      <td>0.1</td>\n",
       "      <td>66.5</td>\n",
       "      <td>3.4</td>\n",
       "      <td>3.0</td>\n",
       "      <td>3.0</td>\n",
       "      <td>3.0</td>\n",
       "      <td>6.2</td>\n",
       "      <td>7.0</td>\n",
       "      <td>1.1</td>\n",
       "      <td>4.0</td>\n",
       "      <td>2.4</td>\n",
       "      <td>11.0</td>\n",
       "      <td>1.8</td>\n",
       "      <td>9.5</td>\n",
       "      <td>0.3</td>\n",
       "      <td>36.0</td>\n",
       "      <td>0.2</td>\n",
       "      <td>3.0</td>\n",
       "    </tr>\n",
       "  </tbody>\n",
       "</table>\n",
       "</div>"
      ],
      "text/plain": [
       "  age     n  alcohol-use  alcohol-frequency  marijuana-use  \\\n",
       "0  12  2798          3.9                3.0            1.1   \n",
       "1  13  2757          8.5                6.0            3.4   \n",
       "2  14  2792         18.1                5.0            8.7   \n",
       "3  15  2956         29.2                6.0           14.5   \n",
       "4  16  3058         40.1               10.0           22.5   \n",
       "\n",
       "   marijuana-frequency  cocaine-use cocaine-frequency  crack-use  \\\n",
       "0                  4.0          0.1               5.0        0.0   \n",
       "1                 15.0          0.1               1.0        0.0   \n",
       "2                 24.0          0.1               5.5        0.0   \n",
       "3                 25.0          0.5               4.0        0.1   \n",
       "4                 30.0          1.0               7.0        0.0   \n",
       "\n",
       "  crack-frequency  heroin-use heroin-frequency  hallucinogen-use  \\\n",
       "0               -         0.1             35.5               0.2   \n",
       "1             3.0         0.0                -               0.6   \n",
       "2               -         0.1              2.0               1.6   \n",
       "3             9.5         0.2              1.0               2.1   \n",
       "4             1.0         0.1             66.5               3.4   \n",
       "\n",
       "   hallucinogen-frequency  inhalant-use inhalant-frequency  pain-releiver-use  \\\n",
       "0                    52.0           1.6               19.0                2.0   \n",
       "1                     6.0           2.5               12.0                2.4   \n",
       "2                     3.0           2.6                5.0                3.9   \n",
       "3                     4.0           2.5                5.5                5.5   \n",
       "4                     3.0           3.0                3.0                6.2   \n",
       "\n",
       "   pain-releiver-frequency  oxycontin-use oxycontin-frequency  \\\n",
       "0                     36.0            0.1                24.5   \n",
       "1                     14.0            0.1                41.0   \n",
       "2                     12.0            0.4                 4.5   \n",
       "3                     10.0            0.8                 3.0   \n",
       "4                      7.0            1.1                 4.0   \n",
       "\n",
       "   tranquilizer-use  tranquilizer-frequency  stimulant-use  \\\n",
       "0               0.2                    52.0            0.2   \n",
       "1               0.3                    25.5            0.3   \n",
       "2               0.9                     5.0            0.8   \n",
       "3               2.0                     4.5            1.5   \n",
       "4               2.4                    11.0            1.8   \n",
       "\n",
       "   stimulant-frequency  meth-use meth-frequency  sedative-use  \\\n",
       "0                  2.0       0.0              -           0.2   \n",
       "1                  4.0       0.1            5.0           0.1   \n",
       "2                 12.0       0.1           24.0           0.2   \n",
       "3                  6.0       0.3           10.5           0.4   \n",
       "4                  9.5       0.3           36.0           0.2   \n",
       "\n",
       "   sedative-frequency  \n",
       "0                13.0  \n",
       "1                19.0  \n",
       "2                16.5  \n",
       "3                30.0  \n",
       "4                 3.0  "
      ]
     },
<<<<<<< HEAD
     "execution_count": 3,
=======
     "execution_count": 8,
>>>>>>> 0ef2d8a6ba02da0bd84c6ca245544a1501dfc451
     "metadata": {},
     "output_type": "execute_result"
    }
   ],
   "source": [
    "drug.head()"
   ]
  },
  {
   "cell_type": "markdown",
   "metadata": {
    "nbpresent": {
     "id": "1e6c6b41-692a-43fd-b4e6-81ee125dad7e"
    },
    "slideshow": {
     "slide_type": "slide"
    }
   },
   "source": [
    "If we want to see the last part of our data, we can use the ```.tail()``` function equivalently."
   ]
  },
  {
   "cell_type": "code",
<<<<<<< HEAD
   "execution_count": 4,
=======
   "execution_count": 9,
>>>>>>> 0ef2d8a6ba02da0bd84c6ca245544a1501dfc451
   "metadata": {
    "nbpresent": {
     "id": "0077c2a2-48f2-4c30-9181-34d2fc466bc9"
    },
    "slideshow": {
     "slide_type": "-"
    }
   },
   "outputs": [
    {
     "data": {
      "text/html": [
       "<div>\n",
       "<style scoped>\n",
       "    .dataframe tbody tr th:only-of-type {\n",
       "        vertical-align: middle;\n",
       "    }\n",
       "\n",
       "    .dataframe tbody tr th {\n",
       "        vertical-align: top;\n",
       "    }\n",
       "\n",
       "    .dataframe thead th {\n",
       "        text-align: right;\n",
       "    }\n",
       "</style>\n",
       "<table border=\"1\" class=\"dataframe\">\n",
       "  <thead>\n",
       "    <tr style=\"text-align: right;\">\n",
       "      <th></th>\n",
       "      <th>age</th>\n",
       "      <th>n</th>\n",
       "      <th>alcohol-use</th>\n",
       "      <th>alcohol-frequency</th>\n",
       "      <th>marijuana-use</th>\n",
       "      <th>marijuana-frequency</th>\n",
       "      <th>cocaine-use</th>\n",
       "      <th>cocaine-frequency</th>\n",
       "      <th>crack-use</th>\n",
       "      <th>crack-frequency</th>\n",
       "      <th>heroin-use</th>\n",
       "      <th>heroin-frequency</th>\n",
       "      <th>hallucinogen-use</th>\n",
       "      <th>hallucinogen-frequency</th>\n",
       "      <th>inhalant-use</th>\n",
       "      <th>inhalant-frequency</th>\n",
       "      <th>pain-releiver-use</th>\n",
       "      <th>pain-releiver-frequency</th>\n",
       "      <th>oxycontin-use</th>\n",
       "      <th>oxycontin-frequency</th>\n",
       "      <th>tranquilizer-use</th>\n",
       "      <th>tranquilizer-frequency</th>\n",
       "      <th>stimulant-use</th>\n",
       "      <th>stimulant-frequency</th>\n",
       "      <th>meth-use</th>\n",
       "      <th>meth-frequency</th>\n",
       "      <th>sedative-use</th>\n",
       "      <th>sedative-frequency</th>\n",
       "    </tr>\n",
       "  </thead>\n",
       "  <tbody>\n",
       "    <tr>\n",
       "      <th>12</th>\n",
       "      <td>26-29</td>\n",
       "      <td>2628</td>\n",
       "      <td>80.7</td>\n",
       "      <td>52.0</td>\n",
       "      <td>20.8</td>\n",
       "      <td>52.0</td>\n",
       "      <td>3.2</td>\n",
       "      <td>5.0</td>\n",
       "      <td>0.4</td>\n",
       "      <td>6.0</td>\n",
       "      <td>0.6</td>\n",
       "      <td>50.0</td>\n",
       "      <td>3.2</td>\n",
       "      <td>3.0</td>\n",
       "      <td>0.6</td>\n",
       "      <td>4.0</td>\n",
       "      <td>8.3</td>\n",
       "      <td>13.0</td>\n",
       "      <td>1.2</td>\n",
       "      <td>13.5</td>\n",
       "      <td>4.2</td>\n",
       "      <td>10.0</td>\n",
       "      <td>2.3</td>\n",
       "      <td>7.0</td>\n",
       "      <td>0.6</td>\n",
       "      <td>30.0</td>\n",
       "      <td>0.4</td>\n",
       "      <td>4.0</td>\n",
       "    </tr>\n",
       "    <tr>\n",
       "      <th>13</th>\n",
       "      <td>30-34</td>\n",
       "      <td>2864</td>\n",
       "      <td>77.5</td>\n",
       "      <td>52.0</td>\n",
       "      <td>16.4</td>\n",
       "      <td>72.0</td>\n",
       "      <td>2.1</td>\n",
       "      <td>8.0</td>\n",
       "      <td>0.5</td>\n",
       "      <td>15.0</td>\n",
       "      <td>0.4</td>\n",
       "      <td>66.0</td>\n",
       "      <td>1.8</td>\n",
       "      <td>2.0</td>\n",
       "      <td>0.4</td>\n",
       "      <td>3.5</td>\n",
       "      <td>5.9</td>\n",
       "      <td>22.0</td>\n",
       "      <td>0.9</td>\n",
       "      <td>46.0</td>\n",
       "      <td>3.6</td>\n",
       "      <td>8.0</td>\n",
       "      <td>1.4</td>\n",
       "      <td>12.0</td>\n",
       "      <td>0.4</td>\n",
       "      <td>54.0</td>\n",
       "      <td>0.4</td>\n",
       "      <td>10.0</td>\n",
       "    </tr>\n",
       "    <tr>\n",
       "      <th>14</th>\n",
       "      <td>35-49</td>\n",
       "      <td>7391</td>\n",
       "      <td>75.0</td>\n",
       "      <td>52.0</td>\n",
       "      <td>10.4</td>\n",
       "      <td>48.0</td>\n",
       "      <td>1.5</td>\n",
       "      <td>15.0</td>\n",
       "      <td>0.5</td>\n",
       "      <td>48.0</td>\n",
       "      <td>0.1</td>\n",
       "      <td>280.0</td>\n",
       "      <td>0.6</td>\n",
       "      <td>3.0</td>\n",
       "      <td>0.3</td>\n",
       "      <td>10.0</td>\n",
       "      <td>4.2</td>\n",
       "      <td>12.0</td>\n",
       "      <td>0.3</td>\n",
       "      <td>12.0</td>\n",
       "      <td>1.9</td>\n",
       "      <td>6.0</td>\n",
       "      <td>0.6</td>\n",
       "      <td>24.0</td>\n",
       "      <td>0.2</td>\n",
       "      <td>104.0</td>\n",
       "      <td>0.3</td>\n",
       "      <td>10.0</td>\n",
       "    </tr>\n",
       "    <tr>\n",
       "      <th>15</th>\n",
       "      <td>50-64</td>\n",
       "      <td>3923</td>\n",
       "      <td>67.2</td>\n",
       "      <td>52.0</td>\n",
       "      <td>7.3</td>\n",
       "      <td>52.0</td>\n",
       "      <td>0.9</td>\n",
       "      <td>36.0</td>\n",
       "      <td>0.4</td>\n",
       "      <td>62.0</td>\n",
       "      <td>0.1</td>\n",
       "      <td>41.0</td>\n",
       "      <td>0.3</td>\n",
       "      <td>44.0</td>\n",
       "      <td>0.2</td>\n",
       "      <td>13.5</td>\n",
       "      <td>2.5</td>\n",
       "      <td>12.0</td>\n",
       "      <td>0.4</td>\n",
       "      <td>5.0</td>\n",
       "      <td>1.4</td>\n",
       "      <td>10.0</td>\n",
       "      <td>0.3</td>\n",
       "      <td>24.0</td>\n",
       "      <td>0.2</td>\n",
       "      <td>30.0</td>\n",
       "      <td>0.2</td>\n",
       "      <td>104.0</td>\n",
       "    </tr>\n",
       "    <tr>\n",
       "      <th>16</th>\n",
       "      <td>65+</td>\n",
       "      <td>2448</td>\n",
       "      <td>49.3</td>\n",
       "      <td>52.0</td>\n",
       "      <td>1.2</td>\n",
       "      <td>36.0</td>\n",
       "      <td>0.0</td>\n",
       "      <td>-</td>\n",
       "      <td>0.0</td>\n",
       "      <td>-</td>\n",
       "      <td>0.0</td>\n",
       "      <td>120.0</td>\n",
       "      <td>0.1</td>\n",
       "      <td>2.0</td>\n",
       "      <td>0.0</td>\n",
       "      <td>-</td>\n",
       "      <td>0.6</td>\n",
       "      <td>24.0</td>\n",
       "      <td>0.0</td>\n",
       "      <td>-</td>\n",
       "      <td>0.2</td>\n",
       "      <td>5.0</td>\n",
       "      <td>0.0</td>\n",
       "      <td>364.0</td>\n",
       "      <td>0.0</td>\n",
       "      <td>-</td>\n",
       "      <td>0.0</td>\n",
       "      <td>15.0</td>\n",
       "    </tr>\n",
       "  </tbody>\n",
       "</table>\n",
       "</div>"
      ],
      "text/plain": [
       "      age     n  alcohol-use  alcohol-frequency  marijuana-use  \\\n",
       "12  26-29  2628         80.7               52.0           20.8   \n",
       "13  30-34  2864         77.5               52.0           16.4   \n",
       "14  35-49  7391         75.0               52.0           10.4   \n",
       "15  50-64  3923         67.2               52.0            7.3   \n",
       "16    65+  2448         49.3               52.0            1.2   \n",
       "\n",
       "    marijuana-frequency  cocaine-use cocaine-frequency  crack-use  \\\n",
       "12                 52.0          3.2               5.0        0.4   \n",
       "13                 72.0          2.1               8.0        0.5   \n",
       "14                 48.0          1.5              15.0        0.5   \n",
       "15                 52.0          0.9              36.0        0.4   \n",
       "16                 36.0          0.0                 -        0.0   \n",
       "\n",
       "   crack-frequency  heroin-use heroin-frequency  hallucinogen-use  \\\n",
       "12             6.0         0.6             50.0               3.2   \n",
       "13            15.0         0.4             66.0               1.8   \n",
       "14            48.0         0.1            280.0               0.6   \n",
       "15            62.0         0.1             41.0               0.3   \n",
       "16               -         0.0            120.0               0.1   \n",
       "\n",
       "    hallucinogen-frequency  inhalant-use inhalant-frequency  \\\n",
       "12                     3.0           0.6                4.0   \n",
       "13                     2.0           0.4                3.5   \n",
       "14                     3.0           0.3               10.0   \n",
       "15                    44.0           0.2               13.5   \n",
       "16                     2.0           0.0                  -   \n",
       "\n",
       "    pain-releiver-use  pain-releiver-frequency  oxycontin-use  \\\n",
       "12                8.3                     13.0            1.2   \n",
       "13                5.9                     22.0            0.9   \n",
       "14                4.2                     12.0            0.3   \n",
       "15                2.5                     12.0            0.4   \n",
       "16                0.6                     24.0            0.0   \n",
       "\n",
       "   oxycontin-frequency  tranquilizer-use  tranquilizer-frequency  \\\n",
       "12                13.5               4.2                    10.0   \n",
       "13                46.0               3.6                     8.0   \n",
       "14                12.0               1.9                     6.0   \n",
       "15                 5.0               1.4                    10.0   \n",
       "16                   -               0.2                     5.0   \n",
       "\n",
       "    stimulant-use  stimulant-frequency  meth-use meth-frequency  sedative-use  \\\n",
       "12            2.3                  7.0       0.6           30.0           0.4   \n",
       "13            1.4                 12.0       0.4           54.0           0.4   \n",
       "14            0.6                 24.0       0.2          104.0           0.3   \n",
       "15            0.3                 24.0       0.2           30.0           0.2   \n",
       "16            0.0                364.0       0.0              -           0.0   \n",
       "\n",
       "    sedative-frequency  \n",
       "12                 4.0  \n",
       "13                10.0  \n",
       "14                10.0  \n",
       "15               104.0  \n",
       "16                15.0  "
      ]
     },
<<<<<<< HEAD
     "execution_count": 4,
=======
     "execution_count": 9,
>>>>>>> 0ef2d8a6ba02da0bd84c6ca245544a1501dfc451
     "metadata": {},
     "output_type": "execute_result"
    }
   ],
   "source": [
    "drug.tail()"
   ]
  },
  {
   "cell_type": "markdown",
   "metadata": {
    "nbpresent": {
     "id": "2c901f72-6d15-4e6b-9592-de89ff0b4dfa"
    },
    "slideshow": {
     "slide_type": "slide"
    }
   },
   "source": [
    "<a id='data_dimensions'></a>\n",
    "\n",
    "### Data Dimensions\n",
    "\n",
    "---\n",
    "\n",
    "It's always good to look at the dimensions of your data. The ```.shape``` property will tell you how many rows and columns are contained within your DataFrame."
   ]
  },
  {
   "cell_type": "code",
<<<<<<< HEAD
   "execution_count": 5,
=======
   "execution_count": 10,
>>>>>>> 0ef2d8a6ba02da0bd84c6ca245544a1501dfc451
   "metadata": {
    "nbpresent": {
     "id": "9a9b6f73-3b89-41e7-99eb-14e7afa83467"
    },
    "slideshow": {
     "slide_type": "-"
    }
   },
   "outputs": [
    {
     "data": {
      "text/plain": [
       "(17, 28)"
      ]
     },
<<<<<<< HEAD
     "execution_count": 5,
=======
     "execution_count": 10,
>>>>>>> 0ef2d8a6ba02da0bd84c6ca245544a1501dfc451
     "metadata": {},
     "output_type": "execute_result"
    }
   ],
   "source": [
    "drug.shape"
   ]
  },
  {
   "cell_type": "markdown",
   "metadata": {
    "nbpresent": {
     "id": "042513d6-a8a3-4ec3-aaf3-e6acb8854820"
    },
    "slideshow": {
     "slide_type": "fragment"
    }
   },
   "source": [
    "As you can see, we have 17 rows and 28 columns, so we can consider this a small data set.\n",
    "\n",
    "You'll also notice that this function operates the same as `.shape` for `numpy` arrays/matricies. **`pandas` makes use of **numpy** under its hood** for optimization and speed."
   ]
  },
  {
   "cell_type": "markdown",
   "metadata": {
    "nbpresent": {
     "id": "31d5c9db-bf27-4798-ae2d-081e17102bbb"
    },
    "slideshow": {
     "slide_type": "slide"
    }
   },
   "source": [
    "You can look up the names of your columns using the ```.columns``` property.\n"
   ]
  },
  {
   "cell_type": "code",
   "execution_count": 6,
   "metadata": {
    "nbpresent": {
     "id": "b2da21bb-5a29-441d-a0b7-949ecf9938c8"
    },
    "slideshow": {
     "slide_type": "fragment"
    }
   },
   "outputs": [
    {
     "data": {
      "text/plain": [
       "Index(['age', 'n', 'alcohol-use', 'alcohol-frequency', 'marijuana-use',\n",
       "       'marijuana-frequency', 'cocaine-use', 'cocaine-frequency', 'crack-use',\n",
       "       'crack-frequency', 'heroin-use', 'heroin-frequency', 'hallucinogen-use',\n",
       "       'hallucinogen-frequency', 'inhalant-use', 'inhalant-frequency',\n",
       "       'pain-releiver-use', 'pain-releiver-frequency', 'oxycontin-use',\n",
       "       'oxycontin-frequency', 'tranquilizer-use', 'tranquilizer-frequency',\n",
       "       'stimulant-use', 'stimulant-frequency', 'meth-use', 'meth-frequency',\n",
       "       'sedative-use', 'sedative-frequency'],\n",
       "      dtype='object')"
      ]
     },
     "execution_count": 6,
     "metadata": {},
     "output_type": "execute_result"
    }
   ],
   "source": [
    "drug.columns"
   ]
  },
  {
   "cell_type": "markdown",
   "metadata": {
    "nbpresent": {
     "id": "fc25fdf8-5959-4d0e-ab9d-ab6da5c83209"
    },
    "slideshow": {
     "slide_type": "slide"
    }
   },
   "source": [
    "Accessing a specific column is easy. You can use **bracket** syntax just like you would with **Python dictionaries**, using the column's string name to extract it."
   ]
  },
  {
   "cell_type": "code",
<<<<<<< HEAD
   "execution_count": 7,
=======
   "execution_count": 26,
>>>>>>> 0ef2d8a6ba02da0bd84c6ca245544a1501dfc451
   "metadata": {
    "nbpresent": {
     "id": "c1d9b4d1-263d-4ca1-acf6-d18ad31c16e6"
    },
    "slideshow": {
     "slide_type": "fragment"
    }
   },
   "outputs": [
    {
     "data": {
      "text/plain": [
       "0    0.0\n",
       "1    0.0\n",
       "2    0.0\n",
       "3    0.1\n",
       "4    0.0\n",
       "Name: crack-use, dtype: float64"
      ]
     },
<<<<<<< HEAD
     "execution_count": 7,
=======
     "execution_count": 26,
>>>>>>> 0ef2d8a6ba02da0bd84c6ca245544a1501dfc451
     "metadata": {},
     "output_type": "execute_result"
    }
   ],
   "source": [
    "drug['crack-use'].head()"
   ]
  },
  {
   "cell_type": "markdown",
   "metadata": {
    "nbpresent": {
     "id": "d1473cb4-9805-4831-aca8-71c68c271729"
    },
    "slideshow": {
     "slide_type": "fragment"
    }
   },
   "source": [
    "As you can see, we can also use the ```.head()``` function on a single column, which is represented as a `pandas` Series object."
   ]
  },
  {
   "cell_type": "markdown",
   "metadata": {
    "nbpresent": {
     "id": "e5d6b43d-4118-465d-bea3-83a2caf96b8e"
    },
    "slideshow": {
     "slide_type": "slide"
    }
   },
   "source": [
    "With a **list of strings**, you can also access a column (as a DataFrame instead of a Series)."
   ]
  },
  {
   "cell_type": "code",
<<<<<<< HEAD
   "execution_count": 8,
=======
   "execution_count": 27,
>>>>>>> 0ef2d8a6ba02da0bd84c6ca245544a1501dfc451
   "metadata": {
    "nbpresent": {
     "id": "4c713e8f-a430-4d4a-afe4-90f13bde08c2"
    },
    "slideshow": {
     "slide_type": "fragment"
    }
   },
   "outputs": [
    {
     "data": {
      "text/html": [
       "<div>\n",
       "<style scoped>\n",
       "    .dataframe tbody tr th:only-of-type {\n",
       "        vertical-align: middle;\n",
       "    }\n",
       "\n",
       "    .dataframe tbody tr th {\n",
       "        vertical-align: top;\n",
       "    }\n",
       "\n",
       "    .dataframe thead th {\n",
       "        text-align: right;\n",
       "    }\n",
       "</style>\n",
       "<table border=\"1\" class=\"dataframe\">\n",
       "  <thead>\n",
       "    <tr style=\"text-align: right;\">\n",
       "      <th></th>\n",
       "      <th>crack-use</th>\n",
       "    </tr>\n",
       "  </thead>\n",
       "  <tbody>\n",
       "    <tr>\n",
       "      <th>0</th>\n",
       "      <td>0.0</td>\n",
       "    </tr>\n",
       "    <tr>\n",
       "      <th>1</th>\n",
       "      <td>0.0</td>\n",
       "    </tr>\n",
       "    <tr>\n",
       "      <th>2</th>\n",
       "      <td>0.0</td>\n",
       "    </tr>\n",
       "    <tr>\n",
       "      <th>3</th>\n",
       "      <td>0.1</td>\n",
       "    </tr>\n",
       "    <tr>\n",
       "      <th>4</th>\n",
       "      <td>0.0</td>\n",
       "    </tr>\n",
       "  </tbody>\n",
       "</table>\n",
       "</div>"
      ],
      "text/plain": [
       "   crack-use\n",
       "0        0.0\n",
       "1        0.0\n",
       "2        0.0\n",
       "3        0.1\n",
       "4        0.0"
      ]
     },
<<<<<<< HEAD
     "execution_count": 8,
=======
     "execution_count": 27,
>>>>>>> 0ef2d8a6ba02da0bd84c6ca245544a1501dfc451
     "metadata": {},
     "output_type": "execute_result"
    }
   ],
   "source": [
    "drug[['crack-use']].head()"
   ]
  },
  {
   "cell_type": "code",
<<<<<<< HEAD
   "execution_count": 9,
=======
   "execution_count": 28,
>>>>>>> 0ef2d8a6ba02da0bd84c6ca245544a1501dfc451
   "metadata": {
    "nbpresent": {
     "id": "46dc97d4-6326-417d-8745-64c49ef65ec2"
    },
    "slideshow": {
     "slide_type": "fragment"
    }
   },
   "outputs": [
    {
     "data": {
      "text/html": [
       "<div>\n",
       "<style scoped>\n",
       "    .dataframe tbody tr th:only-of-type {\n",
       "        vertical-align: middle;\n",
       "    }\n",
       "\n",
       "    .dataframe tbody tr th {\n",
       "        vertical-align: top;\n",
       "    }\n",
       "\n",
       "    .dataframe thead th {\n",
       "        text-align: right;\n",
       "    }\n",
       "</style>\n",
       "<table border=\"1\" class=\"dataframe\">\n",
       "  <thead>\n",
       "    <tr style=\"text-align: right;\">\n",
       "      <th></th>\n",
       "      <th>age</th>\n",
       "      <th>crack-use</th>\n",
       "    </tr>\n",
       "  </thead>\n",
       "  <tbody>\n",
       "    <tr>\n",
       "      <th>0</th>\n",
       "      <td>12</td>\n",
       "      <td>0.0</td>\n",
       "    </tr>\n",
       "    <tr>\n",
       "      <th>1</th>\n",
       "      <td>13</td>\n",
       "      <td>0.0</td>\n",
       "    </tr>\n",
       "    <tr>\n",
       "      <th>2</th>\n",
       "      <td>14</td>\n",
       "      <td>0.0</td>\n",
       "    </tr>\n",
       "    <tr>\n",
       "      <th>3</th>\n",
       "      <td>15</td>\n",
       "      <td>0.1</td>\n",
       "    </tr>\n",
       "    <tr>\n",
       "      <th>4</th>\n",
       "      <td>16</td>\n",
       "      <td>0.0</td>\n",
       "    </tr>\n",
       "  </tbody>\n",
       "</table>\n",
       "</div>"
      ],
      "text/plain": [
       "  age  crack-use\n",
       "0  12        0.0\n",
       "1  13        0.0\n",
       "2  14        0.0\n",
       "3  15        0.1\n",
       "4  16        0.0"
      ]
     },
<<<<<<< HEAD
     "execution_count": 9,
=======
     "execution_count": 28,
>>>>>>> 0ef2d8a6ba02da0bd84c6ca245544a1501dfc451
     "metadata": {},
     "output_type": "execute_result"
    }
   ],
   "source": [
    "drug[['age','crack-use']].head()"
   ]
  },
  {
   "cell_type": "markdown",
   "metadata": {
    "nbpresent": {
     "id": "0c73f9d4-b242-441c-b606-40c05b450f25"
    },
    "slideshow": {
     "slide_type": "slide"
    }
   },
   "source": [
    "<a id='dataframe_series'></a>\n",
    "\n",
    "### DataFrame vs. Series\n",
    "\n",
    "---\n",
    "\n",
    "There is an important difference between using a list of strings versus only using a string with a column's name: When you use a list containing the string, it returns another **DataFrame**. But, when you only use the string, it returns a `pandas` **Series** object."
   ]
  },
  {
   "cell_type": "code",
<<<<<<< HEAD
   "execution_count": 10,
=======
   "execution_count": 12,
>>>>>>> 0ef2d8a6ba02da0bd84c6ca245544a1501dfc451
   "metadata": {
    "nbpresent": {
     "id": "a8526589-1116-4c85-be23-5cba34430f32"
    },
    "slideshow": {
     "slide_type": "fragment"
    }
   },
   "outputs": [
    {
     "name": "stdout",
     "output_type": "stream",
     "text": [
      "<class 'pandas.core.series.Series'>\n"
     ]
    }
   ],
   "source": [
    "print(type(drug['age']))"
   ]
  },
  {
   "cell_type": "code",
<<<<<<< HEAD
   "execution_count": 11,
=======
   "execution_count": 13,
>>>>>>> 0ef2d8a6ba02da0bd84c6ca245544a1501dfc451
   "metadata": {
    "nbpresent": {
     "id": "a8526589-1116-4c85-be23-5cba34430f32"
    },
    "slideshow": {
     "slide_type": "fragment"
    }
   },
   "outputs": [
    {
     "name": "stdout",
     "output_type": "stream",
     "text": [
      "<class 'pandas.core.frame.DataFrame'>\n"
     ]
    }
   ],
   "source": [
    "print(type(drug[['age']]))"
   ]
  },
  {
   "cell_type": "markdown",
   "metadata": {},
   "source": [
    "**Breakout (2min):** What's the difference between `pandas` Series and DataFrame objects?"
   ]
  },
  {
   "cell_type": "markdown",
   "metadata": {
    "nbpresent": {
     "id": "892f7841-512b-4f7b-b741-5b2c094a31d2"
    },
    "slideshow": {
     "slide_type": "slide"
    }
   },
   "source": [
    "As long as your column names **don't contain any spaces** or other specialized characters (underscores are OK), you can access a column as a property of a DataFrame.  \n",
    "\n",
    "**Get in the habit of referencing your Series columns using `df['my_column']` rather than with object notation (`df.my_column`)**. There are many edge cases in which the object notation does not work, along with nuances as to how `pandas` will behave."
   ]
  },
  {
   "cell_type": "code",
<<<<<<< HEAD
   "execution_count": 12,
=======
   "execution_count": 14,
>>>>>>> 0ef2d8a6ba02da0bd84c6ca245544a1501dfc451
   "metadata": {
    "nbpresent": {
     "id": "2957ddaf-3796-4486-a784-3e08ecb7e5b7"
    },
    "slideshow": {
     "slide_type": "fragment"
    }
   },
   "outputs": [
    {
     "data": {
      "text/plain": [
       "0    12\n",
       "1    13\n",
       "2    14\n",
       "3    15\n",
       "4    16\n",
       "Name: age, dtype: object"
      ]
     },
<<<<<<< HEAD
     "execution_count": 12,
=======
     "execution_count": 14,
>>>>>>> 0ef2d8a6ba02da0bd84c6ca245544a1501dfc451
     "metadata": {},
     "output_type": "execute_result"
    }
   ],
   "source": [
    "drug['age'].head()"
   ]
  },
  {
   "cell_type": "markdown",
   "metadata": {
    "nbpresent": {
     "id": "5cd69bd7-4bff-4fb5-b575-8919901fa6b6"
    },
    "slideshow": {
     "slide_type": "fragment"
    }
   },
   "source": [
    "Remember: This will be a **Series** object, not a **DataFrame**."
   ]
  },
  {
   "cell_type": "markdown",
   "metadata": {
    "slideshow": {
     "slide_type": "slide"
    }
   },
   "source": [
    "<a id='info'></a>\n",
    "\n",
    "### Examining Your Data With `.info()`\n",
    "\n",
    "---\n",
    "\n",
    "When getting acquainted with a new data set, `.info()` should be **the first thing** you examine.\n",
    "\n",
    "**Types** are very important. They affect the way data will be **represented** in our machine learning models, how data can be joined, whether or not math operators can be applied, and instances in which you can encounter unexpected results."
   ]
  },
  {
   "cell_type": "markdown",
   "metadata": {
    "slideshow": {
     "slide_type": "slide"
    }
   },
   "source": [
    "> _Typical problems that arise when working with new data sets include_:\n",
    "> - Missing values.\n",
    "> - Unexpected types (string/object instead of int/float).\n",
    "> - Dirty data (commas, dollar signs, unexpected characters, etc.).\n",
    "> - Blank values that are actually \"non-null\" or single white-space characters.\n",
    "\n",
    "`.info()` is a function available on every **DataFrame** object. It provides information about:\n",
    "\n",
    "- The name of the column/variable attribute.\n",
    "- The type of index (RangeIndex is default).\n",
    "- The count of non-null values by column/attribute.\n",
    "- The type of data contained in the column/attribute.\n",
    "- The unique counts of **dtypes** (`pandas` data types).\n",
    "- The memory usage of our data set."
   ]
  },
  {
   "cell_type": "markdown",
   "metadata": {},
   "source": [
    "#### For example: "
   ]
  },
  {
   "cell_type": "code",
<<<<<<< HEAD
   "execution_count": 13,
=======
   "execution_count": 31,
>>>>>>> 0ef2d8a6ba02da0bd84c6ca245544a1501dfc451
   "metadata": {
    "slideshow": {
     "slide_type": "slide"
    }
   },
   "outputs": [
    {
     "name": "stdout",
     "output_type": "stream",
     "text": [
      "<class 'pandas.core.frame.DataFrame'>\n",
      "RangeIndex: 17 entries, 0 to 16\n",
      "Data columns (total 28 columns):\n",
      "age                        17 non-null object\n",
      "n                          17 non-null int64\n",
      "alcohol-use                17 non-null float64\n",
      "alcohol-frequency          17 non-null float64\n",
      "marijuana-use              17 non-null float64\n",
      "marijuana-frequency        17 non-null float64\n",
      "cocaine-use                17 non-null float64\n",
      "cocaine-frequency          17 non-null object\n",
      "crack-use                  17 non-null float64\n",
      "crack-frequency            17 non-null object\n",
      "heroin-use                 17 non-null float64\n",
      "heroin-frequency           17 non-null object\n",
      "hallucinogen-use           17 non-null float64\n",
      "hallucinogen-frequency     17 non-null float64\n",
      "inhalant-use               17 non-null float64\n",
      "inhalant-frequency         17 non-null object\n",
      "pain-releiver-use          17 non-null float64\n",
      "pain-releiver-frequency    17 non-null float64\n",
      "oxycontin-use              17 non-null float64\n",
      "oxycontin-frequency        17 non-null object\n",
      "tranquilizer-use           17 non-null float64\n",
      "tranquilizer-frequency     17 non-null float64\n",
      "stimulant-use              17 non-null float64\n",
      "stimulant-frequency        17 non-null float64\n",
      "meth-use                   17 non-null float64\n",
      "meth-frequency             17 non-null object\n",
      "sedative-use               17 non-null float64\n",
      "sedative-frequency         17 non-null float64\n",
      "dtypes: float64(20), int64(1), object(7)\n",
      "memory usage: 3.8+ KB\n"
     ]
    }
   ],
   "source": [
    "drug.info()"
   ]
  },
  {
   "cell_type": "markdown",
   "metadata": {
    "nbpresent": {
     "id": "3f0c0568-5a2d-4559-ac13-7170a5c43846"
    },
    "slideshow": {
     "slide_type": "slide"
    }
   },
   "source": [
    "<a id='describe'></a>\n",
    "\n",
    "### Summarizing Data with `.describe()`\n",
    "\n",
    "---\n",
    "\n",
    "The ```.describe()``` function is useful for taking a quick look at your data. It returns some basic descriptive statistics.\n",
    "\n",
    "For our example, use the ```.describe()``` function on only the ```crack-use``` column."
   ]
  },
  {
   "cell_type": "code",
<<<<<<< HEAD
   "execution_count": 14,
=======
   "execution_count": 32,
>>>>>>> 0ef2d8a6ba02da0bd84c6ca245544a1501dfc451
   "metadata": {
    "nbpresent": {
     "id": "4d3ae9ac-b23b-4c49-9f0a-126c842419e8"
    },
    "slideshow": {
     "slide_type": "fragment"
    }
   },
   "outputs": [
    {
     "data": {
      "text/plain": [
       "count    17.000000\n",
       "mean      0.294118\n",
       "std       0.235772\n",
       "min       0.000000\n",
       "25%       0.000000\n",
       "50%       0.400000\n",
       "75%       0.500000\n",
       "max       0.600000\n",
       "Name: crack-use, dtype: float64"
      ]
     },
<<<<<<< HEAD
     "execution_count": 14,
=======
     "execution_count": 32,
>>>>>>> 0ef2d8a6ba02da0bd84c6ca245544a1501dfc451
     "metadata": {},
     "output_type": "execute_result"
    }
   ],
   "source": [
    "drug['crack-use'].describe()"
   ]
  },
  {
   "cell_type": "markdown",
   "metadata": {
    "nbpresent": {
     "id": "18836c37-de0e-4200-8eb8-3c9084da3b6b"
    },
    "slideshow": {
     "slide_type": "fragment"
    }
   },
   "source": [
    "You can also use it on multiple columns, such as ```crack-use``` and ```alcohol-frequency```."
   ]
  },
  {
   "cell_type": "code",
<<<<<<< HEAD
   "execution_count": 15,
=======
   "execution_count": 33,
>>>>>>> 0ef2d8a6ba02da0bd84c6ca245544a1501dfc451
   "metadata": {
    "nbpresent": {
     "id": "59ba0259-fb6c-4bd1-b274-2035540493be"
    }
   },
   "outputs": [
    {
     "data": {
      "text/html": [
       "<div>\n",
       "<style scoped>\n",
       "    .dataframe tbody tr th:only-of-type {\n",
       "        vertical-align: middle;\n",
       "    }\n",
       "\n",
       "    .dataframe tbody tr th {\n",
       "        vertical-align: top;\n",
       "    }\n",
       "\n",
       "    .dataframe thead th {\n",
       "        text-align: right;\n",
       "    }\n",
       "</style>\n",
       "<table border=\"1\" class=\"dataframe\">\n",
       "  <thead>\n",
       "    <tr style=\"text-align: right;\">\n",
       "      <th></th>\n",
       "      <th>crack-use</th>\n",
       "      <th>alcohol-frequency</th>\n",
       "    </tr>\n",
       "  </thead>\n",
       "  <tbody>\n",
       "    <tr>\n",
       "      <th>count</th>\n",
       "      <td>17.000000</td>\n",
       "      <td>17.000000</td>\n",
       "    </tr>\n",
       "    <tr>\n",
       "      <th>mean</th>\n",
       "      <td>0.294118</td>\n",
       "      <td>33.352941</td>\n",
       "    </tr>\n",
       "    <tr>\n",
       "      <th>std</th>\n",
       "      <td>0.235772</td>\n",
       "      <td>21.318833</td>\n",
       "    </tr>\n",
       "    <tr>\n",
       "      <th>min</th>\n",
       "      <td>0.000000</td>\n",
       "      <td>3.000000</td>\n",
       "    </tr>\n",
       "    <tr>\n",
       "      <th>25%</th>\n",
       "      <td>0.000000</td>\n",
       "      <td>10.000000</td>\n",
       "    </tr>\n",
       "    <tr>\n",
       "      <th>50%</th>\n",
       "      <td>0.400000</td>\n",
       "      <td>48.000000</td>\n",
       "    </tr>\n",
       "    <tr>\n",
       "      <th>75%</th>\n",
       "      <td>0.500000</td>\n",
       "      <td>52.000000</td>\n",
       "    </tr>\n",
       "    <tr>\n",
       "      <th>max</th>\n",
       "      <td>0.600000</td>\n",
       "      <td>52.000000</td>\n",
       "    </tr>\n",
       "  </tbody>\n",
       "</table>\n",
       "</div>"
      ],
      "text/plain": [
       "       crack-use  alcohol-frequency\n",
       "count  17.000000          17.000000\n",
       "mean    0.294118          33.352941\n",
       "std     0.235772          21.318833\n",
       "min     0.000000           3.000000\n",
       "25%     0.000000          10.000000\n",
       "50%     0.400000          48.000000\n",
       "75%     0.500000          52.000000\n",
       "max     0.600000          52.000000"
      ]
     },
<<<<<<< HEAD
     "execution_count": 15,
=======
     "execution_count": 33,
>>>>>>> 0ef2d8a6ba02da0bd84c6ca245544a1501dfc451
     "metadata": {},
     "output_type": "execute_result"
    }
   ],
   "source": [
    "drug[['crack-use','alcohol-frequency']].describe()"
   ]
  },
  {
   "cell_type": "markdown",
   "metadata": {
    "nbpresent": {
     "id": "969967d8-7094-4960-8c4b-5583fed79648"
    },
    "slideshow": {
     "slide_type": "slide"
    }
   },
   "source": [
    "```.describe()``` gives us the following statistics:\n",
    "\n",
    "- **Count**, which is equivalent to the number of cells (rows).\n",
    "- **Mean**, or, the average of the values in the column.\n",
    "- **Std**, which is the standard deviation.\n",
    "- **Min**, a.k.a., the minimum value.\n",
    "- **25%**, or, the 25th percentile of the values.\n",
    "- **50%**, or, the 50th percentile of the values ( which is the equivalent to the median).\n",
    "- **75%**, or, the 75th percentile of the values.\n",
    "- **Max**, which is the maximum value.\n",
    "\n",
    "<img src=\"https://snag.gy/AH6E8I.jpg\">"
   ]
  },
  {
   "cell_type": "markdown",
   "metadata": {
    "nbpresent": {
     "id": "5bc97eed-d555-4e31-bbd6-d2f7bc26a1d4"
    },
    "slideshow": {
     "slide_type": "slide"
    }
   },
   "source": [
    "There are also built-in math functions that will work on all columns of a DataFrame at once, as well as subsets of the data.\n",
    "\n",
    "For example, I can use the ```.mean()``` function on the ```drug``` DataFrame to get the mean for every column."
   ]
  },
  {
   "cell_type": "code",
<<<<<<< HEAD
   "execution_count": 16,
=======
   "execution_count": 34,
>>>>>>> 0ef2d8a6ba02da0bd84c6ca245544a1501dfc451
   "metadata": {
    "nbpresent": {
     "id": "adde643c-6657-4d32-bf3d-4406a9ae3303"
    }
   },
   "outputs": [
    {
     "data": {
      "text/plain": [
       "n                          3251.058824\n",
       "alcohol-use                  55.429412\n",
       "alcohol-frequency            33.352941\n",
       "marijuana-use                18.923529\n",
       "marijuana-frequency          42.941176\n",
       "cocaine-use                   2.176471\n",
       "crack-use                     0.294118\n",
       "heroin-use                    0.352941\n",
       "hallucinogen-use              3.394118\n",
       "hallucinogen-frequency        8.411765\n",
       "inhalant-use                  1.388235\n",
       "pain-releiver-use             6.270588\n",
       "pain-releiver-frequency      14.705882\n",
       "oxycontin-use                 0.935294\n",
       "tranquilizer-use              2.805882\n",
       "tranquilizer-frequency       11.735294\n",
       "stimulant-use                 1.917647\n",
       "stimulant-frequency          31.147059\n",
       "meth-use                      0.382353\n",
       "sedative-use                  0.282353\n",
       "sedative-frequency           19.382353\n",
       "dtype: float64"
      ]
     },
<<<<<<< HEAD
     "execution_count": 16,
=======
     "execution_count": 34,
>>>>>>> 0ef2d8a6ba02da0bd84c6ca245544a1501dfc451
     "metadata": {},
     "output_type": "execute_result"
    }
   ],
   "source": [
    "drug.mean()"
   ]
  },
  {
   "cell_type": "markdown",
   "metadata": {
    "slideshow": {
     "slide_type": "slide"
    }
   },
   "source": [
    "<a id='independent_practice'></a>\n",
    "\n",
    "### Independent Practice\n",
    "\n",
    "---\n",
    "\n",
    "Now that we know a little bit about basic DataFrame use, let's practice on a new data set.\n",
    "\n",
    "> Pro tip: When your cursor is in a string, you can use the \"tab\" key to browse file system resources and get a relative reference for the files that can be loaded in Jupyter notebook. Remember, you have to use your arrow keys to navigate the files populated in the UI. \n",
    "\n",
    "<img src=\"https://snag.gy/IlLNm9.jpg\">\n",
    "\n",
    "1. Find and load the `diamonds` data set into a DataFrame (in the `datasets` directory).\n",
    "2. Print out the columns.\n",
    "3. What does the data set look like in terms of dimensions?\n",
    "4. Check the types of each column.\n",
    "  a. What is the most common type?\n",
    "  b. How many entries are there?\n",
    "  c. How much memory does this data set consume?\n",
    "5. Examine the summary statistics of the data set."
   ]
  },
  {
   "cell_type": "code",
<<<<<<< HEAD
   "execution_count": 17,
=======
   "execution_count": 15,
>>>>>>> 0ef2d8a6ba02da0bd84c6ca245544a1501dfc451
   "metadata": {
    "slideshow": {
     "slide_type": "fragment"
    }
   },
   "outputs": [],
   "source": [
    "csv_file = \"./datasets/diamonds/diamonds.csv\"\n",
    "diamonds = pd.read_csv(csv_file)"
   ]
  },
  {
   "cell_type": "code",
<<<<<<< HEAD
   "execution_count": 18,
   "metadata": {
    "scrolled": true
   },
   "outputs": [
    {
     "data": {
      "text/plain": [
       "Index(['carat', 'cut', 'color', 'clarity', 'depth', 'table', 'price', 'x', 'y',\n",
       "       'z'],\n",
       "      dtype='object')"
      ]
     },
     "execution_count": 18,
     "metadata": {},
     "output_type": "execute_result"
    }
   ],
=======
   "execution_count": 36,
   "metadata": {
    "collapsed": true
   },
   "outputs": [],
>>>>>>> 0ef2d8a6ba02da0bd84c6ca245544a1501dfc451
   "source": [
    "# column names\n",
    "diamonds.columns"
   ]
  },
  {
   "cell_type": "code",
<<<<<<< HEAD
   "execution_count": 19,
   "metadata": {},
   "outputs": [
    {
     "data": {
      "text/plain": [
       "(53940, 10)"
      ]
     },
     "execution_count": 19,
     "metadata": {},
     "output_type": "execute_result"
    }
   ],
=======
   "execution_count": 37,
   "metadata": {
    "collapsed": true
   },
   "outputs": [],
>>>>>>> 0ef2d8a6ba02da0bd84c6ca245544a1501dfc451
   "source": [
    "# shape\n",
    "diamonds.shape"
   ]
  },
  {
   "cell_type": "code",
<<<<<<< HEAD
   "execution_count": 20,
   "metadata": {},
   "outputs": [
    {
     "name": "stdout",
     "output_type": "stream",
     "text": [
      "<class 'pandas.core.frame.DataFrame'>\n",
      "RangeIndex: 53940 entries, 0 to 53939\n",
      "Data columns (total 10 columns):\n",
      "carat      53940 non-null float64\n",
      "cut        53940 non-null object\n",
      "color      53940 non-null object\n",
      "clarity    53940 non-null object\n",
      "depth      53940 non-null float64\n",
      "table      53940 non-null float64\n",
      "price      53940 non-null int64\n",
      "x          53940 non-null float64\n",
      "y          53940 non-null float64\n",
      "z          53940 non-null float64\n",
      "dtypes: float64(6), int64(1), object(3)\n",
      "memory usage: 4.1+ MB\n"
     ]
    }
   ],
=======
   "execution_count": 38,
   "metadata": {
    "collapsed": true
   },
   "outputs": [],
>>>>>>> 0ef2d8a6ba02da0bd84c6ca245544a1501dfc451
   "source": [
    "# column data types, number of entries and memory used. seems like alot of info\n",
    "diamonds.info()"
   ]
  },
  {
   "cell_type": "code",
<<<<<<< HEAD
   "execution_count": 21,
   "metadata": {},
   "outputs": [
    {
     "data": {
      "text/html": [
       "<div>\n",
       "<style scoped>\n",
       "    .dataframe tbody tr th:only-of-type {\n",
       "        vertical-align: middle;\n",
       "    }\n",
       "\n",
       "    .dataframe tbody tr th {\n",
       "        vertical-align: top;\n",
       "    }\n",
       "\n",
       "    .dataframe thead th {\n",
       "        text-align: right;\n",
       "    }\n",
       "</style>\n",
       "<table border=\"1\" class=\"dataframe\">\n",
       "  <thead>\n",
       "    <tr style=\"text-align: right;\">\n",
       "      <th></th>\n",
       "      <th>carat</th>\n",
       "      <th>depth</th>\n",
       "      <th>table</th>\n",
       "      <th>price</th>\n",
       "      <th>x</th>\n",
       "      <th>y</th>\n",
       "      <th>z</th>\n",
       "    </tr>\n",
       "  </thead>\n",
       "  <tbody>\n",
       "    <tr>\n",
       "      <th>count</th>\n",
       "      <td>53940.000000</td>\n",
       "      <td>53940.000000</td>\n",
       "      <td>53940.000000</td>\n",
       "      <td>53940.000000</td>\n",
       "      <td>53940.000000</td>\n",
       "      <td>53940.000000</td>\n",
       "      <td>53940.000000</td>\n",
       "    </tr>\n",
       "    <tr>\n",
       "      <th>mean</th>\n",
       "      <td>0.797940</td>\n",
       "      <td>61.749405</td>\n",
       "      <td>57.457184</td>\n",
       "      <td>3932.799722</td>\n",
       "      <td>5.731157</td>\n",
       "      <td>5.734526</td>\n",
       "      <td>3.538734</td>\n",
       "    </tr>\n",
       "    <tr>\n",
       "      <th>std</th>\n",
       "      <td>0.474011</td>\n",
       "      <td>1.432621</td>\n",
       "      <td>2.234491</td>\n",
       "      <td>3989.439738</td>\n",
       "      <td>1.121761</td>\n",
       "      <td>1.142135</td>\n",
       "      <td>0.705699</td>\n",
       "    </tr>\n",
       "    <tr>\n",
       "      <th>min</th>\n",
       "      <td>0.200000</td>\n",
       "      <td>43.000000</td>\n",
       "      <td>43.000000</td>\n",
       "      <td>326.000000</td>\n",
       "      <td>0.000000</td>\n",
       "      <td>0.000000</td>\n",
       "      <td>0.000000</td>\n",
       "    </tr>\n",
       "    <tr>\n",
       "      <th>25%</th>\n",
       "      <td>0.400000</td>\n",
       "      <td>61.000000</td>\n",
       "      <td>56.000000</td>\n",
       "      <td>950.000000</td>\n",
       "      <td>4.710000</td>\n",
       "      <td>4.720000</td>\n",
       "      <td>2.910000</td>\n",
       "    </tr>\n",
       "    <tr>\n",
       "      <th>50%</th>\n",
       "      <td>0.700000</td>\n",
       "      <td>61.800000</td>\n",
       "      <td>57.000000</td>\n",
       "      <td>2401.000000</td>\n",
       "      <td>5.700000</td>\n",
       "      <td>5.710000</td>\n",
       "      <td>3.530000</td>\n",
       "    </tr>\n",
       "    <tr>\n",
       "      <th>75%</th>\n",
       "      <td>1.040000</td>\n",
       "      <td>62.500000</td>\n",
       "      <td>59.000000</td>\n",
       "      <td>5324.250000</td>\n",
       "      <td>6.540000</td>\n",
       "      <td>6.540000</td>\n",
       "      <td>4.040000</td>\n",
       "    </tr>\n",
       "    <tr>\n",
       "      <th>max</th>\n",
       "      <td>5.010000</td>\n",
       "      <td>79.000000</td>\n",
       "      <td>95.000000</td>\n",
       "      <td>18823.000000</td>\n",
       "      <td>10.740000</td>\n",
       "      <td>58.900000</td>\n",
       "      <td>31.800000</td>\n",
       "    </tr>\n",
       "  </tbody>\n",
       "</table>\n",
       "</div>"
      ],
      "text/plain": [
       "              carat         depth         table         price             x  \\\n",
       "count  53940.000000  53940.000000  53940.000000  53940.000000  53940.000000   \n",
       "mean       0.797940     61.749405     57.457184   3932.799722      5.731157   \n",
       "std        0.474011      1.432621      2.234491   3989.439738      1.121761   \n",
       "min        0.200000     43.000000     43.000000    326.000000      0.000000   \n",
       "25%        0.400000     61.000000     56.000000    950.000000      4.710000   \n",
       "50%        0.700000     61.800000     57.000000   2401.000000      5.700000   \n",
       "75%        1.040000     62.500000     59.000000   5324.250000      6.540000   \n",
       "max        5.010000     79.000000     95.000000  18823.000000     10.740000   \n",
       "\n",
       "                  y             z  \n",
       "count  53940.000000  53940.000000  \n",
       "mean       5.734526      3.538734  \n",
       "std        1.142135      0.705699  \n",
       "min        0.000000      0.000000  \n",
       "25%        4.720000      2.910000  \n",
       "50%        5.710000      3.530000  \n",
       "75%        6.540000      4.040000  \n",
       "max       58.900000     31.800000  "
      ]
     },
     "execution_count": 21,
     "metadata": {},
     "output_type": "execute_result"
    }
   ],
=======
   "execution_count": 39,
   "metadata": {
    "collapsed": true
   },
   "outputs": [],
>>>>>>> 0ef2d8a6ba02da0bd84c6ca245544a1501dfc451
   "source": [
    "# summary stats \n",
    "diamonds.describe()"
   ]
  },
  {
   "cell_type": "markdown",
   "metadata": {
    "nbpresent": {
     "id": "5d655b68-e149-48cf-9739-b2f01fa13b88"
    },
    "slideshow": {
     "slide_type": "slide"
    }
   },
   "source": [
    "<a id='indexing'></a>\n",
    "\n",
    "### `pandas` Indexing \n",
    "\n",
    "---\n",
    "\n",
    "More often than not, we want to operate on or extract specific portions of our data. When we perform indexing on a DataFrame or Series, we can specify a certain section of the data.\n",
    "\n",
    "`pandas` has three properties you can use for indexing:\n",
    "\n",
    "- **`.loc`** indexes with the _labels_ for rows and columns.\n",
    "- **`.iloc`** indexes with the _integer positions_ for rows and columns."
   ]
  },
  {
   "cell_type": "markdown",
   "metadata": {
    "nbpresent": {
     "id": "7b01d33b-a550-4b6c-8a23-f6bcc9b20b13"
    },
    "slideshow": {
     "slide_type": "slide"
    }
   },
   "source": [
    "To help clarify these differences, let's first reset the row labels to letters using the ```.index``` attribute:"
   ]
  },
  {
   "cell_type": "code",
<<<<<<< HEAD
   "execution_count": 22,
=======
   "execution_count": 40,
>>>>>>> 0ef2d8a6ba02da0bd84c6ca245544a1501dfc451
   "metadata": {
    "collapsed": true,
    "nbpresent": {
     "id": "4162fb31-3624-4996-b1ec-a7a7eb23c5e5"
    },
    "slideshow": {
     "slide_type": "-"
    }
   },
   "outputs": [],
   "source": [
    "new_index_values = ['A','B','C','D','E','F','G','H','I','J','K','L','M','N','O','P','Q']\n",
    "drug.index=new_index_values\n"
   ]
  },
  {
   "cell_type": "code",
<<<<<<< HEAD
   "execution_count": 23,
=======
   "execution_count": 41,
>>>>>>> 0ef2d8a6ba02da0bd84c6ca245544a1501dfc451
   "metadata": {
    "nbpresent": {
     "id": "ca418139-0ea6-461f-8a78-fb9f1bbdbbe3"
    },
    "slideshow": {
     "slide_type": "fragment"
    }
   },
   "outputs": [
    {
     "data": {
      "text/html": [
       "<div>\n",
       "<style scoped>\n",
       "    .dataframe tbody tr th:only-of-type {\n",
       "        vertical-align: middle;\n",
       "    }\n",
       "\n",
       "    .dataframe tbody tr th {\n",
       "        vertical-align: top;\n",
       "    }\n",
       "\n",
       "    .dataframe thead th {\n",
       "        text-align: right;\n",
       "    }\n",
       "</style>\n",
       "<table border=\"1\" class=\"dataframe\">\n",
       "  <thead>\n",
       "    <tr style=\"text-align: right;\">\n",
       "      <th></th>\n",
       "      <th>age</th>\n",
       "      <th>n</th>\n",
       "      <th>alcohol-use</th>\n",
       "      <th>alcohol-frequency</th>\n",
       "      <th>marijuana-use</th>\n",
       "      <th>marijuana-frequency</th>\n",
       "      <th>cocaine-use</th>\n",
       "      <th>cocaine-frequency</th>\n",
       "      <th>crack-use</th>\n",
       "      <th>crack-frequency</th>\n",
<<<<<<< HEAD
       "      <th>...</th>\n",
=======
       "      <th>heroin-use</th>\n",
       "      <th>heroin-frequency</th>\n",
       "      <th>hallucinogen-use</th>\n",
       "      <th>hallucinogen-frequency</th>\n",
       "      <th>inhalant-use</th>\n",
       "      <th>inhalant-frequency</th>\n",
       "      <th>pain-releiver-use</th>\n",
       "      <th>pain-releiver-frequency</th>\n",
>>>>>>> 0ef2d8a6ba02da0bd84c6ca245544a1501dfc451
       "      <th>oxycontin-use</th>\n",
       "      <th>oxycontin-frequency</th>\n",
       "      <th>tranquilizer-use</th>\n",
       "      <th>tranquilizer-frequency</th>\n",
       "      <th>stimulant-use</th>\n",
       "      <th>stimulant-frequency</th>\n",
       "      <th>meth-use</th>\n",
       "      <th>meth-frequency</th>\n",
       "      <th>sedative-use</th>\n",
       "      <th>sedative-frequency</th>\n",
       "    </tr>\n",
       "  </thead>\n",
       "  <tbody>\n",
       "    <tr>\n",
       "      <th>A</th>\n",
       "      <td>12</td>\n",
       "      <td>2798</td>\n",
       "      <td>3.9</td>\n",
       "      <td>3.0</td>\n",
       "      <td>1.1</td>\n",
       "      <td>4.0</td>\n",
       "      <td>0.1</td>\n",
       "      <td>5.0</td>\n",
       "      <td>0.0</td>\n",
       "      <td>-</td>\n",
<<<<<<< HEAD
       "      <td>...</td>\n",
=======
       "      <td>0.1</td>\n",
       "      <td>35.5</td>\n",
       "      <td>0.2</td>\n",
       "      <td>52.0</td>\n",
       "      <td>1.6</td>\n",
       "      <td>19.0</td>\n",
       "      <td>2.0</td>\n",
       "      <td>36.0</td>\n",
>>>>>>> 0ef2d8a6ba02da0bd84c6ca245544a1501dfc451
       "      <td>0.1</td>\n",
       "      <td>24.5</td>\n",
       "      <td>0.2</td>\n",
       "      <td>52.0</td>\n",
       "      <td>0.2</td>\n",
       "      <td>2.0</td>\n",
       "      <td>0.0</td>\n",
       "      <td>-</td>\n",
       "      <td>0.2</td>\n",
       "      <td>13.0</td>\n",
       "    </tr>\n",
       "    <tr>\n",
       "      <th>B</th>\n",
       "      <td>13</td>\n",
       "      <td>2757</td>\n",
       "      <td>8.5</td>\n",
       "      <td>6.0</td>\n",
       "      <td>3.4</td>\n",
       "      <td>15.0</td>\n",
       "      <td>0.1</td>\n",
       "      <td>1.0</td>\n",
       "      <td>0.0</td>\n",
       "      <td>3.0</td>\n",
<<<<<<< HEAD
       "      <td>...</td>\n",
=======
       "      <td>0.0</td>\n",
       "      <td>-</td>\n",
       "      <td>0.6</td>\n",
       "      <td>6.0</td>\n",
       "      <td>2.5</td>\n",
       "      <td>12.0</td>\n",
       "      <td>2.4</td>\n",
       "      <td>14.0</td>\n",
>>>>>>> 0ef2d8a6ba02da0bd84c6ca245544a1501dfc451
       "      <td>0.1</td>\n",
       "      <td>41.0</td>\n",
       "      <td>0.3</td>\n",
       "      <td>25.5</td>\n",
       "      <td>0.3</td>\n",
       "      <td>4.0</td>\n",
       "      <td>0.1</td>\n",
       "      <td>5.0</td>\n",
       "      <td>0.1</td>\n",
       "      <td>19.0</td>\n",
       "    </tr>\n",
       "    <tr>\n",
       "      <th>C</th>\n",
       "      <td>14</td>\n",
       "      <td>2792</td>\n",
       "      <td>18.1</td>\n",
       "      <td>5.0</td>\n",
       "      <td>8.7</td>\n",
       "      <td>24.0</td>\n",
       "      <td>0.1</td>\n",
       "      <td>5.5</td>\n",
       "      <td>0.0</td>\n",
       "      <td>-</td>\n",
<<<<<<< HEAD
       "      <td>...</td>\n",
=======
       "      <td>0.1</td>\n",
       "      <td>2.0</td>\n",
       "      <td>1.6</td>\n",
       "      <td>3.0</td>\n",
       "      <td>2.6</td>\n",
       "      <td>5.0</td>\n",
       "      <td>3.9</td>\n",
       "      <td>12.0</td>\n",
>>>>>>> 0ef2d8a6ba02da0bd84c6ca245544a1501dfc451
       "      <td>0.4</td>\n",
       "      <td>4.5</td>\n",
       "      <td>0.9</td>\n",
       "      <td>5.0</td>\n",
       "      <td>0.8</td>\n",
       "      <td>12.0</td>\n",
       "      <td>0.1</td>\n",
       "      <td>24.0</td>\n",
       "      <td>0.2</td>\n",
       "      <td>16.5</td>\n",
       "    </tr>\n",
       "    <tr>\n",
       "      <th>D</th>\n",
       "      <td>15</td>\n",
       "      <td>2956</td>\n",
       "      <td>29.2</td>\n",
       "      <td>6.0</td>\n",
       "      <td>14.5</td>\n",
       "      <td>25.0</td>\n",
       "      <td>0.5</td>\n",
       "      <td>4.0</td>\n",
       "      <td>0.1</td>\n",
       "      <td>9.5</td>\n",
<<<<<<< HEAD
       "      <td>...</td>\n",
=======
       "      <td>0.2</td>\n",
       "      <td>1.0</td>\n",
       "      <td>2.1</td>\n",
       "      <td>4.0</td>\n",
       "      <td>2.5</td>\n",
       "      <td>5.5</td>\n",
       "      <td>5.5</td>\n",
       "      <td>10.0</td>\n",
>>>>>>> 0ef2d8a6ba02da0bd84c6ca245544a1501dfc451
       "      <td>0.8</td>\n",
       "      <td>3.0</td>\n",
       "      <td>2.0</td>\n",
       "      <td>4.5</td>\n",
       "      <td>1.5</td>\n",
       "      <td>6.0</td>\n",
       "      <td>0.3</td>\n",
       "      <td>10.5</td>\n",
       "      <td>0.4</td>\n",
       "      <td>30.0</td>\n",
       "    </tr>\n",
       "    <tr>\n",
       "      <th>E</th>\n",
       "      <td>16</td>\n",
       "      <td>3058</td>\n",
       "      <td>40.1</td>\n",
       "      <td>10.0</td>\n",
       "      <td>22.5</td>\n",
       "      <td>30.0</td>\n",
       "      <td>1.0</td>\n",
       "      <td>7.0</td>\n",
       "      <td>0.0</td>\n",
       "      <td>1.0</td>\n",
<<<<<<< HEAD
       "      <td>...</td>\n",
=======
       "      <td>0.1</td>\n",
       "      <td>66.5</td>\n",
       "      <td>3.4</td>\n",
       "      <td>3.0</td>\n",
       "      <td>3.0</td>\n",
       "      <td>3.0</td>\n",
       "      <td>6.2</td>\n",
       "      <td>7.0</td>\n",
>>>>>>> 0ef2d8a6ba02da0bd84c6ca245544a1501dfc451
       "      <td>1.1</td>\n",
       "      <td>4.0</td>\n",
       "      <td>2.4</td>\n",
       "      <td>11.0</td>\n",
       "      <td>1.8</td>\n",
       "      <td>9.5</td>\n",
       "      <td>0.3</td>\n",
       "      <td>36.0</td>\n",
       "      <td>0.2</td>\n",
       "      <td>3.0</td>\n",
       "    </tr>\n",
       "  </tbody>\n",
       "</table>\n",
<<<<<<< HEAD
       "<p>5 rows × 28 columns</p>\n",
=======
>>>>>>> 0ef2d8a6ba02da0bd84c6ca245544a1501dfc451
       "</div>"
      ],
      "text/plain": [
       "  age     n  alcohol-use  alcohol-frequency  marijuana-use  \\\n",
       "A  12  2798          3.9                3.0            1.1   \n",
       "B  13  2757          8.5                6.0            3.4   \n",
       "C  14  2792         18.1                5.0            8.7   \n",
       "D  15  2956         29.2                6.0           14.5   \n",
       "E  16  3058         40.1               10.0           22.5   \n",
       "\n",
       "   marijuana-frequency  cocaine-use cocaine-frequency  crack-use  \\\n",
       "A                  4.0          0.1               5.0        0.0   \n",
       "B                 15.0          0.1               1.0        0.0   \n",
       "C                 24.0          0.1               5.5        0.0   \n",
       "D                 25.0          0.5               4.0        0.1   \n",
       "E                 30.0          1.0               7.0        0.0   \n",
       "\n",
<<<<<<< HEAD
       "  crack-frequency        ...          oxycontin-use oxycontin-frequency  \\\n",
       "A               -        ...                    0.1                24.5   \n",
       "B             3.0        ...                    0.1                41.0   \n",
       "C               -        ...                    0.4                 4.5   \n",
       "D             9.5        ...                    0.8                 3.0   \n",
       "E             1.0        ...                    1.1                 4.0   \n",
=======
       "  crack-frequency  heroin-use heroin-frequency  hallucinogen-use  \\\n",
       "A               -         0.1             35.5               0.2   \n",
       "B             3.0         0.0                -               0.6   \n",
       "C               -         0.1              2.0               1.6   \n",
       "D             9.5         0.2              1.0               2.1   \n",
       "E             1.0         0.1             66.5               3.4   \n",
       "\n",
       "   hallucinogen-frequency  inhalant-use inhalant-frequency  pain-releiver-use  \\\n",
       "A                    52.0           1.6               19.0                2.0   \n",
       "B                     6.0           2.5               12.0                2.4   \n",
       "C                     3.0           2.6                5.0                3.9   \n",
       "D                     4.0           2.5                5.5                5.5   \n",
       "E                     3.0           3.0                3.0                6.2   \n",
       "\n",
       "   pain-releiver-frequency  oxycontin-use oxycontin-frequency  \\\n",
       "A                     36.0            0.1                24.5   \n",
       "B                     14.0            0.1                41.0   \n",
       "C                     12.0            0.4                 4.5   \n",
       "D                     10.0            0.8                 3.0   \n",
       "E                      7.0            1.1                 4.0   \n",
>>>>>>> 0ef2d8a6ba02da0bd84c6ca245544a1501dfc451
       "\n",
       "   tranquilizer-use  tranquilizer-frequency  stimulant-use  \\\n",
       "A               0.2                    52.0            0.2   \n",
       "B               0.3                    25.5            0.3   \n",
       "C               0.9                     5.0            0.8   \n",
       "D               2.0                     4.5            1.5   \n",
       "E               2.4                    11.0            1.8   \n",
       "\n",
<<<<<<< HEAD
       "  stimulant-frequency  meth-use  meth-frequency  sedative-use  \\\n",
       "A                 2.0       0.0               -           0.2   \n",
       "B                 4.0       0.1             5.0           0.1   \n",
       "C                12.0       0.1            24.0           0.2   \n",
       "D                 6.0       0.3            10.5           0.4   \n",
       "E                 9.5       0.3            36.0           0.2   \n",
       "\n",
       "  sedative-frequency  \n",
       "A               13.0  \n",
       "B               19.0  \n",
       "C               16.5  \n",
       "D               30.0  \n",
       "E                3.0  \n",
       "\n",
       "[5 rows x 28 columns]"
      ]
     },
     "execution_count": 23,
=======
       "   stimulant-frequency  meth-use meth-frequency  sedative-use  \\\n",
       "A                  2.0       0.0              -           0.2   \n",
       "B                  4.0       0.1            5.0           0.1   \n",
       "C                 12.0       0.1           24.0           0.2   \n",
       "D                  6.0       0.3           10.5           0.4   \n",
       "E                  9.5       0.3           36.0           0.2   \n",
       "\n",
       "   sedative-frequency  \n",
       "A                13.0  \n",
       "B                19.0  \n",
       "C                16.5  \n",
       "D                30.0  \n",
       "E                 3.0  "
      ]
     },
     "execution_count": 41,
     "metadata": {},
     "output_type": "execute_result"
    }
   ],
   "source": [
    "drug.head()"
   ]
  },
  {
   "cell_type": "markdown",
   "metadata": {
    "nbpresent": {
     "id": "956f0a2a-51b8-4910-b220-3aa00d8e3848"
    },
    "slideshow": {
     "slide_type": "slide"
    }
   },
   "source": [
    "Using the **`.loc`** indexer, we can pull out rows **B through F** and the **`marijuana-use` and `marijuana-frequency`** columns."
   ]
  },
  {
   "cell_type": "code",
   "execution_count": 42,
   "metadata": {
    "collapsed": true,
    "nbpresent": {
     "id": "a59893a2-95e8-41cc-b5d9-e0a1fe0800d8"
    }
   },
   "outputs": [],
   "source": [
    "subset = drug.loc[['B','C','D','E','F'], ['marijuana-use','marijuana-frequency']]"
   ]
  },
  {
   "cell_type": "code",
   "execution_count": 43,
   "metadata": {
    "nbpresent": {
     "id": "dc4ccdda-2932-48c7-a7d7-1f1b1f30826c"
    }
   },
   "outputs": [
    {
     "data": {
      "text/html": [
       "<div>\n",
       "<style scoped>\n",
       "    .dataframe tbody tr th:only-of-type {\n",
       "        vertical-align: middle;\n",
       "    }\n",
       "\n",
       "    .dataframe tbody tr th {\n",
       "        vertical-align: top;\n",
       "    }\n",
       "\n",
       "    .dataframe thead th {\n",
       "        text-align: right;\n",
       "    }\n",
       "</style>\n",
       "<table border=\"1\" class=\"dataframe\">\n",
       "  <thead>\n",
       "    <tr style=\"text-align: right;\">\n",
       "      <th></th>\n",
       "      <th>marijuana-use</th>\n",
       "      <th>marijuana-frequency</th>\n",
       "    </tr>\n",
       "  </thead>\n",
       "  <tbody>\n",
       "    <tr>\n",
       "      <th>B</th>\n",
       "      <td>3.4</td>\n",
       "      <td>15.0</td>\n",
       "    </tr>\n",
       "    <tr>\n",
       "      <th>C</th>\n",
       "      <td>8.7</td>\n",
       "      <td>24.0</td>\n",
       "    </tr>\n",
       "    <tr>\n",
       "      <th>D</th>\n",
       "      <td>14.5</td>\n",
       "      <td>25.0</td>\n",
       "    </tr>\n",
       "    <tr>\n",
       "      <th>E</th>\n",
       "      <td>22.5</td>\n",
       "      <td>30.0</td>\n",
       "    </tr>\n",
       "    <tr>\n",
       "      <th>F</th>\n",
       "      <td>28.0</td>\n",
       "      <td>36.0</td>\n",
       "    </tr>\n",
       "  </tbody>\n",
       "</table>\n",
       "</div>"
      ],
      "text/plain": [
       "   marijuana-use  marijuana-frequency\n",
       "B            3.4                 15.0\n",
       "C            8.7                 24.0\n",
       "D           14.5                 25.0\n",
       "E           22.5                 30.0\n",
       "F           28.0                 36.0"
      ]
     },
     "execution_count": 43,
     "metadata": {},
     "output_type": "execute_result"
    }
   ],
   "source": [
    "subset"
   ]
  },
  {
   "cell_type": "markdown",
   "metadata": {
    "nbpresent": {
     "id": "f11ab893-74b1-4e2d-bdd9-0c9ed30df508"
    },
    "slideshow": {
     "slide_type": "slide"
    }
   },
   "source": [
    "We can do the same thing with the **`.iloc`** indexer, but we have to use integers for the location."
   ]
  },
  {
   "cell_type": "code",
   "execution_count": 44,
   "metadata": {
    "collapsed": true,
    "nbpresent": {
     "id": "569889dd-4d0c-4286-91d0-36aff19306cd"
    }
   },
   "outputs": [],
   "source": [
    "subset = drug.iloc[[1,2,3,4,5], [4,5]]"
   ]
  },
  {
   "cell_type": "code",
   "execution_count": 45,
   "metadata": {
    "nbpresent": {
     "id": "2c2199b3-4aef-415b-b449-b7d18027bd4c"
    }
   },
   "outputs": [
    {
     "data": {
      "text/html": [
       "<div>\n",
       "<style scoped>\n",
       "    .dataframe tbody tr th:only-of-type {\n",
       "        vertical-align: middle;\n",
       "    }\n",
       "\n",
       "    .dataframe tbody tr th {\n",
       "        vertical-align: top;\n",
       "    }\n",
       "\n",
       "    .dataframe thead th {\n",
       "        text-align: right;\n",
       "    }\n",
       "</style>\n",
       "<table border=\"1\" class=\"dataframe\">\n",
       "  <thead>\n",
       "    <tr style=\"text-align: right;\">\n",
       "      <th></th>\n",
       "      <th>marijuana-use</th>\n",
       "      <th>marijuana-frequency</th>\n",
       "    </tr>\n",
       "  </thead>\n",
       "  <tbody>\n",
       "    <tr>\n",
       "      <th>B</th>\n",
       "      <td>3.4</td>\n",
       "      <td>15.0</td>\n",
       "    </tr>\n",
       "    <tr>\n",
       "      <th>C</th>\n",
       "      <td>8.7</td>\n",
       "      <td>24.0</td>\n",
       "    </tr>\n",
       "    <tr>\n",
       "      <th>D</th>\n",
       "      <td>14.5</td>\n",
       "      <td>25.0</td>\n",
       "    </tr>\n",
       "    <tr>\n",
       "      <th>E</th>\n",
       "      <td>22.5</td>\n",
       "      <td>30.0</td>\n",
       "    </tr>\n",
       "    <tr>\n",
       "      <th>F</th>\n",
       "      <td>28.0</td>\n",
       "      <td>36.0</td>\n",
       "    </tr>\n",
       "  </tbody>\n",
       "</table>\n",
       "</div>"
      ],
      "text/plain": [
       "   marijuana-use  marijuana-frequency\n",
       "B            3.4                 15.0\n",
       "C            8.7                 24.0\n",
       "D           14.5                 25.0\n",
       "E           22.5                 30.0\n",
       "F           28.0                 36.0"
      ]
     },
     "execution_count": 45,
     "metadata": {},
     "output_type": "execute_result"
    }
   ],
   "source": [
    "subset"
   ]
  },
  {
   "cell_type": "markdown",
   "metadata": {
    "nbpresent": {
     "id": "a54d822b-89ae-4a54-924c-edc201b2a0e9"
    },
    "slideshow": {
     "slide_type": "fragment"
    }
   },
   "source": [
    "If you try to index the rows or columns with integers using **`.loc`**, you will get an error."
   ]
  },
  {
   "cell_type": "markdown",
   "metadata": {
    "nbpresent": {
     "id": "1cfa2f3c-b792-4b5b-95a7-4bc6d2298ca6"
    },
    "slideshow": {
     "slide_type": "slide"
    }
   },
   "source": [
    "Note that you can automatically reorder the data just by reordering the indices you enter when you perform the indexing operation!"
   ]
  },
  {
   "cell_type": "markdown",
   "metadata": {},
   "source": [
    "While we created an index earlier, we can also use a column to set an index."
   ]
  },
  {
   "cell_type": "code",
   "execution_count": 47,
   "metadata": {},
   "outputs": [
    {
     "data": {
      "text/html": [
       "<div>\n",
       "<style scoped>\n",
       "    .dataframe tbody tr th:only-of-type {\n",
       "        vertical-align: middle;\n",
       "    }\n",
       "\n",
       "    .dataframe tbody tr th {\n",
       "        vertical-align: top;\n",
       "    }\n",
       "\n",
       "    .dataframe thead th {\n",
       "        text-align: right;\n",
       "    }\n",
       "</style>\n",
       "<table border=\"1\" class=\"dataframe\">\n",
       "  <thead>\n",
       "    <tr style=\"text-align: right;\">\n",
       "      <th></th>\n",
       "      <th>age</th>\n",
       "      <th>n</th>\n",
       "      <th>alcohol-use</th>\n",
       "      <th>alcohol-frequency</th>\n",
       "      <th>marijuana-use</th>\n",
       "      <th>marijuana-frequency</th>\n",
       "      <th>cocaine-use</th>\n",
       "      <th>cocaine-frequency</th>\n",
       "      <th>crack-use</th>\n",
       "      <th>crack-frequency</th>\n",
       "      <th>heroin-use</th>\n",
       "      <th>heroin-frequency</th>\n",
       "      <th>hallucinogen-use</th>\n",
       "      <th>hallucinogen-frequency</th>\n",
       "      <th>inhalant-use</th>\n",
       "      <th>inhalant-frequency</th>\n",
       "      <th>pain-releiver-use</th>\n",
       "      <th>pain-releiver-frequency</th>\n",
       "      <th>oxycontin-use</th>\n",
       "      <th>oxycontin-frequency</th>\n",
       "      <th>tranquilizer-use</th>\n",
       "      <th>tranquilizer-frequency</th>\n",
       "      <th>stimulant-use</th>\n",
       "      <th>stimulant-frequency</th>\n",
       "      <th>meth-use</th>\n",
       "      <th>meth-frequency</th>\n",
       "      <th>sedative-use</th>\n",
       "      <th>sedative-frequency</th>\n",
       "    </tr>\n",
       "    <tr>\n",
       "      <th>age</th>\n",
       "      <th></th>\n",
       "      <th></th>\n",
       "      <th></th>\n",
       "      <th></th>\n",
       "      <th></th>\n",
       "      <th></th>\n",
       "      <th></th>\n",
       "      <th></th>\n",
       "      <th></th>\n",
       "      <th></th>\n",
       "      <th></th>\n",
       "      <th></th>\n",
       "      <th></th>\n",
       "      <th></th>\n",
       "      <th></th>\n",
       "      <th></th>\n",
       "      <th></th>\n",
       "      <th></th>\n",
       "      <th></th>\n",
       "      <th></th>\n",
       "      <th></th>\n",
       "      <th></th>\n",
       "      <th></th>\n",
       "      <th></th>\n",
       "      <th></th>\n",
       "      <th></th>\n",
       "      <th></th>\n",
       "      <th></th>\n",
       "    </tr>\n",
       "  </thead>\n",
       "  <tbody>\n",
       "    <tr>\n",
       "      <th>12</th>\n",
       "      <td>12</td>\n",
       "      <td>2798</td>\n",
       "      <td>3.9</td>\n",
       "      <td>3.0</td>\n",
       "      <td>1.1</td>\n",
       "      <td>4.0</td>\n",
       "      <td>0.1</td>\n",
       "      <td>5.0</td>\n",
       "      <td>0.0</td>\n",
       "      <td>-</td>\n",
       "      <td>0.1</td>\n",
       "      <td>35.5</td>\n",
       "      <td>0.2</td>\n",
       "      <td>52.0</td>\n",
       "      <td>1.6</td>\n",
       "      <td>19.0</td>\n",
       "      <td>2.0</td>\n",
       "      <td>36.0</td>\n",
       "      <td>0.1</td>\n",
       "      <td>24.5</td>\n",
       "      <td>0.2</td>\n",
       "      <td>52.0</td>\n",
       "      <td>0.2</td>\n",
       "      <td>2.0</td>\n",
       "      <td>0.0</td>\n",
       "      <td>-</td>\n",
       "      <td>0.2</td>\n",
       "      <td>13.0</td>\n",
       "    </tr>\n",
       "    <tr>\n",
       "      <th>13</th>\n",
       "      <td>13</td>\n",
       "      <td>2757</td>\n",
       "      <td>8.5</td>\n",
       "      <td>6.0</td>\n",
       "      <td>3.4</td>\n",
       "      <td>15.0</td>\n",
       "      <td>0.1</td>\n",
       "      <td>1.0</td>\n",
       "      <td>0.0</td>\n",
       "      <td>3.0</td>\n",
       "      <td>0.0</td>\n",
       "      <td>-</td>\n",
       "      <td>0.6</td>\n",
       "      <td>6.0</td>\n",
       "      <td>2.5</td>\n",
       "      <td>12.0</td>\n",
       "      <td>2.4</td>\n",
       "      <td>14.0</td>\n",
       "      <td>0.1</td>\n",
       "      <td>41.0</td>\n",
       "      <td>0.3</td>\n",
       "      <td>25.5</td>\n",
       "      <td>0.3</td>\n",
       "      <td>4.0</td>\n",
       "      <td>0.1</td>\n",
       "      <td>5.0</td>\n",
       "      <td>0.1</td>\n",
       "      <td>19.0</td>\n",
       "    </tr>\n",
       "    <tr>\n",
       "      <th>14</th>\n",
       "      <td>14</td>\n",
       "      <td>2792</td>\n",
       "      <td>18.1</td>\n",
       "      <td>5.0</td>\n",
       "      <td>8.7</td>\n",
       "      <td>24.0</td>\n",
       "      <td>0.1</td>\n",
       "      <td>5.5</td>\n",
       "      <td>0.0</td>\n",
       "      <td>-</td>\n",
       "      <td>0.1</td>\n",
       "      <td>2.0</td>\n",
       "      <td>1.6</td>\n",
       "      <td>3.0</td>\n",
       "      <td>2.6</td>\n",
       "      <td>5.0</td>\n",
       "      <td>3.9</td>\n",
       "      <td>12.0</td>\n",
       "      <td>0.4</td>\n",
       "      <td>4.5</td>\n",
       "      <td>0.9</td>\n",
       "      <td>5.0</td>\n",
       "      <td>0.8</td>\n",
       "      <td>12.0</td>\n",
       "      <td>0.1</td>\n",
       "      <td>24.0</td>\n",
       "      <td>0.2</td>\n",
       "      <td>16.5</td>\n",
       "    </tr>\n",
       "    <tr>\n",
       "      <th>15</th>\n",
       "      <td>15</td>\n",
       "      <td>2956</td>\n",
       "      <td>29.2</td>\n",
       "      <td>6.0</td>\n",
       "      <td>14.5</td>\n",
       "      <td>25.0</td>\n",
       "      <td>0.5</td>\n",
       "      <td>4.0</td>\n",
       "      <td>0.1</td>\n",
       "      <td>9.5</td>\n",
       "      <td>0.2</td>\n",
       "      <td>1.0</td>\n",
       "      <td>2.1</td>\n",
       "      <td>4.0</td>\n",
       "      <td>2.5</td>\n",
       "      <td>5.5</td>\n",
       "      <td>5.5</td>\n",
       "      <td>10.0</td>\n",
       "      <td>0.8</td>\n",
       "      <td>3.0</td>\n",
       "      <td>2.0</td>\n",
       "      <td>4.5</td>\n",
       "      <td>1.5</td>\n",
       "      <td>6.0</td>\n",
       "      <td>0.3</td>\n",
       "      <td>10.5</td>\n",
       "      <td>0.4</td>\n",
       "      <td>30.0</td>\n",
       "    </tr>\n",
       "    <tr>\n",
       "      <th>16</th>\n",
       "      <td>16</td>\n",
       "      <td>3058</td>\n",
       "      <td>40.1</td>\n",
       "      <td>10.0</td>\n",
       "      <td>22.5</td>\n",
       "      <td>30.0</td>\n",
       "      <td>1.0</td>\n",
       "      <td>7.0</td>\n",
       "      <td>0.0</td>\n",
       "      <td>1.0</td>\n",
       "      <td>0.1</td>\n",
       "      <td>66.5</td>\n",
       "      <td>3.4</td>\n",
       "      <td>3.0</td>\n",
       "      <td>3.0</td>\n",
       "      <td>3.0</td>\n",
       "      <td>6.2</td>\n",
       "      <td>7.0</td>\n",
       "      <td>1.1</td>\n",
       "      <td>4.0</td>\n",
       "      <td>2.4</td>\n",
       "      <td>11.0</td>\n",
       "      <td>1.8</td>\n",
       "      <td>9.5</td>\n",
       "      <td>0.3</td>\n",
       "      <td>36.0</td>\n",
       "      <td>0.2</td>\n",
       "      <td>3.0</td>\n",
       "    </tr>\n",
       "  </tbody>\n",
       "</table>\n",
       "</div>"
      ],
      "text/plain": [
       "    age     n  alcohol-use  alcohol-frequency  marijuana-use  \\\n",
       "age                                                            \n",
       "12   12  2798          3.9                3.0            1.1   \n",
       "13   13  2757          8.5                6.0            3.4   \n",
       "14   14  2792         18.1                5.0            8.7   \n",
       "15   15  2956         29.2                6.0           14.5   \n",
       "16   16  3058         40.1               10.0           22.5   \n",
       "\n",
       "     marijuana-frequency  cocaine-use cocaine-frequency  crack-use  \\\n",
       "age                                                                  \n",
       "12                   4.0          0.1               5.0        0.0   \n",
       "13                  15.0          0.1               1.0        0.0   \n",
       "14                  24.0          0.1               5.5        0.0   \n",
       "15                  25.0          0.5               4.0        0.1   \n",
       "16                  30.0          1.0               7.0        0.0   \n",
       "\n",
       "    crack-frequency  heroin-use heroin-frequency  hallucinogen-use  \\\n",
       "age                                                                  \n",
       "12                -         0.1             35.5               0.2   \n",
       "13              3.0         0.0                -               0.6   \n",
       "14                -         0.1              2.0               1.6   \n",
       "15              9.5         0.2              1.0               2.1   \n",
       "16              1.0         0.1             66.5               3.4   \n",
       "\n",
       "     hallucinogen-frequency  inhalant-use inhalant-frequency  \\\n",
       "age                                                            \n",
       "12                     52.0           1.6               19.0   \n",
       "13                      6.0           2.5               12.0   \n",
       "14                      3.0           2.6                5.0   \n",
       "15                      4.0           2.5                5.5   \n",
       "16                      3.0           3.0                3.0   \n",
       "\n",
       "     pain-releiver-use  pain-releiver-frequency  oxycontin-use  \\\n",
       "age                                                              \n",
       "12                 2.0                     36.0            0.1   \n",
       "13                 2.4                     14.0            0.1   \n",
       "14                 3.9                     12.0            0.4   \n",
       "15                 5.5                     10.0            0.8   \n",
       "16                 6.2                      7.0            1.1   \n",
       "\n",
       "    oxycontin-frequency  tranquilizer-use  tranquilizer-frequency  \\\n",
       "age                                                                 \n",
       "12                 24.5               0.2                    52.0   \n",
       "13                 41.0               0.3                    25.5   \n",
       "14                  4.5               0.9                     5.0   \n",
       "15                  3.0               2.0                     4.5   \n",
       "16                  4.0               2.4                    11.0   \n",
       "\n",
       "     stimulant-use  stimulant-frequency  meth-use meth-frequency  \\\n",
       "age                                                                \n",
       "12             0.2                  2.0       0.0              -   \n",
       "13             0.3                  4.0       0.1            5.0   \n",
       "14             0.8                 12.0       0.1           24.0   \n",
       "15             1.5                  6.0       0.3           10.5   \n",
       "16             1.8                  9.5       0.3           36.0   \n",
       "\n",
       "     sedative-use  sedative-frequency  \n",
       "age                                    \n",
       "12            0.2                13.0  \n",
       "13            0.1                19.0  \n",
       "14            0.2                16.5  \n",
       "15            0.4                30.0  \n",
       "16            0.2                 3.0  "
      ]
     },
     "execution_count": 47,
     "metadata": {},
     "output_type": "execute_result"
    }
   ],
   "source": [
    "drug.index = drug['age']\n",
    "\n",
    "drug.head()"
   ]
  },
  {
   "cell_type": "markdown",
   "metadata": {},
   "source": [
    "Is age the best feature to use as an index?  \n",
    "\n",
    "If it isn't we can use the `df.reset_index()` to reset our index."
   ]
  },
  {
   "cell_type": "code",
   "execution_count": 49,
   "metadata": {},
   "outputs": [
    {
     "data": {
      "text/html": [
       "<div>\n",
       "<style scoped>\n",
       "    .dataframe tbody tr th:only-of-type {\n",
       "        vertical-align: middle;\n",
       "    }\n",
       "\n",
       "    .dataframe tbody tr th {\n",
       "        vertical-align: top;\n",
       "    }\n",
       "\n",
       "    .dataframe thead th {\n",
       "        text-align: right;\n",
       "    }\n",
       "</style>\n",
       "<table border=\"1\" class=\"dataframe\">\n",
       "  <thead>\n",
       "    <tr style=\"text-align: right;\">\n",
       "      <th></th>\n",
       "      <th>age</th>\n",
       "      <th>n</th>\n",
       "      <th>alcohol-use</th>\n",
       "      <th>alcohol-frequency</th>\n",
       "      <th>marijuana-use</th>\n",
       "      <th>marijuana-frequency</th>\n",
       "      <th>cocaine-use</th>\n",
       "      <th>cocaine-frequency</th>\n",
       "      <th>crack-use</th>\n",
       "      <th>crack-frequency</th>\n",
       "      <th>heroin-use</th>\n",
       "      <th>heroin-frequency</th>\n",
       "      <th>hallucinogen-use</th>\n",
       "      <th>hallucinogen-frequency</th>\n",
       "      <th>inhalant-use</th>\n",
       "      <th>inhalant-frequency</th>\n",
       "      <th>pain-releiver-use</th>\n",
       "      <th>pain-releiver-frequency</th>\n",
       "      <th>oxycontin-use</th>\n",
       "      <th>oxycontin-frequency</th>\n",
       "      <th>tranquilizer-use</th>\n",
       "      <th>tranquilizer-frequency</th>\n",
       "      <th>stimulant-use</th>\n",
       "      <th>stimulant-frequency</th>\n",
       "      <th>meth-use</th>\n",
       "      <th>meth-frequency</th>\n",
       "      <th>sedative-use</th>\n",
       "      <th>sedative-frequency</th>\n",
       "    </tr>\n",
       "  </thead>\n",
       "  <tbody>\n",
       "    <tr>\n",
       "      <th>0</th>\n",
       "      <td>12</td>\n",
       "      <td>2798</td>\n",
       "      <td>3.9</td>\n",
       "      <td>3.0</td>\n",
       "      <td>1.1</td>\n",
       "      <td>4.0</td>\n",
       "      <td>0.1</td>\n",
       "      <td>5.0</td>\n",
       "      <td>0.0</td>\n",
       "      <td>-</td>\n",
       "      <td>0.1</td>\n",
       "      <td>35.5</td>\n",
       "      <td>0.2</td>\n",
       "      <td>52.0</td>\n",
       "      <td>1.6</td>\n",
       "      <td>19.0</td>\n",
       "      <td>2.0</td>\n",
       "      <td>36.0</td>\n",
       "      <td>0.1</td>\n",
       "      <td>24.5</td>\n",
       "      <td>0.2</td>\n",
       "      <td>52.0</td>\n",
       "      <td>0.2</td>\n",
       "      <td>2.0</td>\n",
       "      <td>0.0</td>\n",
       "      <td>-</td>\n",
       "      <td>0.2</td>\n",
       "      <td>13.0</td>\n",
       "    </tr>\n",
       "    <tr>\n",
       "      <th>1</th>\n",
       "      <td>13</td>\n",
       "      <td>2757</td>\n",
       "      <td>8.5</td>\n",
       "      <td>6.0</td>\n",
       "      <td>3.4</td>\n",
       "      <td>15.0</td>\n",
       "      <td>0.1</td>\n",
       "      <td>1.0</td>\n",
       "      <td>0.0</td>\n",
       "      <td>3.0</td>\n",
       "      <td>0.0</td>\n",
       "      <td>-</td>\n",
       "      <td>0.6</td>\n",
       "      <td>6.0</td>\n",
       "      <td>2.5</td>\n",
       "      <td>12.0</td>\n",
       "      <td>2.4</td>\n",
       "      <td>14.0</td>\n",
       "      <td>0.1</td>\n",
       "      <td>41.0</td>\n",
       "      <td>0.3</td>\n",
       "      <td>25.5</td>\n",
       "      <td>0.3</td>\n",
       "      <td>4.0</td>\n",
       "      <td>0.1</td>\n",
       "      <td>5.0</td>\n",
       "      <td>0.1</td>\n",
       "      <td>19.0</td>\n",
       "    </tr>\n",
       "    <tr>\n",
       "      <th>2</th>\n",
       "      <td>14</td>\n",
       "      <td>2792</td>\n",
       "      <td>18.1</td>\n",
       "      <td>5.0</td>\n",
       "      <td>8.7</td>\n",
       "      <td>24.0</td>\n",
       "      <td>0.1</td>\n",
       "      <td>5.5</td>\n",
       "      <td>0.0</td>\n",
       "      <td>-</td>\n",
       "      <td>0.1</td>\n",
       "      <td>2.0</td>\n",
       "      <td>1.6</td>\n",
       "      <td>3.0</td>\n",
       "      <td>2.6</td>\n",
       "      <td>5.0</td>\n",
       "      <td>3.9</td>\n",
       "      <td>12.0</td>\n",
       "      <td>0.4</td>\n",
       "      <td>4.5</td>\n",
       "      <td>0.9</td>\n",
       "      <td>5.0</td>\n",
       "      <td>0.8</td>\n",
       "      <td>12.0</td>\n",
       "      <td>0.1</td>\n",
       "      <td>24.0</td>\n",
       "      <td>0.2</td>\n",
       "      <td>16.5</td>\n",
       "    </tr>\n",
       "    <tr>\n",
       "      <th>3</th>\n",
       "      <td>15</td>\n",
       "      <td>2956</td>\n",
       "      <td>29.2</td>\n",
       "      <td>6.0</td>\n",
       "      <td>14.5</td>\n",
       "      <td>25.0</td>\n",
       "      <td>0.5</td>\n",
       "      <td>4.0</td>\n",
       "      <td>0.1</td>\n",
       "      <td>9.5</td>\n",
       "      <td>0.2</td>\n",
       "      <td>1.0</td>\n",
       "      <td>2.1</td>\n",
       "      <td>4.0</td>\n",
       "      <td>2.5</td>\n",
       "      <td>5.5</td>\n",
       "      <td>5.5</td>\n",
       "      <td>10.0</td>\n",
       "      <td>0.8</td>\n",
       "      <td>3.0</td>\n",
       "      <td>2.0</td>\n",
       "      <td>4.5</td>\n",
       "      <td>1.5</td>\n",
       "      <td>6.0</td>\n",
       "      <td>0.3</td>\n",
       "      <td>10.5</td>\n",
       "      <td>0.4</td>\n",
       "      <td>30.0</td>\n",
       "    </tr>\n",
       "    <tr>\n",
       "      <th>4</th>\n",
       "      <td>16</td>\n",
       "      <td>3058</td>\n",
       "      <td>40.1</td>\n",
       "      <td>10.0</td>\n",
       "      <td>22.5</td>\n",
       "      <td>30.0</td>\n",
       "      <td>1.0</td>\n",
       "      <td>7.0</td>\n",
       "      <td>0.0</td>\n",
       "      <td>1.0</td>\n",
       "      <td>0.1</td>\n",
       "      <td>66.5</td>\n",
       "      <td>3.4</td>\n",
       "      <td>3.0</td>\n",
       "      <td>3.0</td>\n",
       "      <td>3.0</td>\n",
       "      <td>6.2</td>\n",
       "      <td>7.0</td>\n",
       "      <td>1.1</td>\n",
       "      <td>4.0</td>\n",
       "      <td>2.4</td>\n",
       "      <td>11.0</td>\n",
       "      <td>1.8</td>\n",
       "      <td>9.5</td>\n",
       "      <td>0.3</td>\n",
       "      <td>36.0</td>\n",
       "      <td>0.2</td>\n",
       "      <td>3.0</td>\n",
       "    </tr>\n",
       "  </tbody>\n",
       "</table>\n",
       "</div>"
      ],
      "text/plain": [
       "  age     n  alcohol-use  alcohol-frequency  marijuana-use  \\\n",
       "0  12  2798          3.9                3.0            1.1   \n",
       "1  13  2757          8.5                6.0            3.4   \n",
       "2  14  2792         18.1                5.0            8.7   \n",
       "3  15  2956         29.2                6.0           14.5   \n",
       "4  16  3058         40.1               10.0           22.5   \n",
       "\n",
       "   marijuana-frequency  cocaine-use cocaine-frequency  crack-use  \\\n",
       "0                  4.0          0.1               5.0        0.0   \n",
       "1                 15.0          0.1               1.0        0.0   \n",
       "2                 24.0          0.1               5.5        0.0   \n",
       "3                 25.0          0.5               4.0        0.1   \n",
       "4                 30.0          1.0               7.0        0.0   \n",
       "\n",
       "  crack-frequency  heroin-use heroin-frequency  hallucinogen-use  \\\n",
       "0               -         0.1             35.5               0.2   \n",
       "1             3.0         0.0                -               0.6   \n",
       "2               -         0.1              2.0               1.6   \n",
       "3             9.5         0.2              1.0               2.1   \n",
       "4             1.0         0.1             66.5               3.4   \n",
       "\n",
       "   hallucinogen-frequency  inhalant-use inhalant-frequency  pain-releiver-use  \\\n",
       "0                    52.0           1.6               19.0                2.0   \n",
       "1                     6.0           2.5               12.0                2.4   \n",
       "2                     3.0           2.6                5.0                3.9   \n",
       "3                     4.0           2.5                5.5                5.5   \n",
       "4                     3.0           3.0                3.0                6.2   \n",
       "\n",
       "   pain-releiver-frequency  oxycontin-use oxycontin-frequency  \\\n",
       "0                     36.0            0.1                24.5   \n",
       "1                     14.0            0.1                41.0   \n",
       "2                     12.0            0.4                 4.5   \n",
       "3                     10.0            0.8                 3.0   \n",
       "4                      7.0            1.1                 4.0   \n",
       "\n",
       "   tranquilizer-use  tranquilizer-frequency  stimulant-use  \\\n",
       "0               0.2                    52.0            0.2   \n",
       "1               0.3                    25.5            0.3   \n",
       "2               0.9                     5.0            0.8   \n",
       "3               2.0                     4.5            1.5   \n",
       "4               2.4                    11.0            1.8   \n",
       "\n",
       "   stimulant-frequency  meth-use meth-frequency  sedative-use  \\\n",
       "0                  2.0       0.0              -           0.2   \n",
       "1                  4.0       0.1            5.0           0.1   \n",
       "2                 12.0       0.1           24.0           0.2   \n",
       "3                  6.0       0.3           10.5           0.4   \n",
       "4                  9.5       0.3           36.0           0.2   \n",
       "\n",
       "   sedative-frequency  \n",
       "0                13.0  \n",
       "1                19.0  \n",
       "2                16.5  \n",
       "3                30.0  \n",
       "4                 3.0  "
      ]
     },
     "execution_count": 49,
>>>>>>> 0ef2d8a6ba02da0bd84c6ca245544a1501dfc451
     "metadata": {},
     "output_type": "execute_result"
    }
   ],
   "source": [
    "drug.head()"
   ]
  },
  {
   "cell_type": "markdown",
   "metadata": {
    "nbpresent": {
     "id": "956f0a2a-51b8-4910-b220-3aa00d8e3848"
    },
    "slideshow": {
     "slide_type": "slide"
    }
   },
   "source": [
    "Using the **`.loc`** indexer, we can pull out rows **B through F** and the **`marijuana-use` and `marijuana-frequency`** columns."
   ]
  },
  {
   "cell_type": "code",
<<<<<<< HEAD
   "execution_count": 24,
=======
   "execution_count": 50,
>>>>>>> 0ef2d8a6ba02da0bd84c6ca245544a1501dfc451
   "metadata": {
    "collapsed": true,
    "nbpresent": {
     "id": "a59893a2-95e8-41cc-b5d9-e0a1fe0800d8"
    }
   },
   "outputs": [],
   "source": [
    "subset = drug.loc[['B','C','D','E','F'], ['marijuana-use','marijuana-frequency']]"
   ]
  },
  {
   "cell_type": "code",
<<<<<<< HEAD
   "execution_count": 25,
=======
   "execution_count": 51,
>>>>>>> 0ef2d8a6ba02da0bd84c6ca245544a1501dfc451
   "metadata": {
    "nbpresent": {
     "id": "dc4ccdda-2932-48c7-a7d7-1f1b1f30826c"
    }
   },
   "outputs": [
    {
     "data": {
      "text/html": [
       "<div>\n",
       "<style scoped>\n",
       "    .dataframe tbody tr th:only-of-type {\n",
       "        vertical-align: middle;\n",
       "    }\n",
       "\n",
       "    .dataframe tbody tr th {\n",
       "        vertical-align: top;\n",
       "    }\n",
       "\n",
       "    .dataframe thead th {\n",
       "        text-align: right;\n",
       "    }\n",
       "</style>\n",
       "<table border=\"1\" class=\"dataframe\">\n",
       "  <thead>\n",
       "    <tr style=\"text-align: right;\">\n",
       "      <th></th>\n",
<<<<<<< HEAD
       "      <th>marijuana-use</th>\n",
       "      <th>marijuana-frequency</th>\n",
=======
       "      <th>Floats</th>\n",
       "      <th>Integers</th>\n",
       "      <th>Letters</th>\n",
>>>>>>> 0ef2d8a6ba02da0bd84c6ca245544a1501dfc451
       "    </tr>\n",
       "  </thead>\n",
       "  <tbody>\n",
       "    <tr>\n",
<<<<<<< HEAD
       "      <th>B</th>\n",
       "      <td>3.4</td>\n",
       "      <td>15.0</td>\n",
       "    </tr>\n",
       "    <tr>\n",
       "      <th>C</th>\n",
       "      <td>8.7</td>\n",
       "      <td>24.0</td>\n",
       "    </tr>\n",
       "    <tr>\n",
       "      <th>D</th>\n",
       "      <td>14.5</td>\n",
       "      <td>25.0</td>\n",
       "    </tr>\n",
       "    <tr>\n",
       "      <th>E</th>\n",
       "      <td>22.5</td>\n",
       "      <td>30.0</td>\n",
       "    </tr>\n",
       "    <tr>\n",
       "      <th>F</th>\n",
       "      <td>28.0</td>\n",
       "      <td>36.0</td>\n",
=======
       "      <th>0</th>\n",
       "      <td>2.2</td>\n",
       "      <td>1</td>\n",
       "      <td>A</td>\n",
       "    </tr>\n",
       "    <tr>\n",
       "      <th>1</th>\n",
       "      <td>3.3</td>\n",
       "      <td>2</td>\n",
       "      <td>B</td>\n",
       "    </tr>\n",
       "    <tr>\n",
       "      <th>2</th>\n",
       "      <td>4.4</td>\n",
       "      <td>3</td>\n",
       "      <td>C</td>\n",
>>>>>>> 0ef2d8a6ba02da0bd84c6ca245544a1501dfc451
       "    </tr>\n",
       "  </tbody>\n",
       "</table>\n",
       "</div>"
      ],
      "text/plain": [
<<<<<<< HEAD
       "   marijuana-use  marijuana-frequency\n",
       "B            3.4                 15.0\n",
       "C            8.7                 24.0\n",
       "D           14.5                 25.0\n",
       "E           22.5                 30.0\n",
       "F           28.0                 36.0"
      ]
     },
     "execution_count": 25,
     "metadata": {},
     "output_type": "execute_result"
=======
       "   Floats  Integers Letters\n",
       "0     2.2         1       A\n",
       "1     3.3         2       B\n",
       "2     4.4         3       C"
      ]
     },
     "execution_count": 51,
     "metadata": {},
     "output_type": "execute_result"
    }
   ],
   "source": [
    "mydata"
   ]
  },
  {
   "cell_type": "markdown",
   "metadata": {
    "nbpresent": {
     "id": "61856902-23ac-482d-bf1e-791d84e2caad"
    },
    "slideshow": {
     "slide_type": "fragment"
>>>>>>> 0ef2d8a6ba02da0bd84c6ca245544a1501dfc451
    }
   ],
   "source": [
    "subset"
   ]
  },
  {
   "cell_type": "markdown",
   "metadata": {
    "nbpresent": {
     "id": "f11ab893-74b1-4e2d-bdd9-0c9ed30df508"
    },
    "slideshow": {
     "slide_type": "slide"
    }
   },
   "source": [
    "We can do the same thing with the **`.iloc`** indexer, but we have to use integers for the location."
   ]
  },
  {
   "cell_type": "code",
<<<<<<< HEAD
   "execution_count": 26,
=======
   "execution_count": 52,
>>>>>>> 0ef2d8a6ba02da0bd84c6ca245544a1501dfc451
   "metadata": {
    "nbpresent": {
     "id": "569889dd-4d0c-4286-91d0-36aff19306cd"
    }
   },
   "outputs": [
    {
     "data": {
      "text/plain": [
       "Floats      float64\n",
       "Integers      int64\n",
       "Letters      object\n",
       "dtype: object"
      ]
     },
     "execution_count": 52,
     "metadata": {},
     "output_type": "execute_result"
    }
   ],
   "source": [
    "subset = drug.iloc[[1,2,3,4,5], [4,5]]"
   ]
  },
  {
   "cell_type": "code",
<<<<<<< HEAD
   "execution_count": 27,
=======
   "execution_count": 53,
>>>>>>> 0ef2d8a6ba02da0bd84c6ca245544a1501dfc451
   "metadata": {
    "nbpresent": {
     "id": "2c2199b3-4aef-415b-b449-b7d18027bd4c"
    }
   },
   "outputs": [
    {
<<<<<<< HEAD
     "data": {
      "text/html": [
       "<div>\n",
       "<style scoped>\n",
       "    .dataframe tbody tr th:only-of-type {\n",
       "        vertical-align: middle;\n",
       "    }\n",
       "\n",
       "    .dataframe tbody tr th {\n",
       "        vertical-align: top;\n",
       "    }\n",
       "\n",
       "    .dataframe thead th {\n",
       "        text-align: right;\n",
       "    }\n",
       "</style>\n",
       "<table border=\"1\" class=\"dataframe\">\n",
       "  <thead>\n",
       "    <tr style=\"text-align: right;\">\n",
       "      <th></th>\n",
       "      <th>marijuana-use</th>\n",
       "      <th>marijuana-frequency</th>\n",
       "    </tr>\n",
       "  </thead>\n",
       "  <tbody>\n",
       "    <tr>\n",
       "      <th>B</th>\n",
       "      <td>3.4</td>\n",
       "      <td>15.0</td>\n",
       "    </tr>\n",
       "    <tr>\n",
       "      <th>C</th>\n",
       "      <td>8.7</td>\n",
       "      <td>24.0</td>\n",
       "    </tr>\n",
       "    <tr>\n",
       "      <th>D</th>\n",
       "      <td>14.5</td>\n",
       "      <td>25.0</td>\n",
       "    </tr>\n",
       "    <tr>\n",
       "      <th>E</th>\n",
       "      <td>22.5</td>\n",
       "      <td>30.0</td>\n",
       "    </tr>\n",
       "    <tr>\n",
       "      <th>F</th>\n",
       "      <td>28.0</td>\n",
       "      <td>36.0</td>\n",
       "    </tr>\n",
       "  </tbody>\n",
       "</table>\n",
       "</div>"
      ],
      "text/plain": [
       "   marijuana-use  marijuana-frequency\n",
       "B            3.4                 15.0\n",
       "C            8.7                 24.0\n",
       "D           14.5                 25.0\n",
       "E           22.5                 30.0\n",
       "F           28.0                 36.0"
      ]
     },
     "execution_count": 27,
     "metadata": {},
     "output_type": "execute_result"
    }
=======
     "name": "stdout",
     "output_type": "stream",
     "text": [
      "Index(['Floats', 'int', 'Letters'], dtype='object')\n"
     ]
    }
   ],
   "source": [
    "mydata.rename(columns={mydata.columns[1]:'int'}, inplace=True) # inplace = True updates mydata\n",
    "print(mydata.columns)"
   ]
  },
  {
   "cell_type": "code",
   "execution_count": 54,
   "metadata": {
    "nbpresent": {
     "id": "578ba013-df3e-4f28-b338-57d0742b928b"
    }
   },
   "outputs": [
    {
     "data": {
      "text/html": [
       "<div>\n",
       "<style scoped>\n",
       "    .dataframe tbody tr th:only-of-type {\n",
       "        vertical-align: middle;\n",
       "    }\n",
       "\n",
       "    .dataframe tbody tr th {\n",
       "        vertical-align: top;\n",
       "    }\n",
       "\n",
       "    .dataframe thead th {\n",
       "        text-align: right;\n",
       "    }\n",
       "</style>\n",
       "<table border=\"1\" class=\"dataframe\">\n",
       "  <thead>\n",
       "    <tr style=\"text-align: right;\">\n",
       "      <th></th>\n",
       "      <th>Floats</th>\n",
       "      <th>int</th>\n",
       "      <th>Letters</th>\n",
       "    </tr>\n",
       "  </thead>\n",
       "  <tbody>\n",
       "    <tr>\n",
       "      <th>0</th>\n",
       "      <td>2.2</td>\n",
       "      <td>1</td>\n",
       "      <td>A</td>\n",
       "    </tr>\n",
       "    <tr>\n",
       "      <th>1</th>\n",
       "      <td>3.3</td>\n",
       "      <td>2</td>\n",
       "      <td>B</td>\n",
       "    </tr>\n",
       "    <tr>\n",
       "      <th>2</th>\n",
       "      <td>4.4</td>\n",
       "      <td>3</td>\n",
       "      <td>C</td>\n",
       "    </tr>\n",
       "  </tbody>\n",
       "</table>\n",
       "</div>"
      ],
      "text/plain": [
       "   Floats  int Letters\n",
       "0     2.2    1       A\n",
       "1     3.3    2       B\n",
       "2     4.4    3       C"
      ]
     },
     "execution_count": 54,
     "metadata": {},
     "output_type": "execute_result"
    }
>>>>>>> 0ef2d8a6ba02da0bd84c6ca245544a1501dfc451
   ],
   "source": [
    "subset"
   ]
  },
  {
   "cell_type": "markdown",
   "metadata": {
    "nbpresent": {
     "id": "a54d822b-89ae-4a54-924c-edc201b2a0e9"
    },
    "slideshow": {
     "slide_type": "fragment"
    }
   },
   "source": [
<<<<<<< HEAD
    "If you try to index the rows or columns with integers using **`.loc`**, you will get an error."
=======
    "If you want to change every column name, you can just assign a new list to the ```.columns``` property."
   ]
  },
  {
   "cell_type": "code",
   "execution_count": 55,
   "metadata": {
    "nbpresent": {
     "id": "d5070ee2-eecf-4709-b601-f28861d353c0"
    }
   },
   "outputs": [
    {
     "name": "stdout",
     "output_type": "stream",
     "text": [
      "     A  B  C\n",
      "0  2.2  1  A\n",
      "1  3.3  2  B\n",
      "2  4.4  3  C\n"
     ]
    }
   ],
   "source": [
    "mydata.columns = ['A','B','C']\n",
    "print(mydata.head())"
>>>>>>> 0ef2d8a6ba02da0bd84c6ca245544a1501dfc451
   ]
  },
  {
   "cell_type": "markdown",
   "metadata": {
    "nbpresent": {
     "id": "1cfa2f3c-b792-4b5b-95a7-4bc6d2298ca6"
    },
    "slideshow": {
     "slide_type": "slide"
    }
   },
   "source": [
<<<<<<< HEAD
    "Note that you can automatically reorder the data just by reordering the indices you enter when you perform the indexing operation!"
=======
    "<a id='basic_plotting'></a>\n",
    "\n",
    "### Basic Plotting Using DataFrames\n",
    "\n",
    "---\n",
    "\n",
    "DataFrames also come with some basic convenience functions for plotting data. First, import `matplotlib` and set it to run \"inline\" in your notebook."
   ]
  },
  {
   "cell_type": "code",
   "execution_count": 57,
   "metadata": {
    "collapsed": true,
    "nbpresent": {
     "id": "d1a06a70-a1e6-4b6c-9ee7-cc13127f26e5"
    }
   },
   "outputs": [],
   "source": [
    "import matplotlib.pyplot as plt\n",
    "\n",
    "%matplotlib inline"
>>>>>>> 0ef2d8a6ba02da0bd84c6ca245544a1501dfc451
   ]
  },
  {
   "cell_type": "markdown",
   "metadata": {},
   "source": [
    "While we created an index earlier, we can also use a column to set an index."
   ]
  },
  {
   "cell_type": "code",
<<<<<<< HEAD
   "execution_count": 28,
   "metadata": {},
   "outputs": [
    {
     "data": {
      "text/html": [
       "<div>\n",
       "<style scoped>\n",
       "    .dataframe tbody tr th:only-of-type {\n",
       "        vertical-align: middle;\n",
       "    }\n",
       "\n",
       "    .dataframe tbody tr th {\n",
       "        vertical-align: top;\n",
       "    }\n",
       "\n",
       "    .dataframe thead th {\n",
       "        text-align: right;\n",
       "    }\n",
       "</style>\n",
       "<table border=\"1\" class=\"dataframe\">\n",
       "  <thead>\n",
       "    <tr style=\"text-align: right;\">\n",
       "      <th></th>\n",
       "      <th>age</th>\n",
       "      <th>n</th>\n",
       "      <th>alcohol-use</th>\n",
       "      <th>alcohol-frequency</th>\n",
       "      <th>marijuana-use</th>\n",
       "      <th>marijuana-frequency</th>\n",
       "      <th>cocaine-use</th>\n",
       "      <th>cocaine-frequency</th>\n",
       "      <th>crack-use</th>\n",
       "      <th>crack-frequency</th>\n",
       "      <th>...</th>\n",
       "      <th>oxycontin-use</th>\n",
       "      <th>oxycontin-frequency</th>\n",
       "      <th>tranquilizer-use</th>\n",
       "      <th>tranquilizer-frequency</th>\n",
       "      <th>stimulant-use</th>\n",
       "      <th>stimulant-frequency</th>\n",
       "      <th>meth-use</th>\n",
       "      <th>meth-frequency</th>\n",
       "      <th>sedative-use</th>\n",
       "      <th>sedative-frequency</th>\n",
       "    </tr>\n",
       "    <tr>\n",
       "      <th>age</th>\n",
       "      <th></th>\n",
       "      <th></th>\n",
       "      <th></th>\n",
       "      <th></th>\n",
       "      <th></th>\n",
       "      <th></th>\n",
       "      <th></th>\n",
       "      <th></th>\n",
       "      <th></th>\n",
       "      <th></th>\n",
       "      <th></th>\n",
       "      <th></th>\n",
       "      <th></th>\n",
       "      <th></th>\n",
       "      <th></th>\n",
       "      <th></th>\n",
       "      <th></th>\n",
       "      <th></th>\n",
       "      <th></th>\n",
       "      <th></th>\n",
       "      <th></th>\n",
       "    </tr>\n",
       "  </thead>\n",
       "  <tbody>\n",
       "    <tr>\n",
       "      <th>12</th>\n",
       "      <td>12</td>\n",
       "      <td>2798</td>\n",
       "      <td>3.9</td>\n",
       "      <td>3.0</td>\n",
       "      <td>1.1</td>\n",
       "      <td>4.0</td>\n",
       "      <td>0.1</td>\n",
       "      <td>5.0</td>\n",
       "      <td>0.0</td>\n",
       "      <td>-</td>\n",
       "      <td>...</td>\n",
       "      <td>0.1</td>\n",
       "      <td>24.5</td>\n",
       "      <td>0.2</td>\n",
       "      <td>52.0</td>\n",
       "      <td>0.2</td>\n",
       "      <td>2.0</td>\n",
       "      <td>0.0</td>\n",
       "      <td>-</td>\n",
       "      <td>0.2</td>\n",
       "      <td>13.0</td>\n",
       "    </tr>\n",
       "    <tr>\n",
       "      <th>13</th>\n",
       "      <td>13</td>\n",
       "      <td>2757</td>\n",
       "      <td>8.5</td>\n",
       "      <td>6.0</td>\n",
       "      <td>3.4</td>\n",
       "      <td>15.0</td>\n",
       "      <td>0.1</td>\n",
       "      <td>1.0</td>\n",
       "      <td>0.0</td>\n",
       "      <td>3.0</td>\n",
       "      <td>...</td>\n",
       "      <td>0.1</td>\n",
       "      <td>41.0</td>\n",
       "      <td>0.3</td>\n",
       "      <td>25.5</td>\n",
       "      <td>0.3</td>\n",
       "      <td>4.0</td>\n",
       "      <td>0.1</td>\n",
       "      <td>5.0</td>\n",
       "      <td>0.1</td>\n",
       "      <td>19.0</td>\n",
       "    </tr>\n",
       "    <tr>\n",
       "      <th>14</th>\n",
       "      <td>14</td>\n",
       "      <td>2792</td>\n",
       "      <td>18.1</td>\n",
       "      <td>5.0</td>\n",
       "      <td>8.7</td>\n",
       "      <td>24.0</td>\n",
       "      <td>0.1</td>\n",
       "      <td>5.5</td>\n",
       "      <td>0.0</td>\n",
       "      <td>-</td>\n",
       "      <td>...</td>\n",
       "      <td>0.4</td>\n",
       "      <td>4.5</td>\n",
       "      <td>0.9</td>\n",
       "      <td>5.0</td>\n",
       "      <td>0.8</td>\n",
       "      <td>12.0</td>\n",
       "      <td>0.1</td>\n",
       "      <td>24.0</td>\n",
       "      <td>0.2</td>\n",
       "      <td>16.5</td>\n",
       "    </tr>\n",
       "    <tr>\n",
       "      <th>15</th>\n",
       "      <td>15</td>\n",
       "      <td>2956</td>\n",
       "      <td>29.2</td>\n",
       "      <td>6.0</td>\n",
       "      <td>14.5</td>\n",
       "      <td>25.0</td>\n",
       "      <td>0.5</td>\n",
       "      <td>4.0</td>\n",
       "      <td>0.1</td>\n",
       "      <td>9.5</td>\n",
       "      <td>...</td>\n",
       "      <td>0.8</td>\n",
       "      <td>3.0</td>\n",
       "      <td>2.0</td>\n",
       "      <td>4.5</td>\n",
       "      <td>1.5</td>\n",
       "      <td>6.0</td>\n",
       "      <td>0.3</td>\n",
       "      <td>10.5</td>\n",
       "      <td>0.4</td>\n",
       "      <td>30.0</td>\n",
       "    </tr>\n",
       "    <tr>\n",
       "      <th>16</th>\n",
       "      <td>16</td>\n",
       "      <td>3058</td>\n",
       "      <td>40.1</td>\n",
       "      <td>10.0</td>\n",
       "      <td>22.5</td>\n",
       "      <td>30.0</td>\n",
       "      <td>1.0</td>\n",
       "      <td>7.0</td>\n",
       "      <td>0.0</td>\n",
       "      <td>1.0</td>\n",
       "      <td>...</td>\n",
       "      <td>1.1</td>\n",
       "      <td>4.0</td>\n",
       "      <td>2.4</td>\n",
       "      <td>11.0</td>\n",
       "      <td>1.8</td>\n",
       "      <td>9.5</td>\n",
       "      <td>0.3</td>\n",
       "      <td>36.0</td>\n",
       "      <td>0.2</td>\n",
       "      <td>3.0</td>\n",
       "    </tr>\n",
       "  </tbody>\n",
       "</table>\n",
       "<p>5 rows × 28 columns</p>\n",
       "</div>"
      ],
      "text/plain": [
       "    age     n  alcohol-use  alcohol-frequency  marijuana-use  \\\n",
       "age                                                            \n",
       "12   12  2798          3.9                3.0            1.1   \n",
       "13   13  2757          8.5                6.0            3.4   \n",
       "14   14  2792         18.1                5.0            8.7   \n",
       "15   15  2956         29.2                6.0           14.5   \n",
       "16   16  3058         40.1               10.0           22.5   \n",
       "\n",
       "     marijuana-frequency  cocaine-use cocaine-frequency  crack-use  \\\n",
       "age                                                                  \n",
       "12                   4.0          0.1               5.0        0.0   \n",
       "13                  15.0          0.1               1.0        0.0   \n",
       "14                  24.0          0.1               5.5        0.0   \n",
       "15                  25.0          0.5               4.0        0.1   \n",
       "16                  30.0          1.0               7.0        0.0   \n",
       "\n",
       "    crack-frequency        ...          oxycontin-use oxycontin-frequency  \\\n",
       "age                        ...                                              \n",
       "12                -        ...                    0.1                24.5   \n",
       "13              3.0        ...                    0.1                41.0   \n",
       "14                -        ...                    0.4                 4.5   \n",
       "15              9.5        ...                    0.8                 3.0   \n",
       "16              1.0        ...                    1.1                 4.0   \n",
       "\n",
       "     tranquilizer-use  tranquilizer-frequency  stimulant-use  \\\n",
       "age                                                            \n",
       "12                0.2                    52.0            0.2   \n",
       "13                0.3                    25.5            0.3   \n",
       "14                0.9                     5.0            0.8   \n",
       "15                2.0                     4.5            1.5   \n",
       "16                2.4                    11.0            1.8   \n",
       "\n",
       "    stimulant-frequency  meth-use  meth-frequency  sedative-use  \\\n",
       "age                                                               \n",
       "12                  2.0       0.0               -           0.2   \n",
       "13                  4.0       0.1             5.0           0.1   \n",
       "14                 12.0       0.1            24.0           0.2   \n",
       "15                  6.0       0.3            10.5           0.4   \n",
       "16                  9.5       0.3            36.0           0.2   \n",
       "\n",
       "    sedative-frequency  \n",
       "age                     \n",
       "12                13.0  \n",
       "13                19.0  \n",
       "14                16.5  \n",
       "15                30.0  \n",
       "16                 3.0  \n",
       "\n",
       "[5 rows x 28 columns]"
      ]
     },
     "execution_count": 28,
     "metadata": {},
     "output_type": "execute_result"
=======
   "execution_count": 58,
   "metadata": {
    "nbpresent": {
     "id": "9578a9c1-8f36-4851-a498-6814bcdcc8a8"
    }
   },
   "outputs": [
    {
     "data": {
      "text/plain": [
       "<matplotlib.axes._subplots.AxesSubplot at 0x10c0664a8>"
      ]
     },
     "execution_count": 58,
     "metadata": {},
     "output_type": "execute_result"
    },
    {
     "data": {
      "image/png": "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\n",
      "text/plain": [
       "<matplotlib.figure.Figure at 0x10c027eb8>"
      ]
     },
     "metadata": {},
     "output_type": "display_data"
    }
   ],
   "source": [
    "drug.plot(x='age', y='marijuana-use')"
   ]
  },
  {
   "cell_type": "markdown",
   "metadata": {
    "nbpresent": {
     "id": "72cc9674-6fd5-4f4c-abc8-a17dbdb4ab1d"
    },
    "slideshow": {
     "slide_type": "slide"
>>>>>>> 0ef2d8a6ba02da0bd84c6ca245544a1501dfc451
    }
   ],
   "source": [
    "drug.index = drug['age']\n",
    "\n",
    "drug.head()"
   ]
  },
  {
<<<<<<< HEAD
   "cell_type": "markdown",
   "metadata": {},
=======
   "cell_type": "code",
   "execution_count": 59,
   "metadata": {
    "nbpresent": {
     "id": "f52830de-3357-4add-97eb-63bbfc5b1322"
    }
   },
   "outputs": [
    {
     "data": {
      "text/plain": [
       "array([[<matplotlib.axes._subplots.AxesSubplot object at 0x10c091b70>]],\n",
       "      dtype=object)"
      ]
     },
     "execution_count": 59,
     "metadata": {},
     "output_type": "execute_result"
    },
    {
     "data": {
      "image/png": "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\n",
      "text/plain": [
       "<matplotlib.figure.Figure at 0x10e011f60>"
      ]
     },
     "metadata": {},
     "output_type": "display_data"
    }
   ],
>>>>>>> 0ef2d8a6ba02da0bd84c6ca245544a1501dfc451
   "source": [
    "Is age the best feature to use as an index?  \n",
    "\n",
    "If it isn't we can use the `df.reset_index()` to reset our index."
   ]
  },
  {
   "cell_type": "code",
   "execution_count": 29,
   "metadata": {},
   "outputs": [
    {
     "data": {
      "text/html": [
       "<div>\n",
       "<style scoped>\n",
       "    .dataframe tbody tr th:only-of-type {\n",
       "        vertical-align: middle;\n",
       "    }\n",
       "\n",
       "    .dataframe tbody tr th {\n",
       "        vertical-align: top;\n",
       "    }\n",
       "\n",
       "    .dataframe thead th {\n",
       "        text-align: right;\n",
       "    }\n",
       "</style>\n",
       "<table border=\"1\" class=\"dataframe\">\n",
       "  <thead>\n",
       "    <tr style=\"text-align: right;\">\n",
       "      <th></th>\n",
       "      <th>age</th>\n",
       "      <th>n</th>\n",
       "      <th>alcohol-use</th>\n",
       "      <th>alcohol-frequency</th>\n",
       "      <th>marijuana-use</th>\n",
       "      <th>marijuana-frequency</th>\n",
       "      <th>cocaine-use</th>\n",
       "      <th>cocaine-frequency</th>\n",
       "      <th>crack-use</th>\n",
       "      <th>crack-frequency</th>\n",
       "      <th>...</th>\n",
       "      <th>oxycontin-use</th>\n",
       "      <th>oxycontin-frequency</th>\n",
       "      <th>tranquilizer-use</th>\n",
       "      <th>tranquilizer-frequency</th>\n",
       "      <th>stimulant-use</th>\n",
       "      <th>stimulant-frequency</th>\n",
       "      <th>meth-use</th>\n",
       "      <th>meth-frequency</th>\n",
       "      <th>sedative-use</th>\n",
       "      <th>sedative-frequency</th>\n",
       "    </tr>\n",
       "  </thead>\n",
       "  <tbody>\n",
       "    <tr>\n",
       "      <th>0</th>\n",
       "      <td>12</td>\n",
       "      <td>2798</td>\n",
       "      <td>3.9</td>\n",
       "      <td>3.0</td>\n",
       "      <td>1.1</td>\n",
       "      <td>4.0</td>\n",
       "      <td>0.1</td>\n",
       "      <td>5.0</td>\n",
       "      <td>0.0</td>\n",
       "      <td>-</td>\n",
       "      <td>...</td>\n",
       "      <td>0.1</td>\n",
       "      <td>24.5</td>\n",
       "      <td>0.2</td>\n",
       "      <td>52.0</td>\n",
       "      <td>0.2</td>\n",
       "      <td>2.0</td>\n",
       "      <td>0.0</td>\n",
       "      <td>-</td>\n",
       "      <td>0.2</td>\n",
       "      <td>13.0</td>\n",
       "    </tr>\n",
       "    <tr>\n",
       "      <th>1</th>\n",
       "      <td>13</td>\n",
       "      <td>2757</td>\n",
       "      <td>8.5</td>\n",
       "      <td>6.0</td>\n",
       "      <td>3.4</td>\n",
       "      <td>15.0</td>\n",
       "      <td>0.1</td>\n",
       "      <td>1.0</td>\n",
       "      <td>0.0</td>\n",
       "      <td>3.0</td>\n",
       "      <td>...</td>\n",
       "      <td>0.1</td>\n",
       "      <td>41.0</td>\n",
       "      <td>0.3</td>\n",
       "      <td>25.5</td>\n",
       "      <td>0.3</td>\n",
       "      <td>4.0</td>\n",
       "      <td>0.1</td>\n",
       "      <td>5.0</td>\n",
       "      <td>0.1</td>\n",
       "      <td>19.0</td>\n",
       "    </tr>\n",
       "    <tr>\n",
       "      <th>2</th>\n",
       "      <td>14</td>\n",
       "      <td>2792</td>\n",
       "      <td>18.1</td>\n",
       "      <td>5.0</td>\n",
       "      <td>8.7</td>\n",
       "      <td>24.0</td>\n",
       "      <td>0.1</td>\n",
       "      <td>5.5</td>\n",
       "      <td>0.0</td>\n",
       "      <td>-</td>\n",
       "      <td>...</td>\n",
       "      <td>0.4</td>\n",
       "      <td>4.5</td>\n",
       "      <td>0.9</td>\n",
       "      <td>5.0</td>\n",
       "      <td>0.8</td>\n",
       "      <td>12.0</td>\n",
       "      <td>0.1</td>\n",
       "      <td>24.0</td>\n",
       "      <td>0.2</td>\n",
       "      <td>16.5</td>\n",
       "    </tr>\n",
       "    <tr>\n",
       "      <th>3</th>\n",
       "      <td>15</td>\n",
       "      <td>2956</td>\n",
       "      <td>29.2</td>\n",
       "      <td>6.0</td>\n",
       "      <td>14.5</td>\n",
       "      <td>25.0</td>\n",
       "      <td>0.5</td>\n",
       "      <td>4.0</td>\n",
       "      <td>0.1</td>\n",
       "      <td>9.5</td>\n",
       "      <td>...</td>\n",
       "      <td>0.8</td>\n",
       "      <td>3.0</td>\n",
       "      <td>2.0</td>\n",
       "      <td>4.5</td>\n",
       "      <td>1.5</td>\n",
       "      <td>6.0</td>\n",
       "      <td>0.3</td>\n",
       "      <td>10.5</td>\n",
       "      <td>0.4</td>\n",
       "      <td>30.0</td>\n",
       "    </tr>\n",
       "    <tr>\n",
       "      <th>4</th>\n",
       "      <td>16</td>\n",
       "      <td>3058</td>\n",
       "      <td>40.1</td>\n",
       "      <td>10.0</td>\n",
       "      <td>22.5</td>\n",
       "      <td>30.0</td>\n",
       "      <td>1.0</td>\n",
       "      <td>7.0</td>\n",
       "      <td>0.0</td>\n",
       "      <td>1.0</td>\n",
       "      <td>...</td>\n",
       "      <td>1.1</td>\n",
       "      <td>4.0</td>\n",
       "      <td>2.4</td>\n",
       "      <td>11.0</td>\n",
       "      <td>1.8</td>\n",
       "      <td>9.5</td>\n",
       "      <td>0.3</td>\n",
       "      <td>36.0</td>\n",
       "      <td>0.2</td>\n",
       "      <td>3.0</td>\n",
       "    </tr>\n",
       "  </tbody>\n",
       "</table>\n",
       "<p>5 rows × 28 columns</p>\n",
       "</div>"
      ],
      "text/plain": [
       "  age     n  alcohol-use  alcohol-frequency  marijuana-use  \\\n",
       "0  12  2798          3.9                3.0            1.1   \n",
       "1  13  2757          8.5                6.0            3.4   \n",
       "2  14  2792         18.1                5.0            8.7   \n",
       "3  15  2956         29.2                6.0           14.5   \n",
       "4  16  3058         40.1               10.0           22.5   \n",
       "\n",
       "   marijuana-frequency  cocaine-use cocaine-frequency  crack-use  \\\n",
       "0                  4.0          0.1               5.0        0.0   \n",
       "1                 15.0          0.1               1.0        0.0   \n",
       "2                 24.0          0.1               5.5        0.0   \n",
       "3                 25.0          0.5               4.0        0.1   \n",
       "4                 30.0          1.0               7.0        0.0   \n",
       "\n",
       "  crack-frequency        ...          oxycontin-use oxycontin-frequency  \\\n",
       "0               -        ...                    0.1                24.5   \n",
       "1             3.0        ...                    0.1                41.0   \n",
       "2               -        ...                    0.4                 4.5   \n",
       "3             9.5        ...                    0.8                 3.0   \n",
       "4             1.0        ...                    1.1                 4.0   \n",
       "\n",
       "   tranquilizer-use  tranquilizer-frequency  stimulant-use  \\\n",
       "0               0.2                    52.0            0.2   \n",
       "1               0.3                    25.5            0.3   \n",
       "2               0.9                     5.0            0.8   \n",
       "3               2.0                     4.5            1.5   \n",
       "4               2.4                    11.0            1.8   \n",
       "\n",
       "  stimulant-frequency  meth-use  meth-frequency  sedative-use  \\\n",
       "0                 2.0       0.0               -           0.2   \n",
       "1                 4.0       0.1             5.0           0.1   \n",
       "2                12.0       0.1            24.0           0.2   \n",
       "3                 6.0       0.3            10.5           0.4   \n",
       "4                 9.5       0.3            36.0           0.2   \n",
       "\n",
       "  sedative-frequency  \n",
       "0               13.0  \n",
       "1               19.0  \n",
       "2               16.5  \n",
       "3               30.0  \n",
       "4                3.0  \n",
       "\n",
       "[5 rows x 28 columns]"
      ]
     },
     "execution_count": 29,
     "metadata": {},
     "output_type": "execute_result"
    }
   ],
   "source": [
    "drug.reset_index(drop=True, inplace=True)\n",
    "drug.head()"
   ]
  },
  {
<<<<<<< HEAD
   "cell_type": "markdown",
=======
   "cell_type": "code",
   "execution_count": 60,
>>>>>>> 0ef2d8a6ba02da0bd84c6ca245544a1501dfc451
   "metadata": {
    "nbpresent": {
     "id": "b7034391-7d6d-4f08-beca-147e18036001"
    },
    "slideshow": {
     "slide_type": "slide"
    }
   },
   "source": [
    "<a id='creating_dataframes'></a>\n",
    "\n",
    "### Creating DataFrames\n",
    "\n",
    "---\n",
    "\n",
    "The simplest way to create your own DataFrame without importing data from a file is to give the ```pd.DataFrame()``` instantiator a dictionary."
   ]
  },
  {
   "cell_type": "code",
   "execution_count": 30,
   "metadata": {
    "nbpresent": {
     "id": "c42d85ec-a9a6-4880-84c5-1b73ace2341b"
    }
   },
   "outputs": [],
   "source": [
    "mydata = pd.DataFrame({'Letters':['A','B','C'], 'Integers':[1,2,3], 'Floats':[2.2, 3.3, 4.4]})"
   ]
  },
  {
   "cell_type": "code",
   "execution_count": 31,
   "metadata": {
    "nbpresent": {
     "id": "7e00119c-0641-4eaf-9432-dc3dffc68669"
    }
   },
   "outputs": [
    {
     "data": {
      "text/html": [
       "<div>\n",
       "<style scoped>\n",
       "    .dataframe tbody tr th:only-of-type {\n",
       "        vertical-align: middle;\n",
       "    }\n",
       "\n",
       "    .dataframe tbody tr th {\n",
       "        vertical-align: top;\n",
       "    }\n",
       "\n",
       "    .dataframe thead th {\n",
       "        text-align: right;\n",
       "    }\n",
       "</style>\n",
       "<table border=\"1\" class=\"dataframe\">\n",
       "  <thead>\n",
       "    <tr style=\"text-align: right;\">\n",
       "      <th></th>\n",
       "      <th>Letters</th>\n",
       "      <th>Integers</th>\n",
       "      <th>Floats</th>\n",
       "    </tr>\n",
       "  </thead>\n",
       "  <tbody>\n",
       "    <tr>\n",
       "      <th>0</th>\n",
       "      <td>A</td>\n",
       "      <td>1</td>\n",
       "      <td>2.2</td>\n",
       "    </tr>\n",
       "    <tr>\n",
       "      <th>1</th>\n",
       "      <td>B</td>\n",
       "      <td>2</td>\n",
       "      <td>3.3</td>\n",
       "    </tr>\n",
       "    <tr>\n",
       "      <th>2</th>\n",
       "      <td>C</td>\n",
       "      <td>3</td>\n",
       "      <td>4.4</td>\n",
       "    </tr>\n",
       "  </tbody>\n",
       "</table>\n",
       "</div>"
      ],
      "text/plain": [
       "  Letters  Integers  Floats\n",
       "0       A         1     2.2\n",
       "1       B         2     3.3\n",
       "2       C         3     4.4"
      ]
     },
     "execution_count": 31,
     "metadata": {},
     "output_type": "execute_result"
    }
   ],
   "source": [
    "mydata"
   ]
  },
  {
   "cell_type": "markdown",
   "metadata": {
    "nbpresent": {
     "id": "61856902-23ac-482d-bf1e-791d84e2caad"
    },
    "slideshow": {
     "slide_type": "fragment"
    }
   },
   "source": [
    "As you might expect, the dictionary needs to have lists of values that are all the same length. The keys correspond to the names of the columns, and the values correspond to the data in the columns."
   ]
  },
  {
   "cell_type": "markdown",
   "metadata": {
    "nbpresent": {
     "id": "4286b323-71b5-4b3e-ad37-bf17b63f04e9"
    },
    "slideshow": {
     "slide_type": "slide"
    }
   },
   "source": [
    "<a id='dtypes'></a>\n",
    "\n",
    "### Examining Data Types\n",
    "\n",
    "---\n",
    "\n",
    "`pandas` comes with a useful property for looking solely at the data types of your DataFrame columns. Use ```.dtypes``` on your DataFrame:"
   ]
  },
  {
   "cell_type": "code",
   "execution_count": 32,
   "metadata": {
    "nbpresent": {
     "id": "14c76064-13e1-4f4c-a4a2-82ed0b5897e1"
    },
    "slideshow": {
     "slide_type": "-"
    }
   },
   "outputs": [
    {
     "data": {
      "text/plain": [
       "Letters      object\n",
       "Integers      int64\n",
       "Floats      float64\n",
       "dtype: object"
      ]
     },
     "execution_count": 32,
     "metadata": {},
     "output_type": "execute_result"
    }
   ],
   "source": [
    "mydata.dtypes"
   ]
  },
  {
   "cell_type": "markdown",
   "metadata": {
    "nbpresent": {
     "id": "5f2b8742-e66b-4b2c-987e-48075bf691c6"
    },
    "slideshow": {
     "slide_type": "fragment"
    }
   },
   "source": [
    "This will show you the data type of each column. Strings are stored as a type called \"object,\" as they are not guaranteed to take up a set amount of space (strings can be any length)."
   ]
  },
  {
   "cell_type": "markdown",
   "metadata": {
    "nbpresent": {
     "id": "12862adc-f2f7-4d44-8d6b-56415ba46aff"
    },
    "slideshow": {
     "slide_type": "slide"
    }
   },
   "source": [
    "<a id='renaming_assignment'></a>\n",
    "\n",
    "### Renaming and Assignment\n",
    "\n",
    "---\n",
    "\n",
    "`pandas` makes it easy to change column names and assign values to your DataFrame.\n",
    "\n",
    "Say, for example, we want to change the column name `Integers` to `int`:"
   ]
  },
  {
   "cell_type": "code",
   "execution_count": 33,
   "metadata": {
    "nbpresent": {
     "id": "d00b8c41-4221-45e1-a598-02fa2da5f703"
    }
   },
   "outputs": [
    {
     "name": "stdout",
     "output_type": "stream",
     "text": [
      "Index(['Letters', 'int', 'Floats'], dtype='object')\n"
     ]
    }
   ],
   "source": [
    "mydata.rename(columns={mydata.columns[1]:'int'}, inplace=True) # inplace = True updates mydata\n",
    "print(mydata.columns)"
   ]
  },
  {
   "cell_type": "code",
   "execution_count": 34,
   "metadata": {
    "nbpresent": {
     "id": "578ba013-df3e-4f28-b338-57d0742b928b"
    }
   },
   "outputs": [
    {
     "data": {
      "text/html": [
       "<div>\n",
       "<style scoped>\n",
       "    .dataframe tbody tr th:only-of-type {\n",
       "        vertical-align: middle;\n",
       "    }\n",
       "\n",
       "    .dataframe tbody tr th {\n",
       "        vertical-align: top;\n",
       "    }\n",
       "\n",
       "    .dataframe thead th {\n",
       "        text-align: right;\n",
       "    }\n",
       "</style>\n",
       "<table border=\"1\" class=\"dataframe\">\n",
       "  <thead>\n",
       "    <tr style=\"text-align: right;\">\n",
       "      <th></th>\n",
       "      <th>Letters</th>\n",
       "      <th>int</th>\n",
       "      <th>Floats</th>\n",
       "    </tr>\n",
       "  </thead>\n",
       "  <tbody>\n",
       "    <tr>\n",
       "      <th>0</th>\n",
       "      <td>A</td>\n",
       "      <td>1</td>\n",
       "      <td>2.2</td>\n",
       "    </tr>\n",
       "    <tr>\n",
       "      <th>1</th>\n",
       "      <td>B</td>\n",
       "      <td>2</td>\n",
       "      <td>3.3</td>\n",
       "    </tr>\n",
       "    <tr>\n",
       "      <th>2</th>\n",
       "      <td>C</td>\n",
       "      <td>3</td>\n",
       "      <td>4.4</td>\n",
       "    </tr>\n",
       "  </tbody>\n",
       "</table>\n",
       "</div>"
      ],
      "text/plain": [
       "  Letters  int  Floats\n",
       "0       A    1     2.2\n",
       "1       B    2     3.3\n",
       "2       C    3     4.4"
      ]
     },
     "execution_count": 34,
     "metadata": {},
     "output_type": "execute_result"
    }
   ],
   "source": [
    "mydata"
   ]
  },
  {
   "cell_type": "markdown",
   "metadata": {
    "nbpresent": {
     "id": "36b7b0d7-0cfc-4ded-ae1b-f8003a92bb30"
    },
    "slideshow": {
     "slide_type": "fragment"
    }
   },
   "source": [
    "If you want to change every column name, you can just assign a new list to the ```.columns``` property."
   ]
  },
  {
   "cell_type": "code",
   "execution_count": 35,
   "metadata": {
    "nbpresent": {
     "id": "d5070ee2-eecf-4709-b601-f28861d353c0"
    }
   },
   "outputs": [
    {
     "name": "stdout",
     "output_type": "stream",
     "text": [
      "   A  B    C\n",
      "0  A  1  2.2\n",
      "1  B  2  3.3\n",
      "2  C  3  4.4\n"
     ]
    }
   ],
   "source": [
    "mydata.columns = ['A','B','C']\n",
    "print(mydata.head())"
   ]
  },
  {
   "cell_type": "markdown",
   "metadata": {
    "nbpresent": {
     "id": "490dbfcd-2ae4-4034-b60e-b9b4e6411ad2"
    },
    "slideshow": {
     "slide_type": "slide"
    }
   },
   "source": [
    "<a id='basic_plotting'></a>\n",
    "\n",
    "### Basic Plotting Using DataFrames\n",
    "\n",
    "---\n",
    "\n",
    "DataFrames also come with some basic convenience functions for plotting data. First, import `matplotlib` and set it to run \"inline\" in your notebook."
   ]
  },
  {
   "cell_type": "code",
   "execution_count": 36,
   "metadata": {
    "nbpresent": {
     "id": "d1a06a70-a1e6-4b6c-9ee7-cc13127f26e5"
    }
   },
   "outputs": [],
   "source": [
    "import matplotlib.pyplot as plt\n",
    "\n",
    "%matplotlib inline"
   ]
  },
  {
   "cell_type": "markdown",
   "metadata": {
    "nbpresent": {
     "id": "fff80c48-a06e-43ca-b714-c811fd23650e"
    },
    "slideshow": {
     "slide_type": "slide"
    }
   },
   "source": [
    "Using our ```drug``` DataFrame once again, use the ```.plot()``` function to plot the **`age`** columns against the **`marijuana-use`** column."
   ]
  },
  {
   "cell_type": "code",
   "execution_count": 37,
   "metadata": {
    "nbpresent": {
     "id": "9578a9c1-8f36-4851-a498-6814bcdcc8a8"
    }
   },
   "outputs": [
    {
     "data": {
      "text/plain": [
       "<matplotlib.axes._subplots.AxesSubplot at 0x109f97208>"
      ]
     },
     "execution_count": 37,
     "metadata": {},
     "output_type": "execute_result"
    },
    {
     "data": {
      "image/png": "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\n",
      "text/plain": [
       "<Figure size 432x288 with 1 Axes>"
      ]
     },
     "metadata": {},
     "output_type": "display_data"
    }
   ],
   "source": [
    "\n",
    "drug.plot(x='age', y='marijuana-use')"
   ]
  },
  {
   "cell_type": "markdown",
   "metadata": {
    "nbpresent": {
     "id": "72cc9674-6fd5-4f4c-abc8-a17dbdb4ab1d"
    },
    "slideshow": {
     "slide_type": "slide"
    }
   },
   "source": [
    "The ```.hist()``` function will create a histogram for a column's values."
   ]
  },
  {
   "cell_type": "code",
   "execution_count": 38,
   "metadata": {
    "nbpresent": {
     "id": "f52830de-3357-4add-97eb-63bbfc5b1322"
    }
   },
   "outputs": [
    {
     "data": {
      "text/plain": [
       "array([[<matplotlib.axes._subplots.AxesSubplot object at 0x10a049dd8>]],\n",
       "      dtype=object)"
      ]
     },
     "execution_count": 38,
     "metadata": {},
     "output_type": "execute_result"
    },
    {
     "data": {
      "image/png": "iVBORw0KGgoAAAANSUhEUgAAAXcAAAEICAYAAACktLTqAAAABHNCSVQICAgIfAhkiAAAAAlwSFlzAAALEgAACxIB0t1+/AAAADl0RVh0U29mdHdhcmUAbWF0cGxvdGxpYiB2ZXJzaW9uIDIuMi4yLCBodHRwOi8vbWF0cGxvdGxpYi5vcmcvhp/UCwAAGAFJREFUeJzt3X+Q3HV9x/HnixAQuRDU4ElDMFqorRIFsgU6tHYPtROBknbEThTRONoTRyp2oGNwpqC0VOgUUYsjRkHQWg4K/kgBqyiciB3RCwaSEMGgURMw/A4sRDTw7h/7Td3b7N73e7e/P3k9Znby3e/3s9997Te7r/ve93a/q4jAzMzSskevA5iZWfu53M3MEuRyNzNLkMvdzCxBLnczswS53M3MEuRytyRIulTSP2bTfybpnl5nMusl+X3uZmbp8Z67DTxJs3qdwazfuNytayRtkvQPku6S9JSkyyQNS/q6pCclfUvSC7Kx/yXpV5K2SbpV0qtq1nOFpE9LulHSU8BINu+fs+VlSZtrxoekQ+puv3PsCyRdL+khSY9l0wfVjB2X9E+Svpdl/KakeTXLm+Zs8PiXS7qtbt7/Z5N0vKS7s/vZIumsmnEnSloj6XFJ/yvp1TP6T7Ddhsvduu1NwBuAPwD+Evg68CFgHtXn4/uzcV8HDgVeDNwBfKluPW8FzgfmALcxc3sAnwdeChwMbAcuaXBf78yy7AWcVbMsL+d0XAa8JyLmAIcBNwNIOhK4HHgP8CLgM8AqSXu3cF+WOJe7ddu/R8TWiNgCfBe4PSJ+FBHPAF8BjgCIiMsj4sls/oeB10iaW7Oer0XE9yLiuYj49UzDRMQjEXFdRDwdEU9S/YHx53XDPh8R90bEduAa4PCa2+flnI7fAq+UtF9EPBYRd2Tz/xb4TETcHhHPRsSVwDPAMTO8H9sNuNyt27bWTG9vcH1I0ixJF0i6T9ITwKZs+byasb9sRxhJz5f0GUk/z+7rVmD/uuP4v6qZfhoYym7bNKekgyVVdl4KxnkTcDzwc0nfkfQn2fyXAmdmh2Qel/Q4sAD4vRk9aNstuNytH70VWAq8HpgLLMzmq2bMdN7m9TTw/JrrL6mZPhN4BXB0ROwHvLbBfU07Z0T8IiKGdl6y+U/V5pBUm4OI+GFELKV6iOerVH9LgOoPsvMjYv+ay/Mj4qoCGW035XK3fjSH6mGHR6iW4b+0uL41wFuzPe0lTD7sMofqbwyPS3ohcG4Hc94JvErS4ZKeR/UwDgCS9pJ0iqS5EfFb4Ang2WzxZ4HTJB2tqn0lnSBpzjSy2m7G5W796AvAz4EtwN3A91tc3xlU/3j7OHAK1b3inT4O7AM8nN3P/3QqZ0TcC5wHfAv4Cbv+IfhUYFN2iOc04G3Z7SaoHne/BHgM2Agsn0ZO2w35Q0yWHEnHAZ+LiJf3OotZr3jP3VJ0GPCzXocw66U9ex3ArJ0kfQI4CXhHr7OY9ZIPy5iZJciHZczMEtSzwzLz5s2LhQsXTpr31FNPse+++/YmUAsGNTcMbnbn7r5BzZ5a7tWrVz8cEQfkriAienJZvHhx1Lvlllt2mTcIBjV3xOBmd+7uG9TsqeUGJqJAx/qwjJlZglzuZmYJcrmbmSXI5W5mliCXu5lZglzuZmYJKlzu2elSfyTp+gbL9pZ0taSNkm6XtLCdIc3MbHqms+d+BrChybJ3AY9FxCHAxcCFrQYzM7OZK1Tu2bfBnwB8rsmQpcCV2fS1wOskFfkmGzMz64BCJw6TdC3wUarfPHNWRJxYt3wdsCQiNmfX76P6tWUP140bBUYBhoeHF4+NjU26n0qlwtDQEINmUHPD4GZ37u4b1OzNcq/dsq0HaaoWzc//DvVmuUdGRlZHRCnv9rnnlpF0IvBgRKyWVG42rMG8XX5qRMRKYCVAqVSKcnny6sbHx6mfNwgGNTcMbnbn7r5Bzd4s9/IVN3Q/TGbTKeXcMa1u7yKHZY4FTpK0CRgDjpP0H3VjNlP9NnYk7Un1y4IfnXEqMzNrSW65R8TZEXFQRCwElgE3R8Tb6oat4ndfjnByNsYnijcz65EZn/JX0nlUz062CrgM+KKkjVT32Je1KZ+Zmc3AtMo9IsaB8Wz6nJr5vwbe3M5gZmY2c/6EqplZglzuZmYJcrmbmSXI5W5mliCXu5lZglzuZmYJcrmbmSXI5W5mliCXu5lZglzuZmYJcrmbmSXI5W5mliCXu5lZglzuZmYJcrmbmSXI5W5mlqDccpf0PEk/kHSnpPWSPtJgzHJJD0lak13e3Zm4ZmZWRJFvYnoGOC4iKpJmA7dJ+npEfL9u3NURcXr7I5qZ2XTllnv2RdeV7Ors7OIvvzYz62OFjrlLmiVpDfAgcFNE3N5g2Jsk3SXpWkkL2prSzMymRdUd84KDpf2BrwB/FxHraua/CKhExDOSTgP+JiKOa3D7UWAUYHh4ePHY2Nik5ZVKhaGhoRk9kF4a1NwwuNmdu/sGNXuz3Gu3bOtBmqpF8+fmjmmWe2RkZHVElPJuP61yB5B0LvBURPxbk+WzgEcjYsr0pVIpJiYmJs0bHx+nXC5PK08/GNTcMLjZnbv7BjV7s9wLV9zQ/TCZTReckDumWW5Jhcq9yLtlDsj22JG0D/B64Md1Yw6suXoSsCFvvWZm1jlF3i1zIHBltke+B3BNRFwv6TxgIiJWAe+XdBKwA3gUWN6pwGZmlq/Iu2XuAo5oMP+cmumzgbPbG83MzGbKn1A1M0uQy93MLEEudzOzBLnczcwS5HI3M0uQy93MLEEudzOzBLnczcwS5HI3M0uQy93MLEEudzOzBLnczcwS5HI3M0uQy93MLEEudzOzBLnczcwS5HI3M0tQke9QfZ6kH0i6U9J6SR9pMGZvSVdL2ijpdkkLOxHWzMyKKbLn/gxwXES8BjgcWCLpmLox7wIei4hDgIuBC9sb08zMpiO33KOqkl2dnV2ibthS4Mps+lrgdZLUtpRmZjYtiqjv6QaDpFnAauAQ4FMR8cG65euAJRGxObt+H3B0RDxcN24UGAUYHh5ePDY2Nul+KpUKQ0NDuXnWbtmWO6ZTFs2fu8u8orn70aBmd+7uG9TszXL3W4/Ua5Z7ZGRkdUSU8m6/Z5EgEfEscLik/YGvSDosItbVDGm0l77LT42IWAmsBCiVSlEulyctHx8fp35eI8tX3FAkdkdsOqW8y7yiufvRoGZ37u4b1OzNcvdbj9RrdXtP690yEfE4MA4sqVu0GVgAIGlPYC7w6IxTmZlZS4q8W+aAbI8dSfsArwd+XDdsFfCObPpk4OYocrzHzMw6oshhmQOBK7Pj7nsA10TE9ZLOAyYiYhVwGfBFSRup7rEv61hiMzPLlVvuEXEXcESD+efUTP8aeHN7o5mZ2Uz5E6pmZglyuZuZJcjlbmaWIJe7mVmCXO5mZglyuZuZJcjlbmaWIJe7mVmCXO5mZglyuZuZJcjlbmaWIJe7mVmCXO5mZglyuZuZJcjlbmaWIJe7mVmCXO5mZgkq8h2qCyTdImmDpPWSzmgwpixpm6Q12eWcRusyM7PuKPIdqjuAMyPiDklzgNWSboqIu+vGfTciTmx/RDMzm67cPfeIeCAi7simnwQ2APM7HczMzGZOEVF8sLQQuBU4LCKeqJlfBq4DNgP3A2dFxPoGtx8FRgGGh4cXj42NTVpeqVQYGhrKzbF2y7bCmdtt0fy5u8wrmrsfDWp25+6+Qc3eLHe/9Ui9ZrlHRkZWR0Qp7/aFy13SEPAd4PyI+HLdsv2A5yKiIul44BMRcehU6yuVSjExMTFp3vj4OOVyOTfLwhU3FMrcCZsuOGGXeUVz96NBze7c3Teo2Zvl7rceqdcst6RC5V7o3TKSZlPdM/9SfbEDRMQTEVHJpm8EZkuaV2TdZmbWfkXeLSPgMmBDRHysyZiXZOOQdFS23kfaGdTMzIor8m6ZY4FTgbWS1mTzPgQcDBARlwInA++VtAPYDiyL6RzMNzOztsot94i4DVDOmEuAS9oVyszMWuNPqJqZJcjlbmaWIJe7mVmCXO5mZglyuZuZJcjlbmaWIJe7mVmCXO5mZglyuZuZJcjlbmaWIJe7mVmCXO5mZglyuZuZJcjlbmaWIJe7mVmCXO5mZglyuZuZJajId6gukHSLpA2S1ks6o8EYSfqkpI2S7pJ0ZGfimplZEUW+Q3UHcGZE3CFpDrBa0k0RcXfNmDcCh2aXo4FPZ/+amVkP5O65R8QDEXFHNv0ksAGYXzdsKfCFqPo+sL+kA9ue1szMClFEFB8sLQRuBQ6LiCdq5l8PXJB9mTaSvg18MCIm6m4/CowCDA8PLx4bG5u0/kqlwtDQUG6OtVu2Fc7cbovmz91lXtHcrejUYx7eB7Zun3pMo8fcDVM95iK5W9Gpx9yN50qndCp7p1/PnX6uzESR51ez7T0yMrI6Ikp5ty9yWAYASUPAdcAHaot95+IGN9nlp0ZErARWApRKpSiXy5OWj4+PUz+vkeUrbiiUuRM2nVLeZV7R3K3o1GM+c9EOLlo79dOg0WPuhqkec5HcrejUY+7Gc6VTOpW906/nTj9XZqLI86vV7V3o3TKSZlMt9i9FxJcbDNkMLKi5fhBw/4xTmZlZS4q8W0bAZcCGiPhYk2GrgLdn75o5BtgWEQ+0MaeZmU1Dkd9VjgVOBdZKWpPN+xBwMEBEXArcCBwPbASeBt7Z/qhmZlZUbrlnfyRtdEy9dkwA72tXKDMza40/oWpmliCXu5lZglzuZmYJcrmbmSXI5W5mliCXu5lZglzuZmYJcrmbmSXI5W5mliCXu5lZglzuZmYJcrmbmSXI5W5mliCXu5lZglzuZmYJcrmbmSXI5W5mlqAi36F6uaQHJa1rsrwsaZukNdnlnPbHNDOz6SjyHapXAJcAX5hizHcj4sS2JDIzs5bl7rlHxK3Ao13IYmZmbaLqd1vnDJIWAtdHxGENlpWB64DNwP3AWRGxvsl6RoFRgOHh4cVjY2OTllcqFYaGhnLzrN2yLXdMpyyaP3eXeUVzt6JTj3l4H9i6feoxjR5zN0z1mIvkbkWnHnM3niud0qnsnX49d/q5MhNFnl/NtvfIyMjqiCjl3b4d5b4f8FxEVCQdD3wiIg7NW2epVIqJiYlJ88bHxymXy7l5Fq64IXdMp2y64IRd5hXN3YpOPeYzF+3gorVTH51r9Ji7YarHXCR3Kzr1mLvxXOmUTmXv9Ou508+VmSjy/Gq2vSUVKveW3y0TEU9ERCWbvhGYLWleq+s1M7OZa7ncJb1EkrLpo7J1PtLqes3MbOZyf1eRdBVQBuZJ2gycC8wGiIhLgZOB90raAWwHlkWRYz1mZtYxueUeEW/JWX4J1bdKmplZn/AnVM3MEuRyNzNLkMvdzCxBLnczswS53M3MEuRyNzNLkMvdzCxBLnczswS53M3MEuRyNzNLkMvdzCxBLnczswS53M3MEuRyNzNLkMvdzCxBLnczswS53M3MEpRb7pIul/SgpHVNlkvSJyVtlHSXpCPbH9PMzKajyJ77FcCSKZa/ETg0u4wCn249lpmZtSK33CPiVuDRKYYsBb4QVd8H9pd0YLsCmpnZ9Cki8gdJC4HrI+KwBsuuBy6IiNuy698GPhgREw3GjlLdu2d4eHjx2NjYpOWVSoWhoaHcPGu3bMsd003D+8DW7b1OMTNFsi+aP7c7YepM9f88qNt8UHPD4Gbvx9xFXlPN+nBkZGR1RJTybr/nzKJNogbzGv7EiIiVwEqAUqkU5XJ50vLx8XHq5zWyfMUN083YUWcu2sFFa9uxKbuvSPZNp5S7E6bOVP/Pg7rNBzU3DG72fsxd5DVVtA+bace7ZTYDC2quHwTc34b1mpnZDLWj3FcBb8/eNXMMsC0iHmjDes3MbIZyf1eRdBVQBuZJ2gycC8wGiIhLgRuB44GNwNPAOzsV1szMiskt94h4S87yAN7XtkRmZtYyf0LVzCxBLnczswS53M3MEuRyNzNLkMvdzCxBLnczswS53M3MEuRyNzNLkMvdzCxBLnczswS53M3MEuRyNzNLkMvdzCxBLnczswS53M3MEuRyNzNLkMvdzCxBhcpd0hJJ90jaKGlFg+XLJT0kaU12eXf7o5qZWVFFvkN1FvAp4A3AZuCHklZFxN11Q6+OiNM7kNHMzKapyJ77UcDGiPhpRPwGGAOWdjaWmZm1QtXvt55igHQysCQi3p1dPxU4unYvXdJy4KPAQ8C9wN9HxC8brGsUGAUYHh5ePDY2Nml5pVJhaGgoN/TaLdtyx3TT8D6wdXuvU8xMkeyL5s/tTpg6U/0/D+o2H9TcMLjZ+zF3kddUsz4cGRlZHRGlvNvnHpYB1GBe/U+E/wauiohnJJ0GXAkct8uNIlYCKwFKpVKUy+VJy8fHx6mf18jyFTcUiN09Zy7awUVri2zK/lMk+6ZTyt0JU2eq/+dB3eaDmhsGN3s/5i7ymirah80UOSyzGVhQc/0g4P7aARHxSEQ8k139LLB4xonMzKxlRcr9h8Chkl4maS9gGbCqdoCkA2uungRsaF9EMzObrtzfVSJih6TTgW8As4DLI2K9pPOAiYhYBbxf0knADuBRYHkHM5uZWY5CB6Ii4kbgxrp559RMnw2c3d5oZmY2U/6EqplZglzuZmYJcrmbmSXI5W5mliCXu5lZglzuZmYJcrmbmSXI5W5mliCXu5lZglzuZmYJcrmbmSXI5W5mliCXu5lZglzuZmYJcrmbmSXI5W5mliCXu5lZggqVu6Qlku6RtFHSigbL95Z0dbb8dkkL2x3UzMyKyy13SbOATwFvBF4JvEXSK+uGvQt4LCIOAS4GLmx3UDMzK67InvtRwMaI+GlE/AYYA5bWjVkKXJlNXwu8TpLaF9PMzKZDETH1AOlkYElEvDu7fipwdEScXjNmXTZmc3b9vmzMw3XrGgVGs6uvAO6pu7t5wMMMnkHNDYOb3bm7b1Czp5b7pRFxQN6N9yxwB432wOt/IhQZQ0SsBFY2vSNpIiJKBTL1lUHNDYOb3bm7b1Cz7665ixyW2QwsqLl+EHB/szGS9gTmAo/ONJSZmbWmSLn/EDhU0ssk7QUsA1bVjVkFvCObPhm4OfKO95iZWcfkHpaJiB2STge+AcwCLo+I9ZLOAyYiYhVwGfBFSRup7rEvm2Gepods+tyg5obBze7c3Teo2XfL3Ll/UDUzs8HjT6iamSXI5W5mlqC+Kfe8Uxz0K0mbJK2VtEbSRK/zTEXS5ZIezD6XsHPeCyXdJOkn2b8v6GXGRprk/rCkLdl2XyPp+F5mbETSAkm3SNogab2kM7L5fb3Np8jd19tc0vMk/UDSnVnuj2TzX5adFuUn2WlS9up11lpT5L5C0s9qtvfh01pxRPT8QvUPtfcBLwf2Au4EXtnrXAWzbwLm9TpHwayvBY4E1tXM+1dgRTa9Ariw1zkL5v4wcFavs+XkPhA4MpueA9xL9RQefb3Np8jd19uc6udthrLp2cDtwDHANcCybP6lwHt7nbVg7iuAk2e63n7Zcy9yigNrUUTcyq6fP6g9dcSVwF91NVQBTXL3vYh4ICLuyKafBDYA8+nzbT5F7r4WVZXs6uzsEsBxVE+LAv25vZvlbkm/lPt84Jc11zczAE+mTADflLQ6O73CoBmOiAeg+qIGXtzjPNNxuqS7ssM2fXVoo152ptQjqO6VDcw2r8sNfb7NJc2StAZ4ELiJ6hGBxyNiRzakL7ulPndE7Nze52fb+2JJe09nnf1S7oVOX9Cnjo2II6meNfN9kl7b60C7iU8Dvw8cDjwAXNTbOM1JGgKuAz4QEU/0Ok9RDXL3/TaPiGcj4nCqn6Q/CvijRsO6mypffW5JhwFnA38I/DHwQuCD01lnv5R7kVMc9KWIuD/790HgK1SfUINkq6QDAbJ/H+xxnkIiYmv2gngO+Cx9ut0lzaZakF+KiC9ns/t+mzfKPSjbHCAiHgfGqR673j87LQr0ebfU5F6SHR6LiHgG+DzT3N79Uu5FTnHQdyTtK2nOzmngL4B1U9+q79SeOuIdwNd6mKWwneWY+Wv6cLtnp72+DNgQER+rWdTX27xZ7n7f5pIOkLR/Nr0P8Hqqfy+4heppUaA/t3ej3D+u2QEQ1b8TTGt7980nVLO3VX2c353i4PweR8ol6eVU99aheiqH/+zn3JKuAspUTyW6FTgX+CrVdxMcDPwCeHNE9NUfL5vkLlM9PBBU37H0np3HsfuFpD8FvgusBZ7LZn+I6vHrvt3mU+R+C328zSW9muofTGdR3XG9JiLOy16nY1QPbfwIeFu2N9wXpsh9M3AA1cPWa4DTav7wmr/efil3MzNrn345LGNmZm3kcjczS5DL3cwsQS53M7MEudzNzBLkcjczS5DL3cwsQf8HY4Hnm0yCiG0AAAAASUVORK5CYII=\n",
      "text/plain": [
       "<Figure size 432x288 with 1 Axes>"
      ]
     },
     "metadata": {},
     "output_type": "display_data"
    }
   ],
   "source": [
    "drug.hist('marijuana-use')"
   ]
  },
  {
   "cell_type": "markdown",
   "metadata": {
    "nbpresent": {
     "id": "5c69fcba-b6ce-461a-9c46-3caa19061490"
    },
    "slideshow": {
     "slide_type": "slide"
    }
   },
   "source": [
    "<a id='filtering'></a>\n",
    "\n",
    "### Filtering Logic\n",
    "\n",
    "---\n",
    "\n",
    "One of the most powerful features of DataFrames is the ability to use logical commands to filter data.\n",
    "\n",
    "Subset the ```drug``` data for only the rows in which `marijuana-use` is greater than 20."
   ]
  },
  {
   "cell_type": "code",
   "execution_count": 39,
   "metadata": {
    "nbpresent": {
     "id": "36249690-74cb-4ace-8f49-ad32fc259194"
    },
    "scrolled": true,
    "slideshow": {
     "slide_type": "fragment"
    }
   },
   "outputs": [
    {
     "data": {
      "text/html": [
       "<div>\n",
       "<style scoped>\n",
       "    .dataframe tbody tr th:only-of-type {\n",
       "        vertical-align: middle;\n",
       "    }\n",
       "\n",
       "    .dataframe tbody tr th {\n",
       "        vertical-align: top;\n",
       "    }\n",
       "\n",
       "    .dataframe thead th {\n",
       "        text-align: right;\n",
       "    }\n",
       "</style>\n",
       "<table border=\"1\" class=\"dataframe\">\n",
       "  <thead>\n",
       "    <tr style=\"text-align: right;\">\n",
       "      <th></th>\n",
       "      <th>age</th>\n",
       "      <th>n</th>\n",
       "      <th>alcohol-use</th>\n",
       "      <th>alcohol-frequency</th>\n",
       "      <th>marijuana-use</th>\n",
       "      <th>marijuana-frequency</th>\n",
       "      <th>cocaine-use</th>\n",
       "      <th>cocaine-frequency</th>\n",
       "      <th>crack-use</th>\n",
       "      <th>crack-frequency</th>\n",
       "      <th>...</th>\n",
       "      <th>oxycontin-use</th>\n",
       "      <th>oxycontin-frequency</th>\n",
       "      <th>tranquilizer-use</th>\n",
       "      <th>tranquilizer-frequency</th>\n",
       "      <th>stimulant-use</th>\n",
       "      <th>stimulant-frequency</th>\n",
       "      <th>meth-use</th>\n",
       "      <th>meth-frequency</th>\n",
       "      <th>sedative-use</th>\n",
       "      <th>sedative-frequency</th>\n",
       "    </tr>\n",
       "  </thead>\n",
       "  <tbody>\n",
       "    <tr>\n",
       "      <th>4</th>\n",
       "      <td>16</td>\n",
       "      <td>3058</td>\n",
       "      <td>40.1</td>\n",
       "      <td>10.0</td>\n",
       "      <td>22.5</td>\n",
       "      <td>30.0</td>\n",
       "      <td>1.0</td>\n",
       "      <td>7.0</td>\n",
       "      <td>0.0</td>\n",
       "      <td>1.0</td>\n",
       "      <td>...</td>\n",
       "      <td>1.1</td>\n",
       "      <td>4.0</td>\n",
       "      <td>2.4</td>\n",
       "      <td>11.0</td>\n",
       "      <td>1.8</td>\n",
       "      <td>9.5</td>\n",
       "      <td>0.3</td>\n",
       "      <td>36.0</td>\n",
       "      <td>0.2</td>\n",
       "      <td>3.0</td>\n",
       "    </tr>\n",
       "    <tr>\n",
       "      <th>5</th>\n",
       "      <td>17</td>\n",
       "      <td>3038</td>\n",
       "      <td>49.3</td>\n",
       "      <td>13.0</td>\n",
       "      <td>28.0</td>\n",
       "      <td>36.0</td>\n",
       "      <td>2.0</td>\n",
       "      <td>5.0</td>\n",
       "      <td>0.1</td>\n",
       "      <td>21.0</td>\n",
       "      <td>...</td>\n",
       "      <td>1.4</td>\n",
       "      <td>6.0</td>\n",
       "      <td>3.5</td>\n",
       "      <td>7.0</td>\n",
       "      <td>2.8</td>\n",
       "      <td>9.0</td>\n",
       "      <td>0.6</td>\n",
       "      <td>48.0</td>\n",
       "      <td>0.5</td>\n",
       "      <td>6.5</td>\n",
       "    </tr>\n",
       "    <tr>\n",
       "      <th>6</th>\n",
       "      <td>18</td>\n",
       "      <td>2469</td>\n",
       "      <td>58.7</td>\n",
       "      <td>24.0</td>\n",
       "      <td>33.7</td>\n",
       "      <td>52.0</td>\n",
       "      <td>3.2</td>\n",
       "      <td>5.0</td>\n",
       "      <td>0.4</td>\n",
       "      <td>10.0</td>\n",
       "      <td>...</td>\n",
       "      <td>1.7</td>\n",
       "      <td>7.0</td>\n",
       "      <td>4.9</td>\n",
       "      <td>12.0</td>\n",
       "      <td>3.0</td>\n",
       "      <td>8.0</td>\n",
       "      <td>0.5</td>\n",
       "      <td>12.0</td>\n",
       "      <td>0.4</td>\n",
       "      <td>10.0</td>\n",
       "    </tr>\n",
       "    <tr>\n",
       "      <th>7</th>\n",
       "      <td>19</td>\n",
       "      <td>2223</td>\n",
       "      <td>64.6</td>\n",
       "      <td>36.0</td>\n",
       "      <td>33.4</td>\n",
       "      <td>60.0</td>\n",
       "      <td>4.1</td>\n",
       "      <td>5.5</td>\n",
       "      <td>0.5</td>\n",
       "      <td>2.0</td>\n",
       "      <td>...</td>\n",
       "      <td>1.5</td>\n",
       "      <td>7.5</td>\n",
       "      <td>4.2</td>\n",
       "      <td>4.5</td>\n",
       "      <td>3.3</td>\n",
       "      <td>6.0</td>\n",
       "      <td>0.4</td>\n",
       "      <td>105.0</td>\n",
       "      <td>0.3</td>\n",
       "      <td>6.0</td>\n",
       "    </tr>\n",
       "    <tr>\n",
       "      <th>8</th>\n",
       "      <td>20</td>\n",
       "      <td>2271</td>\n",
       "      <td>69.7</td>\n",
       "      <td>48.0</td>\n",
       "      <td>34.0</td>\n",
       "      <td>60.0</td>\n",
       "      <td>4.9</td>\n",
       "      <td>8.0</td>\n",
       "      <td>0.6</td>\n",
       "      <td>5.0</td>\n",
       "      <td>...</td>\n",
       "      <td>1.7</td>\n",
       "      <td>12.0</td>\n",
       "      <td>5.4</td>\n",
       "      <td>10.0</td>\n",
       "      <td>4.0</td>\n",
       "      <td>12.0</td>\n",
       "      <td>0.9</td>\n",
       "      <td>12.0</td>\n",
       "      <td>0.5</td>\n",
       "      <td>4.0</td>\n",
       "    </tr>\n",
       "    <tr>\n",
       "      <th>9</th>\n",
       "      <td>21</td>\n",
       "      <td>2354</td>\n",
       "      <td>83.2</td>\n",
       "      <td>52.0</td>\n",
       "      <td>33.0</td>\n",
       "      <td>52.0</td>\n",
       "      <td>4.8</td>\n",
       "      <td>5.0</td>\n",
       "      <td>0.5</td>\n",
       "      <td>17.0</td>\n",
       "      <td>...</td>\n",
       "      <td>1.3</td>\n",
       "      <td>13.5</td>\n",
       "      <td>3.9</td>\n",
       "      <td>7.0</td>\n",
       "      <td>4.1</td>\n",
       "      <td>10.0</td>\n",
       "      <td>0.6</td>\n",
       "      <td>2.0</td>\n",
       "      <td>0.3</td>\n",
       "      <td>9.0</td>\n",
       "    </tr>\n",
       "    <tr>\n",
       "      <th>10</th>\n",
       "      <td>22-23</td>\n",
       "      <td>4707</td>\n",
       "      <td>84.2</td>\n",
       "      <td>52.0</td>\n",
       "      <td>28.4</td>\n",
       "      <td>52.0</td>\n",
       "      <td>4.5</td>\n",
       "      <td>5.0</td>\n",
       "      <td>0.5</td>\n",
       "      <td>5.0</td>\n",
       "      <td>...</td>\n",
       "      <td>1.7</td>\n",
       "      <td>17.5</td>\n",
       "      <td>4.4</td>\n",
       "      <td>12.0</td>\n",
       "      <td>3.6</td>\n",
       "      <td>10.0</td>\n",
       "      <td>0.6</td>\n",
       "      <td>46.0</td>\n",
       "      <td>0.2</td>\n",
       "      <td>52.0</td>\n",
       "    </tr>\n",
       "    <tr>\n",
       "      <th>11</th>\n",
       "      <td>24-25</td>\n",
       "      <td>4591</td>\n",
       "      <td>83.1</td>\n",
       "      <td>52.0</td>\n",
       "      <td>24.9</td>\n",
       "      <td>60.0</td>\n",
       "      <td>4.0</td>\n",
       "      <td>6.0</td>\n",
       "      <td>0.5</td>\n",
       "      <td>6.0</td>\n",
       "      <td>...</td>\n",
       "      <td>1.3</td>\n",
       "      <td>20.0</td>\n",
       "      <td>4.3</td>\n",
       "      <td>10.0</td>\n",
       "      <td>2.6</td>\n",
       "      <td>10.0</td>\n",
       "      <td>0.7</td>\n",
       "      <td>21.0</td>\n",
       "      <td>0.2</td>\n",
       "      <td>17.5</td>\n",
       "    </tr>\n",
       "    <tr>\n",
       "      <th>12</th>\n",
       "      <td>26-29</td>\n",
       "      <td>2628</td>\n",
       "      <td>80.7</td>\n",
       "      <td>52.0</td>\n",
       "      <td>20.8</td>\n",
       "      <td>52.0</td>\n",
       "      <td>3.2</td>\n",
       "      <td>5.0</td>\n",
       "      <td>0.4</td>\n",
       "      <td>6.0</td>\n",
       "      <td>...</td>\n",
       "      <td>1.2</td>\n",
       "      <td>13.5</td>\n",
       "      <td>4.2</td>\n",
       "      <td>10.0</td>\n",
       "      <td>2.3</td>\n",
       "      <td>7.0</td>\n",
       "      <td>0.6</td>\n",
       "      <td>30.0</td>\n",
       "      <td>0.4</td>\n",
       "      <td>4.0</td>\n",
       "    </tr>\n",
       "  </tbody>\n",
       "</table>\n",
       "<p>9 rows × 28 columns</p>\n",
       "</div>"
      ],
      "text/plain": [
       "      age     n  alcohol-use  alcohol-frequency  marijuana-use  \\\n",
       "4      16  3058         40.1               10.0           22.5   \n",
       "5      17  3038         49.3               13.0           28.0   \n",
       "6      18  2469         58.7               24.0           33.7   \n",
       "7      19  2223         64.6               36.0           33.4   \n",
       "8      20  2271         69.7               48.0           34.0   \n",
       "9      21  2354         83.2               52.0           33.0   \n",
       "10  22-23  4707         84.2               52.0           28.4   \n",
       "11  24-25  4591         83.1               52.0           24.9   \n",
       "12  26-29  2628         80.7               52.0           20.8   \n",
       "\n",
       "    marijuana-frequency  cocaine-use cocaine-frequency  crack-use  \\\n",
       "4                  30.0          1.0               7.0        0.0   \n",
       "5                  36.0          2.0               5.0        0.1   \n",
       "6                  52.0          3.2               5.0        0.4   \n",
       "7                  60.0          4.1               5.5        0.5   \n",
       "8                  60.0          4.9               8.0        0.6   \n",
       "9                  52.0          4.8               5.0        0.5   \n",
       "10                 52.0          4.5               5.0        0.5   \n",
       "11                 60.0          4.0               6.0        0.5   \n",
       "12                 52.0          3.2               5.0        0.4   \n",
       "\n",
       "   crack-frequency        ...          oxycontin-use oxycontin-frequency  \\\n",
       "4              1.0        ...                    1.1                 4.0   \n",
       "5             21.0        ...                    1.4                 6.0   \n",
       "6             10.0        ...                    1.7                 7.0   \n",
       "7              2.0        ...                    1.5                 7.5   \n",
       "8              5.0        ...                    1.7                12.0   \n",
       "9             17.0        ...                    1.3                13.5   \n",
       "10             5.0        ...                    1.7                17.5   \n",
       "11             6.0        ...                    1.3                20.0   \n",
       "12             6.0        ...                    1.2                13.5   \n",
       "\n",
       "    tranquilizer-use  tranquilizer-frequency  stimulant-use  \\\n",
       "4                2.4                    11.0            1.8   \n",
       "5                3.5                     7.0            2.8   \n",
       "6                4.9                    12.0            3.0   \n",
       "7                4.2                     4.5            3.3   \n",
       "8                5.4                    10.0            4.0   \n",
       "9                3.9                     7.0            4.1   \n",
       "10               4.4                    12.0            3.6   \n",
       "11               4.3                    10.0            2.6   \n",
       "12               4.2                    10.0            2.3   \n",
       "\n",
       "   stimulant-frequency  meth-use  meth-frequency  sedative-use  \\\n",
       "4                  9.5       0.3            36.0           0.2   \n",
       "5                  9.0       0.6            48.0           0.5   \n",
       "6                  8.0       0.5            12.0           0.4   \n",
       "7                  6.0       0.4           105.0           0.3   \n",
       "8                 12.0       0.9            12.0           0.5   \n",
       "9                 10.0       0.6             2.0           0.3   \n",
       "10                10.0       0.6            46.0           0.2   \n",
       "11                10.0       0.7            21.0           0.2   \n",
       "12                 7.0       0.6            30.0           0.4   \n",
       "\n",
       "   sedative-frequency  \n",
       "4                 3.0  \n",
       "5                 6.5  \n",
       "6                10.0  \n",
       "7                 6.0  \n",
       "8                 4.0  \n",
       "9                 9.0  \n",
       "10               52.0  \n",
       "11               17.5  \n",
       "12                4.0  \n",
       "\n",
       "[9 rows x 28 columns]"
      ]
     },
     "execution_count": 39,
     "metadata": {},
     "output_type": "execute_result"
    }
   ],
   "source": [
    "drug[drug['marijuana-use'] > 20]"
   ]
  },
  {
   "cell_type": "markdown",
   "metadata": {
    "nbpresent": {
     "id": "c3556d0f-27ad-4e34-b711-d6b6082d3c80"
    },
    "slideshow": {
     "slide_type": "slide"
    }
   },
   "source": [
    "The ampersand sign can be used to subset where multiple conditions need to be met for each row. \n",
    "\n",
    "Subset the data for `marijuana-use` greater than 20 like before, but now, also include where the n is greater than 4,000."
   ]
  },
  {
   "cell_type": "code",
   "execution_count": 40,
   "metadata": {
    "scrolled": true
   },
   "outputs": [
    {
     "name": "stdout",
     "output_type": "stream",
     "text": [
      "<class 'pandas.core.frame.DataFrame'>\n",
      "RangeIndex: 17 entries, 0 to 16\n",
      "Data columns (total 28 columns):\n",
      "age                        17 non-null object\n",
      "n                          17 non-null int64\n",
      "alcohol-use                17 non-null float64\n",
      "alcohol-frequency          17 non-null float64\n",
      "marijuana-use              17 non-null float64\n",
      "marijuana-frequency        17 non-null float64\n",
      "cocaine-use                17 non-null float64\n",
      "cocaine-frequency          17 non-null object\n",
      "crack-use                  17 non-null float64\n",
      "crack-frequency            17 non-null object\n",
      "heroin-use                 17 non-null float64\n",
      "heroin-frequency           17 non-null object\n",
      "hallucinogen-use           17 non-null float64\n",
      "hallucinogen-frequency     17 non-null float64\n",
      "inhalant-use               17 non-null float64\n",
      "inhalant-frequency         17 non-null object\n",
      "pain-releiver-use          17 non-null float64\n",
      "pain-releiver-frequency    17 non-null float64\n",
      "oxycontin-use              17 non-null float64\n",
      "oxycontin-frequency        17 non-null object\n",
      "tranquilizer-use           17 non-null float64\n",
      "tranquilizer-frequency     17 non-null float64\n",
      "stimulant-use              17 non-null float64\n",
      "stimulant-frequency        17 non-null float64\n",
      "meth-use                   17 non-null float64\n",
      "meth-frequency             17 non-null object\n",
      "sedative-use               17 non-null float64\n",
      "sedative-frequency         17 non-null float64\n",
      "dtypes: float64(20), int64(1), object(7)\n",
      "memory usage: 3.8+ KB\n"
     ]
    }
   ],
   "source": [
    "drug.info()"
   ]
  },
  {
   "cell_type": "code",
   "execution_count": 41,
   "metadata": {
    "nbpresent": {
     "id": "735e4207-e303-4226-914f-0f4f581c9f08"
    },
    "scrolled": false
   },
   "outputs": [
    {
     "data": {
      "text/html": [
       "<div>\n",
       "<style scoped>\n",
       "    .dataframe tbody tr th:only-of-type {\n",
       "        vertical-align: middle;\n",
       "    }\n",
       "\n",
       "    .dataframe tbody tr th {\n",
       "        vertical-align: top;\n",
       "    }\n",
       "\n",
       "    .dataframe thead th {\n",
       "        text-align: right;\n",
       "    }\n",
       "</style>\n",
       "<table border=\"1\" class=\"dataframe\">\n",
       "  <thead>\n",
       "    <tr style=\"text-align: right;\">\n",
       "      <th></th>\n",
       "      <th>age</th>\n",
       "      <th>n</th>\n",
       "      <th>alcohol-use</th>\n",
       "      <th>alcohol-frequency</th>\n",
       "      <th>marijuana-use</th>\n",
       "      <th>marijuana-frequency</th>\n",
       "      <th>cocaine-use</th>\n",
       "      <th>cocaine-frequency</th>\n",
       "      <th>crack-use</th>\n",
       "      <th>crack-frequency</th>\n",
       "      <th>...</th>\n",
       "      <th>oxycontin-use</th>\n",
       "      <th>oxycontin-frequency</th>\n",
       "      <th>tranquilizer-use</th>\n",
       "      <th>tranquilizer-frequency</th>\n",
       "      <th>stimulant-use</th>\n",
       "      <th>stimulant-frequency</th>\n",
       "      <th>meth-use</th>\n",
       "      <th>meth-frequency</th>\n",
       "      <th>sedative-use</th>\n",
       "      <th>sedative-frequency</th>\n",
       "    </tr>\n",
       "  </thead>\n",
       "  <tbody>\n",
       "    <tr>\n",
       "      <th>10</th>\n",
       "      <td>22-23</td>\n",
       "      <td>4707</td>\n",
       "      <td>84.2</td>\n",
       "      <td>52.0</td>\n",
       "      <td>28.4</td>\n",
       "      <td>52.0</td>\n",
       "      <td>4.5</td>\n",
       "      <td>5.0</td>\n",
       "      <td>0.5</td>\n",
       "      <td>5.0</td>\n",
       "      <td>...</td>\n",
       "      <td>1.7</td>\n",
       "      <td>17.5</td>\n",
       "      <td>4.4</td>\n",
       "      <td>12.0</td>\n",
       "      <td>3.6</td>\n",
       "      <td>10.0</td>\n",
       "      <td>0.6</td>\n",
       "      <td>46.0</td>\n",
       "      <td>0.2</td>\n",
       "      <td>52.0</td>\n",
       "    </tr>\n",
       "    <tr>\n",
       "      <th>11</th>\n",
       "      <td>24-25</td>\n",
       "      <td>4591</td>\n",
       "      <td>83.1</td>\n",
       "      <td>52.0</td>\n",
       "      <td>24.9</td>\n",
       "      <td>60.0</td>\n",
       "      <td>4.0</td>\n",
       "      <td>6.0</td>\n",
       "      <td>0.5</td>\n",
       "      <td>6.0</td>\n",
       "      <td>...</td>\n",
       "      <td>1.3</td>\n",
       "      <td>20.0</td>\n",
       "      <td>4.3</td>\n",
       "      <td>10.0</td>\n",
       "      <td>2.6</td>\n",
       "      <td>10.0</td>\n",
       "      <td>0.7</td>\n",
       "      <td>21.0</td>\n",
       "      <td>0.2</td>\n",
       "      <td>17.5</td>\n",
       "    </tr>\n",
       "  </tbody>\n",
       "</table>\n",
       "<p>2 rows × 28 columns</p>\n",
       "</div>"
      ],
      "text/plain": [
       "      age     n  alcohol-use  alcohol-frequency  marijuana-use  \\\n",
       "10  22-23  4707         84.2               52.0           28.4   \n",
       "11  24-25  4591         83.1               52.0           24.9   \n",
       "\n",
       "    marijuana-frequency  cocaine-use cocaine-frequency  crack-use  \\\n",
       "10                 52.0          4.5               5.0        0.5   \n",
       "11                 60.0          4.0               6.0        0.5   \n",
       "\n",
       "   crack-frequency        ...          oxycontin-use oxycontin-frequency  \\\n",
       "10             5.0        ...                    1.7                17.5   \n",
       "11             6.0        ...                    1.3                20.0   \n",
       "\n",
       "    tranquilizer-use  tranquilizer-frequency  stimulant-use  \\\n",
       "10               4.4                    12.0            3.6   \n",
       "11               4.3                    10.0            2.6   \n",
       "\n",
       "   stimulant-frequency  meth-use  meth-frequency  sedative-use  \\\n",
       "10                10.0       0.6            46.0           0.2   \n",
       "11                10.0       0.7            21.0           0.2   \n",
       "\n",
       "   sedative-frequency  \n",
       "10               52.0  \n",
       "11               17.5  \n",
       "\n",
       "[2 rows x 28 columns]"
      ]
     },
     "execution_count": 41,
     "metadata": {},
     "output_type": "execute_result"
    }
   ],
   "source": [
    "drug[(drug['marijuana-use'] > 20) & (drug.n > 4000)]"
   ]
  },
  {
   "cell_type": "markdown",
   "metadata": {
    "slideshow": {
     "slide_type": "slide"
    }
   },
   "source": [
    "## Independent Practice\n",
    "\n",
    "With our drug dataset already loaded, let's explore our dataset a bit more thoroughly to gain some familiarity with beginning exploratory analysis."
   ]
  },
  {
   "cell_type": "markdown",
   "metadata": {},
   "source": [
    "### 1.  Identify which variable distributions are skewed left or right."
   ]
  },
  {
   "cell_type": "code",
   "execution_count": 42,
   "metadata": {},
   "outputs": [
    {
     "data": {
      "text/html": [
       "<div>\n",
       "<style scoped>\n",
       "    .dataframe tbody tr th:only-of-type {\n",
       "        vertical-align: middle;\n",
       "    }\n",
       "\n",
       "    .dataframe tbody tr th {\n",
       "        vertical-align: top;\n",
       "    }\n",
       "\n",
       "    .dataframe thead th {\n",
       "        text-align: right;\n",
       "    }\n",
       "</style>\n",
       "<table border=\"1\" class=\"dataframe\">\n",
       "  <thead>\n",
       "    <tr style=\"text-align: right;\">\n",
       "      <th></th>\n",
       "      <th>age</th>\n",
       "      <th>n</th>\n",
       "      <th>alcohol-use</th>\n",
       "      <th>alcohol-frequency</th>\n",
       "      <th>marijuana-use</th>\n",
       "      <th>marijuana-frequency</th>\n",
       "      <th>cocaine-use</th>\n",
       "      <th>cocaine-frequency</th>\n",
       "      <th>crack-use</th>\n",
       "      <th>crack-frequency</th>\n",
       "      <th>...</th>\n",
       "      <th>oxycontin-use</th>\n",
       "      <th>oxycontin-frequency</th>\n",
       "      <th>tranquilizer-use</th>\n",
       "      <th>tranquilizer-frequency</th>\n",
       "      <th>stimulant-use</th>\n",
       "      <th>stimulant-frequency</th>\n",
       "      <th>meth-use</th>\n",
       "      <th>meth-frequency</th>\n",
       "      <th>sedative-use</th>\n",
       "      <th>sedative-frequency</th>\n",
       "    </tr>\n",
       "  </thead>\n",
       "  <tbody>\n",
       "    <tr>\n",
       "      <th>0</th>\n",
       "      <td>12</td>\n",
       "      <td>2798</td>\n",
       "      <td>3.9</td>\n",
       "      <td>3.0</td>\n",
       "      <td>1.1</td>\n",
       "      <td>4.0</td>\n",
       "      <td>0.1</td>\n",
       "      <td>5.0</td>\n",
       "      <td>0.0</td>\n",
       "      <td>-</td>\n",
       "      <td>...</td>\n",
       "      <td>0.1</td>\n",
       "      <td>24.5</td>\n",
       "      <td>0.2</td>\n",
       "      <td>52.0</td>\n",
       "      <td>0.2</td>\n",
       "      <td>2.0</td>\n",
       "      <td>0.0</td>\n",
       "      <td>-</td>\n",
       "      <td>0.2</td>\n",
       "      <td>13.0</td>\n",
       "    </tr>\n",
       "    <tr>\n",
       "      <th>1</th>\n",
       "      <td>13</td>\n",
       "      <td>2757</td>\n",
       "      <td>8.5</td>\n",
       "      <td>6.0</td>\n",
       "      <td>3.4</td>\n",
       "      <td>15.0</td>\n",
       "      <td>0.1</td>\n",
       "      <td>1.0</td>\n",
       "      <td>0.0</td>\n",
       "      <td>3.0</td>\n",
       "      <td>...</td>\n",
       "      <td>0.1</td>\n",
       "      <td>41.0</td>\n",
       "      <td>0.3</td>\n",
       "      <td>25.5</td>\n",
       "      <td>0.3</td>\n",
       "      <td>4.0</td>\n",
       "      <td>0.1</td>\n",
       "      <td>5.0</td>\n",
       "      <td>0.1</td>\n",
       "      <td>19.0</td>\n",
       "    </tr>\n",
       "    <tr>\n",
       "      <th>2</th>\n",
       "      <td>14</td>\n",
       "      <td>2792</td>\n",
       "      <td>18.1</td>\n",
       "      <td>5.0</td>\n",
       "      <td>8.7</td>\n",
       "      <td>24.0</td>\n",
       "      <td>0.1</td>\n",
       "      <td>5.5</td>\n",
       "      <td>0.0</td>\n",
       "      <td>-</td>\n",
       "      <td>...</td>\n",
       "      <td>0.4</td>\n",
       "      <td>4.5</td>\n",
       "      <td>0.9</td>\n",
       "      <td>5.0</td>\n",
       "      <td>0.8</td>\n",
       "      <td>12.0</td>\n",
       "      <td>0.1</td>\n",
       "      <td>24.0</td>\n",
       "      <td>0.2</td>\n",
       "      <td>16.5</td>\n",
       "    </tr>\n",
       "    <tr>\n",
       "      <th>3</th>\n",
       "      <td>15</td>\n",
       "      <td>2956</td>\n",
       "      <td>29.2</td>\n",
       "      <td>6.0</td>\n",
       "      <td>14.5</td>\n",
       "      <td>25.0</td>\n",
       "      <td>0.5</td>\n",
       "      <td>4.0</td>\n",
       "      <td>0.1</td>\n",
       "      <td>9.5</td>\n",
       "      <td>...</td>\n",
       "      <td>0.8</td>\n",
       "      <td>3.0</td>\n",
       "      <td>2.0</td>\n",
       "      <td>4.5</td>\n",
       "      <td>1.5</td>\n",
       "      <td>6.0</td>\n",
       "      <td>0.3</td>\n",
       "      <td>10.5</td>\n",
       "      <td>0.4</td>\n",
       "      <td>30.0</td>\n",
       "    </tr>\n",
       "    <tr>\n",
       "      <th>4</th>\n",
       "      <td>16</td>\n",
       "      <td>3058</td>\n",
       "      <td>40.1</td>\n",
       "      <td>10.0</td>\n",
       "      <td>22.5</td>\n",
       "      <td>30.0</td>\n",
       "      <td>1.0</td>\n",
       "      <td>7.0</td>\n",
       "      <td>0.0</td>\n",
       "      <td>1.0</td>\n",
       "      <td>...</td>\n",
       "      <td>1.1</td>\n",
       "      <td>4.0</td>\n",
       "      <td>2.4</td>\n",
       "      <td>11.0</td>\n",
       "      <td>1.8</td>\n",
       "      <td>9.5</td>\n",
       "      <td>0.3</td>\n",
       "      <td>36.0</td>\n",
       "      <td>0.2</td>\n",
       "      <td>3.0</td>\n",
       "    </tr>\n",
       "    <tr>\n",
       "      <th>5</th>\n",
       "      <td>17</td>\n",
       "      <td>3038</td>\n",
       "      <td>49.3</td>\n",
       "      <td>13.0</td>\n",
       "      <td>28.0</td>\n",
       "      <td>36.0</td>\n",
       "      <td>2.0</td>\n",
       "      <td>5.0</td>\n",
       "      <td>0.1</td>\n",
       "      <td>21.0</td>\n",
       "      <td>...</td>\n",
       "      <td>1.4</td>\n",
       "      <td>6.0</td>\n",
       "      <td>3.5</td>\n",
       "      <td>7.0</td>\n",
       "      <td>2.8</td>\n",
       "      <td>9.0</td>\n",
       "      <td>0.6</td>\n",
       "      <td>48.0</td>\n",
       "      <td>0.5</td>\n",
       "      <td>6.5</td>\n",
       "    </tr>\n",
       "    <tr>\n",
       "      <th>6</th>\n",
       "      <td>18</td>\n",
       "      <td>2469</td>\n",
       "      <td>58.7</td>\n",
       "      <td>24.0</td>\n",
       "      <td>33.7</td>\n",
       "      <td>52.0</td>\n",
       "      <td>3.2</td>\n",
       "      <td>5.0</td>\n",
       "      <td>0.4</td>\n",
       "      <td>10.0</td>\n",
       "      <td>...</td>\n",
       "      <td>1.7</td>\n",
       "      <td>7.0</td>\n",
       "      <td>4.9</td>\n",
       "      <td>12.0</td>\n",
       "      <td>3.0</td>\n",
       "      <td>8.0</td>\n",
       "      <td>0.5</td>\n",
       "      <td>12.0</td>\n",
       "      <td>0.4</td>\n",
       "      <td>10.0</td>\n",
       "    </tr>\n",
       "    <tr>\n",
       "      <th>7</th>\n",
       "      <td>19</td>\n",
       "      <td>2223</td>\n",
       "      <td>64.6</td>\n",
       "      <td>36.0</td>\n",
       "      <td>33.4</td>\n",
       "      <td>60.0</td>\n",
       "      <td>4.1</td>\n",
       "      <td>5.5</td>\n",
       "      <td>0.5</td>\n",
       "      <td>2.0</td>\n",
       "      <td>...</td>\n",
       "      <td>1.5</td>\n",
       "      <td>7.5</td>\n",
       "      <td>4.2</td>\n",
       "      <td>4.5</td>\n",
       "      <td>3.3</td>\n",
       "      <td>6.0</td>\n",
       "      <td>0.4</td>\n",
       "      <td>105.0</td>\n",
       "      <td>0.3</td>\n",
       "      <td>6.0</td>\n",
       "    </tr>\n",
       "    <tr>\n",
       "      <th>8</th>\n",
       "      <td>20</td>\n",
       "      <td>2271</td>\n",
       "      <td>69.7</td>\n",
       "      <td>48.0</td>\n",
       "      <td>34.0</td>\n",
       "      <td>60.0</td>\n",
       "      <td>4.9</td>\n",
       "      <td>8.0</td>\n",
       "      <td>0.6</td>\n",
       "      <td>5.0</td>\n",
       "      <td>...</td>\n",
       "      <td>1.7</td>\n",
       "      <td>12.0</td>\n",
       "      <td>5.4</td>\n",
       "      <td>10.0</td>\n",
       "      <td>4.0</td>\n",
       "      <td>12.0</td>\n",
       "      <td>0.9</td>\n",
       "      <td>12.0</td>\n",
       "      <td>0.5</td>\n",
       "      <td>4.0</td>\n",
       "    </tr>\n",
       "    <tr>\n",
       "      <th>9</th>\n",
       "      <td>21</td>\n",
       "      <td>2354</td>\n",
       "      <td>83.2</td>\n",
       "      <td>52.0</td>\n",
       "      <td>33.0</td>\n",
       "      <td>52.0</td>\n",
       "      <td>4.8</td>\n",
       "      <td>5.0</td>\n",
       "      <td>0.5</td>\n",
       "      <td>17.0</td>\n",
       "      <td>...</td>\n",
       "      <td>1.3</td>\n",
       "      <td>13.5</td>\n",
       "      <td>3.9</td>\n",
       "      <td>7.0</td>\n",
       "      <td>4.1</td>\n",
       "      <td>10.0</td>\n",
       "      <td>0.6</td>\n",
       "      <td>2.0</td>\n",
       "      <td>0.3</td>\n",
       "      <td>9.0</td>\n",
       "    </tr>\n",
       "    <tr>\n",
       "      <th>10</th>\n",
       "      <td>22-23</td>\n",
       "      <td>4707</td>\n",
       "      <td>84.2</td>\n",
       "      <td>52.0</td>\n",
       "      <td>28.4</td>\n",
       "      <td>52.0</td>\n",
       "      <td>4.5</td>\n",
       "      <td>5.0</td>\n",
       "      <td>0.5</td>\n",
       "      <td>5.0</td>\n",
       "      <td>...</td>\n",
       "      <td>1.7</td>\n",
       "      <td>17.5</td>\n",
       "      <td>4.4</td>\n",
       "      <td>12.0</td>\n",
       "      <td>3.6</td>\n",
       "      <td>10.0</td>\n",
       "      <td>0.6</td>\n",
       "      <td>46.0</td>\n",
       "      <td>0.2</td>\n",
       "      <td>52.0</td>\n",
       "    </tr>\n",
       "    <tr>\n",
       "      <th>11</th>\n",
       "      <td>24-25</td>\n",
       "      <td>4591</td>\n",
       "      <td>83.1</td>\n",
       "      <td>52.0</td>\n",
       "      <td>24.9</td>\n",
       "      <td>60.0</td>\n",
       "      <td>4.0</td>\n",
       "      <td>6.0</td>\n",
       "      <td>0.5</td>\n",
       "      <td>6.0</td>\n",
       "      <td>...</td>\n",
       "      <td>1.3</td>\n",
       "      <td>20.0</td>\n",
       "      <td>4.3</td>\n",
       "      <td>10.0</td>\n",
       "      <td>2.6</td>\n",
       "      <td>10.0</td>\n",
       "      <td>0.7</td>\n",
       "      <td>21.0</td>\n",
       "      <td>0.2</td>\n",
       "      <td>17.5</td>\n",
       "    </tr>\n",
       "    <tr>\n",
       "      <th>12</th>\n",
       "      <td>26-29</td>\n",
       "      <td>2628</td>\n",
       "      <td>80.7</td>\n",
       "      <td>52.0</td>\n",
       "      <td>20.8</td>\n",
       "      <td>52.0</td>\n",
       "      <td>3.2</td>\n",
       "      <td>5.0</td>\n",
       "      <td>0.4</td>\n",
       "      <td>6.0</td>\n",
       "      <td>...</td>\n",
       "      <td>1.2</td>\n",
       "      <td>13.5</td>\n",
       "      <td>4.2</td>\n",
       "      <td>10.0</td>\n",
       "      <td>2.3</td>\n",
       "      <td>7.0</td>\n",
       "      <td>0.6</td>\n",
       "      <td>30.0</td>\n",
       "      <td>0.4</td>\n",
       "      <td>4.0</td>\n",
       "    </tr>\n",
       "    <tr>\n",
       "      <th>13</th>\n",
       "      <td>30-34</td>\n",
       "      <td>2864</td>\n",
       "      <td>77.5</td>\n",
       "      <td>52.0</td>\n",
       "      <td>16.4</td>\n",
       "      <td>72.0</td>\n",
       "      <td>2.1</td>\n",
       "      <td>8.0</td>\n",
       "      <td>0.5</td>\n",
       "      <td>15.0</td>\n",
       "      <td>...</td>\n",
       "      <td>0.9</td>\n",
       "      <td>46.0</td>\n",
       "      <td>3.6</td>\n",
       "      <td>8.0</td>\n",
       "      <td>1.4</td>\n",
       "      <td>12.0</td>\n",
       "      <td>0.4</td>\n",
       "      <td>54.0</td>\n",
       "      <td>0.4</td>\n",
       "      <td>10.0</td>\n",
       "    </tr>\n",
       "    <tr>\n",
       "      <th>14</th>\n",
       "      <td>35-49</td>\n",
       "      <td>7391</td>\n",
       "      <td>75.0</td>\n",
       "      <td>52.0</td>\n",
       "      <td>10.4</td>\n",
       "      <td>48.0</td>\n",
       "      <td>1.5</td>\n",
       "      <td>15.0</td>\n",
       "      <td>0.5</td>\n",
       "      <td>48.0</td>\n",
       "      <td>...</td>\n",
       "      <td>0.3</td>\n",
       "      <td>12.0</td>\n",
       "      <td>1.9</td>\n",
       "      <td>6.0</td>\n",
       "      <td>0.6</td>\n",
       "      <td>24.0</td>\n",
       "      <td>0.2</td>\n",
       "      <td>104.0</td>\n",
       "      <td>0.3</td>\n",
       "      <td>10.0</td>\n",
       "    </tr>\n",
       "    <tr>\n",
       "      <th>15</th>\n",
       "      <td>50-64</td>\n",
       "      <td>3923</td>\n",
       "      <td>67.2</td>\n",
       "      <td>52.0</td>\n",
       "      <td>7.3</td>\n",
       "      <td>52.0</td>\n",
       "      <td>0.9</td>\n",
       "      <td>36.0</td>\n",
       "      <td>0.4</td>\n",
       "      <td>62.0</td>\n",
       "      <td>...</td>\n",
       "      <td>0.4</td>\n",
       "      <td>5.0</td>\n",
       "      <td>1.4</td>\n",
       "      <td>10.0</td>\n",
       "      <td>0.3</td>\n",
       "      <td>24.0</td>\n",
       "      <td>0.2</td>\n",
       "      <td>30.0</td>\n",
       "      <td>0.2</td>\n",
       "      <td>104.0</td>\n",
       "    </tr>\n",
       "    <tr>\n",
       "      <th>16</th>\n",
       "      <td>65+</td>\n",
       "      <td>2448</td>\n",
       "      <td>49.3</td>\n",
       "      <td>52.0</td>\n",
       "      <td>1.2</td>\n",
       "      <td>36.0</td>\n",
       "      <td>0.0</td>\n",
       "      <td>-</td>\n",
       "      <td>0.0</td>\n",
       "      <td>-</td>\n",
       "      <td>...</td>\n",
       "      <td>0.0</td>\n",
       "      <td>-</td>\n",
       "      <td>0.2</td>\n",
       "      <td>5.0</td>\n",
       "      <td>0.0</td>\n",
       "      <td>364.0</td>\n",
       "      <td>0.0</td>\n",
       "      <td>-</td>\n",
       "      <td>0.0</td>\n",
       "      <td>15.0</td>\n",
       "    </tr>\n",
       "  </tbody>\n",
       "</table>\n",
       "<p>17 rows × 28 columns</p>\n",
       "</div>"
      ],
      "text/plain": [
       "      age     n  alcohol-use  alcohol-frequency  marijuana-use  \\\n",
       "0      12  2798          3.9                3.0            1.1   \n",
       "1      13  2757          8.5                6.0            3.4   \n",
       "2      14  2792         18.1                5.0            8.7   \n",
       "3      15  2956         29.2                6.0           14.5   \n",
       "4      16  3058         40.1               10.0           22.5   \n",
       "5      17  3038         49.3               13.0           28.0   \n",
       "6      18  2469         58.7               24.0           33.7   \n",
       "7      19  2223         64.6               36.0           33.4   \n",
       "8      20  2271         69.7               48.0           34.0   \n",
       "9      21  2354         83.2               52.0           33.0   \n",
       "10  22-23  4707         84.2               52.0           28.4   \n",
       "11  24-25  4591         83.1               52.0           24.9   \n",
       "12  26-29  2628         80.7               52.0           20.8   \n",
       "13  30-34  2864         77.5               52.0           16.4   \n",
       "14  35-49  7391         75.0               52.0           10.4   \n",
       "15  50-64  3923         67.2               52.0            7.3   \n",
       "16    65+  2448         49.3               52.0            1.2   \n",
       "\n",
       "    marijuana-frequency  cocaine-use cocaine-frequency  crack-use  \\\n",
       "0                   4.0          0.1               5.0        0.0   \n",
       "1                  15.0          0.1               1.0        0.0   \n",
       "2                  24.0          0.1               5.5        0.0   \n",
       "3                  25.0          0.5               4.0        0.1   \n",
       "4                  30.0          1.0               7.0        0.0   \n",
       "5                  36.0          2.0               5.0        0.1   \n",
       "6                  52.0          3.2               5.0        0.4   \n",
       "7                  60.0          4.1               5.5        0.5   \n",
       "8                  60.0          4.9               8.0        0.6   \n",
       "9                  52.0          4.8               5.0        0.5   \n",
       "10                 52.0          4.5               5.0        0.5   \n",
       "11                 60.0          4.0               6.0        0.5   \n",
       "12                 52.0          3.2               5.0        0.4   \n",
       "13                 72.0          2.1               8.0        0.5   \n",
       "14                 48.0          1.5              15.0        0.5   \n",
       "15                 52.0          0.9              36.0        0.4   \n",
       "16                 36.0          0.0                 -        0.0   \n",
       "\n",
       "   crack-frequency        ...          oxycontin-use oxycontin-frequency  \\\n",
       "0                -        ...                    0.1                24.5   \n",
       "1              3.0        ...                    0.1                41.0   \n",
       "2                -        ...                    0.4                 4.5   \n",
       "3              9.5        ...                    0.8                 3.0   \n",
       "4              1.0        ...                    1.1                 4.0   \n",
       "5             21.0        ...                    1.4                 6.0   \n",
       "6             10.0        ...                    1.7                 7.0   \n",
       "7              2.0        ...                    1.5                 7.5   \n",
       "8              5.0        ...                    1.7                12.0   \n",
       "9             17.0        ...                    1.3                13.5   \n",
       "10             5.0        ...                    1.7                17.5   \n",
       "11             6.0        ...                    1.3                20.0   \n",
       "12             6.0        ...                    1.2                13.5   \n",
       "13            15.0        ...                    0.9                46.0   \n",
       "14            48.0        ...                    0.3                12.0   \n",
       "15            62.0        ...                    0.4                 5.0   \n",
       "16               -        ...                    0.0                   -   \n",
       "\n",
       "    tranquilizer-use  tranquilizer-frequency  stimulant-use  \\\n",
       "0                0.2                    52.0            0.2   \n",
       "1                0.3                    25.5            0.3   \n",
       "2                0.9                     5.0            0.8   \n",
       "3                2.0                     4.5            1.5   \n",
       "4                2.4                    11.0            1.8   \n",
       "5                3.5                     7.0            2.8   \n",
       "6                4.9                    12.0            3.0   \n",
       "7                4.2                     4.5            3.3   \n",
       "8                5.4                    10.0            4.0   \n",
       "9                3.9                     7.0            4.1   \n",
       "10               4.4                    12.0            3.6   \n",
       "11               4.3                    10.0            2.6   \n",
       "12               4.2                    10.0            2.3   \n",
       "13               3.6                     8.0            1.4   \n",
       "14               1.9                     6.0            0.6   \n",
       "15               1.4                    10.0            0.3   \n",
       "16               0.2                     5.0            0.0   \n",
       "\n",
       "   stimulant-frequency  meth-use  meth-frequency  sedative-use  \\\n",
       "0                  2.0       0.0               -           0.2   \n",
       "1                  4.0       0.1             5.0           0.1   \n",
       "2                 12.0       0.1            24.0           0.2   \n",
       "3                  6.0       0.3            10.5           0.4   \n",
       "4                  9.5       0.3            36.0           0.2   \n",
       "5                  9.0       0.6            48.0           0.5   \n",
       "6                  8.0       0.5            12.0           0.4   \n",
       "7                  6.0       0.4           105.0           0.3   \n",
       "8                 12.0       0.9            12.0           0.5   \n",
       "9                 10.0       0.6             2.0           0.3   \n",
       "10                10.0       0.6            46.0           0.2   \n",
       "11                10.0       0.7            21.0           0.2   \n",
       "12                 7.0       0.6            30.0           0.4   \n",
       "13                12.0       0.4            54.0           0.4   \n",
       "14                24.0       0.2           104.0           0.3   \n",
       "15                24.0       0.2            30.0           0.2   \n",
       "16               364.0       0.0               -           0.0   \n",
       "\n",
       "   sedative-frequency  \n",
       "0                13.0  \n",
       "1                19.0  \n",
       "2                16.5  \n",
       "3                30.0  \n",
       "4                 3.0  \n",
       "5                 6.5  \n",
       "6                10.0  \n",
       "7                 6.0  \n",
       "8                 4.0  \n",
       "9                 9.0  \n",
       "10               52.0  \n",
       "11               17.5  \n",
       "12                4.0  \n",
       "13               10.0  \n",
       "14               10.0  \n",
       "15              104.0  \n",
       "16               15.0  \n",
       "\n",
       "[17 rows x 28 columns]"
      ]
     },
     "execution_count": 42,
     "metadata": {},
     "output_type": "execute_result"
    }
<<<<<<< HEAD
=======
   },
   "outputs": [
    {
     "data": {
      "text/html": [
       "<div>\n",
       "<style scoped>\n",
       "    .dataframe tbody tr th:only-of-type {\n",
       "        vertical-align: middle;\n",
       "    }\n",
       "\n",
       "    .dataframe tbody tr th {\n",
       "        vertical-align: top;\n",
       "    }\n",
       "\n",
       "    .dataframe thead th {\n",
       "        text-align: right;\n",
       "    }\n",
       "</style>\n",
       "<table border=\"1\" class=\"dataframe\">\n",
       "  <thead>\n",
       "    <tr style=\"text-align: right;\">\n",
       "      <th></th>\n",
       "      <th>age</th>\n",
       "      <th>n</th>\n",
       "      <th>alcohol-use</th>\n",
       "      <th>alcohol-frequency</th>\n",
       "      <th>marijuana-use</th>\n",
       "      <th>marijuana-frequency</th>\n",
       "      <th>cocaine-use</th>\n",
       "      <th>cocaine-frequency</th>\n",
       "      <th>crack-use</th>\n",
       "      <th>crack-frequency</th>\n",
       "      <th>heroin-use</th>\n",
       "      <th>heroin-frequency</th>\n",
       "      <th>hallucinogen-use</th>\n",
       "      <th>hallucinogen-frequency</th>\n",
       "      <th>inhalant-use</th>\n",
       "      <th>inhalant-frequency</th>\n",
       "      <th>pain-releiver-use</th>\n",
       "      <th>pain-releiver-frequency</th>\n",
       "      <th>oxycontin-use</th>\n",
       "      <th>oxycontin-frequency</th>\n",
       "      <th>tranquilizer-use</th>\n",
       "      <th>tranquilizer-frequency</th>\n",
       "      <th>stimulant-use</th>\n",
       "      <th>stimulant-frequency</th>\n",
       "      <th>meth-use</th>\n",
       "      <th>meth-frequency</th>\n",
       "      <th>sedative-use</th>\n",
       "      <th>sedative-frequency</th>\n",
       "    </tr>\n",
       "  </thead>\n",
       "  <tbody>\n",
       "    <tr>\n",
       "      <th>4</th>\n",
       "      <td>16</td>\n",
       "      <td>3058</td>\n",
       "      <td>40.1</td>\n",
       "      <td>10.0</td>\n",
       "      <td>22.5</td>\n",
       "      <td>30.0</td>\n",
       "      <td>1.0</td>\n",
       "      <td>7.0</td>\n",
       "      <td>0.0</td>\n",
       "      <td>1.0</td>\n",
       "      <td>0.1</td>\n",
       "      <td>66.5</td>\n",
       "      <td>3.4</td>\n",
       "      <td>3.0</td>\n",
       "      <td>3.0</td>\n",
       "      <td>3.0</td>\n",
       "      <td>6.2</td>\n",
       "      <td>7.0</td>\n",
       "      <td>1.1</td>\n",
       "      <td>4.0</td>\n",
       "      <td>2.4</td>\n",
       "      <td>11.0</td>\n",
       "      <td>1.8</td>\n",
       "      <td>9.5</td>\n",
       "      <td>0.3</td>\n",
       "      <td>36.0</td>\n",
       "      <td>0.2</td>\n",
       "      <td>3.0</td>\n",
       "    </tr>\n",
       "    <tr>\n",
       "      <th>5</th>\n",
       "      <td>17</td>\n",
       "      <td>3038</td>\n",
       "      <td>49.3</td>\n",
       "      <td>13.0</td>\n",
       "      <td>28.0</td>\n",
       "      <td>36.0</td>\n",
       "      <td>2.0</td>\n",
       "      <td>5.0</td>\n",
       "      <td>0.1</td>\n",
       "      <td>21.0</td>\n",
       "      <td>0.1</td>\n",
       "      <td>64.0</td>\n",
       "      <td>4.8</td>\n",
       "      <td>3.0</td>\n",
       "      <td>2.0</td>\n",
       "      <td>4.0</td>\n",
       "      <td>8.5</td>\n",
       "      <td>9.0</td>\n",
       "      <td>1.4</td>\n",
       "      <td>6.0</td>\n",
       "      <td>3.5</td>\n",
       "      <td>7.0</td>\n",
       "      <td>2.8</td>\n",
       "      <td>9.0</td>\n",
       "      <td>0.6</td>\n",
       "      <td>48.0</td>\n",
       "      <td>0.5</td>\n",
       "      <td>6.5</td>\n",
       "    </tr>\n",
       "    <tr>\n",
       "      <th>6</th>\n",
       "      <td>18</td>\n",
       "      <td>2469</td>\n",
       "      <td>58.7</td>\n",
       "      <td>24.0</td>\n",
       "      <td>33.7</td>\n",
       "      <td>52.0</td>\n",
       "      <td>3.2</td>\n",
       "      <td>5.0</td>\n",
       "      <td>0.4</td>\n",
       "      <td>10.0</td>\n",
       "      <td>0.4</td>\n",
       "      <td>46.0</td>\n",
       "      <td>7.0</td>\n",
       "      <td>4.0</td>\n",
       "      <td>1.8</td>\n",
       "      <td>4.0</td>\n",
       "      <td>9.2</td>\n",
       "      <td>12.0</td>\n",
       "      <td>1.7</td>\n",
       "      <td>7.0</td>\n",
       "      <td>4.9</td>\n",
       "      <td>12.0</td>\n",
       "      <td>3.0</td>\n",
       "      <td>8.0</td>\n",
       "      <td>0.5</td>\n",
       "      <td>12.0</td>\n",
       "      <td>0.4</td>\n",
       "      <td>10.0</td>\n",
       "    </tr>\n",
       "    <tr>\n",
       "      <th>7</th>\n",
       "      <td>19</td>\n",
       "      <td>2223</td>\n",
       "      <td>64.6</td>\n",
       "      <td>36.0</td>\n",
       "      <td>33.4</td>\n",
       "      <td>60.0</td>\n",
       "      <td>4.1</td>\n",
       "      <td>5.5</td>\n",
       "      <td>0.5</td>\n",
       "      <td>2.0</td>\n",
       "      <td>0.5</td>\n",
       "      <td>180.0</td>\n",
       "      <td>8.6</td>\n",
       "      <td>3.0</td>\n",
       "      <td>1.4</td>\n",
       "      <td>3.0</td>\n",
       "      <td>9.4</td>\n",
       "      <td>12.0</td>\n",
       "      <td>1.5</td>\n",
       "      <td>7.5</td>\n",
       "      <td>4.2</td>\n",
       "      <td>4.5</td>\n",
       "      <td>3.3</td>\n",
       "      <td>6.0</td>\n",
       "      <td>0.4</td>\n",
       "      <td>105.0</td>\n",
       "      <td>0.3</td>\n",
       "      <td>6.0</td>\n",
       "    </tr>\n",
       "    <tr>\n",
       "      <th>8</th>\n",
       "      <td>20</td>\n",
       "      <td>2271</td>\n",
       "      <td>69.7</td>\n",
       "      <td>48.0</td>\n",
       "      <td>34.0</td>\n",
       "      <td>60.0</td>\n",
       "      <td>4.9</td>\n",
       "      <td>8.0</td>\n",
       "      <td>0.6</td>\n",
       "      <td>5.0</td>\n",
       "      <td>0.9</td>\n",
       "      <td>45.0</td>\n",
       "      <td>7.4</td>\n",
       "      <td>2.0</td>\n",
       "      <td>1.5</td>\n",
       "      <td>4.0</td>\n",
       "      <td>10.0</td>\n",
       "      <td>10.0</td>\n",
       "      <td>1.7</td>\n",
       "      <td>12.0</td>\n",
       "      <td>5.4</td>\n",
       "      <td>10.0</td>\n",
       "      <td>4.0</td>\n",
       "      <td>12.0</td>\n",
       "      <td>0.9</td>\n",
       "      <td>12.0</td>\n",
       "      <td>0.5</td>\n",
       "      <td>4.0</td>\n",
       "    </tr>\n",
       "    <tr>\n",
       "      <th>9</th>\n",
       "      <td>21</td>\n",
       "      <td>2354</td>\n",
       "      <td>83.2</td>\n",
       "      <td>52.0</td>\n",
       "      <td>33.0</td>\n",
       "      <td>52.0</td>\n",
       "      <td>4.8</td>\n",
       "      <td>5.0</td>\n",
       "      <td>0.5</td>\n",
       "      <td>17.0</td>\n",
       "      <td>0.6</td>\n",
       "      <td>30.0</td>\n",
       "      <td>6.3</td>\n",
       "      <td>4.0</td>\n",
       "      <td>1.4</td>\n",
       "      <td>2.0</td>\n",
       "      <td>9.0</td>\n",
       "      <td>15.0</td>\n",
       "      <td>1.3</td>\n",
       "      <td>13.5</td>\n",
       "      <td>3.9</td>\n",
       "      <td>7.0</td>\n",
       "      <td>4.1</td>\n",
       "      <td>10.0</td>\n",
       "      <td>0.6</td>\n",
       "      <td>2.0</td>\n",
       "      <td>0.3</td>\n",
       "      <td>9.0</td>\n",
       "    </tr>\n",
       "    <tr>\n",
       "      <th>10</th>\n",
       "      <td>22-23</td>\n",
       "      <td>4707</td>\n",
       "      <td>84.2</td>\n",
       "      <td>52.0</td>\n",
       "      <td>28.4</td>\n",
       "      <td>52.0</td>\n",
       "      <td>4.5</td>\n",
       "      <td>5.0</td>\n",
       "      <td>0.5</td>\n",
       "      <td>5.0</td>\n",
       "      <td>1.1</td>\n",
       "      <td>57.5</td>\n",
       "      <td>5.2</td>\n",
       "      <td>3.0</td>\n",
       "      <td>1.0</td>\n",
       "      <td>4.0</td>\n",
       "      <td>10.0</td>\n",
       "      <td>15.0</td>\n",
       "      <td>1.7</td>\n",
       "      <td>17.5</td>\n",
       "      <td>4.4</td>\n",
       "      <td>12.0</td>\n",
       "      <td>3.6</td>\n",
       "      <td>10.0</td>\n",
       "      <td>0.6</td>\n",
       "      <td>46.0</td>\n",
       "      <td>0.2</td>\n",
       "      <td>52.0</td>\n",
       "    </tr>\n",
       "    <tr>\n",
       "      <th>11</th>\n",
       "      <td>24-25</td>\n",
       "      <td>4591</td>\n",
       "      <td>83.1</td>\n",
       "      <td>52.0</td>\n",
       "      <td>24.9</td>\n",
       "      <td>60.0</td>\n",
       "      <td>4.0</td>\n",
       "      <td>6.0</td>\n",
       "      <td>0.5</td>\n",
       "      <td>6.0</td>\n",
       "      <td>0.7</td>\n",
       "      <td>88.0</td>\n",
       "      <td>4.5</td>\n",
       "      <td>2.0</td>\n",
       "      <td>0.8</td>\n",
       "      <td>2.0</td>\n",
       "      <td>9.0</td>\n",
       "      <td>15.0</td>\n",
       "      <td>1.3</td>\n",
       "      <td>20.0</td>\n",
       "      <td>4.3</td>\n",
       "      <td>10.0</td>\n",
       "      <td>2.6</td>\n",
       "      <td>10.0</td>\n",
       "      <td>0.7</td>\n",
       "      <td>21.0</td>\n",
       "      <td>0.2</td>\n",
       "      <td>17.5</td>\n",
       "    </tr>\n",
       "    <tr>\n",
       "      <th>12</th>\n",
       "      <td>26-29</td>\n",
       "      <td>2628</td>\n",
       "      <td>80.7</td>\n",
       "      <td>52.0</td>\n",
       "      <td>20.8</td>\n",
       "      <td>52.0</td>\n",
       "      <td>3.2</td>\n",
       "      <td>5.0</td>\n",
       "      <td>0.4</td>\n",
       "      <td>6.0</td>\n",
       "      <td>0.6</td>\n",
       "      <td>50.0</td>\n",
       "      <td>3.2</td>\n",
       "      <td>3.0</td>\n",
       "      <td>0.6</td>\n",
       "      <td>4.0</td>\n",
       "      <td>8.3</td>\n",
       "      <td>13.0</td>\n",
       "      <td>1.2</td>\n",
       "      <td>13.5</td>\n",
       "      <td>4.2</td>\n",
       "      <td>10.0</td>\n",
       "      <td>2.3</td>\n",
       "      <td>7.0</td>\n",
       "      <td>0.6</td>\n",
       "      <td>30.0</td>\n",
       "      <td>0.4</td>\n",
       "      <td>4.0</td>\n",
       "    </tr>\n",
       "  </tbody>\n",
       "</table>\n",
       "</div>"
      ],
      "text/plain": [
       "      age     n  alcohol-use  alcohol-frequency  marijuana-use  \\\n",
       "4      16  3058         40.1               10.0           22.5   \n",
       "5      17  3038         49.3               13.0           28.0   \n",
       "6      18  2469         58.7               24.0           33.7   \n",
       "7      19  2223         64.6               36.0           33.4   \n",
       "8      20  2271         69.7               48.0           34.0   \n",
       "9      21  2354         83.2               52.0           33.0   \n",
       "10  22-23  4707         84.2               52.0           28.4   \n",
       "11  24-25  4591         83.1               52.0           24.9   \n",
       "12  26-29  2628         80.7               52.0           20.8   \n",
       "\n",
       "    marijuana-frequency  cocaine-use cocaine-frequency  crack-use  \\\n",
       "4                  30.0          1.0               7.0        0.0   \n",
       "5                  36.0          2.0               5.0        0.1   \n",
       "6                  52.0          3.2               5.0        0.4   \n",
       "7                  60.0          4.1               5.5        0.5   \n",
       "8                  60.0          4.9               8.0        0.6   \n",
       "9                  52.0          4.8               5.0        0.5   \n",
       "10                 52.0          4.5               5.0        0.5   \n",
       "11                 60.0          4.0               6.0        0.5   \n",
       "12                 52.0          3.2               5.0        0.4   \n",
       "\n",
       "   crack-frequency  heroin-use heroin-frequency  hallucinogen-use  \\\n",
       "4              1.0         0.1             66.5               3.4   \n",
       "5             21.0         0.1             64.0               4.8   \n",
       "6             10.0         0.4             46.0               7.0   \n",
       "7              2.0         0.5            180.0               8.6   \n",
       "8              5.0         0.9             45.0               7.4   \n",
       "9             17.0         0.6             30.0               6.3   \n",
       "10             5.0         1.1             57.5               5.2   \n",
       "11             6.0         0.7             88.0               4.5   \n",
       "12             6.0         0.6             50.0               3.2   \n",
       "\n",
       "    hallucinogen-frequency  inhalant-use inhalant-frequency  \\\n",
       "4                      3.0           3.0                3.0   \n",
       "5                      3.0           2.0                4.0   \n",
       "6                      4.0           1.8                4.0   \n",
       "7                      3.0           1.4                3.0   \n",
       "8                      2.0           1.5                4.0   \n",
       "9                      4.0           1.4                2.0   \n",
       "10                     3.0           1.0                4.0   \n",
       "11                     2.0           0.8                2.0   \n",
       "12                     3.0           0.6                4.0   \n",
       "\n",
       "    pain-releiver-use  pain-releiver-frequency  oxycontin-use  \\\n",
       "4                 6.2                      7.0            1.1   \n",
       "5                 8.5                      9.0            1.4   \n",
       "6                 9.2                     12.0            1.7   \n",
       "7                 9.4                     12.0            1.5   \n",
       "8                10.0                     10.0            1.7   \n",
       "9                 9.0                     15.0            1.3   \n",
       "10               10.0                     15.0            1.7   \n",
       "11                9.0                     15.0            1.3   \n",
       "12                8.3                     13.0            1.2   \n",
       "\n",
       "   oxycontin-frequency  tranquilizer-use  tranquilizer-frequency  \\\n",
       "4                  4.0               2.4                    11.0   \n",
       "5                  6.0               3.5                     7.0   \n",
       "6                  7.0               4.9                    12.0   \n",
       "7                  7.5               4.2                     4.5   \n",
       "8                 12.0               5.4                    10.0   \n",
       "9                 13.5               3.9                     7.0   \n",
       "10                17.5               4.4                    12.0   \n",
       "11                20.0               4.3                    10.0   \n",
       "12                13.5               4.2                    10.0   \n",
       "\n",
       "    stimulant-use  stimulant-frequency  meth-use meth-frequency  sedative-use  \\\n",
       "4             1.8                  9.5       0.3           36.0           0.2   \n",
       "5             2.8                  9.0       0.6           48.0           0.5   \n",
       "6             3.0                  8.0       0.5           12.0           0.4   \n",
       "7             3.3                  6.0       0.4          105.0           0.3   \n",
       "8             4.0                 12.0       0.9           12.0           0.5   \n",
       "9             4.1                 10.0       0.6            2.0           0.3   \n",
       "10            3.6                 10.0       0.6           46.0           0.2   \n",
       "11            2.6                 10.0       0.7           21.0           0.2   \n",
       "12            2.3                  7.0       0.6           30.0           0.4   \n",
       "\n",
       "    sedative-frequency  \n",
       "4                  3.0  \n",
       "5                  6.5  \n",
       "6                 10.0  \n",
       "7                  6.0  \n",
       "8                  4.0  \n",
       "9                  9.0  \n",
       "10                52.0  \n",
       "11                17.5  \n",
       "12                 4.0  "
      ]
     },
     "execution_count": 60,
     "metadata": {},
     "output_type": "execute_result"
    }
>>>>>>> 0ef2d8a6ba02da0bd84c6ca245544a1501dfc451
   ],
   "source": [
    "drug"
   ]
  },
  {
   "cell_type": "markdown",
   "metadata": {
    "slideshow": {
     "slide_type": "-"
    }
   },
   "source": [
    "### 2. Select only data for \"marijuana-frequency\" when \"age\" is \"30-34\"."
   ]
  },
  {
   "cell_type": "code",
<<<<<<< HEAD
   "execution_count": 1,
=======
   "execution_count": 61,
>>>>>>> 0ef2d8a6ba02da0bd84c6ca245544a1501dfc451
   "metadata": {
    "scrolled": false
   },
   "outputs": [
    {
<<<<<<< HEAD
     "ename": "NameError",
     "evalue": "name 'drug' is not defined",
     "output_type": "error",
     "traceback": [
      "\u001b[0;31m---------------------------------------------------------------------------\u001b[0m",
      "\u001b[0;31mNameError\u001b[0m                                 Traceback (most recent call last)",
      "\u001b[0;32m<ipython-input-1-63de7347bfd2>\u001b[0m in \u001b[0;36m<module>\u001b[0;34m()\u001b[0m\n\u001b[0;32m----> 1\u001b[0;31m \u001b[0mdrug\u001b[0m\u001b[0;34m.\u001b[0m\u001b[0mloc\u001b[0m\u001b[0;34m[\u001b[0m \u001b[0;34m(\u001b[0m\u001b[0mdrug\u001b[0m\u001b[0;34m.\u001b[0m\u001b[0mage\u001b[0m \u001b[0;34m==\u001b[0m \u001b[0;34m'30-34'\u001b[0m \u001b[0;34m)\u001b[0m  \u001b[0;34m,\u001b[0m \u001b[0;34m[\u001b[0m\u001b[0;34m'marijuana-frequency'\u001b[0m\u001b[0;34m]\u001b[0m\u001b[0;34m]\u001b[0m\u001b[0;34m\u001b[0m\u001b[0m\n\u001b[0m",
      "\u001b[0;31mNameError\u001b[0m: name 'drug' is not defined"
     ]
=======
     "data": {
      "text/html": [
       "<div>\n",
       "<style scoped>\n",
       "    .dataframe tbody tr th:only-of-type {\n",
       "        vertical-align: middle;\n",
       "    }\n",
       "\n",
       "    .dataframe tbody tr th {\n",
       "        vertical-align: top;\n",
       "    }\n",
       "\n",
       "    .dataframe thead th {\n",
       "        text-align: right;\n",
       "    }\n",
       "</style>\n",
       "<table border=\"1\" class=\"dataframe\">\n",
       "  <thead>\n",
       "    <tr style=\"text-align: right;\">\n",
       "      <th></th>\n",
       "      <th>age</th>\n",
       "      <th>n</th>\n",
       "      <th>alcohol-use</th>\n",
       "      <th>alcohol-frequency</th>\n",
       "      <th>marijuana-use</th>\n",
       "      <th>marijuana-frequency</th>\n",
       "      <th>cocaine-use</th>\n",
       "      <th>cocaine-frequency</th>\n",
       "      <th>crack-use</th>\n",
       "      <th>crack-frequency</th>\n",
       "      <th>heroin-use</th>\n",
       "      <th>heroin-frequency</th>\n",
       "      <th>hallucinogen-use</th>\n",
       "      <th>hallucinogen-frequency</th>\n",
       "      <th>inhalant-use</th>\n",
       "      <th>inhalant-frequency</th>\n",
       "      <th>pain-releiver-use</th>\n",
       "      <th>pain-releiver-frequency</th>\n",
       "      <th>oxycontin-use</th>\n",
       "      <th>oxycontin-frequency</th>\n",
       "      <th>tranquilizer-use</th>\n",
       "      <th>tranquilizer-frequency</th>\n",
       "      <th>stimulant-use</th>\n",
       "      <th>stimulant-frequency</th>\n",
       "      <th>meth-use</th>\n",
       "      <th>meth-frequency</th>\n",
       "      <th>sedative-use</th>\n",
       "      <th>sedative-frequency</th>\n",
       "    </tr>\n",
       "  </thead>\n",
       "  <tbody>\n",
       "    <tr>\n",
       "      <th>10</th>\n",
       "      <td>22-23</td>\n",
       "      <td>4707</td>\n",
       "      <td>84.2</td>\n",
       "      <td>52.0</td>\n",
       "      <td>28.4</td>\n",
       "      <td>52.0</td>\n",
       "      <td>4.5</td>\n",
       "      <td>5.0</td>\n",
       "      <td>0.5</td>\n",
       "      <td>5.0</td>\n",
       "      <td>1.1</td>\n",
       "      <td>57.5</td>\n",
       "      <td>5.2</td>\n",
       "      <td>3.0</td>\n",
       "      <td>1.0</td>\n",
       "      <td>4.0</td>\n",
       "      <td>10.0</td>\n",
       "      <td>15.0</td>\n",
       "      <td>1.7</td>\n",
       "      <td>17.5</td>\n",
       "      <td>4.4</td>\n",
       "      <td>12.0</td>\n",
       "      <td>3.6</td>\n",
       "      <td>10.0</td>\n",
       "      <td>0.6</td>\n",
       "      <td>46.0</td>\n",
       "      <td>0.2</td>\n",
       "      <td>52.0</td>\n",
       "    </tr>\n",
       "    <tr>\n",
       "      <th>11</th>\n",
       "      <td>24-25</td>\n",
       "      <td>4591</td>\n",
       "      <td>83.1</td>\n",
       "      <td>52.0</td>\n",
       "      <td>24.9</td>\n",
       "      <td>60.0</td>\n",
       "      <td>4.0</td>\n",
       "      <td>6.0</td>\n",
       "      <td>0.5</td>\n",
       "      <td>6.0</td>\n",
       "      <td>0.7</td>\n",
       "      <td>88.0</td>\n",
       "      <td>4.5</td>\n",
       "      <td>2.0</td>\n",
       "      <td>0.8</td>\n",
       "      <td>2.0</td>\n",
       "      <td>9.0</td>\n",
       "      <td>15.0</td>\n",
       "      <td>1.3</td>\n",
       "      <td>20.0</td>\n",
       "      <td>4.3</td>\n",
       "      <td>10.0</td>\n",
       "      <td>2.6</td>\n",
       "      <td>10.0</td>\n",
       "      <td>0.7</td>\n",
       "      <td>21.0</td>\n",
       "      <td>0.2</td>\n",
       "      <td>17.5</td>\n",
       "    </tr>\n",
       "  </tbody>\n",
       "</table>\n",
       "</div>"
      ],
      "text/plain": [
       "      age     n  alcohol-use  alcohol-frequency  marijuana-use  \\\n",
       "10  22-23  4707         84.2               52.0           28.4   \n",
       "11  24-25  4591         83.1               52.0           24.9   \n",
       "\n",
       "    marijuana-frequency  cocaine-use cocaine-frequency  crack-use  \\\n",
       "10                 52.0          4.5               5.0        0.5   \n",
       "11                 60.0          4.0               6.0        0.5   \n",
       "\n",
       "   crack-frequency  heroin-use heroin-frequency  hallucinogen-use  \\\n",
       "10             5.0         1.1             57.5               5.2   \n",
       "11             6.0         0.7             88.0               4.5   \n",
       "\n",
       "    hallucinogen-frequency  inhalant-use inhalant-frequency  \\\n",
       "10                     3.0           1.0                4.0   \n",
       "11                     2.0           0.8                2.0   \n",
       "\n",
       "    pain-releiver-use  pain-releiver-frequency  oxycontin-use  \\\n",
       "10               10.0                     15.0            1.7   \n",
       "11                9.0                     15.0            1.3   \n",
       "\n",
       "   oxycontin-frequency  tranquilizer-use  tranquilizer-frequency  \\\n",
       "10                17.5               4.4                    12.0   \n",
       "11                20.0               4.3                    10.0   \n",
       "\n",
       "    stimulant-use  stimulant-frequency  meth-use meth-frequency  sedative-use  \\\n",
       "10            3.6                 10.0       0.6           46.0           0.2   \n",
       "11            2.6                 10.0       0.7           21.0           0.2   \n",
       "\n",
       "    sedative-frequency  \n",
       "10                52.0  \n",
       "11                17.5  "
      ]
     },
     "execution_count": 61,
     "metadata": {},
     "output_type": "execute_result"
    }
   ],
   "source": [
    "drug[(drug['marijuana-use'] > 20) & (drug.n > 4000)]"
   ]
  },
  {
   "cell_type": "markdown",
   "metadata": {
    "slideshow": {
     "slide_type": "slide"
>>>>>>> 0ef2d8a6ba02da0bd84c6ca245544a1501dfc451
    }
   ],
   "source": [
    "drug.loc[ (drug.age == '30-34' )  , ['marijuana-frequency']]"
   ]
  },
  {
   "cell_type": "markdown",
   "metadata": {},
   "source": [
    "### 2.A Can you select a range of values for age?  Why or why not?\n",
    "ie:  age > 17 but < 21"
   ]
  },
  {
   "cell_type": "code",
<<<<<<< HEAD
   "execution_count": 44,
   "metadata": {},
=======
   "execution_count": null,
   "metadata": {
    "collapsed": true
   },
>>>>>>> 0ef2d8a6ba02da0bd84c6ca245544a1501dfc451
   "outputs": [],
   "source": [
    "#no becouse the age is a string"
   ]
  },
  {
<<<<<<< HEAD
=======
   "cell_type": "code",
   "execution_count": null,
   "metadata": {
    "collapsed": true
   },
   "outputs": [],
   "source": []
  },
  {
>>>>>>> 0ef2d8a6ba02da0bd84c6ca245544a1501dfc451
   "cell_type": "markdown",
   "metadata": {},
   "source": [
    "### 3. Select only rows with index 5-10, for variables / columns \"crack-use\" and \"crack-frequency\""
   ]
  },
  {
   "cell_type": "code",
<<<<<<< HEAD
   "execution_count": 63,
   "metadata": {
    "scrolled": true
   },
   "outputs": [
    {
     "data": {
      "text/html": [
       "<div>\n",
       "<style scoped>\n",
       "    .dataframe tbody tr th:only-of-type {\n",
       "        vertical-align: middle;\n",
       "    }\n",
       "\n",
       "    .dataframe tbody tr th {\n",
       "        vertical-align: top;\n",
       "    }\n",
       "\n",
       "    .dataframe thead th {\n",
       "        text-align: right;\n",
       "    }\n",
       "</style>\n",
       "<table border=\"1\" class=\"dataframe\">\n",
       "  <thead>\n",
       "    <tr style=\"text-align: right;\">\n",
       "      <th></th>\n",
       "      <th>crack-use</th>\n",
       "      <th>crack-frequency</th>\n",
       "    </tr>\n",
       "  </thead>\n",
       "  <tbody>\n",
       "    <tr>\n",
       "      <th>5</th>\n",
       "      <td>0.1</td>\n",
       "      <td>21.0</td>\n",
       "    </tr>\n",
       "    <tr>\n",
       "      <th>6</th>\n",
       "      <td>0.4</td>\n",
       "      <td>10.0</td>\n",
       "    </tr>\n",
       "    <tr>\n",
       "      <th>7</th>\n",
       "      <td>0.5</td>\n",
       "      <td>2.0</td>\n",
       "    </tr>\n",
       "    <tr>\n",
       "      <th>8</th>\n",
       "      <td>0.6</td>\n",
       "      <td>5.0</td>\n",
       "    </tr>\n",
       "    <tr>\n",
       "      <th>9</th>\n",
       "      <td>0.5</td>\n",
       "      <td>17.0</td>\n",
       "    </tr>\n",
       "  </tbody>\n",
       "</table>\n",
       "</div>"
      ],
      "text/plain": [
       "   crack-use crack-frequency\n",
       "5        0.1            21.0\n",
       "6        0.4            10.0\n",
       "7        0.5             2.0\n",
       "8        0.6             5.0\n",
       "9        0.5            17.0"
      ]
     },
     "execution_count": 63,
     "metadata": {},
     "output_type": "execute_result"
    }
   ],
=======
   "execution_count": null,
   "metadata": {
    "collapsed": true
   },
   "outputs": [],
   "source": []
  },
  {
   "cell_type": "markdown",
   "metadata": {},
>>>>>>> 0ef2d8a6ba02da0bd84c6ca245544a1501dfc451
   "source": [
    "#drug[5:10][['crack-use','crack-frequency']]\n",
    "drug.iloc[5:10 , drug.columns.get_loc(\"crack-use\"):drug.columns.get_loc(\"crack-frequency\")+1]"
   ]
  },
  {
   "cell_type": "code",
<<<<<<< HEAD
   "execution_count": 58,
   "metadata": {},
   "outputs": [
    {
     "data": {
      "text/plain": [
       "0"
      ]
     },
     "execution_count": 58,
     "metadata": {},
     "output_type": "execute_result"
    }
   ],
   "source": [
    "drug.columns.get_loc(\"crack-use\")\n",
    "drug.columns.get_loc(\"age\")"
   ]
=======
   "execution_count": null,
   "metadata": {
    "collapsed": true
   },
   "outputs": [],
   "source": []
>>>>>>> 0ef2d8a6ba02da0bd84c6ca245544a1501dfc451
  },
  {
   "cell_type": "markdown",
   "metadata": {},
   "source": [
    "### 4. Select the columns by numeric offset 2-5, rows with numeric index 3-7"
   ]
  },
  {
   "cell_type": "code",
<<<<<<< HEAD
   "execution_count": 67,
   "metadata": {
    "scrolled": false
   },
   "outputs": [
    {
     "data": {
      "text/html": [
       "<div>\n",
       "<style scoped>\n",
       "    .dataframe tbody tr th:only-of-type {\n",
       "        vertical-align: middle;\n",
       "    }\n",
       "\n",
       "    .dataframe tbody tr th {\n",
       "        vertical-align: top;\n",
       "    }\n",
       "\n",
       "    .dataframe thead th {\n",
       "        text-align: right;\n",
       "    }\n",
       "</style>\n",
       "<table border=\"1\" class=\"dataframe\">\n",
       "  <thead>\n",
       "    <tr style=\"text-align: right;\">\n",
       "      <th></th>\n",
       "      <th>alcohol-use</th>\n",
       "      <th>alcohol-frequency</th>\n",
       "      <th>marijuana-use</th>\n",
       "    </tr>\n",
       "  </thead>\n",
       "  <tbody>\n",
       "    <tr>\n",
       "      <th>3</th>\n",
       "      <td>29.2</td>\n",
       "      <td>6.0</td>\n",
       "      <td>14.5</td>\n",
       "    </tr>\n",
       "    <tr>\n",
       "      <th>4</th>\n",
       "      <td>40.1</td>\n",
       "      <td>10.0</td>\n",
       "      <td>22.5</td>\n",
       "    </tr>\n",
       "    <tr>\n",
       "      <th>5</th>\n",
       "      <td>49.3</td>\n",
       "      <td>13.0</td>\n",
       "      <td>28.0</td>\n",
       "    </tr>\n",
       "    <tr>\n",
       "      <th>6</th>\n",
       "      <td>58.7</td>\n",
       "      <td>24.0</td>\n",
       "      <td>33.7</td>\n",
       "    </tr>\n",
       "  </tbody>\n",
       "</table>\n",
       "</div>"
      ],
      "text/plain": [
       "   alcohol-use  alcohol-frequency  marijuana-use\n",
       "3         29.2                6.0           14.5\n",
       "4         40.1               10.0           22.5\n",
       "5         49.3               13.0           28.0\n",
       "6         58.7               24.0           33.7"
      ]
     },
     "execution_count": 67,
     "metadata": {},
     "output_type": "execute_result"
    }
   ],
   "source": [
    "drug.iloc[3:7,2:5]"
   ]
=======
   "execution_count": null,
   "metadata": {
    "collapsed": true
   },
   "outputs": [],
   "source": []
>>>>>>> 0ef2d8a6ba02da0bd84c6ca245544a1501dfc451
  },
  {
   "cell_type": "markdown",
   "metadata": {},
   "source": [
    "### 5. Select a subset of data using 3 masked conditions.\n",
    "\n",
    "ie: \"variable\" > 20 and \"variable 2\" != 23 and \"variable\" > -2"
   ]
  },
  {
   "cell_type": "code",
<<<<<<< HEAD
   "execution_count": 69,
   "metadata": {},
   "outputs": [
    {
     "ename": "ValueError",
     "evalue": "The truth value of a Series is ambiguous. Use a.empty, a.bool(), a.item(), a.any() or a.all().",
     "output_type": "error",
     "traceback": [
      "\u001b[0;31m---------------------------------------------------------------------------\u001b[0m",
      "\u001b[0;31mValueError\u001b[0m                                Traceback (most recent call last)",
      "\u001b[0;32m<ipython-input-69-24a6d8e48a76>\u001b[0m in \u001b[0;36m<module>\u001b[0;34m()\u001b[0m\n\u001b[0;32m----> 1\u001b[0;31m \u001b[0mmask1\u001b[0m \u001b[0;34m=\u001b[0m \u001b[0;34m(\u001b[0m\u001b[0mdrug\u001b[0m\u001b[0;34m[\u001b[0m\u001b[0;34m'alcohol-use'\u001b[0m\u001b[0;34m]\u001b[0m \u001b[0;34m>\u001b[0m \u001b[0;36m20\u001b[0m \u001b[0;32mand\u001b[0m \u001b[0mdrug\u001b[0m\u001b[0;34m[\u001b[0m\u001b[0;34m'alcohol-frequency'\u001b[0m\u001b[0;34m]\u001b[0m \u001b[0;34m!=\u001b[0m \u001b[0;36m20\u001b[0m \u001b[0;32mand\u001b[0m \u001b[0mdrug\u001b[0m\u001b[0;34m[\u001b[0m\u001b[0;34m'alcohol-use'\u001b[0m\u001b[0;34m]\u001b[0m \u001b[0;34m>\u001b[0m \u001b[0;34m-\u001b[0m\u001b[0;36m2\u001b[0m \u001b[0;34m)\u001b[0m\u001b[0;34m\u001b[0m\u001b[0m\n\u001b[0m\u001b[1;32m      2\u001b[0m \u001b[0mdrug\u001b[0m\u001b[0;34m[\u001b[0m\u001b[0mmask1\u001b[0m\u001b[0;34m]\u001b[0m\u001b[0;34m\u001b[0m\u001b[0m\n",
      "\u001b[0;32m~/anaconda3/lib/python3.6/site-packages/pandas/core/generic.py\u001b[0m in \u001b[0;36m__nonzero__\u001b[0;34m(self)\u001b[0m\n\u001b[1;32m   1571\u001b[0m         raise ValueError(\"The truth value of a {0} is ambiguous. \"\n\u001b[1;32m   1572\u001b[0m                          \u001b[0;34m\"Use a.empty, a.bool(), a.item(), a.any() or a.all().\"\u001b[0m\u001b[0;34m\u001b[0m\u001b[0m\n\u001b[0;32m-> 1573\u001b[0;31m                          .format(self.__class__.__name__))\n\u001b[0m\u001b[1;32m   1574\u001b[0m \u001b[0;34m\u001b[0m\u001b[0m\n\u001b[1;32m   1575\u001b[0m     \u001b[0m__bool__\u001b[0m \u001b[0;34m=\u001b[0m \u001b[0m__nonzero__\u001b[0m\u001b[0;34m\u001b[0m\u001b[0m\n",
      "\u001b[0;31mValueError\u001b[0m: The truth value of a Series is ambiguous. Use a.empty, a.bool(), a.item(), a.any() or a.all()."
     ]
    }
   ],
   "source": [
    "mask1 = (drug['alcohol-use'] > 20 and drug['alcohol-frequency'] != 20 and drug['alcohol-use'] > -2 )\n",
    "drug[mask1]"
   ]
=======
   "execution_count": null,
   "metadata": {
    "collapsed": true
   },
   "outputs": [],
   "source": []
>>>>>>> 0ef2d8a6ba02da0bd84c6ca245544a1501dfc451
  },
  {
   "cell_type": "markdown",
   "metadata": {
    "slideshow": {
     "slide_type": "slide"
    }
   },
   "source": [
    "<a id='review'></a>\n",
    "\n",
    "### Review / Checkout (in pair)\n",
    "\n",
    "---\n",
    "\n",
    " - What should we do with a data set when we first acquire it?\n",
    " - What's important to consider when first looking at a data set? \n",
    " - What are some common problems we can run into with new data?\n",
    " - What are some common operations we can run with DataFrames?\n",
    " - How do we slice? Index? Filter?"
   ]
  },
  {
   "cell_type": "code",
   "execution_count": null,
   "metadata": {},
   "outputs": [],
   "source": []
  }
 ],
 "metadata": {
  "anaconda-cloud": {},
  "kernelspec": {
   "display_name": "Python 3",
   "language": "python",
   "name": "python3"
  },
  "language_info": {
   "codemirror_mode": {
    "name": "ipython",
    "version": 3
   },
   "file_extension": ".py",
   "mimetype": "text/x-python",
   "name": "python",
   "nbconvert_exporter": "python",
   "pygments_lexer": "ipython3",
   "version": "3.6.4"
  },
  "nbpresent": {
   "slides": {
    "5d802dcc-eba2-49cc-b8a7-4ba12c601026": {
     "id": "5d802dcc-eba2-49cc-b8a7-4ba12c601026",
     "prev": null,
     "regions": {
      "19d2ea1f-046e-4733-8563-5001186e649c": {
       "attrs": {
        "height": 1,
        "width": 1,
        "x": 0,
        "y": 0
       },
       "content": {
        "cell": "3433c1f4-195d-4a6b-8ad6-961d54c4c96d",
        "part": "source"
       },
       "id": "19d2ea1f-046e-4733-8563-5001186e649c"
      }
     },
     "theme": null
    },
    "b84d227e-3775-4693-a414-689ea9c77c6f": {
     "id": "b84d227e-3775-4693-a414-689ea9c77c6f",
     "prev": "c9e607c1-dc97-4a52-a24b-c5fa7fec789f",
     "regions": {
      "f05b4e9e-0831-49cc-8a61-40c615d0aed6": {
       "attrs": {
        "height": 1,
        "width": 1,
        "x": 0,
        "y": 0
       },
       "content": {
        "cell": "e9917673-4eb8-403d-95ba-3068360f3dcd",
        "part": "source"
       },
       "id": "f05b4e9e-0831-49cc-8a61-40c615d0aed6"
      }
     }
    },
    "c9e607c1-dc97-4a52-a24b-c5fa7fec789f": {
     "id": "c9e607c1-dc97-4a52-a24b-c5fa7fec789f",
     "prev": "5d802dcc-eba2-49cc-b8a7-4ba12c601026",
     "regions": {
      "be473921-0ea3-42d1-9fd2-6b9257a8966d": {
       "attrs": {
        "height": 1,
        "width": 1,
        "x": 0,
        "y": 0
       },
       "id": "be473921-0ea3-42d1-9fd2-6b9257a8966d"
      }
     }
    }
   },
   "themes": {
    "default": "5fe298e2-cc87-47e9-b12c-6f4471f17350",
    "theme": {
     "5fe298e2-cc87-47e9-b12c-6f4471f17350": {
      "id": "5fe298e2-cc87-47e9-b12c-6f4471f17350",
      "palette": {
       "19cc588f-0593-49c9-9f4b-e4d7cc113b1c": {
        "id": "19cc588f-0593-49c9-9f4b-e4d7cc113b1c",
        "rgb": [
         252,
         252,
         252
        ]
       },
       "31af15d2-7e15-44c5-ab5e-e04b16a89eff": {
        "id": "31af15d2-7e15-44c5-ab5e-e04b16a89eff",
        "rgb": [
         68,
         68,
         68
        ]
       },
       "50f92c45-a630-455b-aec3-788680ec7410": {
        "id": "50f92c45-a630-455b-aec3-788680ec7410",
        "rgb": [
         155,
         177,
         192
        ]
       },
       "c5cc3653-2ee1-402a-aba2-7caae1da4f6c": {
        "id": "c5cc3653-2ee1-402a-aba2-7caae1da4f6c",
        "rgb": [
         43,
         126,
         184
        ]
       },
       "efa7f048-9acb-414c-8b04-a26811511a21": {
        "id": "efa7f048-9acb-414c-8b04-a26811511a21",
        "rgb": [
         25.118061674008803,
         73.60176211453744,
         107.4819383259912
        ]
       }
      },
      "rules": {
       "blockquote": {
        "color": "50f92c45-a630-455b-aec3-788680ec7410"
       },
       "code": {
        "font-family": "Anonymous Pro"
       },
       "h1": {
        "color": "c5cc3653-2ee1-402a-aba2-7caae1da4f6c",
        "font-family": "Lato",
        "font-size": 8
       },
       "h2": {
        "color": "c5cc3653-2ee1-402a-aba2-7caae1da4f6c",
        "font-family": "Lato",
        "font-size": 6
       },
       "h3": {
        "color": "50f92c45-a630-455b-aec3-788680ec7410",
        "font-family": "Lato",
        "font-size": 5.5
       },
       "h4": {
        "color": "c5cc3653-2ee1-402a-aba2-7caae1da4f6c",
        "font-family": "Lato",
        "font-size": 5
       },
       "h5": {
        "font-family": "Lato"
       },
       "h6": {
        "font-family": "Lato"
       },
       "h7": {
        "font-family": "Lato"
       },
       "pre": {
        "font-family": "Anonymous Pro",
        "font-size": 4
       }
      },
      "text-base": {
       "font-family": "Merriweather",
       "font-size": 4
      }
     }
    }
   }
  },
  "toc": {
   "nav_menu": {},
   "number_sections": false,
   "sideBar": true,
   "skip_h1_title": false,
   "title_cell": "Table of Contents",
   "title_sidebar": "Contents",
   "toc_cell": false,
   "toc_position": {},
   "toc_section_display": true,
   "toc_window_display": false
  },
  "varInspector": {
   "cols": {
    "lenName": 16,
    "lenType": 16,
    "lenVar": 40
   },
   "kernels_config": {
    "python": {
     "delete_cmd_postfix": "",
     "delete_cmd_prefix": "del ",
     "library": "var_list.py",
     "varRefreshCmd": "print(var_dic_list())"
    },
    "r": {
     "delete_cmd_postfix": ") ",
     "delete_cmd_prefix": "rm(",
     "library": "var_list.r",
     "varRefreshCmd": "cat(var_dic_list()) "
    }
   },
   "types_to_exclude": [
    "module",
    "function",
    "builtin_function_or_method",
    "instance",
    "_Feature"
   ],
   "window_display": false
  }
 },
 "nbformat": 4,
 "nbformat_minor": 1
}
