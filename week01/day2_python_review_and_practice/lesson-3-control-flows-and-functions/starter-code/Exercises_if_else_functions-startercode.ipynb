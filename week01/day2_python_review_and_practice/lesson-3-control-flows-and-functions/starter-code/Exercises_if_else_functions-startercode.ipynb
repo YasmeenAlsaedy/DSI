{
 "cells": [
  {
   "cell_type": "markdown",
   "metadata": {},
   "source": [
    "<img src=\"http://imgur.com/1ZcRyrc.png\" style=\"float: left; margin: 20px; height: 55px\">\n",
    "\n",
    "# Exercises control flow and functions\n",
    "\n",
    "---"
   ]
  },
  {
   "cell_type": "markdown",
   "metadata": {},
   "source": [
    "## If - else\n",
    "\n",
    "---"
   ]
  },
  {
   "cell_type": "markdown",
   "metadata": {},
   "source": [
    "### 1. Write an if-else statement for multiple conditions.\n",
    "\n",
    "Print out these recommendations based on the weather conditions:\n",
    "\n",
    "1. Temperature over 20 ˚C and rain: bring an umbrella.\n",
    "2. Temperature less than or equal to 20 ˚C and rain: bring an umbrella and a jacket.\n",
    "3. Temperature over 20 ˚C and sunshine: wear a t-shirt.\n",
    "4. Temperature less than or equal to 20 ˚C and sunshine: bring a jacket."
   ]
  },
  {
   "cell_type": "code",
   "execution_count": null,
   "metadata": {},
   "outputs": [],
   "source": [
    "Temp = eval(input('what is the temp?'))\n",
    "weather = input('what is the temp? (rain or sunshine)')\n",
    "if Temp > 20 and weather == 'rain':\n",
    "    print('bring an umbrella.')\n",
    "elif Temp <= 20 and weather == 'rain':\n",
    "    print('bring an umbrella and a jacket.')\n",
    "elif Temp > 20 and weather == 'sunshine':\n",
    "    print(' wear a t-shirt.')\n",
    "else:\n",
    "    print('bring a jacket.')\n",
    "    "
   ]
  },
  {
   "cell_type": "markdown",
   "metadata": {},
   "source": [
    "### 2. Iterate from 1 to 15, printing whether the number is odd or even.\n",
    "\n",
    "Hint: The modulus operator, `%`, can be used to take the remainder. For example:\n",
    "\n",
    "```python\n",
    "9 % 5 == 4\n",
    "```\n",
    "\n",
    "Or in other words, the remainder of dividing 9 by 5 is 4. "
   ]
  },
  {
   "cell_type": "code",
   "execution_count": 14,
   "metadata": {
    "scrolled": false
   },
   "outputs": [
    {
     "name": "stdout",
     "output_type": "stream",
     "text": [
      "1 : Prime\n",
      "2 : Even\n",
      "3 : Odd\n",
      "4 : Even\n",
      "5 : Prime\n",
      "6 : Odd\n",
      "7 : Prime\n",
      "8 : Even\n",
      "9 : Odd\n",
      "10 : Even\n",
      "11 : Prime\n",
      "12 : Odd\n",
      "13 : Prime\n",
      "14 : Even\n",
      "15 : Odd\n"
     ]
    }
   ],
   "source": [
    "for i in range(1,16):\n",
    "    if i%3 == 0:\n",
    "        print(i , ': Odd')\n",
    "    elif i%2 == 0:\n",
    "        print(i , ': Even')\n",
    "    else:\n",
    "        print(i , ': Prime')\n",
    "\n"
   ]
  },
  {
   "cell_type": "markdown",
   "metadata": {},
   "source": [
    "### 3. Iterate through the animals. Print out the animal name and the number of vowels in the name."
   ]
  },
  {
   "cell_type": "code",
   "execution_count": 5,
   "metadata": {},
   "outputs": [],
   "source": [
    "animals = ['duck', 'rat', 'boar', 'elefant', 'mammoth', 'gazelle']"
   ]
  },
  {
   "cell_type": "code",
   "execution_count": 15,
   "metadata": {
    "scrolled": true
   },
   "outputs": [
    {
     "name": "stdout",
     "output_type": "stream",
     "text": [
      "duck  have  1 vowels\n",
      "rat  have  1 vowels\n",
      "boar  have  2 vowels\n",
      "elefant  have  3 vowels\n",
      "mammoth  have  2 vowels\n",
      "gazelle  have  3 vowels\n"
     ]
    }
   ],
   "source": [
    "vowels = ['e','o','i','u','a']\n",
    "count = 0\n",
    "for i in animals:\n",
    "    for j in i:\n",
    "        if j in vowels:\n",
    "            count = count + 1\n",
    "    print( i , \" have \" , count , \"vowels\")\n",
    "    count = 0\n",
    "\n",
    "        "
   ]
  },
  {
   "cell_type": "markdown",
   "metadata": {},
   "source": [
    "### 4. Iterate from 1 to 30 with the following instructions:\n",
    "\n",
    "1. If a number is divisible by 3, print 'fizz'. \n",
    "2. If a number is divisible by 5, print 'buzz'. \n",
    "3. If a number is both divisible by 3 and 5 print 'fizzbuzz'.\n",
    "4. Otherwise, print just the number."
   ]
  },
  {
   "cell_type": "code",
   "execution_count": 21,
   "metadata": {
    "scrolled": true
   },
   "outputs": [
    {
     "name": "stdout",
     "output_type": "stream",
     "text": [
      "1\n",
      "2\n",
      "3 : fizz\n",
      "4\n",
      "5 : buzz\n",
      "6 : fizz\n",
      "7\n",
      "8\n",
      "9 : fizz\n",
      "10 : buzz\n",
      "11\n",
      "12 : fizz\n",
      "13\n",
      "14\n",
      "15 : fizzbuzz\n",
      "16\n",
      "17\n",
      "18 : fizz\n",
      "19\n",
      "20 : buzz\n",
      "21 : fizz\n",
      "22\n",
      "23\n",
      "24 : fizz\n",
      "25 : buzz\n",
      "26\n",
      "27 : fizz\n",
      "28\n",
      "29\n"
     ]
    }
   ],
   "source": [
    "for i in range(1,30):\n",
    "    if i%3 == 0 and i%5 == 0:\n",
    "        print(i , ': fizzbuzz')\n",
    "    elif i%3 == 0:\n",
    "        print(i, ': fizz')\n",
    "    elif i%5 == 0:\n",
    "        print(i , ': buzz')\n",
    "    else:\n",
    "        print(i)\n",
    "        \n",
    "        \n"
   ]
  },
  {
   "cell_type": "markdown",
   "metadata": {},
   "source": [
    "## Functions\n",
    "\n",
    "---"
   ]
  },
  {
   "cell_type": "markdown",
   "metadata": {},
   "source": [
    "### 1. Write a function that takes the length of a side of a square as an argument and returns the area of the square."
   ]
  },
  {
   "cell_type": "code",
   "execution_count": null,
   "metadata": {},
   "outputs": [],
   "source": []
  },
  {
   "cell_type": "markdown",
   "metadata": {},
   "source": [
    "### 2. Write a function that takes a string as an argument and returns a tuple with the string converted to a list and the count of characters"
   ]
  },
  {
   "cell_type": "code",
   "execution_count": null,
   "metadata": {},
   "outputs": [],
   "source": []
  },
  {
   "cell_type": "markdown",
   "metadata": {},
   "source": [
    "### 3. Write a one-parameter function that calculates the factorial of an integer given as the argument."
   ]
  },
  {
   "cell_type": "code",
   "execution_count": null,
   "metadata": {},
   "outputs": [],
   "source": []
  },
  {
   "cell_type": "markdown",
   "metadata": {},
   "source": [
    "### 4. Write a function that takes a list and returns a list with its unique elements\n",
    "\n",
    "Example: sample list : [1,2,3,3,3,3,4,5] $\\rightarrow$ unique list : [1, 2, 3, 4, 5]"
   ]
  },
  {
   "cell_type": "code",
   "execution_count": null,
   "metadata": {},
   "outputs": [],
   "source": []
  },
  {
   "cell_type": "markdown",
   "metadata": {},
   "source": [
    "### 5. Write a function that takes two integers passed as strings and returns the sum, difference, and product as a tuple (all values as integers)"
   ]
  },
  {
   "cell_type": "code",
   "execution_count": null,
   "metadata": {},
   "outputs": [],
   "source": []
  },
  {
   "cell_type": "markdown",
   "metadata": {},
   "source": [
    "### 6. Write a function that takes a list and returns a tuple where the first item is the list in reverse order and the second item is just the items with an odd index"
   ]
  },
  {
   "cell_type": "code",
   "execution_count": null,
   "metadata": {},
   "outputs": [],
   "source": []
  },
  {
   "cell_type": "markdown",
   "metadata": {},
   "source": [
    "---\n",
    "\n",
    "### 7. Write a function that takes word as an argument and returns the number of vowels in the word.\n",
    "\n",
    "Try it out on 3 words."
   ]
  },
  {
   "cell_type": "code",
   "execution_count": null,
   "metadata": {},
   "outputs": [],
   "source": []
  },
  {
   "cell_type": "markdown",
   "metadata": {},
   "source": [
    "### 8. Challenge Problem: Write a function that returns the score for a word. Each letter's score is equal to it's position in the alphabet. The score of the word is the score of the letters. So for example:\n",
    "\n",
    "* A = 1, B = 2, C = 3, D = 4, E = 5\n",
    "* abe = 8 = (1 + 2 + 5)\n",
    "\n",
    "##### Hint: The string library has a property ascii_lowercase that can save some typing here.\n",
    "\n",
    "\n"
   ]
  },
  {
   "cell_type": "code",
   "execution_count": null,
   "metadata": {},
   "outputs": [],
   "source": [
    "import string"
   ]
  },
  {
   "cell_type": "code",
   "execution_count": null,
   "metadata": {},
   "outputs": [],
   "source": []
  },
  {
   "cell_type": "markdown",
   "metadata": {},
   "source": [
    "### 9. Write a function which takes a string as the argument and returns it reversed."
   ]
  },
  {
   "cell_type": "code",
   "execution_count": null,
   "metadata": {},
   "outputs": [],
   "source": []
  },
  {
   "cell_type": "markdown",
   "metadata": {},
   "source": [
    "### 10.  Write a function that checks whether a passed string is a palindrome or not\n",
    "\n",
    "A palindrome is a word, a phrase, or a sequence that reads the same backward as forward (neglecting spaces), e.g., madam or nurses run. You are allowed to use your string reverse function."
   ]
  },
  {
   "cell_type": "code",
   "execution_count": null,
   "metadata": {},
   "outputs": [],
   "source": []
  }
 ],
 "metadata": {
  "anaconda-cloud": {},
  "kernelspec": {
   "display_name": "Python 3",
   "language": "python",
   "name": "python3"
  },
  "language_info": {
   "codemirror_mode": {
    "name": "ipython",
    "version": 3
   },
   "file_extension": ".py",
   "mimetype": "text/x-python",
   "name": "python",
   "nbconvert_exporter": "python",
   "pygments_lexer": "ipython3",
   "version": "3.6.5"
  },
  "toc": {
   "nav_menu": {},
   "number_sections": false,
   "sideBar": true,
   "skip_h1_title": true,
   "title_cell": "Table of Contents",
   "title_sidebar": "Contents",
   "toc_cell": false,
   "toc_position": {},
   "toc_section_display": "block",
   "toc_window_display": false
  }
 },
 "nbformat": 4,
 "nbformat_minor": 1
}
