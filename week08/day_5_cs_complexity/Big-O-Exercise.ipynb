{
 "cells": [
  {
   "cell_type": "markdown",
   "metadata": {},
   "source": [
    "# Big-O Notation Exercises\n",
    "\n",
    "What is the worst-case time complexity for the following algorithms?\n"
   ]
  },
  {
   "cell_type": "markdown",
   "metadata": {},
   "source": [
    "#### #1\n",
    "\n",
    "```python\n",
    "def word_occurrence(word, phrase)\n",
    "  result = 0\n",
    "  array  = phrase.split(' ')\n",
    "  for item in array\n",
    "    result += 1 if item.downcase == word.downcase\n",
    "  end\n",
    "  return result\n",
    "end\n",
    "```\n"
   ]
  },
  {
   "cell_type": "code",
   "execution_count": null,
   "metadata": {},
   "outputs": [],
   "source": []
  },
  {
   "cell_type": "markdown",
   "metadata": {},
   "source": [
    "#### #2\n",
    "\n",
    "```python\n",
    "\n",
    "def bubble_sort(list)\n",
    "  for i in 0..(list.size - 1)\n",
    "    for j in 0..(list.size - i - 2)\n",
    "      if (list[j + 1] <=> list[j]) == -1\n",
    "        list[j], list[j + 1] = list[j + 1], list[j]\n",
    "      end\n",
    "    end\n",
    "  end\n",
    "  return list\n",
    "end\n",
    "```\n"
   ]
  },
  {
   "cell_type": "code",
   "execution_count": null,
   "metadata": {},
   "outputs": [],
   "source": []
  },
  {
   "cell_type": "markdown",
   "metadata": {},
   "source": [
    "#### #3\n",
    "\n",
    "```python\n",
    "def factorial(n)\n",
    "  if n.zero?\n",
    "    return 1\n",
    "  else\n",
    "    return n * factorial(n - 1)\n",
    "  end\n",
    "end\n",
    "```\n",
    "\n",
    "\n"
   ]
  },
  {
   "cell_type": "code",
   "execution_count": null,
   "metadata": {},
   "outputs": [],
   "source": []
  },
  {
   "cell_type": "markdown",
   "metadata": {},
   "source": [
    "#### #4\n",
    "\n",
    "```python\n",
    "def bob_is_first(people)\n",
    "  return people.first == 'bob'\n",
    "end\n",
    "```\n",
    "\n"
   ]
  },
  {
   "cell_type": "code",
   "execution_count": null,
   "metadata": {},
   "outputs": [],
   "source": []
  },
  {
   "cell_type": "markdown",
   "metadata": {},
   "source": [
    "\n",
    "#### #5\n",
    "\n",
    "```python\n",
    "def palindrome(input)\n",
    "  stack  = []\n",
    "  output = \"\"\n",
    "  input.each_char do |x|\n",
    "    stack.push x\n",
    "  end\n",
    "  while not stack.empty?\n",
    "    output << stack.pop\n",
    "  end\n",
    "  return (output == input)\n",
    "end\n",
    "```\n"
   ]
  },
  {
   "cell_type": "code",
   "execution_count": null,
   "metadata": {},
   "outputs": [],
   "source": []
  },
  {
   "cell_type": "markdown",
   "metadata": {},
   "source": [
    "#### #6\n",
    "\n",
    "```python\n",
    "def sum_of_divisors(n)\n",
    "  result = 0\n",
    "  i      = 1\n",
    "  while i < n\n",
    "    if n % i == 0\n",
    "      result += i\n",
    "    end\n",
    "    i += 1\n",
    "  end\n",
    "  return result\n",
    "end\n",
    "```"
   ]
  },
  {
   "cell_type": "code",
   "execution_count": null,
   "metadata": {},
   "outputs": [],
   "source": []
  },
  {
   "cell_type": "markdown",
   "metadata": {},
   "source": [
    "#### #7\n",
    "\n",
    "```python\n",
    "def is_prime(num)\n",
    "  return false if num == 1\n",
    "  return false if num == 2\n",
    "  for i in 2..(num-1)\n",
    "    if num % i == 0\n",
    "      return false\n",
    "    end\n",
    "  end\n",
    "  return true\n",
    "end\n",
    "```"
   ]
  },
  {
   "cell_type": "code",
   "execution_count": null,
   "metadata": {},
   "outputs": [],
   "source": []
  },
  {
   "cell_type": "markdown",
   "metadata": {},
   "source": [
    "\n",
    "#### #8\n",
    "\n",
    "```js\n",
    "function printAllNumbersThenAllPairSums(numbers) {\n",
    "  numbers.forEach(number => console.log(number))\n",
    "  \n",
    "  numbers.forEach(number => {\n",
    "    numbers.slice(1, numbers.length-1).forEach(innerNumber => {\n",
    "      console.log(number, innerNumber)\n",
    "    })\n",
    "  })\n",
    "}\n",
    "```\n"
   ]
  },
  {
   "cell_type": "code",
   "execution_count": null,
   "metadata": {},
   "outputs": [],
   "source": []
  }
 ],
 "metadata": {
  "kernelspec": {
   "display_name": "Python 3",
   "language": "python",
   "name": "python3"
  },
  "language_info": {
   "codemirror_mode": {
    "name": "ipython",
    "version": 3
   },
   "file_extension": ".py",
   "mimetype": "text/x-python",
   "name": "python",
   "nbconvert_exporter": "python",
   "pygments_lexer": "ipython3",
   "version": "3.6.5"
  }
 },
 "nbformat": 4,
 "nbformat_minor": 2
}
