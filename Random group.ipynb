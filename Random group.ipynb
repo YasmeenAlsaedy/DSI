{
 "cells": [
  {
   "cell_type": "code",
   "execution_count": 81,
   "metadata": {},
   "outputs": [],
   "source": [
    "import numpy as np\n",
    "import random\n",
    "\n",
    "class_list= ['Maimona Almarshd',\n",
    "'Farah Albibi',\n",
    "'Muhammad Hakami',\n",
    "'Arwa Altayyar',\n",
    "'Nasser Aldeen Aldawsari ',\n",
    "'sultan almuhanna',\n",
    "'Khalid Al rasheed',\n",
    "'Omar Saleh',\n",
    "'Fatimah Alabbad',\n",
    "'ibrahim alowayyid',\n",
    "'Norah Altriri',\n",
    "'Sarah AlSalman',\n",
    "'Wejdan Almahmoud',\n",
    "'Mohammed Alosaimi',\n",
    "'Mashael Al-Sanad',\n",
    "'Afnan Alomar',\n",
    "'Furat Altukhaim',\n",
    "'Abdulrahman Alzahrani',\n",
    "'khawlah alawaji',\n",
    "'Nawal Alfallty',\n",
    "'Lama AlOud',\n",
    "'Mortaja Alqassab',\n",
    "'Yasmeen Alsaedy',\n",
    "'Lujin  Felemban',\n",
    "'Rasha Alshehri',\n",
    "'Sultan  alhuwairini',\n",
    "'shebnam Zaid',\n",
    "'NoufAl Qublan']"
   ]
  },
  {
   "cell_type": "code",
   "execution_count": 82,
   "metadata": {},
   "outputs": [
    {
     "name": "stdout",
     "output_type": "stream",
     "text": [
      "[['Mortaja Alqassab', 'Fatimah Alabbad', 'Lama AlOud', 'Furat Altukhaim', 'khawlah alawaji'], ['Farah Albibi', 'Lujin  Felemban', 'Norah Altriri', 'Sarah AlSalman', 'Afnan Alomar'], ['Nawal Alfallty', 'Arwa Altayyar', 'Sultan  alhuwairini', 'shebnam Zaid', 'Wejdan Almahmoud'], ['Abdulrahman Alzahrani', 'NoufAl Qublan', 'Mohammed Alosaimi', 'Mashael Al-Sanad', 'ibrahim alowayyid'], ['Muhammad Hakami', 'Omar Saleh', 'Khalid Al rasheed', 'Maimona Almarshd', 'Yasmeen Alsaedy']]\n"
     ]
    }
   ],
   "source": [
    "def random_group(people, n):\n",
    "    number_people = len(people)\n",
    "    number_of_teams = 5\n",
    "    i = 0\n",
    "    teams = []\n",
    "    while not (i == 5):\n",
    "        team = random.sample(people, 5)\n",
    "        for x in team:\n",
    "            people.remove(x)\n",
    "            number_people -= int(number_people/number_of_teams)\n",
    "            number_of_teams -= 1\n",
    "        number_people = len(people)\n",
    "        number_of_teams = 5\n",
    "        i+=1\n",
    "        teams.append(team)\n",
    "    return teams\n",
    "        \n",
    "        \n",
    "print(random_group(class_list, 5))"
   ]
  },
  {
   "cell_type": "code",
   "execution_count": 83,
   "metadata": {},
   "outputs": [
    {
     "data": {
      "text/plain": [
       "3"
      ]
     },
     "execution_count": 83,
     "metadata": {},
     "output_type": "execute_result"
    }
   ],
   "source": [
    "len(class_list)"
   ]
  },
  {
   "cell_type": "code",
   "execution_count": 79,
   "metadata": {},
   "outputs": [],
   "source": [
    "def return_groups(student,num):\n",
    "    random.shuffle(student)\n",
    "    return [student[i:i + num] for i in range(0, len(student), num)]"
   ]
  },
  {
   "cell_type": "code",
   "execution_count": 80,
   "metadata": {},
   "outputs": [
    {
     "name": "stdout",
     "output_type": "stream",
     "text": [
      "[['khawlah alawaji', 'Rasha Alshehri', 'Omar Saleh', 'Muhammad Hakami', 'Khalid Al rasheed'], ['Furat Altukhaim', 'NoufAl Qublan', 'Lujin  Felemban', 'Fatimah Alabbad', 'shebnam Zaid'], ['Maimona Almarshd', 'Lama AlOud', 'Abdulrahman Alzahrani', 'Farah Albibi', 'ibrahim alowayyid'], ['Wejdan Almahmoud', 'Norah Altriri', 'Mohammed Alosaimi', 'sultan almuhanna', 'Mashael Al-Sanad'], ['Arwa Altayyar', 'Afnan Alomar', 'Nasser Aldeen Aldawsari ', 'Yasmeen Alsaedy', 'Sultan  alhuwairini'], ['Sarah AlSalman', 'Nawal Alfallty', 'Mortaja Alqassab']]\n"
     ]
    }
   ],
   "source": [
    "print(return_groups(class_list, 5))"
   ]
  },
  {
   "cell_type": "code",
   "execution_count": null,
   "metadata": {},
   "outputs": [],
   "source": []
  }
 ],
 "metadata": {
  "kernelspec": {
   "display_name": "Python 3",
   "language": "python",
   "name": "python3"
  },
  "language_info": {
   "codemirror_mode": {
    "name": "ipython",
    "version": 3
   },
   "file_extension": ".py",
   "mimetype": "text/x-python",
   "name": "python",
   "nbconvert_exporter": "python",
   "pygments_lexer": "ipython3",
   "version": "3.6.5"
  }
 },
 "nbformat": 4,
 "nbformat_minor": 2
}
