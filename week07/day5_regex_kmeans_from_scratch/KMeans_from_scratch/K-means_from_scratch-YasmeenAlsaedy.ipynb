{
 "cells": [
  {
   "cell_type": "code",
   "execution_count": 2,
   "metadata": {},
   "outputs": [],
   "source": [
    "import random\n",
    "import numpy as np\n",
    "from scipy.spatial.distance import euclidean\n",
    "from collections import defaultdict\n",
    "from sklearn import datasets\n",
    "import matplotlib.pyplot as plt\n",
    "from sklearn.metrics import silhouette_score\n",
    "from itertools import combinations\n",
    "\n"
   ]
  },
  {
   "cell_type": "markdown",
   "metadata": {},
   "source": [
    "# K-means from scratch\n",
    "\n",
    "We are going to implement the K-means algorithm from scratch, and test it on the classic Fisher's Iris  dataset.\n",
    "\n",
    "K-means Algorithm Summary:\n",
    "- Initialize your k cluster centroids (randomly select k different observations)\n",
    "- Compute the distance between each point and every centroid\n",
    "- Assign each data point to the centroid closest to it\n",
    "- Move the cluster centroid to the center (mean) of all the points assigned to it\n",
    "- Repeat until you reach stopping criteria (either convergence or maximum iterations)\n",
    "- Typically k-means is performed on scaled data.\n",
    "\n",
    "\n",
    "## Implementation\n",
    "\n",
    "You should implement k-means using either a functional or object-oriented approach. An object-oriented implementation might have a KMeans class with a \"fit\" method, and a functional implementation might have a \"k_means\" function that takes the data and numer of clusters as arguments and returns the centroids and assignemnts.\n",
    "\n",
    "Load the dataset with sklearn.datasets.load_iris(), but since we will be hand coding our Kmeans in numpy we only need to get the features into an array. Create a numpy array of the features of the iris dataset. Do not use the labels for the clustering."
   ]
  },
  {
   "cell_type": "code",
   "execution_count": 9,
   "metadata": {},
   "outputs": [],
   "source": [
    "iris = datasets.load_iris()\n",
    "X = iris.data"
   ]
  },
  {
   "cell_type": "markdown",
   "metadata": {},
   "source": [
    "Using Numpy, initialize your cluster centers by selecting random data points. We will try our algorithm with multiple different k but let us start with 10. Pick at random 10 of our initial points. (Hint: try using http://docs.python.org/2/library/random.html#random.sample  )"
   ]
  },
  {
   "cell_type": "markdown",
   "metadata": {},
   "source": [
    "For each one of your data points, compute the Euclidean distance between it and every centroid. Assign the point to the closest centroid."
   ]
  },
  {
   "cell_type": "markdown",
   "metadata": {},
   "source": [
    "Update each centroid by moving it to the center of all the points assigned to it. (E.g. make it the average of all the points in the cluster.)"
   ]
  },
  {
   "cell_type": "markdown",
   "metadata": {},
   "source": [
    "Repeat steps 3 and 4 until convergence or max_iter is reached. If no cluster assignments change between iterations, then the algorithm has converged."
   ]
  },
  {
   "cell_type": "code",
   "execution_count": 38,
   "metadata": {},
   "outputs": [
    {
     "name": "stdout",
     "output_type": "stream",
     "text": [
      "{0: [array([5.1, 3.5, 1.4, 0.2]), array([5. , 3.6, 1.4, 0.2]), array([5.2, 3.4, 1.4, 0.2]), array([5.1, 3.4, 1.5, 0.2])], 1: [array([4.9, 3. , 1.4, 0.2]), array([4.8, 3. , 1.4, 0.3])], 2: [array([4.7, 3.2, 1.3, 0.2]), array([4.6, 3.1, 1.5, 0.2]), array([4.6, 3.6, 1. , 0.2]), array([4.6, 3.2, 1.4, 0.2])], 5: [array([5.4, 3.9, 1.7, 0.4])], 6: [array([4.6, 3.4, 1.4, 0.3]), array([4.7, 3.2, 1.6, 0.2]), array([4.8, 3.1, 1.6, 0.2])], 7: [array([5. , 3.4, 1.5, 0.2]), array([5. , 3.5, 1.3, 0.3])], 8: [array([4.4, 2.9, 1.4, 0.2]), array([4.4, 3. , 1.3, 0.2])], 9: [array([4.9, 3.1, 1.5, 0.1]), array([4.9, 3.1, 1.5, 0.1]), array([5. , 3.2, 1.2, 0.2]), array([4.9, 3.1, 1.5, 0.1])], 10: [array([5.4, 3.7, 1.5, 0.2])], 11: [array([4.8, 3.4, 1.6, 0.2])], 12: [array([4.8, 3. , 1.4, 0.1])], 13: [array([4.3, 3. , 1.1, 0.1])], 14: [array([5.8, 4. , 1.2, 0.2]), array([5.1, 3.8, 1.9, 0.4])], 15: [array([5.7, 4.4, 1.5, 0.4])], 16: [array([5.4, 3.9, 1.3, 0.4])], 17: [array([5.1, 3.5, 1.4, 0.3]), array([4.8, 3.4, 1.9, 0.2])], 18: [array([5.7, 3.8, 1.7, 0.3]), array([5. , 2. , 3.5, 1. ])], 19: [array([5.1, 3.8, 1.5, 0.3]), array([5.4, 3.4, 1.7, 0.2]), array([5.1, 3.7, 1.5, 0.4]), array([5.4, 3.4, 1.5, 0.4]), array([5. , 3.5, 1.6, 0.6]), array([5.1, 3.8, 1.6, 0.2]), array([5.3, 3.7, 1.5, 0.2])], 23: [array([5.1, 3.3, 1.7, 0.5])], 25: [array([5. , 3. , 1.6, 0.2])], 26: [array([5. , 3.4, 1.6, 0.4]), array([5.2, 3.5, 1.5, 0.2])], 32: [array([5.2, 4.1, 1.5, 0.1])], 33: [array([5.5, 4.2, 1.4, 0.2])], 36: [array([5.5, 3.5, 1.3, 0.2])], 41: [array([4.5, 2.3, 1.3, 0.3])], 42: [array([4.4, 3.2, 1.3, 0.2])], 49: [array([5. , 3.3, 1.4, 0.2])], 50: [array([7. , 3.2, 4.7, 1.4]), array([6.4, 2.7, 5.3, 1.9])], 51: [array([6.4, 3.2, 4.5, 1.5]), array([6.7, 3.1, 4.4, 1.4]), array([6.2, 2.8, 4.8, 1.8]), array([6. , 3. , 4.8, 1.8])], 52: [array([6.9, 3.1, 4.9, 1.5]), array([6.7, 3. , 5. , 1.7])], 53: [array([5.5, 2.3, 4. , 1.3]), array([5.6, 2.5, 3.9, 1.1])], 54: [array([6.5, 2.8, 4.6, 1.5]), array([6.6, 2.9, 4.6, 1.3]), array([6.6, 3. , 4.4, 1.4]), array([6. , 2.7, 5.1, 1.6])], 55: [array([5.7, 2.8, 4.5, 1.3]), array([6.3, 2.3, 4.4, 1.3])], 56: [array([6.3, 3.3, 4.7, 1.6])], 57: [array([4.9, 2.4, 3.3, 1. ]), array([5. , 2.3, 3.3, 1. ])], 59: [array([5.2, 2.7, 3.9, 1.4]), array([6. , 2.2, 4. , 1. ])], 61: [array([5.9, 3. , 4.2, 1.5]), array([5.6, 3. , 4.5, 1.5])], 63: [array([6.1, 2.9, 4.7, 1.4]), array([6.1, 3. , 4.6, 1.4])], 64: [array([5.6, 2.9, 3.6, 1.3])], 67: [array([5.8, 2.7, 4.1, 1. ]), array([5.8, 2.7, 3.9, 1.2]), array([5.8, 2.6, 4. , 1.2]), array([4.9, 2.5, 4.5, 1.7])], 68: [array([6.2, 2.2, 4.5, 1.5]), array([5.4, 3. , 4.5, 1.5])], 123: [array([5.9, 3.2, 4.8, 1.8]), array([6.3, 2.7, 4.9, 1.8])], 71: [array([6.1, 2.8, 4. , 1.3])], 72: [array([6.3, 2.5, 4.9, 1.5]), array([5.7, 2.5, 5. , 2. ])], 73: [array([6.1, 2.8, 4.7, 1.2])], 74: [array([6.4, 2.9, 4.3, 1.3]), array([6. , 2.9, 4.5, 1.5])], 76: [array([6.8, 2.8, 4.8, 1.4]), array([6.1, 3. , 4.9, 1.8]), array([5.9, 3. , 5.1, 1.8])], 79: [array([5.7, 2.6, 3.5, 1. ]), array([5.5, 2.4, 3.8, 1.1])], 81: [array([5.5, 2.4, 3.7, 1. ])], 85: [array([6. , 3.4, 4.5, 1.6]), array([5.8, 2.7, 5.1, 1.9]), array([5.8, 2.7, 5.1, 1.9])], 86: [array([6.7, 3.1, 4.7, 1.5])], 88: [array([5.6, 3. , 4.1, 1.3])], 89: [array([5.5, 2.5, 4. , 1.3])], 90: [array([5.5, 2.6, 4.4, 1.2])], 94: [array([5.6, 2.7, 4.2, 1.3])], 95: [array([5.7, 3. , 4.2, 1.2]), array([5.7, 2.9, 4.2, 1.3])], 97: [array([6.2, 2.9, 4.3, 1.3]), array([6. , 2.2, 5. , 1.5])], 98: [array([5.1, 2.5, 3. , 1.1])], 99: [array([5.7, 2.8, 4.1, 1.3])], 100: [array([6.3, 3.3, 6. , 2.5]), array([7.1, 3. , 5.9, 2.1]), array([6.9, 3.2, 5.7, 2.3])], 103: [array([6.3, 2.9, 5.6, 1.8])], 104: [array([6.5, 3. , 5.8, 2.2]), array([6.9, 3.1, 5.4, 2.1])], 105: [array([7.6, 3. , 6.6, 2.1])], 107: [array([7.3, 2.9, 6.3, 1.8])], 108: [array([6.7, 2.5, 5.8, 1.8]), array([6.5, 3.2, 5.1, 2. ]), array([6.5, 3. , 5.5, 1.8]), array([6.4, 3.1, 5.5, 1.8])], 109: [array([7.2, 3.6, 6.1, 2.5])], 112: [array([6.8, 3. , 5.5, 2.1]), array([6.9, 3.1, 5.1, 2.3])], 114: [array([5.8, 2.8, 5.1, 2.4])], 115: [array([6.4, 3.2, 5.3, 2.3]), array([6.7, 3. , 5.2, 2.3])], 117: [array([7.7, 3.8, 6.7, 2.2])], 118: [array([7.7, 2.6, 6.9, 2.3])], 121: [array([5.6, 2.8, 4.9, 2. ])], 122: [array([7.7, 2.8, 6.7, 2. ])], 124: [array([6.7, 3.3, 5.7, 2.1]), array([6.7, 3.1, 5.6, 2.4])], 125: [array([7.2, 3.2, 6. , 1.8]), array([7.4, 2.8, 6.1, 1.9]), array([6.8, 3.2, 5.9, 2.3]), array([6.7, 3.3, 5.7, 2.5])], 128: [array([6.4, 2.8, 5.6, 2.1])], 129: [array([7.2, 3. , 5.8, 1.6])], 131: [array([7.9, 3.8, 6.4, 2. ])], 132: [array([6.4, 2.8, 5.6, 2.2])], 70: [array([6.3, 2.8, 5.1, 1.5]), array([6.1, 2.6, 5.6, 1.4]), array([6.3, 2.5, 5. , 1.9])], 135: [array([7.7, 3. , 6.1, 2.3])], 136: [array([6.3, 3.4, 5.6, 2.4])], 147: [array([6.5, 3. , 5.2, 2. ])], 148: [array([6.2, 3.4, 5.4, 2.3])]}\n"
     ]
    }
   ],
   "source": [
    "# A:\n",
    "def k_means(X, k=5, max_iter=1000):\n",
    "    \"\"\"Performs k means\n",
    "\n",
    "    Args:\n",
    "    - X - feature matrix\n",
    "    - k - number of clusters\n",
    "    - max_iter - maximum iteratations\n",
    "\n",
    "    Returns:\n",
    "    - clusters - dict mapping cluster centers to observations\n",
    "    \"\"\"\n",
    "     #step 1: create random initial centroids\n",
    "    centers = [tuple(pt) for pt in random.sample(list(X), k)]   \n",
    "    for i in range(max_iter):\n",
    "        clusters = dict()\n",
    "        #step 2: get distanace from each point to centers \n",
    "        for obs in X:\n",
    "            #get the distanace for each point for each centers\n",
    "            distanaces = [euclidean(obs, center) for center in centers]\n",
    "            center = distanaces.index(min(distanaces))\n",
    "            #assgin the center to the closest centroid \n",
    "            if center not in clusters.keys():\n",
    "                clusters[center] = []\n",
    "            clusters[center].append(obs)\n",
    "\n",
    "        #find new centroid location \n",
    "        new_centers = []\n",
    "        for center, obs in clusters.items():\n",
    "            # get the mean of all obs in cluster\n",
    "            new_center = np.mean(obs, axis = 1)\n",
    "            # assign new entroid location as new center\n",
    "            new_centers.append(tuple(new_center))\n",
    "            # step 4: repeat untill the max iter \n",
    "            #update the ceteroid \n",
    "            centers = new_center\n",
    "    return clusters\n",
    "print(k_means(X))"
   ]
  },
  {
   "cell_type": "markdown",
   "metadata": {},
   "source": [
    "## Part 2 (Bonus): Selecting k\n",
    "\n",
    "Often it is tough to pick an ideal k in advance. We can force k in our case if we want a predetermined number of sections/topics. But it is most likely better to vary k and let the algorithm tell us what it wants. We can do choose an optimal k using the elbow method  .\n",
    "\n",
    "Run the algorithm with increasing values of k. For each, compute the sum of squared error (SSE  ). This is the distance of each point to its final centroid, squared, and summed over all datas points. Plot this for each value of k and try to find an elbow. Determining the number of clusters. Is there an optimal # of K?"
   ]
  },
  {
   "cell_type": "code",
   "execution_count": null,
   "metadata": {},
   "outputs": [],
   "source": [
    "# A:"
   ]
  },
  {
   "cell_type": "markdown",
   "metadata": {},
   "source": [
    "Another metric to assess how well your data has been clustered is the Silhouette coefficient. Using scikit-learn's metric package compute the silhouette coefficient  of the clusters produced by your own Kmeans implementation on the iris data."
   ]
  },
  {
   "cell_type": "code",
   "execution_count": null,
   "metadata": {},
   "outputs": [],
   "source": [
    "# A:"
   ]
  },
  {
   "cell_type": "markdown",
   "metadata": {},
   "source": [
    "Visualize the centroid assignments. Create a plot of the cluster assignments on the iris data. Each data point should be colored according to its assignment. First make a 2-d plot of each pair of features for the iris dataset. If you are feeling fancy make a 3-d plot."
   ]
  },
  {
   "cell_type": "code",
   "execution_count": null,
   "metadata": {},
   "outputs": [],
   "source": [
    "# A:"
   ]
  },
  {
   "cell_type": "markdown",
   "metadata": {},
   "source": [
    "Compare your cluster results with scikit-learn Kmeans  . Since K-means is a stochastic algorithm (random initialization) your result will be slightly (but hopefully not too) different."
   ]
  },
  {
   "cell_type": "code",
   "execution_count": null,
   "metadata": {},
   "outputs": [],
   "source": [
    "# A:"
   ]
  }
 ],
 "metadata": {
  "kernelspec": {
   "display_name": "Python 3",
   "language": "python",
   "name": "python3"
  },
  "language_info": {
   "codemirror_mode": {
    "name": "ipython",
    "version": 3
   },
   "file_extension": ".py",
   "mimetype": "text/x-python",
   "name": "python",
   "nbconvert_exporter": "python",
   "pygments_lexer": "ipython3",
   "version": "3.6.5"
  },
  "toc": {
   "nav_menu": {},
   "number_sections": false,
   "sideBar": true,
   "skip_h1_title": false,
   "title_cell": "Table of Contents",
   "title_sidebar": "Contents",
   "toc_cell": false,
   "toc_position": {},
   "toc_section_display": true,
   "toc_window_display": false
  },
  "varInspector": {
   "cols": {
    "lenName": 16,
    "lenType": 16,
    "lenVar": 40
   },
   "kernels_config": {
    "python": {
     "delete_cmd_postfix": "",
     "delete_cmd_prefix": "del ",
     "library": "var_list.py",
     "varRefreshCmd": "print(var_dic_list())"
    },
    "r": {
     "delete_cmd_postfix": ") ",
     "delete_cmd_prefix": "rm(",
     "library": "var_list.r",
     "varRefreshCmd": "cat(var_dic_list()) "
    }
   },
   "types_to_exclude": [
    "module",
    "function",
    "builtin_function_or_method",
    "instance",
    "_Feature"
   ],
   "window_display": false
  }
 },
 "nbformat": 4,
 "nbformat_minor": 2
}
